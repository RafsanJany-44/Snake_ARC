{
 "cells": [
  {
   "cell_type": "markdown",
   "metadata": {
    "colab_type": "text",
    "id": "view-in-github"
   },
   "source": [
    "<a href=\"https://colab.research.google.com/github/RafsanJany-44/NLP_Research/blob/master/tensoreflow_2.ipynb\" target=\"_parent\"><img src=\"https://colab.research.google.com/assets/colab-badge.svg\" alt=\"Open In Colab\"/></a>"
   ]
  },
  {
   "cell_type": "code",
   "execution_count": 1,
   "metadata": {},
   "outputs": [
    {
     "name": "stdout",
     "output_type": "stream",
     "text": [
      "Requirement already satisfied: nbformat in c:\\users\\razer\\anaconda3\\envs\\viper\\lib\\site-packages (5.8.0)\n",
      "Requirement already satisfied: jsonschema>=2.6 in c:\\users\\razer\\anaconda3\\envs\\viper\\lib\\site-packages (from nbformat) (4.17.3)\n",
      "Requirement already satisfied: traitlets>=5.1 in c:\\users\\razer\\anaconda3\\envs\\viper\\lib\\site-packages (from nbformat) (5.9.0)\n",
      "Requirement already satisfied: importlib-metadata>=3.6 in c:\\users\\razer\\anaconda3\\envs\\viper\\lib\\site-packages (from nbformat) (6.7.0)\n",
      "Requirement already satisfied: jupyter-core in c:\\users\\razer\\anaconda3\\envs\\viper\\lib\\site-packages (from nbformat) (4.11.1)\n",
      "Requirement already satisfied: fastjsonschema in c:\\users\\razer\\anaconda3\\envs\\viper\\lib\\site-packages (from nbformat) (2.18.1)\n",
      "Requirement already satisfied: zipp>=0.5 in c:\\users\\razer\\anaconda3\\envs\\viper\\lib\\site-packages (from importlib-metadata>=3.6->nbformat) (3.15.0)\n",
      "Requirement already satisfied: typing-extensions>=3.6.4 in c:\\users\\razer\\anaconda3\\envs\\viper\\lib\\site-packages (from importlib-metadata>=3.6->nbformat) (4.7.1)\n",
      "Requirement already satisfied: pyrsistent!=0.17.0,!=0.17.1,!=0.17.2,>=0.14.0 in c:\\users\\razer\\anaconda3\\envs\\viper\\lib\\site-packages (from jsonschema>=2.6->nbformat) (0.19.3)\n",
      "Requirement already satisfied: pkgutil-resolve-name>=1.3.10 in c:\\users\\razer\\anaconda3\\envs\\viper\\lib\\site-packages (from jsonschema>=2.6->nbformat) (1.3.10)\n",
      "Requirement already satisfied: attrs>=17.4.0 in c:\\users\\razer\\anaconda3\\envs\\viper\\lib\\site-packages (from jsonschema>=2.6->nbformat) (23.1.0)\n",
      "Requirement already satisfied: importlib-resources>=1.4.0 in c:\\users\\razer\\anaconda3\\envs\\viper\\lib\\site-packages (from jsonschema>=2.6->nbformat) (5.12.0)\n",
      "Requirement already satisfied: pywin32>=1.0 in c:\\users\\razer\\anaconda3\\envs\\viper\\lib\\site-packages (from jupyter-core->nbformat) (303)\n"
     ]
    }
   ],
   "source": [
    "!pip install --upgrade nbformat"
   ]
  },
  {
   "cell_type": "code",
   "execution_count": 1,
   "metadata": {
    "id": "YxPHOLZhhCvM",
    "tags": []
   },
   "outputs": [],
   "source": [
    "import pandas as pd\n",
    "import numpy as np\n",
    "import plotly.express as px\n",
    "import plotly.offline as pyo\n",
    "\n",
    "df = pd.read_csv(\"Main_Result.csv\")"
   ]
  },
  {
   "cell_type": "code",
   "execution_count": 2,
   "metadata": {},
   "outputs": [
    {
     "data": {
      "text/html": [
       "<div>\n",
       "<style scoped>\n",
       "    .dataframe tbody tr th:only-of-type {\n",
       "        vertical-align: middle;\n",
       "    }\n",
       "\n",
       "    .dataframe tbody tr th {\n",
       "        vertical-align: top;\n",
       "    }\n",
       "\n",
       "    .dataframe thead th {\n",
       "        text-align: right;\n",
       "    }\n",
       "</style>\n",
       "<table border=\"1\" class=\"dataframe\">\n",
       "  <thead>\n",
       "    <tr style=\"text-align: right;\">\n",
       "      <th></th>\n",
       "      <th>Comments</th>\n",
       "      <th>Type</th>\n",
       "    </tr>\n",
       "  </thead>\n",
       "  <tbody>\n",
       "    <tr>\n",
       "      <th>0</th>\n",
       "      <td>there is nothing else like khan academy out th...</td>\n",
       "      <td>1.0</td>\n",
       "    </tr>\n",
       "    <tr>\n",
       "      <th>1</th>\n",
       "      <td>sal is amazing. so is chemistry. i really real...</td>\n",
       "      <td>1.0</td>\n",
       "    </tr>\n",
       "    <tr>\n",
       "      <th>2</th>\n",
       "      <td>thanks khan academy! wish i had this series wh...</td>\n",
       "      <td>1.0</td>\n",
       "    </tr>\n",
       "    <tr>\n",
       "      <th>3</th>\n",
       "      <td>this was a really helpful video in understandi...</td>\n",
       "      <td>1.0</td>\n",
       "    </tr>\n",
       "    <tr>\n",
       "      <th>4</th>\n",
       "      <td>always stuns me how the study of the minute bl...</td>\n",
       "      <td>1.0</td>\n",
       "    </tr>\n",
       "    <tr>\n",
       "      <th>...</th>\n",
       "      <td>...</td>\n",
       "      <td>...</td>\n",
       "    </tr>\n",
       "    <tr>\n",
       "      <th>4531</th>\n",
       "      <td>is wondering y Mother Nature is making my life...</td>\n",
       "      <td>0.0</td>\n",
       "    </tr>\n",
       "    <tr>\n",
       "      <th>4532</th>\n",
       "      <td>ouch, thats your achy back...so sorry ... i d...</td>\n",
       "      <td>0.0</td>\n",
       "    </tr>\n",
       "    <tr>\n",
       "      <th>4533</th>\n",
       "      <td>One lane stop and go trafffffffic suckssss! Al...</td>\n",
       "      <td>0.0</td>\n",
       "    </tr>\n",
       "    <tr>\n",
       "      <th>4534</th>\n",
       "      <td>the dog dug a hole in the backyard well iwas s...</td>\n",
       "      <td>0.0</td>\n",
       "    </tr>\n",
       "    <tr>\n",
       "      <th>4535</th>\n",
       "      <td>I`m torn, do I get an extended warranty for my...</td>\n",
       "      <td>0.0</td>\n",
       "    </tr>\n",
       "  </tbody>\n",
       "</table>\n",
       "<p>4536 rows × 2 columns</p>\n",
       "</div>"
      ],
      "text/plain": [
       "                                               Comments  Type\n",
       "0     there is nothing else like khan academy out th...   1.0\n",
       "1     sal is amazing. so is chemistry. i really real...   1.0\n",
       "2     thanks khan academy! wish i had this series wh...   1.0\n",
       "3     this was a really helpful video in understandi...   1.0\n",
       "4     always stuns me how the study of the minute bl...   1.0\n",
       "...                                                 ...   ...\n",
       "4531  is wondering y Mother Nature is making my life...   0.0\n",
       "4532   ouch, thats your achy back...so sorry ... i d...   0.0\n",
       "4533  One lane stop and go trafffffffic suckssss! Al...   0.0\n",
       "4534  the dog dug a hole in the backyard well iwas s...   0.0\n",
       "4535  I`m torn, do I get an extended warranty for my...   0.0\n",
       "\n",
       "[4536 rows x 2 columns]"
      ]
     },
     "execution_count": 2,
     "metadata": {},
     "output_type": "execute_result"
    }
   ],
   "source": [
    "df"
   ]
  },
  {
   "cell_type": "code",
   "execution_count": 3,
   "metadata": {},
   "outputs": [
    {
     "data": {
      "text/plain": [
       "1.0    2326\n",
       "0.0    2002\n",
       "Name: Type, dtype: int64"
      ]
     },
     "execution_count": 3,
     "metadata": {},
     "output_type": "execute_result"
    }
   ],
   "source": [
    "df[\"Type\"].value_counts()"
   ]
  },
  {
   "cell_type": "code",
   "execution_count": 4,
   "metadata": {},
   "outputs": [
    {
     "data": {
      "text/plain": [
       "Comments     17\n",
       "Type        208\n",
       "dtype: int64"
      ]
     },
     "execution_count": 4,
     "metadata": {},
     "output_type": "execute_result"
    }
   ],
   "source": [
    "df.isnull().sum()"
   ]
  },
  {
   "cell_type": "code",
   "execution_count": 5,
   "metadata": {},
   "outputs": [],
   "source": [
    "\n",
    "df = df.dropna().reset_index(drop=True)"
   ]
  },
  {
   "cell_type": "code",
   "execution_count": 6,
   "metadata": {},
   "outputs": [
    {
     "data": {
      "text/plain": [
       "Comments    0\n",
       "Type        0\n",
       "dtype: int64"
      ]
     },
     "execution_count": 6,
     "metadata": {},
     "output_type": "execute_result"
    }
   ],
   "source": [
    "df.isnull().sum()"
   ]
  },
  {
   "cell_type": "code",
   "execution_count": 7,
   "metadata": {},
   "outputs": [
    {
     "data": {
      "text/html": [
       "<div>\n",
       "<style scoped>\n",
       "    .dataframe tbody tr th:only-of-type {\n",
       "        vertical-align: middle;\n",
       "    }\n",
       "\n",
       "    .dataframe tbody tr th {\n",
       "        vertical-align: top;\n",
       "    }\n",
       "\n",
       "    .dataframe thead th {\n",
       "        text-align: right;\n",
       "    }\n",
       "</style>\n",
       "<table border=\"1\" class=\"dataframe\">\n",
       "  <thead>\n",
       "    <tr style=\"text-align: right;\">\n",
       "      <th></th>\n",
       "      <th>Comments</th>\n",
       "      <th>Type</th>\n",
       "    </tr>\n",
       "  </thead>\n",
       "  <tbody>\n",
       "    <tr>\n",
       "      <th>0</th>\n",
       "      <td>there is nothing else like khan academy out th...</td>\n",
       "      <td>1.0</td>\n",
       "    </tr>\n",
       "    <tr>\n",
       "      <th>1</th>\n",
       "      <td>sal is amazing. so is chemistry. i really real...</td>\n",
       "      <td>1.0</td>\n",
       "    </tr>\n",
       "    <tr>\n",
       "      <th>2</th>\n",
       "      <td>thanks khan academy! wish i had this series wh...</td>\n",
       "      <td>1.0</td>\n",
       "    </tr>\n",
       "    <tr>\n",
       "      <th>3</th>\n",
       "      <td>this was a really helpful video in understandi...</td>\n",
       "      <td>1.0</td>\n",
       "    </tr>\n",
       "    <tr>\n",
       "      <th>4</th>\n",
       "      <td>always stuns me how the study of the minute bl...</td>\n",
       "      <td>1.0</td>\n",
       "    </tr>\n",
       "    <tr>\n",
       "      <th>...</th>\n",
       "      <td>...</td>\n",
       "      <td>...</td>\n",
       "    </tr>\n",
       "    <tr>\n",
       "      <th>4310</th>\n",
       "      <td>is wondering y Mother Nature is making my life...</td>\n",
       "      <td>0.0</td>\n",
       "    </tr>\n",
       "    <tr>\n",
       "      <th>4311</th>\n",
       "      <td>ouch, thats your achy back...so sorry ... i d...</td>\n",
       "      <td>0.0</td>\n",
       "    </tr>\n",
       "    <tr>\n",
       "      <th>4312</th>\n",
       "      <td>One lane stop and go trafffffffic suckssss! Al...</td>\n",
       "      <td>0.0</td>\n",
       "    </tr>\n",
       "    <tr>\n",
       "      <th>4313</th>\n",
       "      <td>the dog dug a hole in the backyard well iwas s...</td>\n",
       "      <td>0.0</td>\n",
       "    </tr>\n",
       "    <tr>\n",
       "      <th>4314</th>\n",
       "      <td>I`m torn, do I get an extended warranty for my...</td>\n",
       "      <td>0.0</td>\n",
       "    </tr>\n",
       "  </tbody>\n",
       "</table>\n",
       "<p>4315 rows × 2 columns</p>\n",
       "</div>"
      ],
      "text/plain": [
       "                                               Comments  Type\n",
       "0     there is nothing else like khan academy out th...   1.0\n",
       "1     sal is amazing. so is chemistry. i really real...   1.0\n",
       "2     thanks khan academy! wish i had this series wh...   1.0\n",
       "3     this was a really helpful video in understandi...   1.0\n",
       "4     always stuns me how the study of the minute bl...   1.0\n",
       "...                                                 ...   ...\n",
       "4310  is wondering y Mother Nature is making my life...   0.0\n",
       "4311   ouch, thats your achy back...so sorry ... i d...   0.0\n",
       "4312  One lane stop and go trafffffffic suckssss! Al...   0.0\n",
       "4313  the dog dug a hole in the backyard well iwas s...   0.0\n",
       "4314  I`m torn, do I get an extended warranty for my...   0.0\n",
       "\n",
       "[4315 rows x 2 columns]"
      ]
     },
     "execution_count": 7,
     "metadata": {},
     "output_type": "execute_result"
    }
   ],
   "source": [
    "df"
   ]
  },
  {
   "cell_type": "code",
   "execution_count": 8,
   "metadata": {},
   "outputs": [
    {
     "name": "stdout",
     "output_type": "stream",
     "text": [
      "                                               Comments  Type\n",
      "792   it is a great lecture to understand the termin...   1.0\n",
      "1230                           knowledgeable class, sir   1.0\n",
      "1246  thankyou sirjiaisa samjaya ki ab chah ke bhi n...   1.0\n",
      "945               thank you so much for your efforts ..   1.0\n",
      "9     wow. im 10 yet i can still do various chemistr...   1.0\n",
      "...                                                 ...   ...\n",
      "46    wow i love you man.  i want the full answer. y...   1.0\n",
      "3325  nervous about going out tomorrow, cos its the ...   0.0\n",
      "566   thanks for the biginners guidance  very useful...   1.0\n",
      "3103                      ha! I know..I`m very ashamed.   0.0\n",
      "2423  i`ve been sick for the past few days  and thus...   0.0\n",
      "\n",
      "[4315 rows x 2 columns]\n"
     ]
    }
   ],
   "source": [
    "df = df.sample(frac = 1)\n",
    "print(df)"
   ]
  },
  {
   "cell_type": "code",
   "execution_count": 9,
   "metadata": {},
   "outputs": [],
   "source": [
    "df = df.reset_index(drop=True)"
   ]
  },
  {
   "cell_type": "code",
   "execution_count": 10,
   "metadata": {},
   "outputs": [
    {
     "data": {
      "text/plain": [
       "1.0    2313\n",
       "0.0    2002\n",
       "Name: Type, dtype: int64"
      ]
     },
     "execution_count": 10,
     "metadata": {},
     "output_type": "execute_result"
    }
   ],
   "source": [
    "df[\"Type\"].value_counts()"
   ]
  },
  {
   "cell_type": "code",
   "execution_count": 11,
   "metadata": {},
   "outputs": [
    {
     "data": {
      "text/plain": [
       "<AxesSubplot:xlabel='Type', ylabel='count'>"
      ]
     },
     "execution_count": 11,
     "metadata": {},
     "output_type": "execute_result"
    },
    {
     "data": {
      "image/png": "[encoded data removed]",
      "text/plain": [
       "<Figure size 640x480 with 1 Axes>"
      ]
     },
     "metadata": {},
     "output_type": "display_data"
    }
   ],
   "source": [
    "import matplotlib.pyplot as plt\n",
    "import seaborn as sns\n",
    "\n",
    "sns.countplot(x=\"Type\",data=df)"
   ]
  },
  {
   "cell_type": "code",
   "execution_count": 12,
   "metadata": {
    "colab": {
     "base_uri": "https://localhost:8080/"
    },
    "id": "4gs9htvM7n_x",
    "outputId": "dab585bd-d195-4030-f4a6-e2d3297dfa58",
    "tags": []
   },
   "outputs": [],
   "source": [
    "\n",
    "try:\n",
    "  %tensorflow_version 2.x\n",
    "except Exception:\n",
    "  pass"
   ]
  },
  {
   "cell_type": "code",
   "execution_count": 13,
   "metadata": {
    "tags": []
   },
   "outputs": [
    {
     "name": "stdout",
     "output_type": "stream",
     "text": [
      "[PhysicalDevice(name='/physical_device:GPU:0', device_type='GPU')]\n"
     ]
    }
   ],
   "source": [
    "import tensorflow as tf\n",
    "print(tf.config.list_physical_devices('GPU'))"
   ]
  },
  {
   "cell_type": "code",
   "execution_count": 14,
   "metadata": {
    "id": "XYYDvoskkE61",
    "tags": []
   },
   "outputs": [],
   "source": [
    "\n",
    "import tensorflow as tf\n",
    "\n",
    "from tensorflow.keras.preprocessing.text import Tokenizer\n",
    "from tensorflow.keras.preprocessing.sequence import pad_sequences"
   ]
  },
  {
   "cell_type": "markdown",
   "metadata": {},
   "source": [
    "### Remove Non-Alphabetic Characters (including numbers)"
   ]
  },
  {
   "cell_type": "code",
   "execution_count": 15,
   "metadata": {},
   "outputs": [],
   "source": [
    "import re\n",
    "\n",
    "def convert_to_string(DF):\n",
    "    DF[\"Comments\"]= DF[\"Comments\"].astype(str)\n",
    "    \n",
    "def cleanerFn(b):\n",
    "    # keeps only words with alphabetic characters in comments\n",
    "    for row in range(len(b)):\n",
    "        line = b.loc[row, \"Comments\"]\n",
    "        b.loc[row,\"Comments\"] = re.sub(\"[^a-zA-Z]\", \" \", line)"
   ]
  },
  {
   "cell_type": "code",
   "execution_count": 16,
   "metadata": {},
   "outputs": [],
   "source": [
    "convert_to_string(df)"
   ]
  },
  {
   "cell_type": "code",
   "execution_count": 17,
   "metadata": {},
   "outputs": [
    {
     "data": {
      "text/html": [
       "<div>\n",
       "<style scoped>\n",
       "    .dataframe tbody tr th:only-of-type {\n",
       "        vertical-align: middle;\n",
       "    }\n",
       "\n",
       "    .dataframe tbody tr th {\n",
       "        vertical-align: top;\n",
       "    }\n",
       "\n",
       "    .dataframe thead th {\n",
       "        text-align: right;\n",
       "    }\n",
       "</style>\n",
       "<table border=\"1\" class=\"dataframe\">\n",
       "  <thead>\n",
       "    <tr style=\"text-align: right;\">\n",
       "      <th></th>\n",
       "      <th>Comments</th>\n",
       "      <th>Type</th>\n",
       "    </tr>\n",
       "  </thead>\n",
       "  <tbody>\n",
       "    <tr>\n",
       "      <th>0</th>\n",
       "      <td>it is a great lecture to understand the termin...</td>\n",
       "      <td>1.0</td>\n",
       "    </tr>\n",
       "    <tr>\n",
       "      <th>1</th>\n",
       "      <td>knowledgeable class  sir</td>\n",
       "      <td>1.0</td>\n",
       "    </tr>\n",
       "    <tr>\n",
       "      <th>2</th>\n",
       "      <td>thankyou sirjiaisa samjaya ki ab chah ke bhi n...</td>\n",
       "      <td>1.0</td>\n",
       "    </tr>\n",
       "    <tr>\n",
       "      <th>3</th>\n",
       "      <td>thank you so much for your efforts</td>\n",
       "      <td>1.0</td>\n",
       "    </tr>\n",
       "    <tr>\n",
       "      <th>4</th>\n",
       "      <td>wow  im    yet i can still do various chemistr...</td>\n",
       "      <td>1.0</td>\n",
       "    </tr>\n",
       "  </tbody>\n",
       "</table>\n",
       "</div>"
      ],
      "text/plain": [
       "                                            Comments  Type\n",
       "0  it is a great lecture to understand the termin...   1.0\n",
       "1                           knowledgeable class  sir   1.0\n",
       "2  thankyou sirjiaisa samjaya ki ab chah ke bhi n...   1.0\n",
       "3              thank you so much for your efforts      1.0\n",
       "4  wow  im    yet i can still do various chemistr...   1.0"
      ]
     },
     "execution_count": 17,
     "metadata": {},
     "output_type": "execute_result"
    }
   ],
   "source": [
    "cleanerFn(df)\n",
    "df.head()"
   ]
  },
  {
   "cell_type": "code",
   "execution_count": 18,
   "metadata": {
    "id": "oaLaaqhNkUPd"
   },
   "outputs": [],
   "source": [
    "\n",
    "sentences = []\n",
    "labels = []\n",
    "\n",
    "for i in range(df.shape[0]):\n",
    "    sentences.append(df['Comments'][i])\n",
    "    labels.append(df['Type'][i])"
   ]
  },
  {
   "cell_type": "code",
   "execution_count": 19,
   "metadata": {
    "id": "S1sD-7v0kYWk"
   },
   "outputs": [],
   "source": [
    "training_size = 3600\n",
    "training_sentences = sentences[0:training_size]\n",
    "testing_sentences = sentences[training_size:]\n",
    "training_labels = labels[0:training_size]\n",
    "testing_labels = labels[training_size:]"
   ]
  },
  {
   "cell_type": "code",
   "execution_count": 20,
   "metadata": {
    "id": "3u8UB0MCkZ5N"
   },
   "outputs": [
    {
     "data": {
      "text/plain": [
       "\"# loading\\nwith open('tokenizer.pickle', 'rb') as handle:\\n    tokenizer = pickle.load(handle)\""
      ]
     },
     "execution_count": 20,
     "metadata": {},
     "output_type": "execute_result"
    }
   ],
   "source": [
    "vocab_size = 10000                                #the maximum number of words to keep\n",
    "embedding_dim = 16                                #input shape of neuralnetwork\n",
    "max_length = 200                                  #maximum length of all sequences.\n",
    "trunc_type='post'                                 # remove values from sequences larger than maxlen\n",
    "padding_type='post'                               #pad either before or after each sequence.\n",
    "oov_tok = \"<OOV>\"                                 #used to replace out-of-vocabulary words during text_to_sequence calls\n",
    "\n",
    "\n",
    "\n",
    "tokenizer = Tokenizer(num_words=vocab_size, oov_token=oov_tok)\n",
    "tokenizer.fit_on_texts(training_sentences)\n",
    "\n",
    "word_index = tokenizer.word_index\n",
    "\n",
    "#Transforms each text in texts to a sequence of integers. -> training data\n",
    "training_sequences = tokenizer.texts_to_sequences(training_sentences)           \n",
    "\n",
    "#This function transforms a list  of sequences into a 2D Numpy array of shape -> Training data\n",
    "training_padded = pad_sequences(training_sequences, maxlen=max_length, padding=padding_type, truncating=trunc_type)    \n",
    "\n",
    "\n",
    "#Transforms each text in texts to a sequence of integers. -> testing data\n",
    "testing_sequences = tokenizer.texts_to_sequences(testing_sentences)\n",
    "\n",
    "#This function transforms a list  of sequences into a 2D Numpy array of shape -> testing data\n",
    "testing_padded = pad_sequences(testing_sequences, maxlen=max_length, padding=padding_type, truncating=trunc_type)\n",
    "\n",
    "\n",
    "\n",
    "\n",
    "import pickle\n",
    "\n",
    "# saving\n",
    "with open('tokenizer.pickle', 'wb') as handle:\n",
    "    pickle.dump(tokenizer, handle, protocol=pickle.HIGHEST_PROTOCOL)\n",
    "\n",
    "\"\"\"# loading\n",
    "with open('tokenizer.pickle', 'rb') as handle:\n",
    "    tokenizer = pickle.load(handle)\"\"\"\n",
    "\n"
   ]
  },
  {
   "cell_type": "code",
   "execution_count": 21,
   "metadata": {},
   "outputs": [
    {
     "data": {
      "text/plain": [
       "<keras.preprocessing.text.Tokenizer at 0x213fce55508>"
      ]
     },
     "execution_count": 21,
     "metadata": {},
     "output_type": "execute_result"
    }
   ],
   "source": [
    "tokenizer"
   ]
  },
  {
   "cell_type": "code",
   "execution_count": 22,
   "metadata": {
    "id": "GrAlWBKf99Ya"
   },
   "outputs": [],
   "source": [
    "\n",
    "import numpy as np\n",
    "training_padded = np.array(training_padded)\n",
    "training_labels = np.array(training_labels)\n",
    "testing_padded = np.array(testing_padded)\n",
    "testing_labels = np.array(testing_labels)"
   ]
  },
  {
   "cell_type": "markdown",
   "metadata": {},
   "source": [
    "# BERT Model"
   ]
  },
  {
   "cell_type": "code",
   "execution_count": 23,
   "metadata": {},
   "outputs": [
    {
     "name": "stderr",
     "output_type": "stream",
     "text": [
      "All PyTorch model weights were used when initializing TFBertForSequenceClassification.\n",
      "\n",
      "Some weights or buffers of the TF 2.0 model TFBertForSequenceClassification were not initialized from the PyTorch model and are newly initialized: ['classifier.weight', 'classifier.bias']\n",
      "You should probably TRAIN this model on a down-stream task to be able to use it for predictions and inference.\n"
     ]
    }
   ],
   "source": [
    "from transformers import BertTokenizer, TFBertForSequenceClassification\n",
    "model_bert = TFBertForSequenceClassification.from_pretrained('bert-base-uncased', num_labels=2)"
   ]
  },
  {
   "cell_type": "code",
   "execution_count": 24,
   "metadata": {},
   "outputs": [
    {
     "name": "stdout",
     "output_type": "stream",
     "text": [
      "Model: \"tf_bert_for_sequence_classification\"\n",
      "_________________________________________________________________\n",
      " Layer (type)                Output Shape              Param #   \n",
      "=================================================================\n",
      " bert (TFBertMainLayer)      multiple                  109482240 \n",
      "                                                                 \n",
      " dropout_37 (Dropout)        multiple                  0         \n",
      "                                                                 \n",
      " classifier (Dense)          multiple                  1538      \n",
      "                                                                 \n",
      "=================================================================\n",
      "Total params: 109,483,778\n",
      "Trainable params: 109,483,778\n",
      "Non-trainable params: 0\n",
      "_________________________________________________________________\n"
     ]
    }
   ],
   "source": [
    "model_bert.summary()\n"
   ]
  },
  {
   "cell_type": "code",
   "execution_count": 25,
   "metadata": {},
   "outputs": [],
   "source": [
    "\n",
    "\n",
    "# Compile the model with an appropriate optimizer, loss function, and metrics\n",
    "optimizer = tf.keras.optimizers.Adam(learning_rate=2e-5)\n",
    "loss = tf.keras.losses.SparseCategoricalCrossentropy(from_logits=True)\n",
    "metric = tf.keras.metrics.SparseCategoricalAccuracy('accuracy')\n",
    "model_bert.compile(optimizer=optimizer, loss=loss, metrics=[metric])\n"
   ]
  },
  {
   "cell_type": "code",
   "execution_count": 26,
   "metadata": {},
   "outputs": [
    {
     "name": "stdout",
     "output_type": "stream",
     "text": [
      "Epoch 1/10\n",
      "113/113 - 83s - loss: 0.6809 - accuracy: 0.5667 - val_loss: 0.6776 - val_accuracy: 0.5692 - 83s/epoch - 734ms/step\n",
      "Epoch 2/10\n",
      "113/113 - 69s - loss: 0.5762 - accuracy: 0.7106 - val_loss: 0.4010 - val_accuracy: 0.8350 - 69s/epoch - 614ms/step\n",
      "Epoch 3/10\n",
      "113/113 - 68s - loss: 0.3137 - accuracy: 0.8736 - val_loss: 1.1114 - val_accuracy: 0.6154 - 68s/epoch - 606ms/step\n",
      "Epoch 4/10\n",
      "113/113 - 69s - loss: 0.2025 - accuracy: 0.9236 - val_loss: 0.3106 - val_accuracy: 0.8825 - 69s/epoch - 612ms/step\n",
      "Epoch 5/10\n",
      "113/113 - 69s - loss: 0.1420 - accuracy: 0.9511 - val_loss: 0.2185 - val_accuracy: 0.9399 - 69s/epoch - 609ms/step\n",
      "Epoch 6/10\n",
      "113/113 - 68s - loss: 0.1027 - accuracy: 0.9642 - val_loss: 0.2257 - val_accuracy: 0.9427 - 68s/epoch - 606ms/step\n",
      "Epoch 7/10\n",
      "113/113 - 70s - loss: 0.0741 - accuracy: 0.9783 - val_loss: 0.3278 - val_accuracy: 0.9035 - 70s/epoch - 622ms/step\n",
      "Epoch 8/10\n",
      "113/113 - 70s - loss: 0.0741 - accuracy: 0.9739 - val_loss: 0.2737 - val_accuracy: 0.9399 - 70s/epoch - 616ms/step\n",
      "Epoch 9/10\n",
      "113/113 - 69s - loss: 0.0523 - accuracy: 0.9864 - val_loss: 0.5857 - val_accuracy: 0.8462 - 69s/epoch - 614ms/step\n",
      "Epoch 10/10\n",
      "113/113 - 71s - loss: 0.0472 - accuracy: 0.9856 - val_loss: 0.2956 - val_accuracy: 0.9329 - 71s/epoch - 629ms/step\n"
     ]
    }
   ],
   "source": [
    "num_epochs = 10\n",
    "history = model_bert.fit(training_padded, training_labels, epochs=num_epochs, validation_data=(testing_padded, testing_labels), verbose=2)"
   ]
  },
  {
   "cell_type": "code",
   "execution_count": 28,
   "metadata": {},
   "outputs": [
    {
     "name": "stderr",
     "output_type": "stream",
     "text": [
      "Some layers from the model checkpoint at C:/Users/RAZER/Documents/GitHub/Snake_ARC/NLP_1 were not used when initializing TFBertForSequenceClassification: ['dropout_37']\n",
      "- This IS expected if you are initializing TFBertForSequenceClassification from the checkpoint of a model trained on another task or with another architecture (e.g. initializing a BertForSequenceClassification model from a BertForPreTraining model).\n",
      "- This IS NOT expected if you are initializing TFBertForSequenceClassification from the checkpoint of a model that you expect to be exactly identical (initializing a BertForSequenceClassification model from a BertForSequenceClassification model).\n",
      "All the layers of TFBertForSequenceClassification were initialized from the model checkpoint at C:/Users/RAZER/Documents/GitHub/Snake_ARC/NLP_1.\n",
      "If your task is similar to the task the model of the checkpoint was trained on, you can already use TFBertForSequenceClassification for predictions without further training.\n"
     ]
    }
   ],
   "source": [
    "# Save the model\n",
    "model_bert.save_pretrained(\"C:/Users/RAZER/Documents/GitHub/Snake_ARC/NLP_1\")\n",
    "\n",
    "#load model\n",
    "model = TFBertForSequenceClassification.from_pretrained(\"C:/Users/RAZER/Documents/GitHub/Snake_ARC/NLP_1\")"
   ]
  },
  {
   "cell_type": "code",
   "execution_count": 29,
   "metadata": {},
   "outputs": [
    {
     "data": {
      "image/png": "[encoded data removed]",
      "text/plain": [
       "<Figure size 640x480 with 1 Axes>"
      ]
     },
     "metadata": {},
     "output_type": "display_data"
    },
    {
     "data": {
      "image/png": "[encoded data removed]",
      "text/plain": [
       "<Figure size 640x480 with 1 Axes>"
      ]
     },
     "metadata": {},
     "output_type": "display_data"
    }
   ],
   "source": [
    "import matplotlib.pyplot as plt\n",
    "\n",
    "\n",
    "def plot_graphs(history, string):\n",
    "  plt.plot(history.history[string])\n",
    "  plt.plot(history.history['val_'+string])\n",
    "  plt.xlabel(\"Epochs\")\n",
    "  plt.ylabel(string)\n",
    "  plt.legend([string, 'val_'+string])\n",
    "  plt.show()\n",
    "\n",
    "plot_graphs(history, \"accuracy\")\n",
    "plot_graphs(history, \"loss\")"
   ]
  },
  {
   "cell_type": "markdown",
   "metadata": {},
   "source": [
    "# Bidirectional LSTM"
   ]
  },
  {
   "cell_type": "code",
   "execution_count": 30,
   "metadata": {},
   "outputs": [
    {
     "name": "stdout",
     "output_type": "stream",
     "text": [
      "Model: \"sequential\"\n",
      "_________________________________________________________________\n",
      " Layer (type)                Output Shape              Param #   \n",
      "=================================================================\n",
      " embedding (Embedding)       (None, 200, 16)           160000    \n",
      "                                                                 \n",
      " bidirectional (Bidirectiona  (None, 128)              41472     \n",
      " l)                                                              \n",
      "                                                                 \n",
      " dense (Dense)               (None, 24)                3096      \n",
      "                                                                 \n",
      " dense_1 (Dense)             (None, 1)                 25        \n",
      "                                                                 \n",
      "=================================================================\n",
      "Total params: 204,593\n",
      "Trainable params: 204,593\n",
      "Non-trainable params: 0\n",
      "_________________________________________________________________\n"
     ]
    }
   ],
   "source": [
    "import keras \n",
    "from keras.layers import Embedding, LSTM, Dense\n",
    "from keras.models import Sequential\n",
    "\n",
    "bi_lstm_model = keras.Sequential([\n",
    "    keras.layers.Embedding(vocab_size, embedding_dim, input_length=max_length),\n",
    "    keras.layers.Bidirectional(keras.layers.LSTM(64)),\n",
    "    keras.layers.Dense(24, activation='relu'),\n",
    "    keras.layers.Dense(1, activation='sigmoid')\n",
    "])\n",
    "# compile model\n",
    "bi_lstm_model.compile(loss='binary_crossentropy',\n",
    "            optimizer='adam',\n",
    "            metrics=['accuracy'])\n",
    "# model summary\n",
    "bi_lstm_model.summary()"
   ]
  },
  {
   "cell_type": "code",
   "execution_count": 31,
   "metadata": {},
   "outputs": [
    {
     "name": "stdout",
     "output_type": "stream",
     "text": [
      "Epoch 1/10\n",
      "113/113 - 8s - loss: 0.5942 - accuracy: 0.7275 - val_loss: 0.4416 - val_accuracy: 0.8084 - 8s/epoch - 68ms/step\n",
      "Epoch 2/10\n",
      "113/113 - 3s - loss: 0.2275 - accuracy: 0.9217 - val_loss: 0.2041 - val_accuracy: 0.9315 - 3s/epoch - 27ms/step\n",
      "Epoch 3/10\n",
      "113/113 - 3s - loss: 0.0935 - accuracy: 0.9711 - val_loss: 0.1925 - val_accuracy: 0.9385 - 3s/epoch - 27ms/step\n",
      "Epoch 4/10\n",
      "113/113 - 3s - loss: 0.0518 - accuracy: 0.9872 - val_loss: 0.1986 - val_accuracy: 0.9413 - 3s/epoch - 27ms/step\n",
      "Epoch 5/10\n",
      "113/113 - 3s - loss: 0.1036 - accuracy: 0.9644 - val_loss: 0.2287 - val_accuracy: 0.9273 - 3s/epoch - 29ms/step\n",
      "Epoch 6/10\n",
      "113/113 - 3s - loss: 0.0392 - accuracy: 0.9889 - val_loss: 0.2375 - val_accuracy: 0.9413 - 3s/epoch - 29ms/step\n",
      "Epoch 7/10\n",
      "113/113 - 3s - loss: 0.0233 - accuracy: 0.9956 - val_loss: 0.2621 - val_accuracy: 0.9287 - 3s/epoch - 26ms/step\n",
      "Epoch 8/10\n",
      "113/113 - 3s - loss: 0.0159 - accuracy: 0.9969 - val_loss: 0.2696 - val_accuracy: 0.9329 - 3s/epoch - 25ms/step\n",
      "Epoch 9/10\n",
      "113/113 - 3s - loss: 0.0134 - accuracy: 0.9972 - val_loss: 0.2969 - val_accuracy: 0.9217 - 3s/epoch - 28ms/step\n",
      "Epoch 10/10\n",
      "113/113 - 3s - loss: 0.0118 - accuracy: 0.9972 - val_loss: 0.3049 - val_accuracy: 0.9231 - 3s/epoch - 26ms/step\n"
     ]
    }
   ],
   "source": [
    "num_epochs = 10\n",
    "history = bi_lstm_model.fit(training_padded, training_labels, epochs=num_epochs, validation_data=(testing_padded, testing_labels), verbose=2)"
   ]
  },
  {
   "cell_type": "code",
   "execution_count": 33,
   "metadata": {},
   "outputs": [
    {
     "data": {
      "image/png": "[encoded data removed]",
      "text/plain": [
       "<Figure size 640x480 with 1 Axes>"
      ]
     },
     "metadata": {},
     "output_type": "display_data"
    },
    {
     "data": {
      "image/png": "[encoded data removed]",
      "text/plain": [
       "<Figure size 640x480 with 1 Axes>"
      ]
     },
     "metadata": {},
     "output_type": "display_data"
    }
   ],
   "source": [
    "import matplotlib.pyplot as plt\n",
    "\n",
    "\n",
    "def plot_graphs(history, string):\n",
    "  plt.plot(history.history[string])\n",
    "  plt.plot(history.history['val_'+string])\n",
    "  plt.xlabel(\"Epochs\")\n",
    "  plt.ylabel(string)\n",
    "  plt.legend([string, 'val_'+string])\n",
    "  plt.show()\n",
    "\n",
    "plot_graphs(history, \"accuracy\")\n",
    "plot_graphs(history, \"loss\")"
   ]
  },
  {
   "cell_type": "markdown",
   "metadata": {},
   "source": [
    "# Simple ANN"
   ]
  },
  {
   "cell_type": "code",
   "execution_count": 34,
   "metadata": {
    "id": "FufaT4vlkiDE"
   },
   "outputs": [],
   "source": [
    "\n",
    "ann_model = tf.keras.Sequential([\n",
    "    \n",
    "    tf.keras.layers.Embedding(vocab_size, embedding_dim, input_length=max_length),\n",
    "    \n",
    "    tf.keras.layers.GlobalAveragePooling1D(),\n",
    "    \n",
    "    tf.keras.layers.Dense(24, activation='relu'),\n",
    "    \n",
    "    tf.keras.layers.Dense(1, activation='sigmoid')\n",
    "])\n",
    "\n",
    "ann_model.compile(loss='binary_crossentropy',optimizer='adam',metrics=['accuracy'])"
   ]
  },
  {
   "cell_type": "code",
   "execution_count": 35,
   "metadata": {
    "colab": {
     "base_uri": "https://localhost:8080/"
    },
    "id": "XfDt1hmYkiys",
    "outputId": "784cbb1c-fc09-43aa-fc67-ccde69817bff"
   },
   "outputs": [
    {
     "name": "stdout",
     "output_type": "stream",
     "text": [
      "Model: \"sequential_1\"\n",
      "_________________________________________________________________\n",
      " Layer (type)                Output Shape              Param #   \n",
      "=================================================================\n",
      " embedding_1 (Embedding)     (None, 200, 16)           160000    \n",
      "                                                                 \n",
      " global_average_pooling1d (G  (None, 16)               0         \n",
      " lobalAveragePooling1D)                                          \n",
      "                                                                 \n",
      " dense_2 (Dense)             (None, 24)                408       \n",
      "                                                                 \n",
      " dense_3 (Dense)             (None, 1)                 25        \n",
      "                                                                 \n",
      "=================================================================\n",
      "Total params: 160,433\n",
      "Trainable params: 160,433\n",
      "Non-trainable params: 0\n",
      "_________________________________________________________________\n"
     ]
    }
   ],
   "source": [
    "ann_model.summary()"
   ]
  },
  {
   "cell_type": "code",
   "execution_count": 36,
   "metadata": {
    "colab": {
     "base_uri": "https://localhost:8080/"
    },
    "id": "2DTKQFf1kkyc",
    "outputId": "c82019d0-4646-4d08-82d3-e272d1e47ee5"
   },
   "outputs": [
    {
     "name": "stdout",
     "output_type": "stream",
     "text": [
      "Epoch 1/30\n",
      "113/113 - 1s - loss: 0.6894 - accuracy: 0.5408 - val_loss: 0.6899 - val_accuracy: 0.5105 - 867ms/epoch - 8ms/step\n",
      "Epoch 2/30\n",
      "113/113 - 0s - loss: 0.6778 - accuracy: 0.5411 - val_loss: 0.6722 - val_accuracy: 0.5105 - 393ms/epoch - 3ms/step\n",
      "Epoch 3/30\n",
      "113/113 - 0s - loss: 0.6299 - accuracy: 0.6431 - val_loss: 0.6006 - val_accuracy: 0.8462 - 369ms/epoch - 3ms/step\n",
      "Epoch 4/30\n",
      "113/113 - 0s - loss: 0.5233 - accuracy: 0.8942 - val_loss: 0.4939 - val_accuracy: 0.8783 - 383ms/epoch - 3ms/step\n",
      "Epoch 5/30\n",
      "113/113 - 0s - loss: 0.4044 - accuracy: 0.9258 - val_loss: 0.3935 - val_accuracy: 0.9133 - 440ms/epoch - 4ms/step\n",
      "Epoch 6/30\n",
      "113/113 - 0s - loss: 0.3095 - accuracy: 0.9386 - val_loss: 0.3513 - val_accuracy: 0.8993 - 409ms/epoch - 4ms/step\n",
      "Epoch 7/30\n",
      "113/113 - 0s - loss: 0.2441 - accuracy: 0.9472 - val_loss: 0.2910 - val_accuracy: 0.9259 - 388ms/epoch - 3ms/step\n",
      "Epoch 8/30\n",
      "113/113 - 0s - loss: 0.2001 - accuracy: 0.9578 - val_loss: 0.2541 - val_accuracy: 0.9315 - 372ms/epoch - 3ms/step\n",
      "Epoch 9/30\n",
      "113/113 - 0s - loss: 0.1683 - accuracy: 0.9639 - val_loss: 0.2325 - val_accuracy: 0.9301 - 374ms/epoch - 3ms/step\n",
      "Epoch 10/30\n",
      "113/113 - 0s - loss: 0.1459 - accuracy: 0.9686 - val_loss: 0.2213 - val_accuracy: 0.9343 - 381ms/epoch - 3ms/step\n",
      "Epoch 11/30\n",
      "113/113 - 0s - loss: 0.1292 - accuracy: 0.9722 - val_loss: 0.2122 - val_accuracy: 0.9371 - 462ms/epoch - 4ms/step\n",
      "Epoch 12/30\n",
      "113/113 - 0s - loss: 0.1122 - accuracy: 0.9783 - val_loss: 0.2058 - val_accuracy: 0.9441 - 458ms/epoch - 4ms/step\n",
      "Epoch 13/30\n",
      "113/113 - 0s - loss: 0.0999 - accuracy: 0.9808 - val_loss: 0.2088 - val_accuracy: 0.9301 - 397ms/epoch - 4ms/step\n",
      "Epoch 14/30\n",
      "113/113 - 1s - loss: 0.0900 - accuracy: 0.9819 - val_loss: 0.1942 - val_accuracy: 0.9399 - 520ms/epoch - 5ms/step\n",
      "Epoch 15/30\n",
      "113/113 - 0s - loss: 0.0837 - accuracy: 0.9808 - val_loss: 0.1970 - val_accuracy: 0.9413 - 426ms/epoch - 4ms/step\n",
      "Epoch 16/30\n",
      "113/113 - 1s - loss: 0.0739 - accuracy: 0.9853 - val_loss: 0.1941 - val_accuracy: 0.9441 - 564ms/epoch - 5ms/step\n",
      "Epoch 17/30\n",
      "113/113 - 0s - loss: 0.0665 - accuracy: 0.9878 - val_loss: 0.1931 - val_accuracy: 0.9441 - 433ms/epoch - 4ms/step\n",
      "Epoch 18/30\n",
      "113/113 - 0s - loss: 0.0611 - accuracy: 0.9894 - val_loss: 0.1889 - val_accuracy: 0.9469 - 467ms/epoch - 4ms/step\n",
      "Epoch 19/30\n",
      "113/113 - 0s - loss: 0.0561 - accuracy: 0.9903 - val_loss: 0.2031 - val_accuracy: 0.9357 - 445ms/epoch - 4ms/step\n",
      "Epoch 20/30\n",
      "113/113 - 0s - loss: 0.0524 - accuracy: 0.9903 - val_loss: 0.1999 - val_accuracy: 0.9413 - 487ms/epoch - 4ms/step\n",
      "Epoch 21/30\n",
      "113/113 - 0s - loss: 0.0462 - accuracy: 0.9911 - val_loss: 0.1927 - val_accuracy: 0.9469 - 417ms/epoch - 4ms/step\n",
      "Epoch 22/30\n",
      "113/113 - 0s - loss: 0.0426 - accuracy: 0.9925 - val_loss: 0.1935 - val_accuracy: 0.9483 - 428ms/epoch - 4ms/step\n",
      "Epoch 23/30\n",
      "113/113 - 0s - loss: 0.0392 - accuracy: 0.9925 - val_loss: 0.1952 - val_accuracy: 0.9469 - 429ms/epoch - 4ms/step\n",
      "Epoch 24/30\n",
      "113/113 - 0s - loss: 0.0355 - accuracy: 0.9939 - val_loss: 0.2122 - val_accuracy: 0.9343 - 414ms/epoch - 4ms/step\n",
      "Epoch 25/30\n",
      "113/113 - 0s - loss: 0.0322 - accuracy: 0.9942 - val_loss: 0.2110 - val_accuracy: 0.9399 - 499ms/epoch - 4ms/step\n",
      "Epoch 26/30\n",
      "113/113 - 0s - loss: 0.0300 - accuracy: 0.9939 - val_loss: 0.2013 - val_accuracy: 0.9483 - 425ms/epoch - 4ms/step\n",
      "Epoch 27/30\n",
      "113/113 - 0s - loss: 0.0281 - accuracy: 0.9944 - val_loss: 0.2062 - val_accuracy: 0.9469 - 414ms/epoch - 4ms/step\n",
      "Epoch 28/30\n",
      "113/113 - 0s - loss: 0.0244 - accuracy: 0.9950 - val_loss: 0.2209 - val_accuracy: 0.9371 - 430ms/epoch - 4ms/step\n",
      "Epoch 29/30\n",
      "113/113 - 0s - loss: 0.0228 - accuracy: 0.9964 - val_loss: 0.2163 - val_accuracy: 0.9399 - 413ms/epoch - 4ms/step\n",
      "Epoch 30/30\n",
      "113/113 - 1s - loss: 0.0200 - accuracy: 0.9967 - val_loss: 0.2110 - val_accuracy: 0.9455 - 507ms/epoch - 4ms/step\n"
     ]
    }
   ],
   "source": [
    "num_epochs = 30\n",
    "history = ann_model.fit(training_padded, training_labels, epochs=num_epochs, validation_data=(testing_padded, testing_labels), verbose=2)"
   ]
  },
  {
   "cell_type": "code",
   "execution_count": 38,
   "metadata": {
    "colab": {
     "base_uri": "https://localhost:8080/",
     "height": 881
    },
    "id": "2HYfBKXjkmU8",
    "outputId": "55792926-cc88-46d7-c5c4-51f342c034c3"
   },
   "outputs": [
    {
     "data": {
      "image/png": "[encoded data removed]",
      "text/plain": [
       "<Figure size 640x480 with 1 Axes>"
      ]
     },
     "metadata": {},
     "output_type": "display_data"
    },
    {
     "data": {
      "image/png": "[encoded data removed]",
      "text/plain": [
       "<Figure size 640x480 with 1 Axes>"
      ]
     },
     "metadata": {},
     "output_type": "display_data"
    }
   ],
   "source": [
    "import matplotlib.pyplot as plt\n",
    "\n",
    "\n",
    "def plot_graphs(history, string):\n",
    "  plt.plot(history.history[string])\n",
    "  plt.plot(history.history['val_'+string])\n",
    "  plt.xlabel(\"Epochs\")\n",
    "  plt.ylabel(string)\n",
    "  plt.legend([string, 'val_'+string])\n",
    "  plt.show()\n",
    "\n",
    "plot_graphs(history, \"accuracy\")\n",
    "plot_graphs(history, \"loss\")"
   ]
  },
  {
   "cell_type": "code",
   "execution_count": 39,
   "metadata": {
    "id": "_uLkUz30wEYK"
   },
   "outputs": [],
   "source": [
    "import keras\n",
    "ann_model.save(\"ann.keras\")\n",
    "bi_lstm_model.save(\"bi_lstm_model.keras\")\n",
    "\n",
    "ann_model = keras.models.load_model(\"ann.keras\")\n",
    "bi_lstm_model = keras.models.load_model(\"bi_lstm_model.keras\")\n"
   ]
  },
  {
   "cell_type": "code",
   "execution_count": 41,
   "metadata": {
    "colab": {
     "base_uri": "https://localhost:8080/"
    },
    "id": "cG8-ArY-qDcz",
    "outputId": "c5257c00-077f-4938-8c0a-8ac91b2c0294"
   },
   "outputs": [
    {
     "name": "stdout",
     "output_type": "stream",
     "text": [
      "1/1 [==============================] - 0s 76ms/step\n",
      "1/1 [==============================] - 1s 665ms/step\n"
     ]
    }
   ],
   "source": [
    "sentence = [\"This is a very helpfull tutorial\", \"Very bad playlist and not hlpfull\",\"good vedio\",\"that was bad\",\" 3456 56345cool 4bro\",\"dude, i was gone\",\"Mindblowing tutorial\"]\n",
    "sequences = tokenizer.texts_to_sequences(sentence)\n",
    "padded = pad_sequences(sequences, maxlen=max_length, padding=padding_type, truncating=trunc_type)\n",
    "result1 = ann_model.predict(padded)\n",
    "result2 = bi_lstm_model.predict(padded)\n",
    "\n"
   ]
  },
  {
   "cell_type": "code",
   "execution_count": 42,
   "metadata": {},
   "outputs": [
    {
     "data": {
      "text/plain": [
       "array([[0.9952892 ],\n",
       "       [0.08946063],\n",
       "       [0.91116434],\n",
       "       [0.01728858],\n",
       "       [0.4358136 ],\n",
       "       [0.1993789 ],\n",
       "       [0.9016036 ]], dtype=float32)"
      ]
     },
     "execution_count": 42,
     "metadata": {},
     "output_type": "execute_result"
    }
   ],
   "source": [
    "result1"
   ]
  },
  {
   "cell_type": "code",
   "execution_count": 43,
   "metadata": {},
   "outputs": [],
   "source": [
    "result2\n",
    "np.set_printoptions(suppress = True,formatter = {'float_kind':'{:f}'.format})"
   ]
  },
  {
   "cell_type": "code",
   "execution_count": 44,
   "metadata": {},
   "outputs": [
    {
     "data": {
      "text/plain": [
       "array([[0.998571],\n",
       "       [0.007992],\n",
       "       [0.993771],\n",
       "       [0.000341],\n",
       "       [0.922229],\n",
       "       [0.176472],\n",
       "       [0.995131]], dtype=float32)"
      ]
     },
     "execution_count": 44,
     "metadata": {},
     "output_type": "execute_result"
    }
   ],
   "source": [
    "result2"
   ]
  },
  {
   "cell_type": "markdown",
   "metadata": {},
   "source": [
    "# Evaluation"
   ]
  },
  {
   "cell_type": "code",
   "execution_count": 45,
   "metadata": {},
   "outputs": [
    {
     "data": {
      "text/plain": [
       "'\\nmodel_bert\\nbi_lstm_model\\nann_model\\n'"
      ]
     },
     "execution_count": 45,
     "metadata": {},
     "output_type": "execute_result"
    }
   ],
   "source": [
    "\"\"\"\n",
    "model_bert\n",
    "bi_lstm_model\n",
    "ann_model\n",
    "\"\"\""
   ]
  },
  {
   "cell_type": "code",
   "execution_count": 46,
   "metadata": {},
   "outputs": [],
   "source": [
    "from sklearn.metrics import accuracy_score, classification_report, confusion_matrix\n",
    "from matplotlib import pyplot as plt\n",
    "import seaborn as sn\n",
    "def conf_mat(y_, y_pred):\n",
    "  cm = confusion_matrix(y_,y_pred)\n",
    "  plt.figure(figsize = (8,4))\n",
    "  sn.heatmap(cm, annot=True, fmt='d')\n",
    "  plt.xlabel('Predicted',fontsize=14.0, fontweight='bold')\n",
    "  plt.ylabel('Truth',fontsize=12.0, fontweight='bold')"
   ]
  },
  {
   "cell_type": "code",
   "execution_count": null,
   "metadata": {},
   "outputs": [
    {
     "name": "stdout",
     "output_type": "stream",
     "text": [
      "Requirement already satisfied: scikit-learn in c:\\users\\razer\\anaconda3\\envs\\viper\\lib\\site-packages (1.0.2)\n",
      "Requirement already satisfied: scipy>=1.1.0 in c:\\users\\razer\\anaconda3\\envs\\viper\\lib\\site-packages (from scikit-learn) (1.7.3)\n",
      "Requirement already satisfied: numpy>=1.14.6 in c:\\users\\razer\\anaconda3\\envs\\viper\\lib\\site-packages (from scikit-learn) (1.21.6)\n",
      "Requirement already satisfied: threadpoolctl>=2.0.0 in c:\\users\\razer\\anaconda3\\envs\\viper\\lib\\site-packages (from scikit-learn) (3.1.0)\n",
      "Requirement already satisfied: joblib>=0.11 in c:\\users\\razer\\anaconda3\\envs\\viper\\lib\\site-packages (from scikit-learn) (1.3.2)\n"
     ]
    }
   ],
   "source": [
    "!pip install scikit-learn"
   ]
  },
  {
   "cell_type": "markdown",
   "metadata": {},
   "source": [
    "# BERT"
   ]
  },
  {
   "cell_type": "code",
   "execution_count": 47,
   "metadata": {},
   "outputs": [
    {
     "name": "stdout",
     "output_type": "stream",
     "text": [
      "23/23 [==============================] - 7s 194ms/step\n",
      "Accuracy: 0.9328671328671329\n",
      "Confusion Matrix:\n",
      "[[333  17]\n",
      " [ 31 334]]\n",
      "Classification Report:\n",
      "              precision    recall  f1-score   support\n",
      "\n",
      "         0.0       0.91      0.95      0.93       350\n",
      "         1.0       0.95      0.92      0.93       365\n",
      "\n",
      "    accuracy                           0.93       715\n",
      "   macro avg       0.93      0.93      0.93       715\n",
      "weighted avg       0.93      0.93      0.93       715\n",
      "\n"
     ]
    }
   ],
   "source": [
    "from sklearn.metrics import accuracy_score, classification_report, confusion_matrix\n",
    "\n",
    "\n",
    "predictions = model_bert.predict(testing_padded)\n",
    "\n",
    "y_pred = tf.argmax(predictions.logits, axis=1)\n",
    "\n",
    "# Evaluate the model\n",
    "accuracy = accuracy_score(testing_labels, y_pred)\n",
    "conf_matrix = confusion_matrix(testing_labels, y_pred)\n",
    "classification_rep = classification_report(testing_labels, y_pred)\n",
    "\n",
    "print(f'Accuracy: {accuracy}')\n",
    "print(f'Confusion Matrix:\\n{conf_matrix}')\n",
    "print(f'Classification Report:\\n{classification_rep}')\n"
   ]
  },
  {
   "cell_type": "code",
   "execution_count": 48,
   "metadata": {},
   "outputs": [
    {
     "data": {
      "image/png": "[encoded data removed]",
      "text/plain": [
       "<Figure size 800x400 with 2 Axes>"
      ]
     },
     "metadata": {},
     "output_type": "display_data"
    }
   ],
   "source": [
    "conf_mat(testing_labels,y_pred)"
   ]
  },
  {
   "cell_type": "markdown",
   "metadata": {},
   "source": [
    "# Bi-LSTM"
   ]
  },
  {
   "cell_type": "code",
   "execution_count": 49,
   "metadata": {},
   "outputs": [
    {
     "name": "stdout",
     "output_type": "stream",
     "text": [
      "23/23 [==============================] - 0s 20ms/step\n",
      "Accuracy: 0.9230769230769231\n",
      "Confusion Matrix:\n",
      "[[313  37]\n",
      " [ 18 347]]\n",
      "Classification Report:\n",
      "              precision    recall  f1-score   support\n",
      "\n",
      "         0.0       0.95      0.89      0.92       350\n",
      "         1.0       0.90      0.95      0.93       365\n",
      "\n",
      "    accuracy                           0.92       715\n",
      "   macro avg       0.92      0.92      0.92       715\n",
      "weighted avg       0.92      0.92      0.92       715\n",
      "\n"
     ]
    }
   ],
   "source": [
    "\n",
    "from sklearn.metrics import accuracy_score, classification_report, confusion_matrix\n",
    "\n",
    "\n",
    "\n",
    "y_pred = bi_lstm_model.predict(testing_padded)\n",
    "\n",
    "# Evaluate the model\n",
    "accuracy = accuracy_score(testing_labels,  y_pred.round())\n",
    "conf_matrix = confusion_matrix(testing_labels,  y_pred.round())\n",
    "classification_rep = classification_report(testing_labels,  y_pred.round())\n",
    "\n",
    "print(f'Accuracy: {accuracy}')\n",
    "print(f'Confusion Matrix:\\n{conf_matrix}')\n",
    "print(f'Classification Report:\\n{classification_rep}')"
   ]
  },
  {
   "cell_type": "code",
   "execution_count": 50,
   "metadata": {},
   "outputs": [
    {
     "data": {
      "image/png": "[encoded data removed]",
      "text/plain": [
       "<Figure size 800x400 with 2 Axes>"
      ]
     },
     "metadata": {},
     "output_type": "display_data"
    }
   ],
   "source": [
    "conf_mat(testing_labels,y_pred.round())"
   ]
  },
  {
   "cell_type": "markdown",
   "metadata": {},
   "source": [
    "# ANN"
   ]
  },
  {
   "cell_type": "code",
   "execution_count": 52,
   "metadata": {},
   "outputs": [
    {
     "name": "stdout",
     "output_type": "stream",
     "text": [
      "23/23 [==============================] - 0s 2ms/step\n",
      "Accuracy: 0.9454545454545454\n",
      "Confusion Matrix:\n",
      "[[335  15]\n",
      " [ 24 341]]\n",
      "Classification Report:\n",
      "              precision    recall  f1-score   support\n",
      "\n",
      "         0.0       0.93      0.96      0.94       350\n",
      "         1.0       0.96      0.93      0.95       365\n",
      "\n",
      "    accuracy                           0.95       715\n",
      "   macro avg       0.95      0.95      0.95       715\n",
      "weighted avg       0.95      0.95      0.95       715\n",
      "\n"
     ]
    }
   ],
   "source": [
    "\n",
    "from sklearn.metrics import accuracy_score, classification_report, confusion_matrix\n",
    "\n",
    "\n",
    "\n",
    "y_pred = ann_model.predict(testing_padded)\n",
    "\n",
    "# Evaluate the model\n",
    "accuracy = accuracy_score(testing_labels,  y_pred.round())\n",
    "conf_matrix = confusion_matrix(testing_labels, y_pred.round())\n",
    "classification_rep = classification_report(testing_labels, y_pred.round())\n",
    "\n",
    "print(f'Accuracy: {accuracy}')\n",
    "print(f'Confusion Matrix:\\n{conf_matrix}')\n",
    "print(f'Classification Report:\\n{classification_rep}')"
   ]
  },
  {
   "cell_type": "code",
   "execution_count": 53,
   "metadata": {},
   "outputs": [
    {
     "data": {
      "image/png": "[encoded data removed]",
      "text/plain": [
       "<Figure size 800x400 with 2 Axes>"
      ]
     },
     "metadata": {},
     "output_type": "display_data"
    }
   ],
   "source": [
    "conf_mat(testing_labels,y_pred.round())"
   ]
  },
  {
   "cell_type": "code",
   "execution_count": null,
   "metadata": {},
   "outputs": [],
   "source": []
  }
 ],
 "metadata": {
  "accelerator": "TPU",
  "colab": {
   "include_colab_link": true,
   "provenance": []
  },
  "kernelspec": {
   "display_name": "Python 3 (ipykernel)",
   "language": "python",
   "name": "python3"
  },
  "language_info": {
   "codemirror_mode": {
    "name": "ipython",
    "version": 3
   },
   "file_extension": ".py",
   "mimetype": "text/x-python",
   "name": "python",
   "nbconvert_exporter": "python",
   "pygments_lexer": "ipython3",
   "version": "3.7.16"
  }
 },
 "nbformat": 4,
 "nbformat_minor": 4
}
