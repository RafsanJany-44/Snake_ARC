{
 "cells": [
  {
   "cell_type": "markdown",
   "metadata": {
    "colab_type": "text",
    "id": "view-in-github"
   },
   "source": [
    "<a href=\"https://colab.research.google.com/github/RafsanJany-44/NLP_Research/blob/master/tensoreflow_2.ipynb\" target=\"_parent\"><img src=\"https://colab.research.google.com/assets/colab-badge.svg\" alt=\"Open In Colab\"/></a>"
   ]
  },
  {
   "cell_type": "code",
   "execution_count": 1,
   "metadata": {},
   "outputs": [
    {
     "name": "stdout",
     "output_type": "stream",
     "text": [
      "Requirement already satisfied: nbformat in c:\\users\\razer\\anaconda3\\envs\\viper\\lib\\site-packages (5.8.0)\n",
      "Requirement already satisfied: jsonschema>=2.6 in c:\\users\\razer\\anaconda3\\envs\\viper\\lib\\site-packages (from nbformat) (4.17.3)\n",
      "Requirement already satisfied: traitlets>=5.1 in c:\\users\\razer\\anaconda3\\envs\\viper\\lib\\site-packages (from nbformat) (5.9.0)\n",
      "Requirement already satisfied: importlib-metadata>=3.6 in c:\\users\\razer\\anaconda3\\envs\\viper\\lib\\site-packages (from nbformat) (6.7.0)\n",
      "Requirement already satisfied: jupyter-core in c:\\users\\razer\\anaconda3\\envs\\viper\\lib\\site-packages (from nbformat) (4.11.1)\n",
      "Requirement already satisfied: fastjsonschema in c:\\users\\razer\\anaconda3\\envs\\viper\\lib\\site-packages (from nbformat) (2.18.1)\n",
      "Requirement already satisfied: zipp>=0.5 in c:\\users\\razer\\anaconda3\\envs\\viper\\lib\\site-packages (from importlib-metadata>=3.6->nbformat) (3.15.0)\n",
      "Requirement already satisfied: typing-extensions>=3.6.4 in c:\\users\\razer\\anaconda3\\envs\\viper\\lib\\site-packages (from importlib-metadata>=3.6->nbformat) (4.7.1)\n",
      "Requirement already satisfied: pyrsistent!=0.17.0,!=0.17.1,!=0.17.2,>=0.14.0 in c:\\users\\razer\\anaconda3\\envs\\viper\\lib\\site-packages (from jsonschema>=2.6->nbformat) (0.19.3)\n",
      "Requirement already satisfied: pkgutil-resolve-name>=1.3.10 in c:\\users\\razer\\anaconda3\\envs\\viper\\lib\\site-packages (from jsonschema>=2.6->nbformat) (1.3.10)\n",
      "Requirement already satisfied: attrs>=17.4.0 in c:\\users\\razer\\anaconda3\\envs\\viper\\lib\\site-packages (from jsonschema>=2.6->nbformat) (23.1.0)\n",
      "Requirement already satisfied: importlib-resources>=1.4.0 in c:\\users\\razer\\anaconda3\\envs\\viper\\lib\\site-packages (from jsonschema>=2.6->nbformat) (5.12.0)\n",
      "Requirement already satisfied: pywin32>=1.0 in c:\\users\\razer\\anaconda3\\envs\\viper\\lib\\site-packages (from jupyter-core->nbformat) (303)\n"
     ]
    }
   ],
   "source": [
    "!pip install --upgrade nbformat"
   ]
  },
  {
   "cell_type": "code",
   "execution_count": 2,
   "metadata": {
    "id": "YxPHOLZhhCvM",
    "tags": []
   },
   "outputs": [],
   "source": [
    "import pandas as pd\n",
    "import numpy as np\n",
    "import plotly.express as px\n",
    "import plotly.offline as pyo\n",
    "\n",
    "df = pd.read_csv(\"Main_Result.csv\")"
   ]
  },
  {
   "cell_type": "code",
   "execution_count": 3,
   "metadata": {},
   "outputs": [
    {
     "data": {
      "text/html": [
       "<div>\n",
       "<style scoped>\n",
       "    .dataframe tbody tr th:only-of-type {\n",
       "        vertical-align: middle;\n",
       "    }\n",
       "\n",
       "    .dataframe tbody tr th {\n",
       "        vertical-align: top;\n",
       "    }\n",
       "\n",
       "    .dataframe thead th {\n",
       "        text-align: right;\n",
       "    }\n",
       "</style>\n",
       "<table border=\"1\" class=\"dataframe\">\n",
       "  <thead>\n",
       "    <tr style=\"text-align: right;\">\n",
       "      <th></th>\n",
       "      <th>Comments</th>\n",
       "      <th>Type</th>\n",
       "    </tr>\n",
       "  </thead>\n",
       "  <tbody>\n",
       "    <tr>\n",
       "      <th>0</th>\n",
       "      <td>there is nothing else like khan academy out th...</td>\n",
       "      <td>1.0</td>\n",
       "    </tr>\n",
       "    <tr>\n",
       "      <th>1</th>\n",
       "      <td>sal is amazing. so is chemistry. i really real...</td>\n",
       "      <td>1.0</td>\n",
       "    </tr>\n",
       "    <tr>\n",
       "      <th>2</th>\n",
       "      <td>thanks khan academy! wish i had this series wh...</td>\n",
       "      <td>1.0</td>\n",
       "    </tr>\n",
       "    <tr>\n",
       "      <th>3</th>\n",
       "      <td>this was a really helpful video in understandi...</td>\n",
       "      <td>1.0</td>\n",
       "    </tr>\n",
       "    <tr>\n",
       "      <th>4</th>\n",
       "      <td>always stuns me how the study of the minute bl...</td>\n",
       "      <td>1.0</td>\n",
       "    </tr>\n",
       "    <tr>\n",
       "      <th>...</th>\n",
       "      <td>...</td>\n",
       "      <td>...</td>\n",
       "    </tr>\n",
       "    <tr>\n",
       "      <th>4531</th>\n",
       "      <td>is wondering y Mother Nature is making my life...</td>\n",
       "      <td>0.0</td>\n",
       "    </tr>\n",
       "    <tr>\n",
       "      <th>4532</th>\n",
       "      <td>ouch, thats your achy back...so sorry ... i d...</td>\n",
       "      <td>0.0</td>\n",
       "    </tr>\n",
       "    <tr>\n",
       "      <th>4533</th>\n",
       "      <td>One lane stop and go trafffffffic suckssss! Al...</td>\n",
       "      <td>0.0</td>\n",
       "    </tr>\n",
       "    <tr>\n",
       "      <th>4534</th>\n",
       "      <td>the dog dug a hole in the backyard well iwas s...</td>\n",
       "      <td>0.0</td>\n",
       "    </tr>\n",
       "    <tr>\n",
       "      <th>4535</th>\n",
       "      <td>I`m torn, do I get an extended warranty for my...</td>\n",
       "      <td>0.0</td>\n",
       "    </tr>\n",
       "  </tbody>\n",
       "</table>\n",
       "<p>4536 rows × 2 columns</p>\n",
       "</div>"
      ],
      "text/plain": [
       "                                               Comments  Type\n",
       "0     there is nothing else like khan academy out th...   1.0\n",
       "1     sal is amazing. so is chemistry. i really real...   1.0\n",
       "2     thanks khan academy! wish i had this series wh...   1.0\n",
       "3     this was a really helpful video in understandi...   1.0\n",
       "4     always stuns me how the study of the minute bl...   1.0\n",
       "...                                                 ...   ...\n",
       "4531  is wondering y Mother Nature is making my life...   0.0\n",
       "4532   ouch, thats your achy back...so sorry ... i d...   0.0\n",
       "4533  One lane stop and go trafffffffic suckssss! Al...   0.0\n",
       "4534  the dog dug a hole in the backyard well iwas s...   0.0\n",
       "4535  I`m torn, do I get an extended warranty for my...   0.0\n",
       "\n",
       "[4536 rows x 2 columns]"
      ]
     },
     "execution_count": 3,
     "metadata": {},
     "output_type": "execute_result"
    }
   ],
   "source": [
    "df"
   ]
  },
  {
   "cell_type": "code",
   "execution_count": 4,
   "metadata": {},
   "outputs": [
    {
     "data": {
      "text/plain": [
       "1.0    2326\n",
       "0.0    2002\n",
       "Name: Type, dtype: int64"
      ]
     },
     "execution_count": 4,
     "metadata": {},
     "output_type": "execute_result"
    }
   ],
   "source": [
    "df[\"Type\"].value_counts()"
   ]
  },
  {
   "cell_type": "code",
   "execution_count": 5,
   "metadata": {},
   "outputs": [
    {
     "data": {
      "text/plain": [
       "Comments     17\n",
       "Type        208\n",
       "dtype: int64"
      ]
     },
     "execution_count": 5,
     "metadata": {},
     "output_type": "execute_result"
    }
   ],
   "source": [
    "df.isnull().sum()"
   ]
  },
  {
   "cell_type": "code",
   "execution_count": 6,
   "metadata": {},
   "outputs": [],
   "source": [
    "\n",
    "df = df.dropna().reset_index(drop=True)"
   ]
  },
  {
   "cell_type": "code",
   "execution_count": 7,
   "metadata": {},
   "outputs": [
    {
     "data": {
      "text/plain": [
       "Comments    0\n",
       "Type        0\n",
       "dtype: int64"
      ]
     },
     "execution_count": 7,
     "metadata": {},
     "output_type": "execute_result"
    }
   ],
   "source": [
    "df.isnull().sum()"
   ]
  },
  {
   "cell_type": "code",
   "execution_count": 8,
   "metadata": {},
   "outputs": [
    {
     "data": {
      "text/html": [
       "<div>\n",
       "<style scoped>\n",
       "    .dataframe tbody tr th:only-of-type {\n",
       "        vertical-align: middle;\n",
       "    }\n",
       "\n",
       "    .dataframe tbody tr th {\n",
       "        vertical-align: top;\n",
       "    }\n",
       "\n",
       "    .dataframe thead th {\n",
       "        text-align: right;\n",
       "    }\n",
       "</style>\n",
       "<table border=\"1\" class=\"dataframe\">\n",
       "  <thead>\n",
       "    <tr style=\"text-align: right;\">\n",
       "      <th></th>\n",
       "      <th>Comments</th>\n",
       "      <th>Type</th>\n",
       "    </tr>\n",
       "  </thead>\n",
       "  <tbody>\n",
       "    <tr>\n",
       "      <th>0</th>\n",
       "      <td>there is nothing else like khan academy out th...</td>\n",
       "      <td>1.0</td>\n",
       "    </tr>\n",
       "    <tr>\n",
       "      <th>1</th>\n",
       "      <td>sal is amazing. so is chemistry. i really real...</td>\n",
       "      <td>1.0</td>\n",
       "    </tr>\n",
       "    <tr>\n",
       "      <th>2</th>\n",
       "      <td>thanks khan academy! wish i had this series wh...</td>\n",
       "      <td>1.0</td>\n",
       "    </tr>\n",
       "    <tr>\n",
       "      <th>3</th>\n",
       "      <td>this was a really helpful video in understandi...</td>\n",
       "      <td>1.0</td>\n",
       "    </tr>\n",
       "    <tr>\n",
       "      <th>4</th>\n",
       "      <td>always stuns me how the study of the minute bl...</td>\n",
       "      <td>1.0</td>\n",
       "    </tr>\n",
       "    <tr>\n",
       "      <th>...</th>\n",
       "      <td>...</td>\n",
       "      <td>...</td>\n",
       "    </tr>\n",
       "    <tr>\n",
       "      <th>4310</th>\n",
       "      <td>is wondering y Mother Nature is making my life...</td>\n",
       "      <td>0.0</td>\n",
       "    </tr>\n",
       "    <tr>\n",
       "      <th>4311</th>\n",
       "      <td>ouch, thats your achy back...so sorry ... i d...</td>\n",
       "      <td>0.0</td>\n",
       "    </tr>\n",
       "    <tr>\n",
       "      <th>4312</th>\n",
       "      <td>One lane stop and go trafffffffic suckssss! Al...</td>\n",
       "      <td>0.0</td>\n",
       "    </tr>\n",
       "    <tr>\n",
       "      <th>4313</th>\n",
       "      <td>the dog dug a hole in the backyard well iwas s...</td>\n",
       "      <td>0.0</td>\n",
       "    </tr>\n",
       "    <tr>\n",
       "      <th>4314</th>\n",
       "      <td>I`m torn, do I get an extended warranty for my...</td>\n",
       "      <td>0.0</td>\n",
       "    </tr>\n",
       "  </tbody>\n",
       "</table>\n",
       "<p>4315 rows × 2 columns</p>\n",
       "</div>"
      ],
      "text/plain": [
       "                                               Comments  Type\n",
       "0     there is nothing else like khan academy out th...   1.0\n",
       "1     sal is amazing. so is chemistry. i really real...   1.0\n",
       "2     thanks khan academy! wish i had this series wh...   1.0\n",
       "3     this was a really helpful video in understandi...   1.0\n",
       "4     always stuns me how the study of the minute bl...   1.0\n",
       "...                                                 ...   ...\n",
       "4310  is wondering y Mother Nature is making my life...   0.0\n",
       "4311   ouch, thats your achy back...so sorry ... i d...   0.0\n",
       "4312  One lane stop and go trafffffffic suckssss! Al...   0.0\n",
       "4313  the dog dug a hole in the backyard well iwas s...   0.0\n",
       "4314  I`m torn, do I get an extended warranty for my...   0.0\n",
       "\n",
       "[4315 rows x 2 columns]"
      ]
     },
     "execution_count": 8,
     "metadata": {},
     "output_type": "execute_result"
    }
   ],
   "source": [
    "df"
   ]
  },
  {
   "cell_type": "code",
   "execution_count": 9,
   "metadata": {
    "colab": {
     "base_uri": "https://localhost:8080/"
    },
    "id": "4gs9htvM7n_x",
    "outputId": "dab585bd-d195-4030-f4a6-e2d3297dfa58",
    "tags": []
   },
   "outputs": [],
   "source": [
    "\n",
    "try:\n",
    "  %tensorflow_version 2.x\n",
    "except Exception:\n",
    "  pass"
   ]
  },
  {
   "cell_type": "code",
   "execution_count": 10,
   "metadata": {
    "tags": []
   },
   "outputs": [
    {
     "name": "stdout",
     "output_type": "stream",
     "text": [
      "[PhysicalDevice(name='/physical_device:GPU:0', device_type='GPU')]\n"
     ]
    }
   ],
   "source": [
    "import tensorflow as tf\n",
    "print(tf.config.list_physical_devices('GPU'))"
   ]
  },
  {
   "cell_type": "code",
   "execution_count": 11,
   "metadata": {
    "id": "XYYDvoskkE61",
    "tags": []
   },
   "outputs": [],
   "source": [
    "\n",
    "import tensorflow as tf\n",
    "\n",
    "from tensorflow.keras.preprocessing.text import Tokenizer\n",
    "from tensorflow.keras.preprocessing.sequence import pad_sequences"
   ]
  },
  {
   "cell_type": "markdown",
   "metadata": {},
   "source": [
    "### Remove Non-Alphabetic Characters (including numbers)"
   ]
  },
  {
   "cell_type": "code",
   "execution_count": 12,
   "metadata": {},
   "outputs": [],
   "source": [
    "import re\n",
    "\n",
    "def convert_to_string(DF):\n",
    "    DF[\"Comments\"]= DF[\"Comments\"].astype(str)\n",
    "    \n",
    "def cleanerFn(b):\n",
    "    # keeps only words with alphabetic characters in comments\n",
    "    for row in range(len(b)):\n",
    "        line = b.loc[row, \"Comments\"]\n",
    "        b.loc[row,\"Comments\"] = re.sub(\"[^a-zA-Z]\", \" \", line)"
   ]
  },
  {
   "cell_type": "code",
   "execution_count": 13,
   "metadata": {},
   "outputs": [],
   "source": [
    "convert_to_string(df)"
   ]
  },
  {
   "cell_type": "code",
   "execution_count": 14,
   "metadata": {},
   "outputs": [
    {
     "data": {
      "text/html": [
       "<div>\n",
       "<style scoped>\n",
       "    .dataframe tbody tr th:only-of-type {\n",
       "        vertical-align: middle;\n",
       "    }\n",
       "\n",
       "    .dataframe tbody tr th {\n",
       "        vertical-align: top;\n",
       "    }\n",
       "\n",
       "    .dataframe thead th {\n",
       "        text-align: right;\n",
       "    }\n",
       "</style>\n",
       "<table border=\"1\" class=\"dataframe\">\n",
       "  <thead>\n",
       "    <tr style=\"text-align: right;\">\n",
       "      <th></th>\n",
       "      <th>Comments</th>\n",
       "      <th>Type</th>\n",
       "    </tr>\n",
       "  </thead>\n",
       "  <tbody>\n",
       "    <tr>\n",
       "      <th>0</th>\n",
       "      <td>there is nothing else like khan academy out th...</td>\n",
       "      <td>1.0</td>\n",
       "    </tr>\n",
       "    <tr>\n",
       "      <th>1</th>\n",
       "      <td>sal is amazing  so is chemistry  i really real...</td>\n",
       "      <td>1.0</td>\n",
       "    </tr>\n",
       "    <tr>\n",
       "      <th>2</th>\n",
       "      <td>thanks khan academy  wish i had this series wh...</td>\n",
       "      <td>1.0</td>\n",
       "    </tr>\n",
       "    <tr>\n",
       "      <th>3</th>\n",
       "      <td>this was a really helpful video in understandi...</td>\n",
       "      <td>1.0</td>\n",
       "    </tr>\n",
       "    <tr>\n",
       "      <th>4</th>\n",
       "      <td>always stuns me how the study of the minute bl...</td>\n",
       "      <td>1.0</td>\n",
       "    </tr>\n",
       "  </tbody>\n",
       "</table>\n",
       "</div>"
      ],
      "text/plain": [
       "                                            Comments  Type\n",
       "0  there is nothing else like khan academy out th...   1.0\n",
       "1  sal is amazing  so is chemistry  i really real...   1.0\n",
       "2  thanks khan academy  wish i had this series wh...   1.0\n",
       "3  this was a really helpful video in understandi...   1.0\n",
       "4  always stuns me how the study of the minute bl...   1.0"
      ]
     },
     "execution_count": 14,
     "metadata": {},
     "output_type": "execute_result"
    }
   ],
   "source": [
    "cleanerFn(df)\n",
    "df.head()"
   ]
  },
  {
   "cell_type": "code",
   "execution_count": 15,
   "metadata": {
    "id": "oaLaaqhNkUPd"
   },
   "outputs": [],
   "source": [
    "\n",
    "sentences = []\n",
    "labels = []\n",
    "\n",
    "for i in range(df.shape[0]):\n",
    "    sentences.append(df['Comments'][i])\n",
    "    labels.append(df['Type'][i])"
   ]
  },
  {
   "cell_type": "code",
   "execution_count": 16,
   "metadata": {
    "id": "S1sD-7v0kYWk"
   },
   "outputs": [],
   "source": [
    "training_size = 3600\n",
    "training_sentences = sentences[0:training_size]\n",
    "testing_sentences = sentences[training_size:]\n",
    "training_labels = labels[0:training_size]\n",
    "testing_labels = labels[training_size:]"
   ]
  },
  {
   "cell_type": "code",
   "execution_count": 17,
   "metadata": {
    "id": "3u8UB0MCkZ5N"
   },
   "outputs": [],
   "source": [
    "vocab_size = 10000                                #the maximum number of words to keep\n",
    "embedding_dim = 16                                #input shape of neuralnetwork\n",
    "max_length = 200                                  #maximum length of all sequences.\n",
    "trunc_type='post'                                 # remove values from sequences larger than maxlen\n",
    "padding_type='post'                               #pad either before or after each sequence.\n",
    "oov_tok = \"<OOV>\"                                 #used to replace out-of-vocabulary words during text_to_sequence calls\n",
    "\n",
    "\n",
    "\n",
    "tokenizer = Tokenizer(num_words=vocab_size, oov_token=oov_tok)\n",
    "tokenizer.fit_on_texts(training_sentences)\n",
    "\n",
    "word_index = tokenizer.word_index\n",
    "\n",
    "#Transforms each text in texts to a sequence of integers. -> training data\n",
    "training_sequences = tokenizer.texts_to_sequences(training_sentences)           \n",
    "\n",
    "#This function transforms a list  of sequences into a 2D Numpy array of shape -> Training data\n",
    "training_padded = pad_sequences(training_sequences, maxlen=max_length, padding=padding_type, truncating=trunc_type)    \n",
    "\n",
    "\n",
    "#Transforms each text in texts to a sequence of integers. -> testing data\n",
    "testing_sequences = tokenizer.texts_to_sequences(testing_sentences)\n",
    "\n",
    "#This function transforms a list  of sequences into a 2D Numpy array of shape -> testing data\n",
    "testing_padded = pad_sequences(testing_sequences, maxlen=max_length, padding=padding_type, truncating=trunc_type)"
   ]
  },
  {
   "cell_type": "code",
   "execution_count": 18,
   "metadata": {
    "id": "GrAlWBKf99Ya"
   },
   "outputs": [],
   "source": [
    "\n",
    "import numpy as np\n",
    "training_padded = np.array(training_padded)\n",
    "training_labels = np.array(training_labels)\n",
    "testing_padded = np.array(testing_padded)\n",
    "testing_labels = np.array(testing_labels)"
   ]
  },
  {
   "cell_type": "markdown",
   "metadata": {},
   "source": [
    "# BERT Model"
   ]
  },
  {
   "cell_type": "code",
   "execution_count": 19,
   "metadata": {},
   "outputs": [
    {
     "name": "stderr",
     "output_type": "stream",
     "text": [
      "c:\\Users\\RAZER\\anaconda3\\envs\\Viper\\lib\\site-packages\\tqdm\\auto.py:21: TqdmWarning:\n",
      "\n",
      "IProgress not found. Please update jupyter and ipywidgets. See https://ipywidgets.readthedocs.io/en/stable/user_install.html\n",
      "\n",
      "All PyTorch model weights were used when initializing TFBertForSequenceClassification.\n",
      "\n",
      "Some weights or buffers of the TF 2.0 model TFBertForSequenceClassification were not initialized from the PyTorch model and are newly initialized: ['classifier.weight', 'classifier.bias']\n",
      "You should probably TRAIN this model on a down-stream task to be able to use it for predictions and inference.\n"
     ]
    }
   ],
   "source": [
    "from transformers import BertTokenizer, TFBertForSequenceClassification\n",
    "model_bert = TFBertForSequenceClassification.from_pretrained('bert-base-uncased', num_labels=2)"
   ]
  },
  {
   "cell_type": "code",
   "execution_count": 20,
   "metadata": {},
   "outputs": [
    {
     "name": "stdout",
     "output_type": "stream",
     "text": [
      "Model: \"tf_bert_for_sequence_classification\"\n",
      "_________________________________________________________________\n",
      " Layer (type)                Output Shape              Param #   \n",
      "=================================================================\n",
      " bert (TFBertMainLayer)      multiple                  109482240 \n",
      "                                                                 \n",
      " dropout_37 (Dropout)        multiple                  0         \n",
      "                                                                 \n",
      " classifier (Dense)          multiple                  1538      \n",
      "                                                                 \n",
      "=================================================================\n",
      "Total params: 109,483,778\n",
      "Trainable params: 109,483,778\n",
      "Non-trainable params: 0\n",
      "_________________________________________________________________\n"
     ]
    }
   ],
   "source": [
    "model_bert.summary()\n"
   ]
  },
  {
   "cell_type": "code",
   "execution_count": 21,
   "metadata": {},
   "outputs": [],
   "source": [
    "\n",
    "\n",
    "# Compile the model with an appropriate optimizer, loss function, and metrics\n",
    "optimizer = tf.keras.optimizers.Adam(learning_rate=2e-5)\n",
    "loss = tf.keras.losses.SparseCategoricalCrossentropy(from_logits=True)\n",
    "metric = tf.keras.metrics.SparseCategoricalAccuracy('accuracy')\n",
    "model_bert.compile(optimizer=optimizer, loss=loss, metrics=[metric])\n"
   ]
  },
  {
   "cell_type": "code",
   "execution_count": 22,
   "metadata": {},
   "outputs": [
    {
     "name": "stdout",
     "output_type": "stream",
     "text": [
      "Epoch 1/10\n",
      "113/113 - 90s - loss: 0.6527 - accuracy: 0.6383 - val_loss: 1.2132 - val_accuracy: 0.0070 - 90s/epoch - 796ms/step\n",
      "Epoch 2/10\n",
      "113/113 - 74s - loss: 0.6622 - accuracy: 0.6258 - val_loss: 0.9238 - val_accuracy: 0.0070 - 74s/epoch - 658ms/step\n",
      "Epoch 3/10\n",
      "113/113 - 75s - loss: 0.6393 - accuracy: 0.6381 - val_loss: 0.8918 - val_accuracy: 0.0070 - 75s/epoch - 666ms/step\n",
      "Epoch 4/10\n",
      "113/113 - 73s - loss: 0.5288 - accuracy: 0.6939 - val_loss: 1.0464 - val_accuracy: 0.4014 - 73s/epoch - 648ms/step\n",
      "Epoch 5/10\n",
      "113/113 - 74s - loss: 0.3237 - accuracy: 0.8706 - val_loss: 0.5578 - val_accuracy: 0.7524 - 74s/epoch - 659ms/step\n",
      "Epoch 6/10\n",
      "113/113 - 75s - loss: 0.1851 - accuracy: 0.9319 - val_loss: 0.2900 - val_accuracy: 0.9231 - 75s/epoch - 663ms/step\n",
      "Epoch 7/10\n",
      "113/113 - 74s - loss: 0.1259 - accuracy: 0.9564 - val_loss: 0.6227 - val_accuracy: 0.7832 - 74s/epoch - 656ms/step\n",
      "Epoch 8/10\n",
      "113/113 - 75s - loss: 0.1058 - accuracy: 0.9619 - val_loss: 0.1440 - val_accuracy: 0.9692 - 75s/epoch - 664ms/step\n",
      "Epoch 9/10\n",
      "113/113 - 72s - loss: 0.0783 - accuracy: 0.9783 - val_loss: 0.6788 - val_accuracy: 0.8042 - 72s/epoch - 640ms/step\n",
      "Epoch 10/10\n",
      "113/113 - 75s - loss: 0.0538 - accuracy: 0.9858 - val_loss: 0.3198 - val_accuracy: 0.8951 - 75s/epoch - 667ms/step\n"
     ]
    }
   ],
   "source": [
    "num_epochs = 10\n",
    "history = model_bert.fit(training_padded, training_labels, epochs=num_epochs, validation_data=(testing_padded, testing_labels), verbose=2)"
   ]
  },
  {
   "cell_type": "code",
   "execution_count": 23,
   "metadata": {},
   "outputs": [
    {
     "name": "stdout",
     "output_type": "stream",
     "text": [
      "Mean Accuracy:  0.8281111180782318\n"
     ]
    }
   ],
   "source": [
    "from statistics import mean \n",
    "print(\"Mean Accuracy: \",mean(list(history.history['accuracy'])))"
   ]
  },
  {
   "cell_type": "code",
   "execution_count": 24,
   "metadata": {},
   "outputs": [
    {
     "data": {
      "image/png": "[encoded data removed]",
      "text/plain": [
       "<Figure size 640x480 with 1 Axes>"
      ]
     },
     "metadata": {},
     "output_type": "display_data"
    },
    {
     "data": {
      "image/png": "[encoded data removed]",
      "text/plain": [
       "<Figure size 640x480 with 1 Axes>"
      ]
     },
     "metadata": {},
     "output_type": "display_data"
    }
   ],
   "source": [
    "import matplotlib.pyplot as plt\n",
    "\n",
    "\n",
    "def plot_graphs(history, string):\n",
    "  plt.plot(history.history[string])\n",
    "  plt.plot(history.history['val_'+string])\n",
    "  plt.xlabel(\"Epochs\")\n",
    "  plt.ylabel(string)\n",
    "  plt.legend([string, 'val_'+string])\n",
    "  plt.show()\n",
    "\n",
    "plot_graphs(history, \"accuracy\")\n",
    "plot_graphs(history, \"loss\")"
   ]
  },
  {
   "cell_type": "markdown",
   "metadata": {},
   "source": [
    "# Bidirectional LSTM"
   ]
  },
  {
   "cell_type": "code",
   "execution_count": 25,
   "metadata": {},
   "outputs": [
    {
     "name": "stdout",
     "output_type": "stream",
     "text": [
      "Model: \"sequential\"\n",
      "_________________________________________________________________\n",
      " Layer (type)                Output Shape              Param #   \n",
      "=================================================================\n",
      " embedding (Embedding)       (None, 200, 16)           160000    \n",
      "                                                                 \n",
      " bidirectional (Bidirectiona  (None, 128)              41472     \n",
      " l)                                                              \n",
      "                                                                 \n",
      " dense (Dense)               (None, 24)                3096      \n",
      "                                                                 \n",
      " dense_1 (Dense)             (None, 1)                 25        \n",
      "                                                                 \n",
      "=================================================================\n",
      "Total params: 204,593\n",
      "Trainable params: 204,593\n",
      "Non-trainable params: 0\n",
      "_________________________________________________________________\n"
     ]
    }
   ],
   "source": [
    "import keras \n",
    "from keras.layers import Embedding, LSTM, Dense\n",
    "from keras.models import Sequential\n",
    "\n",
    "bi_lstm_model = keras.Sequential([\n",
    "    keras.layers.Embedding(vocab_size, embedding_dim, input_length=max_length),\n",
    "    keras.layers.Bidirectional(keras.layers.LSTM(64)),\n",
    "    keras.layers.Dense(24, activation='relu'),\n",
    "    keras.layers.Dense(1, activation='sigmoid')\n",
    "])\n",
    "# compile model\n",
    "bi_lstm_model.compile(loss='binary_crossentropy',\n",
    "              optimizer='adam',\n",
    "              metrics=['accuracy'])\n",
    "# model summary\n",
    "bi_lstm_model.summary()"
   ]
  },
  {
   "cell_type": "code",
   "execution_count": 26,
   "metadata": {},
   "outputs": [
    {
     "name": "stdout",
     "output_type": "stream",
     "text": [
      "Epoch 1/10\n",
      "113/113 - 8s - loss: 0.5148 - accuracy: 0.7419 - val_loss: 0.2686 - val_accuracy: 0.9413 - 8s/epoch - 73ms/step\n",
      "Epoch 2/10\n",
      "113/113 - 4s - loss: 0.1618 - accuracy: 0.9486 - val_loss: 0.4010 - val_accuracy: 0.8084 - 4s/epoch - 33ms/step\n",
      "Epoch 3/10\n",
      "113/113 - 3s - loss: 0.0867 - accuracy: 0.9758 - val_loss: 0.1059 - val_accuracy: 0.9622 - 3s/epoch - 30ms/step\n",
      "Epoch 4/10\n",
      "113/113 - 4s - loss: 0.0426 - accuracy: 0.9900 - val_loss: 0.1442 - val_accuracy: 0.9441 - 4s/epoch - 34ms/step\n",
      "Epoch 5/10\n",
      "113/113 - 4s - loss: 0.0242 - accuracy: 0.9953 - val_loss: 0.3138 - val_accuracy: 0.8881 - 4s/epoch - 37ms/step\n",
      "Epoch 6/10\n",
      "113/113 - 4s - loss: 0.0177 - accuracy: 0.9964 - val_loss: 0.2308 - val_accuracy: 0.9189 - 4s/epoch - 33ms/step\n",
      "Epoch 7/10\n",
      "113/113 - 3s - loss: 0.0108 - accuracy: 0.9983 - val_loss: 0.2673 - val_accuracy: 0.9175 - 3s/epoch - 30ms/step\n",
      "Epoch 8/10\n",
      "113/113 - 5s - loss: 0.0129 - accuracy: 0.9969 - val_loss: 0.1770 - val_accuracy: 0.9385 - 5s/epoch - 43ms/step\n",
      "Epoch 9/10\n",
      "113/113 - 5s - loss: 0.0084 - accuracy: 0.9978 - val_loss: 0.3053 - val_accuracy: 0.9119 - 5s/epoch - 41ms/step\n",
      "Epoch 10/10\n",
      "113/113 - 5s - loss: 0.0052 - accuracy: 0.9986 - val_loss: 0.2037 - val_accuracy: 0.9385 - 5s/epoch - 44ms/step\n"
     ]
    }
   ],
   "source": [
    "num_epochs = 10\n",
    "history = bi_lstm_model.fit(training_padded, training_labels, epochs=num_epochs, validation_data=(testing_padded, testing_labels), verbose=2)"
   ]
  },
  {
   "cell_type": "code",
   "execution_count": 27,
   "metadata": {},
   "outputs": [
    {
     "name": "stdout",
     "output_type": "stream",
     "text": [
      "Mean Accuracy:  0.9639722228050231\n"
     ]
    }
   ],
   "source": [
    "from statistics import mean \n",
    "print(\"Mean Accuracy: \",mean(list(history.history['accuracy'])))"
   ]
  },
  {
   "cell_type": "code",
   "execution_count": 28,
   "metadata": {},
   "outputs": [
    {
     "data": {
      "image/png": "[encoded data removed]",
      "text/plain": [
       "<Figure size 640x480 with 1 Axes>"
      ]
     },
     "metadata": {},
     "output_type": "display_data"
    },
    {
     "data": {
      "image/png": "[encoded data removed]",
      "text/plain": [
       "<Figure size 640x480 with 1 Axes>"
      ]
     },
     "metadata": {},
     "output_type": "display_data"
    }
   ],
   "source": [
    "import matplotlib.pyplot as plt\n",
    "\n",
    "\n",
    "def plot_graphs(history, string):\n",
    "  plt.plot(history.history[string])\n",
    "  plt.plot(history.history['val_'+string])\n",
    "  plt.xlabel(\"Epochs\")\n",
    "  plt.ylabel(string)\n",
    "  plt.legend([string, 'val_'+string])\n",
    "  plt.show()\n",
    "\n",
    "plot_graphs(history, \"accuracy\")\n",
    "plot_graphs(history, \"loss\")"
   ]
  },
  {
   "cell_type": "markdown",
   "metadata": {},
   "source": [
    "# Simple ANN"
   ]
  },
  {
   "cell_type": "code",
   "execution_count": 29,
   "metadata": {
    "id": "FufaT4vlkiDE"
   },
   "outputs": [],
   "source": [
    "\n",
    "ann_model = tf.keras.Sequential([\n",
    "    \n",
    "    tf.keras.layers.Embedding(vocab_size, embedding_dim, input_length=max_length),\n",
    "    \n",
    "    tf.keras.layers.GlobalAveragePooling1D(),\n",
    "    \n",
    "    tf.keras.layers.Dense(24, activation='relu'),\n",
    "    \n",
    "    tf.keras.layers.Dense(1, activation='sigmoid')\n",
    "])\n",
    "\n",
    "ann_model.compile(loss='binary_crossentropy',optimizer='adam',metrics=['accuracy'])"
   ]
  },
  {
   "cell_type": "code",
   "execution_count": 30,
   "metadata": {
    "colab": {
     "base_uri": "https://localhost:8080/"
    },
    "id": "XfDt1hmYkiys",
    "outputId": "784cbb1c-fc09-43aa-fc67-ccde69817bff"
   },
   "outputs": [
    {
     "name": "stdout",
     "output_type": "stream",
     "text": [
      "Model: \"sequential_1\"\n",
      "_________________________________________________________________\n",
      " Layer (type)                Output Shape              Param #   \n",
      "=================================================================\n",
      " embedding_1 (Embedding)     (None, 200, 16)           160000    \n",
      "                                                                 \n",
      " global_average_pooling1d (G  (None, 16)               0         \n",
      " lobalAveragePooling1D)                                          \n",
      "                                                                 \n",
      " dense_2 (Dense)             (None, 24)                408       \n",
      "                                                                 \n",
      " dense_3 (Dense)             (None, 1)                 25        \n",
      "                                                                 \n",
      "=================================================================\n",
      "Total params: 160,433\n",
      "Trainable params: 160,433\n",
      "Non-trainable params: 0\n",
      "_________________________________________________________________\n"
     ]
    }
   ],
   "source": [
    "ann_model.summary()"
   ]
  },
  {
   "cell_type": "code",
   "execution_count": 31,
   "metadata": {
    "colab": {
     "base_uri": "https://localhost:8080/"
    },
    "id": "2DTKQFf1kkyc",
    "outputId": "c82019d0-4646-4d08-82d3-e272d1e47ee5"
   },
   "outputs": [
    {
     "name": "stdout",
     "output_type": "stream",
     "text": [
      "Epoch 1/30\n",
      "113/113 - 1s - loss: 0.6658 - accuracy: 0.6375 - val_loss: 1.0108 - val_accuracy: 0.0000e+00 - 1s/epoch - 12ms/step\n",
      "Epoch 2/30\n",
      "113/113 - 1s - loss: 0.6481 - accuracy: 0.6425 - val_loss: 1.0106 - val_accuracy: 0.0000e+00 - 646ms/epoch - 6ms/step\n",
      "Epoch 3/30\n",
      "113/113 - 1s - loss: 0.6396 - accuracy: 0.6425 - val_loss: 0.9667 - val_accuracy: 0.0000e+00 - 897ms/epoch - 8ms/step\n",
      "Epoch 4/30\n",
      "113/113 - 1s - loss: 0.6232 - accuracy: 0.6425 - val_loss: 0.8937 - val_accuracy: 0.0000e+00 - 945ms/epoch - 8ms/step\n",
      "Epoch 5/30\n",
      "113/113 - 1s - loss: 0.5842 - accuracy: 0.6428 - val_loss: 0.7946 - val_accuracy: 0.0434 - 801ms/epoch - 7ms/step\n",
      "Epoch 6/30\n",
      "113/113 - 1s - loss: 0.4817 - accuracy: 0.8133 - val_loss: 0.6092 - val_accuracy: 0.7315 - 756ms/epoch - 7ms/step\n",
      "Epoch 7/30\n",
      "113/113 - 1s - loss: 0.3577 - accuracy: 0.9317 - val_loss: 0.4402 - val_accuracy: 0.8951 - 833ms/epoch - 7ms/step\n",
      "Epoch 8/30\n",
      "113/113 - 1s - loss: 0.2666 - accuracy: 0.9464 - val_loss: 0.3709 - val_accuracy: 0.8895 - 916ms/epoch - 8ms/step\n",
      "Epoch 9/30\n",
      "113/113 - 1s - loss: 0.2120 - accuracy: 0.9564 - val_loss: 0.2647 - val_accuracy: 0.9552 - 722ms/epoch - 6ms/step\n",
      "Epoch 10/30\n",
      "113/113 - 1s - loss: 0.1800 - accuracy: 0.9567 - val_loss: 0.2541 - val_accuracy: 0.9455 - 704ms/epoch - 6ms/step\n",
      "Epoch 11/30\n",
      "113/113 - 1s - loss: 0.1552 - accuracy: 0.9628 - val_loss: 0.2549 - val_accuracy: 0.9231 - 690ms/epoch - 6ms/step\n",
      "Epoch 12/30\n",
      "113/113 - 0s - loss: 0.1378 - accuracy: 0.9681 - val_loss: 0.1889 - val_accuracy: 0.9580 - 498ms/epoch - 4ms/step\n",
      "Epoch 13/30\n",
      "113/113 - 0s - loss: 0.1234 - accuracy: 0.9708 - val_loss: 0.1299 - val_accuracy: 0.9804 - 488ms/epoch - 4ms/step\n",
      "Epoch 14/30\n",
      "113/113 - 0s - loss: 0.1121 - accuracy: 0.9739 - val_loss: 0.1872 - val_accuracy: 0.9441 - 459ms/epoch - 4ms/step\n",
      "Epoch 15/30\n",
      "113/113 - 1s - loss: 0.1013 - accuracy: 0.9769 - val_loss: 0.1867 - val_accuracy: 0.9385 - 560ms/epoch - 5ms/step\n",
      "Epoch 16/30\n",
      "113/113 - 1s - loss: 0.0939 - accuracy: 0.9781 - val_loss: 0.1070 - val_accuracy: 0.9790 - 506ms/epoch - 4ms/step\n",
      "Epoch 17/30\n",
      "113/113 - 0s - loss: 0.0890 - accuracy: 0.9781 - val_loss: 0.2217 - val_accuracy: 0.9049 - 500ms/epoch - 4ms/step\n",
      "Epoch 18/30\n",
      "113/113 - 0s - loss: 0.0806 - accuracy: 0.9817 - val_loss: 0.2129 - val_accuracy: 0.9077 - 462ms/epoch - 4ms/step\n",
      "Epoch 19/30\n",
      "113/113 - 1s - loss: 0.0743 - accuracy: 0.9831 - val_loss: 0.1563 - val_accuracy: 0.9455 - 528ms/epoch - 5ms/step\n",
      "Epoch 20/30\n",
      "113/113 - 1s - loss: 0.0684 - accuracy: 0.9847 - val_loss: 0.1687 - val_accuracy: 0.9315 - 584ms/epoch - 5ms/step\n",
      "Epoch 21/30\n",
      "113/113 - 1s - loss: 0.0628 - accuracy: 0.9853 - val_loss: 0.1592 - val_accuracy: 0.9357 - 500ms/epoch - 4ms/step\n",
      "Epoch 22/30\n",
      "113/113 - 0s - loss: 0.0574 - accuracy: 0.9861 - val_loss: 0.1456 - val_accuracy: 0.9413 - 464ms/epoch - 4ms/step\n",
      "Epoch 23/30\n",
      "113/113 - 0s - loss: 0.0547 - accuracy: 0.9875 - val_loss: 0.1505 - val_accuracy: 0.9385 - 486ms/epoch - 4ms/step\n",
      "Epoch 24/30\n",
      "113/113 - 1s - loss: 0.0497 - accuracy: 0.9897 - val_loss: 0.1098 - val_accuracy: 0.9608 - 575ms/epoch - 5ms/step\n",
      "Epoch 25/30\n",
      "113/113 - 1s - loss: 0.0467 - accuracy: 0.9900 - val_loss: 0.0923 - val_accuracy: 0.9706 - 536ms/epoch - 5ms/step\n",
      "Epoch 26/30\n",
      "113/113 - 0s - loss: 0.0440 - accuracy: 0.9897 - val_loss: 0.1152 - val_accuracy: 0.9538 - 477ms/epoch - 4ms/step\n",
      "Epoch 27/30\n",
      "113/113 - 0s - loss: 0.0417 - accuracy: 0.9908 - val_loss: 0.1027 - val_accuracy: 0.9636 - 483ms/epoch - 4ms/step\n",
      "Epoch 28/30\n",
      "113/113 - 0s - loss: 0.0381 - accuracy: 0.9917 - val_loss: 0.1923 - val_accuracy: 0.9161 - 497ms/epoch - 4ms/step\n",
      "Epoch 29/30\n",
      "113/113 - 1s - loss: 0.0357 - accuracy: 0.9939 - val_loss: 0.1486 - val_accuracy: 0.9315 - 528ms/epoch - 5ms/step\n",
      "Epoch 30/30\n",
      "113/113 - 1s - loss: 0.0333 - accuracy: 0.9933 - val_loss: 0.1752 - val_accuracy: 0.9217 - 514ms/epoch - 5ms/step\n"
     ]
    }
   ],
   "source": [
    "num_epochs = 30\n",
    "history = ann_model.fit(training_padded, training_labels, epochs=num_epochs, validation_data=(testing_padded, testing_labels), verbose=2)"
   ]
  },
  {
   "cell_type": "code",
   "execution_count": 32,
   "metadata": {},
   "outputs": [
    {
     "name": "stdout",
     "output_type": "stream",
     "text": [
      "Mean Accuracy:  0.9156111121177674\n"
     ]
    }
   ],
   "source": [
    "from statistics import mean \n",
    "print(\"Mean Accuracy: \",mean(list(history.history['accuracy'])))"
   ]
  },
  {
   "cell_type": "code",
   "execution_count": 33,
   "metadata": {
    "colab": {
     "base_uri": "https://localhost:8080/",
     "height": 881
    },
    "id": "2HYfBKXjkmU8",
    "outputId": "55792926-cc88-46d7-c5c4-51f342c034c3"
   },
   "outputs": [
    {
     "data": {
      "image/png": "[encoded data removed]",
      "text/plain": [
       "<Figure size 640x480 with 1 Axes>"
      ]
     },
     "metadata": {},
     "output_type": "display_data"
    },
    {
     "data": {
      "image/png": "[encoded data removed]",
      "text/plain": [
       "<Figure size 640x480 with 1 Axes>"
      ]
     },
     "metadata": {},
     "output_type": "display_data"
    }
   ],
   "source": [
    "import matplotlib.pyplot as plt\n",
    "\n",
    "\n",
    "def plot_graphs(history, string):\n",
    "  plt.plot(history.history[string])\n",
    "  plt.plot(history.history['val_'+string])\n",
    "  plt.xlabel(\"Epochs\")\n",
    "  plt.ylabel(string)\n",
    "  plt.legend([string, 'val_'+string])\n",
    "  plt.show()\n",
    "\n",
    "plot_graphs(history, \"accuracy\")\n",
    "plot_graphs(history, \"loss\")"
   ]
  },
  {
   "cell_type": "code",
   "execution_count": null,
   "metadata": {
    "id": "_uLkUz30wEYK"
   },
   "outputs": [],
   "source": [
    "import keras\n",
    "ann_model.save(\"ann.keras\")\n",
    "bi_lstm_model.save(\"bi_lstm_model.keras\")\n",
    "\n",
    "\n",
    "ann = keras.models.load_model(\"ann.keras\")\n",
    "bi_lstm = keras.models.load_model(\"bi_lstm_model.keras\")"
   ]
  },
  {
   "cell_type": "code",
   "execution_count": 39,
   "metadata": {
    "colab": {
     "base_uri": "https://localhost:8080/"
    },
    "id": "cG8-ArY-qDcz",
    "outputId": "c5257c00-077f-4938-8c0a-8ac91b2c0294"
   },
   "outputs": [
    {
     "name": "stdout",
     "output_type": "stream",
     "text": [
      "1/1 [==============================] - 0s 83ms/step\n",
      "1/1 [==============================] - 0s 433ms/step\n"
     ]
    }
   ],
   "source": [
    "sentence = [\"This is a very helpfull tutorial\", \"Very bad playlist and not hlpfull\",\"good vedio\",\"that was bad\",\" 3456 56345cool 4bro\",\"dude, i was gone\",\"Mindblowing tutorial\"]\n",
    "sequences = tokenizer.texts_to_sequences(sentence)\n",
    "padded = pad_sequences(sequences, maxlen=max_length, padding=padding_type, truncating=trunc_type)\n",
    "result1 = ann.predict(padded)\n",
    "result2 = bi_lstm.predict(padded)\n",
    "\n"
   ]
  },
  {
   "cell_type": "code",
   "execution_count": 40,
   "metadata": {},
   "outputs": [
    {
     "data": {
      "text/plain": [
       "array([[0.9963707 ],\n",
       "       [0.3123289 ],\n",
       "       [0.96697646],\n",
       "       [0.06265064],\n",
       "       [0.67726177],\n",
       "       [0.33084244],\n",
       "       [0.97319025]], dtype=float32)"
      ]
     },
     "execution_count": 40,
     "metadata": {},
     "output_type": "execute_result"
    }
   ],
   "source": [
    "result1"
   ]
  },
  {
   "cell_type": "code",
   "execution_count": 42,
   "metadata": {},
   "outputs": [],
   "source": [
    "result2\n",
    "np.set_printoptions(suppress = True,formatter = {'float_kind':'{:f}'.format})"
   ]
  },
  {
   "cell_type": "code",
   "execution_count": 43,
   "metadata": {},
   "outputs": [
    {
     "data": {
      "text/plain": [
       "array([[0.999742],\n",
       "       [0.000076],\n",
       "       [0.999807],\n",
       "       [0.000115],\n",
       "       [0.663630],\n",
       "       [0.131676],\n",
       "       [0.998364]], dtype=float32)"
      ]
     },
     "execution_count": 43,
     "metadata": {},
     "output_type": "execute_result"
    }
   ],
   "source": [
    "result2"
   ]
  },
  {
   "cell_type": "code",
   "execution_count": null,
   "metadata": {},
   "outputs": [],
   "source": []
  }
 ],
 "metadata": {
  "accelerator": "TPU",
  "colab": {
   "include_colab_link": true,
   "provenance": []
  },
  "kernelspec": {
   "display_name": "Python 3 (ipykernel)",
   "language": "python",
   "name": "python3"
  },
  "language_info": {
   "codemirror_mode": {
    "name": "ipython",
    "version": 3
   },
   "file_extension": ".py",
   "mimetype": "text/x-python",
   "name": "python",
   "nbconvert_exporter": "python",
   "pygments_lexer": "ipython3",
   "version": "3.7.16"
  }
 },
 "nbformat": 4,
 "nbformat_minor": 4
}
