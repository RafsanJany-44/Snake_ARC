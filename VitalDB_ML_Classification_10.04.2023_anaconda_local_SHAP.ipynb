{
 "cells": [
  {
   "cell_type": "code",
   "execution_count": 1,
   "metadata": {
    "colab": {
     "base_uri": "https://localhost:8080/"
    },
    "executionInfo": {
     "elapsed": 28568,
     "status": "ok",
     "timestamp": 1696503068523,
     "user": {
      "displayName": "Iqram Hussain",
      "userId": "06265911282756912793"
     },
     "user_tz": 240
    },
    "id": "zdFOS9nFlpsU",
    "outputId": "50a60483-e030-42e5-eafc-cd8756bc0f37"
   },
   "outputs": [
    {
     "data": {
      "text/plain": [
       "\"\\nfrom google.colab import drive\\ndrive.mount('/content/drive')\\n\""
      ]
     },
     "execution_count": 1,
     "metadata": {},
     "output_type": "execute_result"
    }
   ],
   "source": [
    "'''\n",
    "from google.colab import drive\n",
    "drive.mount('/content/drive')\n",
    "'''"
   ]
  },
  {
   "cell_type": "code",
   "execution_count": 1,
   "metadata": {
    "executionInfo": {
     "elapsed": 316,
     "status": "ok",
     "timestamp": 1696503068824,
     "user": {
      "displayName": "Iqram Hussain",
      "userId": "06265911282756912793"
     },
     "user_tz": 240
    },
    "id": "l2zDnkVpFdlI",
    "tags": []
   },
   "outputs": [],
   "source": [
    "import statistics as st\n",
    "from tqdm.notebook import tqdm\n",
    "import numpy as np\n",
    "import pandas as pd\n",
    "\n",
    "def balance(X_temp, y_temp):\n",
    "  smote = SMOTE()\n",
    "  X_temp, y_temp= smote.fit_resample(X_temp, y_temp)\n",
    "  return pd.concat([pd.DataFrame(X_temp), pd.DataFrame(y_temp)], axis=1)\n",
    "\n",
    "\n",
    "\n",
    "def models_check_box(models):\n",
    "  import ipywidgets as widgets\n",
    "  from IPython.display import display\n",
    "  new_keys=[]\n",
    "  for i in models:\n",
    "    i=widgets.Checkbox(\n",
    "      value=False,\n",
    "      description=str(i),\n",
    "      disabled=False,\n",
    "      indent=False\n",
    "      )\n",
    "    display(i)\n",
    "    new_keys.append(i)\n",
    "  return new_keys\n",
    "\n",
    "\n",
    "def Search_Some(dataset,some):\n",
    "  dic={}\n",
    "  for col in tqdm(list(dataset.columns)):\n",
    "    rows = []\n",
    "    flage = 0\n",
    "    for row in range(dataset.shape[0]):\n",
    "      if str(dataset[col][row]) == some:\n",
    "        rows.append(row)\n",
    "        flage = 1\n",
    "    if flage ==1:\n",
    "      dic[col] = rows\n",
    "\n",
    "  return dic\n",
    "\n",
    "\n",
    "\n",
    "def find_stat_classwise(dataframe,col,target_col,temp_tar,stat_type='median'):\n",
    "  print(\"Calculating-\",col,\"|| Target-\",temp_tar)\n",
    "  list_1 = []\n",
    "  for row in range(dataframe.shape[0]):\n",
    "      if str(dataframe[col][row]) != 'nan' and str(dataframe[target_col][row]) == temp_tar:\n",
    "        list_1.append(dataframe[col][row])\n",
    "\n",
    "  try:\n",
    "    if stat_type == 'median':\n",
    "      return st.median(list_1)\n",
    "    elif stat_type == 'mean':\n",
    "      return st.mean(list_1)\n",
    "    elif stat_type == 'mode':\n",
    "      return st.mode(list_1)\n",
    "\n",
    "  except:\n",
    "    print(\"No Class exist\")\n",
    "    return 'nan'\n",
    "\n",
    "\n",
    "\n",
    "def clsswise_null_rmv(df,target_cls,stat_type='median'):\n",
    "\n",
    "  cls = list(set(df[target_cls]))\n",
    "\n",
    "  refine = []\n",
    "  print(\"Processing Null Dictionary.....\")\n",
    "  d_null = Search_Some(df,'nan')\n",
    "\n",
    "  print(\"Replacing Nan vlues with \",stat_type,\".....\")\n",
    "  for col in tqdm(d_null):\n",
    "    for c in cls:\n",
    "      m = find_stat_classwise(df,col,target_cls,c,stat_type)\n",
    "      refine.append([col,c,m])\n",
    "\n",
    "  for i in refine:\n",
    "    print(i)\n",
    "    for row in tqdm(range(df.shape[0])):\n",
    "      if str(df[i[0]][row]) == 'nan' and str(df[target_cls][row]) == i[1]:\n",
    "        df.at[row,i[0]] = i[2]\n",
    "\n",
    "  return df"
   ]
  },
  {
   "cell_type": "code",
   "execution_count": 2,
   "metadata": {
    "executionInfo": {
     "elapsed": 26905,
     "status": "ok",
     "timestamp": 1696503095726,
     "user": {
      "displayName": "Iqram Hussain",
      "userId": "06265911282756912793"
     },
     "user_tz": 240
    },
    "id": "aPiYZXHLCFZ_",
    "tags": []
   },
   "outputs": [],
   "source": [
    "dataset=pd.read_csv(\"C:/Users/Richard/Desktop/VitalDB/Vital_ECG_MAP_features_120s.csv\")\n",
    "result = {}"
   ]
  },
  {
   "cell_type": "code",
   "execution_count": 3,
   "metadata": {
    "colab": {
     "base_uri": "https://localhost:8080/",
     "height": 444
    },
    "executionInfo": {
     "elapsed": 792,
     "status": "ok",
     "timestamp": 1696503096500,
     "user": {
      "displayName": "Iqram Hussain",
      "userId": "06265911282756912793"
     },
     "user_tz": 240
    },
    "id": "q2p87xAPCGLI",
    "outputId": "9b096396-01f5-4a69-b4bc-f3bdd62d6a5f",
    "tags": []
   },
   "outputs": [
    {
     "data": {
      "text/html": [
       "<div>\n",
       "<style scoped>\n",
       "    .dataframe tbody tr th:only-of-type {\n",
       "        vertical-align: middle;\n",
       "    }\n",
       "\n",
       "    .dataframe tbody tr th {\n",
       "        vertical-align: top;\n",
       "    }\n",
       "\n",
       "    .dataframe thead th {\n",
       "        text-align: right;\n",
       "    }\n",
       "</style>\n",
       "<table border=\"1\" class=\"dataframe\">\n",
       "  <thead>\n",
       "    <tr style=\"text-align: right;\">\n",
       "      <th></th>\n",
       "      <th>Case_ID</th>\n",
       "      <th>Segment</th>\n",
       "      <th>ST_II</th>\n",
       "      <th>ART_MBP</th>\n",
       "      <th>ART_SBP</th>\n",
       "      <th>ART_DBP</th>\n",
       "      <th>Cycle</th>\n",
       "      <th>R_wave_amplitude</th>\n",
       "      <th>ΔR_wave_amplitude</th>\n",
       "      <th>R_wave_duration</th>\n",
       "      <th>...</th>\n",
       "      <th>ST_duration</th>\n",
       "      <th>ΔST_duration</th>\n",
       "      <th>ST_area</th>\n",
       "      <th>ΔST_area</th>\n",
       "      <th>ST_slope</th>\n",
       "      <th>ΔST_slope</th>\n",
       "      <th>Ischemia_Status</th>\n",
       "      <th>ART_MAP</th>\n",
       "      <th>Hypotension_Status</th>\n",
       "      <th>Class</th>\n",
       "    </tr>\n",
       "  </thead>\n",
       "  <tbody>\n",
       "    <tr>\n",
       "      <th>0</th>\n",
       "      <td>1</td>\n",
       "      <td>2</td>\n",
       "      <td>-0.586322</td>\n",
       "      <td>65.986667</td>\n",
       "      <td>102.516667</td>\n",
       "      <td>43.956667</td>\n",
       "      <td>1</td>\n",
       "      <td>0.103551</td>\n",
       "      <td>-0.013308</td>\n",
       "      <td>0.030474</td>\n",
       "      <td>...</td>\n",
       "      <td>NaN</td>\n",
       "      <td>NaN</td>\n",
       "      <td>NaN</td>\n",
       "      <td>NaN</td>\n",
       "      <td>NaN</td>\n",
       "      <td>NaN</td>\n",
       "      <td>Non-ischemia</td>\n",
       "      <td>63.476667</td>\n",
       "      <td>Hypotension</td>\n",
       "      <td>Non_isc-Hypo</td>\n",
       "    </tr>\n",
       "    <tr>\n",
       "      <th>1</th>\n",
       "      <td>1</td>\n",
       "      <td>2</td>\n",
       "      <td>-0.586322</td>\n",
       "      <td>65.986667</td>\n",
       "      <td>102.516667</td>\n",
       "      <td>43.956667</td>\n",
       "      <td>2</td>\n",
       "      <td>0.093742</td>\n",
       "      <td>-0.003500</td>\n",
       "      <td>0.091421</td>\n",
       "      <td>...</td>\n",
       "      <td>0.010158</td>\n",
       "      <td>0.040748</td>\n",
       "      <td>0.001223</td>\n",
       "      <td>-0.001585</td>\n",
       "      <td>NaN</td>\n",
       "      <td>NaN</td>\n",
       "      <td>Non-ischemia</td>\n",
       "      <td>63.476667</td>\n",
       "      <td>Hypotension</td>\n",
       "      <td>Non_isc-Hypo</td>\n",
       "    </tr>\n",
       "    <tr>\n",
       "      <th>2</th>\n",
       "      <td>1</td>\n",
       "      <td>2</td>\n",
       "      <td>-0.586322</td>\n",
       "      <td>65.986667</td>\n",
       "      <td>102.516667</td>\n",
       "      <td>43.956667</td>\n",
       "      <td>3</td>\n",
       "      <td>0.117667</td>\n",
       "      <td>-0.027424</td>\n",
       "      <td>NaN</td>\n",
       "      <td>...</td>\n",
       "      <td>NaN</td>\n",
       "      <td>NaN</td>\n",
       "      <td>NaN</td>\n",
       "      <td>NaN</td>\n",
       "      <td>NaN</td>\n",
       "      <td>NaN</td>\n",
       "      <td>Non-ischemia</td>\n",
       "      <td>63.476667</td>\n",
       "      <td>Hypotension</td>\n",
       "      <td>Non_isc-Hypo</td>\n",
       "    </tr>\n",
       "    <tr>\n",
       "      <th>3</th>\n",
       "      <td>1</td>\n",
       "      <td>2</td>\n",
       "      <td>-0.586322</td>\n",
       "      <td>65.986667</td>\n",
       "      <td>102.516667</td>\n",
       "      <td>43.956667</td>\n",
       "      <td>4</td>\n",
       "      <td>0.096139</td>\n",
       "      <td>-0.005896</td>\n",
       "      <td>0.040631</td>\n",
       "      <td>...</td>\n",
       "      <td>0.010158</td>\n",
       "      <td>0.040748</td>\n",
       "      <td>0.001255</td>\n",
       "      <td>-0.001617</td>\n",
       "      <td>NaN</td>\n",
       "      <td>NaN</td>\n",
       "      <td>Non-ischemia</td>\n",
       "      <td>63.476667</td>\n",
       "      <td>Hypotension</td>\n",
       "      <td>Non_isc-Hypo</td>\n",
       "    </tr>\n",
       "    <tr>\n",
       "      <th>4</th>\n",
       "      <td>1</td>\n",
       "      <td>2</td>\n",
       "      <td>-0.586322</td>\n",
       "      <td>65.986667</td>\n",
       "      <td>102.516667</td>\n",
       "      <td>43.956667</td>\n",
       "      <td>5</td>\n",
       "      <td>0.117185</td>\n",
       "      <td>-0.026942</td>\n",
       "      <td>0.081263</td>\n",
       "      <td>...</td>\n",
       "      <td>0.010158</td>\n",
       "      <td>0.040748</td>\n",
       "      <td>0.002008</td>\n",
       "      <td>-0.002370</td>\n",
       "      <td>NaN</td>\n",
       "      <td>NaN</td>\n",
       "      <td>Non-ischemia</td>\n",
       "      <td>63.476667</td>\n",
       "      <td>Hypotension</td>\n",
       "      <td>Non_isc-Hypo</td>\n",
       "    </tr>\n",
       "    <tr>\n",
       "      <th>...</th>\n",
       "      <td>...</td>\n",
       "      <td>...</td>\n",
       "      <td>...</td>\n",
       "      <td>...</td>\n",
       "      <td>...</td>\n",
       "      <td>...</td>\n",
       "      <td>...</td>\n",
       "      <td>...</td>\n",
       "      <td>...</td>\n",
       "      <td>...</td>\n",
       "      <td>...</td>\n",
       "      <td>...</td>\n",
       "      <td>...</td>\n",
       "      <td>...</td>\n",
       "      <td>...</td>\n",
       "      <td>...</td>\n",
       "      <td>...</td>\n",
       "      <td>...</td>\n",
       "      <td>...</td>\n",
       "      <td>...</td>\n",
       "      <td>...</td>\n",
       "    </tr>\n",
       "    <tr>\n",
       "      <th>1527828</th>\n",
       "      <td>2645</td>\n",
       "      <td>3</td>\n",
       "      <td>-2.449826</td>\n",
       "      <td>95.113333</td>\n",
       "      <td>126.103333</td>\n",
       "      <td>70.180000</td>\n",
       "      <td>675</td>\n",
       "      <td>0.193847</td>\n",
       "      <td>-0.131411</td>\n",
       "      <td>0.020366</td>\n",
       "      <td>...</td>\n",
       "      <td>0.000000</td>\n",
       "      <td>0.160196</td>\n",
       "      <td>-0.001449</td>\n",
       "      <td>0.016728</td>\n",
       "      <td>NaN</td>\n",
       "      <td>NaN</td>\n",
       "      <td>Non-ischemia</td>\n",
       "      <td>88.821111</td>\n",
       "      <td>Non-Hypotension</td>\n",
       "      <td>Non_isc-Non_Hypo</td>\n",
       "    </tr>\n",
       "    <tr>\n",
       "      <th>1527829</th>\n",
       "      <td>2645</td>\n",
       "      <td>3</td>\n",
       "      <td>-2.449826</td>\n",
       "      <td>95.113333</td>\n",
       "      <td>126.103333</td>\n",
       "      <td>70.180000</td>\n",
       "      <td>676</td>\n",
       "      <td>0.270201</td>\n",
       "      <td>-0.207766</td>\n",
       "      <td>0.020366</td>\n",
       "      <td>...</td>\n",
       "      <td>0.193476</td>\n",
       "      <td>-0.033280</td>\n",
       "      <td>NaN</td>\n",
       "      <td>NaN</td>\n",
       "      <td>0.005185</td>\n",
       "      <td>0.007804</td>\n",
       "      <td>Non-ischemia</td>\n",
       "      <td>88.821111</td>\n",
       "      <td>Non-Hypotension</td>\n",
       "      <td>Non_isc-Non_Hypo</td>\n",
       "    </tr>\n",
       "    <tr>\n",
       "      <th>1527830</th>\n",
       "      <td>2645</td>\n",
       "      <td>3</td>\n",
       "      <td>-2.449826</td>\n",
       "      <td>95.113333</td>\n",
       "      <td>126.103333</td>\n",
       "      <td>70.180000</td>\n",
       "      <td>677</td>\n",
       "      <td>NaN</td>\n",
       "      <td>NaN</td>\n",
       "      <td>NaN</td>\n",
       "      <td>...</td>\n",
       "      <td>0.193476</td>\n",
       "      <td>-0.033280</td>\n",
       "      <td>-0.017070</td>\n",
       "      <td>0.032349</td>\n",
       "      <td>0.005185</td>\n",
       "      <td>0.007804</td>\n",
       "      <td>Non-ischemia</td>\n",
       "      <td>88.821111</td>\n",
       "      <td>Non-Hypotension</td>\n",
       "      <td>Non_isc-Non_Hypo</td>\n",
       "    </tr>\n",
       "    <tr>\n",
       "      <th>1527831</th>\n",
       "      <td>2645</td>\n",
       "      <td>3</td>\n",
       "      <td>-2.449826</td>\n",
       "      <td>95.113333</td>\n",
       "      <td>126.103333</td>\n",
       "      <td>70.180000</td>\n",
       "      <td>678</td>\n",
       "      <td>0.120379</td>\n",
       "      <td>-0.057943</td>\n",
       "      <td>0.040732</td>\n",
       "      <td>...</td>\n",
       "      <td>0.010183</td>\n",
       "      <td>0.150013</td>\n",
       "      <td>0.004469</td>\n",
       "      <td>0.010810</td>\n",
       "      <td>NaN</td>\n",
       "      <td>NaN</td>\n",
       "      <td>Non-ischemia</td>\n",
       "      <td>88.821111</td>\n",
       "      <td>Non-Hypotension</td>\n",
       "      <td>Non_isc-Non_Hypo</td>\n",
       "    </tr>\n",
       "    <tr>\n",
       "      <th>1527832</th>\n",
       "      <td>2645</td>\n",
       "      <td>3</td>\n",
       "      <td>-2.449826</td>\n",
       "      <td>95.113333</td>\n",
       "      <td>126.103333</td>\n",
       "      <td>70.180000</td>\n",
       "      <td>679</td>\n",
       "      <td>NaN</td>\n",
       "      <td>NaN</td>\n",
       "      <td>NaN</td>\n",
       "      <td>...</td>\n",
       "      <td>NaN</td>\n",
       "      <td>NaN</td>\n",
       "      <td>NaN</td>\n",
       "      <td>NaN</td>\n",
       "      <td>NaN</td>\n",
       "      <td>NaN</td>\n",
       "      <td>Non-ischemia</td>\n",
       "      <td>88.821111</td>\n",
       "      <td>Non-Hypotension</td>\n",
       "      <td>Non_isc-Non_Hypo</td>\n",
       "    </tr>\n",
       "  </tbody>\n",
       "</table>\n",
       "<p>1527833 rows × 39 columns</p>\n",
       "</div>"
      ],
      "text/plain": [
       "         Case_ID  Segment     ST_II    ART_MBP     ART_SBP    ART_DBP  Cycle  \\\n",
       "0              1        2 -0.586322  65.986667  102.516667  43.956667      1   \n",
       "1              1        2 -0.586322  65.986667  102.516667  43.956667      2   \n",
       "2              1        2 -0.586322  65.986667  102.516667  43.956667      3   \n",
       "3              1        2 -0.586322  65.986667  102.516667  43.956667      4   \n",
       "4              1        2 -0.586322  65.986667  102.516667  43.956667      5   \n",
       "...          ...      ...       ...        ...         ...        ...    ...   \n",
       "1527828     2645        3 -2.449826  95.113333  126.103333  70.180000    675   \n",
       "1527829     2645        3 -2.449826  95.113333  126.103333  70.180000    676   \n",
       "1527830     2645        3 -2.449826  95.113333  126.103333  70.180000    677   \n",
       "1527831     2645        3 -2.449826  95.113333  126.103333  70.180000    678   \n",
       "1527832     2645        3 -2.449826  95.113333  126.103333  70.180000    679   \n",
       "\n",
       "         R_wave_amplitude  ΔR_wave_amplitude  R_wave_duration  ...  \\\n",
       "0                0.103551          -0.013308         0.030474  ...   \n",
       "1                0.093742          -0.003500         0.091421  ...   \n",
       "2                0.117667          -0.027424              NaN  ...   \n",
       "3                0.096139          -0.005896         0.040631  ...   \n",
       "4                0.117185          -0.026942         0.081263  ...   \n",
       "...                   ...                ...              ...  ...   \n",
       "1527828          0.193847          -0.131411         0.020366  ...   \n",
       "1527829          0.270201          -0.207766         0.020366  ...   \n",
       "1527830               NaN                NaN              NaN  ...   \n",
       "1527831          0.120379          -0.057943         0.040732  ...   \n",
       "1527832               NaN                NaN              NaN  ...   \n",
       "\n",
       "         ST_duration  ΔST_duration   ST_area  ΔST_area  ST_slope  ΔST_slope  \\\n",
       "0                NaN           NaN       NaN       NaN       NaN        NaN   \n",
       "1           0.010158      0.040748  0.001223 -0.001585       NaN        NaN   \n",
       "2                NaN           NaN       NaN       NaN       NaN        NaN   \n",
       "3           0.010158      0.040748  0.001255 -0.001617       NaN        NaN   \n",
       "4           0.010158      0.040748  0.002008 -0.002370       NaN        NaN   \n",
       "...              ...           ...       ...       ...       ...        ...   \n",
       "1527828     0.000000      0.160196 -0.001449  0.016728       NaN        NaN   \n",
       "1527829     0.193476     -0.033280       NaN       NaN  0.005185   0.007804   \n",
       "1527830     0.193476     -0.033280 -0.017070  0.032349  0.005185   0.007804   \n",
       "1527831     0.010183      0.150013  0.004469  0.010810       NaN        NaN   \n",
       "1527832          NaN           NaN       NaN       NaN       NaN        NaN   \n",
       "\n",
       "         Ischemia_Status    ART_MAP  Hypotension_Status             Class  \n",
       "0           Non-ischemia  63.476667         Hypotension      Non_isc-Hypo  \n",
       "1           Non-ischemia  63.476667         Hypotension      Non_isc-Hypo  \n",
       "2           Non-ischemia  63.476667         Hypotension      Non_isc-Hypo  \n",
       "3           Non-ischemia  63.476667         Hypotension      Non_isc-Hypo  \n",
       "4           Non-ischemia  63.476667         Hypotension      Non_isc-Hypo  \n",
       "...                  ...        ...                 ...               ...  \n",
       "1527828     Non-ischemia  88.821111     Non-Hypotension  Non_isc-Non_Hypo  \n",
       "1527829     Non-ischemia  88.821111     Non-Hypotension  Non_isc-Non_Hypo  \n",
       "1527830     Non-ischemia  88.821111     Non-Hypotension  Non_isc-Non_Hypo  \n",
       "1527831     Non-ischemia  88.821111     Non-Hypotension  Non_isc-Non_Hypo  \n",
       "1527832     Non-ischemia  88.821111     Non-Hypotension  Non_isc-Non_Hypo  \n",
       "\n",
       "[1527833 rows x 39 columns]"
      ]
     },
     "execution_count": 3,
     "metadata": {},
     "output_type": "execute_result"
    }
   ],
   "source": [
    "dataset"
   ]
  },
  {
   "cell_type": "markdown",
   "metadata": {
    "id": "LELGXl8-E7M1"
   },
   "source": [
    "#Adding Class Column in Dataset"
   ]
  },
  {
   "cell_type": "code",
   "execution_count": 5,
   "metadata": {
    "colab": {
     "base_uri": "https://localhost:8080/"
    },
    "executionInfo": {
     "elapsed": 905056,
     "status": "ok",
     "timestamp": 1696504001543,
     "user": {
      "displayName": "Iqram Hussain",
      "userId": "06265911282756912793"
     },
     "user_tz": 240
    },
    "id": "E93fSWXICxD8",
    "outputId": "04a65afb-6c53-4d27-82c0-485f24bd7702",
    "tags": []
   },
   "outputs": [
    {
     "name": "stderr",
     "output_type": "stream",
     "text": [
      "C:\\Users\\Richard\\AppData\\Local\\Temp\\ipykernel_4364\\2162255413.py:13: SettingWithCopyWarning: \n",
      "A value is trying to be set on a copy of a slice from a DataFrame\n",
      "\n",
      "See the caveats in the documentation: https://pandas.pydata.org/pandas-docs/stable/user_guide/indexing.html#returning-a-view-versus-a-copy\n",
      "  dataset[\"Class\"][i]=\"Others\"\n",
      "C:\\Users\\Richard\\AppData\\Local\\Temp\\ipykernel_4364\\2162255413.py:9: SettingWithCopyWarning: \n",
      "A value is trying to be set on a copy of a slice from a DataFrame\n",
      "\n",
      "See the caveats in the documentation: https://pandas.pydata.org/pandas-docs/stable/user_guide/indexing.html#returning-a-view-versus-a-copy\n",
      "  dataset[\"Class\"][i]=\"Non_isc-Hypo\"\n",
      "C:\\Users\\Richard\\AppData\\Local\\Temp\\ipykernel_4364\\2162255413.py:5: SettingWithCopyWarning: \n",
      "A value is trying to be set on a copy of a slice from a DataFrame\n",
      "\n",
      "See the caveats in the documentation: https://pandas.pydata.org/pandas-docs/stable/user_guide/indexing.html#returning-a-view-versus-a-copy\n",
      "  dataset[\"Class\"][i]=\"Isc-Hypo\"\n",
      "C:\\Users\\Richard\\AppData\\Local\\Temp\\ipykernel_4364\\2162255413.py:7: SettingWithCopyWarning: \n",
      "A value is trying to be set on a copy of a slice from a DataFrame\n",
      "\n",
      "See the caveats in the documentation: https://pandas.pydata.org/pandas-docs/stable/user_guide/indexing.html#returning-a-view-versus-a-copy\n",
      "  dataset[\"Class\"][i]=\"Non_isc-Non_Hypo\"\n",
      "C:\\Users\\Richard\\AppData\\Local\\Temp\\ipykernel_4364\\2162255413.py:11: SettingWithCopyWarning: \n",
      "A value is trying to be set on a copy of a slice from a DataFrame\n",
      "\n",
      "See the caveats in the documentation: https://pandas.pydata.org/pandas-docs/stable/user_guide/indexing.html#returning-a-view-versus-a-copy\n",
      "  dataset[\"Class\"][i]=\"Isc-Non_Hypo\"\n"
     ]
    }
   ],
   "source": [
    "dataset[\"Class\"]=''\n",
    "\n",
    "for i in range(dataset.shape[0]):\n",
    "  if dataset[\"Ischemia_Status\"][i]==\"Ischemia\" and dataset[\"Hypotension_Status\"][i]==\"Hypotension\":\n",
    "    dataset[\"Class\"][i]=\"Isc-Hypo\"\n",
    "  elif dataset[\"Ischemia_Status\"][i]==\"Non-ischemia\" and dataset[\"Hypotension_Status\"][i]==\"Non-Hypotension\":\n",
    "        dataset[\"Class\"][i]=\"Non_isc-Non_Hypo\"\n",
    "  elif dataset[\"Ischemia_Status\"][i]==\"Non-ischemia\" and dataset[\"Hypotension_Status\"][i]==\"Hypotension\":\n",
    "        dataset[\"Class\"][i]=\"Non_isc-Hypo\"\n",
    "  elif dataset[\"Ischemia_Status\"][i]==\"Ischemia\" and dataset[\"Hypotension_Status\"][i]==\"Non-Hypotension\":\n",
    "        dataset[\"Class\"][i]=\"Isc-Non_Hypo\"\n",
    "  else:\n",
    "    dataset[\"Class\"][i]=\"Others\""
   ]
  },
  {
   "cell_type": "markdown",
   "metadata": {
    "id": "OLahTN13E-5C"
   },
   "source": [
    "#REmoving All Normal Classes"
   ]
  },
  {
   "cell_type": "code",
   "execution_count": 2,
   "metadata": {
    "executionInfo": {
     "elapsed": 625,
     "status": "ok",
     "timestamp": 1696504002161,
     "user": {
      "displayName": "Iqram Hussain",
      "userId": "06265911282756912793"
     },
     "user_tz": 240
    },
    "id": "iYXB6i--EpTr",
    "tags": []
   },
   "outputs": [],
   "source": [
    "dataset = dataset.query('Class != \"Others\"')\n",
    "classes = np.array(sorted(list(set(dataset[\"Class\"]))))"
   ]
  },
  {
   "cell_type": "code",
   "execution_count": 3,
   "metadata": {
    "colab": {
     "base_uri": "https://localhost:8080/"
    },
    "executionInfo": {
     "elapsed": 13,
     "status": "ok",
     "timestamp": 1696504002162,
     "user": {
      "displayName": "Iqram Hussain",
      "userId": "06265911282756912793"
     },
     "user_tz": 240
    },
    "id": "bwHY0-lKFNke",
    "outputId": "dcf40485-5593-4a2f-aee6-fda14f85394b",
    "tags": []
   },
   "outputs": [
    {
     "data": {
      "text/plain": [
       "array(['Isc-Hypo', 'Isc-Non_Hypo', 'Non_isc-Hypo', 'Non_isc-Non_Hypo'],\n",
       "      dtype='<U16')"
      ]
     },
     "execution_count": 3,
     "metadata": {},
     "output_type": "execute_result"
    }
   ],
   "source": [
    "classes"
   ]
  },
  {
   "cell_type": "markdown",
   "metadata": {
    "id": "TYPjepdeOsa1"
   },
   "source": [
    "#Handiling NaN Values"
   ]
  },
  {
   "cell_type": "code",
   "execution_count": 5,
   "metadata": {
    "colab": {
     "base_uri": "https://localhost:8080/"
    },
    "executionInfo": {
     "elapsed": 835,
     "status": "ok",
     "timestamp": 1696504002989,
     "user": {
      "displayName": "Iqram Hussain",
      "userId": "06265911282756912793"
     },
     "user_tz": 240
    },
    "id": "70bNDWmCdDIi",
    "outputId": "0de771b3-3b8a-4647-c0bf-4f7229f22451",
    "tags": []
   },
   "outputs": [
    {
     "data": {
      "text/plain": [
       "Case_ID                    0\n",
       "Segment                    0\n",
       "ST_II                   7028\n",
       "ART_MBP                    0\n",
       "ART_SBP                    0\n",
       "ART_DBP                    0\n",
       "Cycle                      0\n",
       "R_wave_amplitude       59959\n",
       "ΔR_wave_amplitude      59959\n",
       "R_wave_duration       417847\n",
       "ΔR_wave_duration      417847\n",
       "T_wave_amplitude      294009\n",
       "ΔT_wave_amplitude     294009\n",
       "T_wave_duration       312101\n",
       "ΔT_wave_duration      312101\n",
       "p_wave_duration       392323\n",
       "ΔP_wave_duration      392323\n",
       "S_wave_amplitude       92416\n",
       "ΔS_wave_amplitude      92416\n",
       "ST_amplitude          313831\n",
       "ΔST_amplitude         313831\n",
       "q_wave_amplitude      264762\n",
       "Δq_wave_amplitude     264762\n",
       "QT_interval           460355\n",
       "ΔQT_interval          460355\n",
       "Heart_rate                 0\n",
       "ΔHeart_rate                0\n",
       "J_point_amplitude     416386\n",
       "ΔJ_point_amplitude    416386\n",
       "ST_duration           416277\n",
       "ΔST_duration          416277\n",
       "ST_area               428212\n",
       "ΔST_area              428212\n",
       "ST_slope              701887\n",
       "ΔST_slope             701887\n",
       "Ischemia_Status            0\n",
       "ART_MAP                    0\n",
       "Hypotension_Status         0\n",
       "Class                      0\n",
       "dtype: int64"
      ]
     },
     "execution_count": 5,
     "metadata": {},
     "output_type": "execute_result"
    }
   ],
   "source": [
    "dataset.isnull().sum()"
   ]
  },
  {
   "cell_type": "code",
   "execution_count": 6,
   "metadata": {
    "colab": {
     "base_uri": "https://localhost:8080/",
     "height": 1000,
     "referenced_widgets": [
      "225c5271898d4155a1cd3b914db94527",
      "85f3f700358946a29f6bccbae94881fe",
      "f4c20a51c59f49aba3d5e511998765a8",
      "a50a48c3dcdc46fcb721fdbc001e9abb",
      "f8ed9d11a3af48d5b7b2882d3770099b",
      "fbf6461268594572935eef9521379e8d",
      "48308c5e5704445d830997491136f718",
      "b63a970e5731416db1119c17772d2f9f",
      "d233a209186c452f9df754ec9fef1421",
      "d338f625c81b4a8080c9005971f567e4",
      "a3a82935da614b9e9c296546062b4af1"
     ]
    },
    "executionInfo": {
     "elapsed": 894331,
     "status": "ok",
     "timestamp": 1696504897294,
     "user": {
      "displayName": "Iqram Hussain",
      "userId": "06265911282756912793"
     },
     "user_tz": 240
    },
    "id": "5hbCrq8eP-hG",
    "outputId": "2d56d29b-04c0-4e4c-af6c-faa61e6ab02b",
    "tags": []
   },
   "outputs": [
    {
     "data": {
      "application/vnd.jupyter.widget-view+json": {
       "model_id": "6672b8f96d234c4f95ceca436b0a4d2f",
       "version_major": 2,
       "version_minor": 0
      },
      "text/plain": [
       "  0%|          | 0/407 [00:00<?, ?it/s]"
      ]
     },
     "metadata": {},
     "output_type": "display_data"
    },
    {
     "name": "stdout",
     "output_type": "stream",
     "text": [
      "Case ID:  1\n",
      "Case ID:  4\n",
      "Case ID:  2055\n",
      "Case ID:  10\n",
      "Case ID:  2061\n",
      "Case ID:  2062\n",
      "Case ID:  2064\n",
      "Case ID:  17\n",
      "Case ID:  2066\n",
      "Case ID:  19\n",
      "Case ID:  20\n",
      "Case ID:  2068\n",
      "Case ID:  22\n",
      "Case ID:  2069\n",
      "Case ID:  25\n",
      "Case ID:  27\n",
      "Case ID:  28\n",
      "Case ID:  2082\n",
      "Case ID:  2088\n",
      "Case ID:  2098\n",
      "Case ID:  2100\n",
      "Case ID:  2106\n",
      "Case ID:  2130\n",
      "Case ID:  2132\n",
      "Case ID:  2134\n",
      "Case ID:  2136\n",
      "Case ID:  2147\n",
      "Case ID:  2149\n",
      "Case ID:  2153\n",
      "Case ID:  2154\n",
      "Case ID:  2161\n",
      "Case ID:  2164\n",
      "Case ID:  2165\n",
      "Case ID:  2168\n",
      "Case ID:  2169\n",
      "Case ID:  2172\n",
      "Case ID:  2174\n",
      "Case ID:  2182\n",
      "Case ID:  2183\n",
      "Case ID:  2185\n",
      "Case ID:  2194\n",
      "Case ID:  2197\n",
      "Case ID:  2206\n",
      "Case ID:  2210\n",
      "Case ID:  2220\n",
      "Case ID:  2225\n",
      "Case ID:  2229\n",
      "Case ID:  2238\n",
      "Case ID:  2243\n",
      "Case ID:  2246\n",
      "Case ID:  2252\n",
      "Case ID:  2258\n",
      "Case ID:  2267\n",
      "Case ID:  2280\n",
      "Case ID:  2300\n",
      "Case ID:  2304\n",
      "Case ID:  2307\n",
      "Case ID:  2310\n",
      "Case ID:  2312\n",
      "Case ID:  2318\n",
      "Case ID:  2321\n",
      "Case ID:  2323\n",
      "Case ID:  2324\n",
      "Case ID:  2326\n",
      "Case ID:  2331\n",
      "Case ID:  2332\n",
      "Case ID:  2333\n",
      "Case ID:  2336\n",
      "Case ID:  2339\n",
      "Case ID:  2340\n",
      "Case ID:  2346\n",
      "Case ID:  2348\n",
      "Case ID:  2349\n",
      "Case ID:  2352\n",
      "Case ID:  2353\n",
      "Case ID:  2354\n",
      "Case ID:  2356\n",
      "Case ID:  2359\n",
      "Case ID:  2373\n",
      "Case ID:  2375\n",
      "Case ID:  2380\n",
      "Case ID:  2392\n",
      "Case ID:  2393\n",
      "Case ID:  2401\n",
      "Case ID:  2416\n",
      "Case ID:  2420\n",
      "Case ID:  2421\n",
      "Case ID:  2424\n",
      "Case ID:  2433\n",
      "Case ID:  2441\n",
      "Case ID:  2443\n",
      "Case ID:  2445\n",
      "Case ID:  2446\n",
      "Case ID:  2447\n",
      "Case ID:  2453\n",
      "Case ID:  2455\n",
      "Case ID:  2458\n",
      "Case ID:  2462\n",
      "Case ID:  2470\n",
      "Case ID:  2480\n",
      "Case ID:  2487\n",
      "Case ID:  2489\n",
      "Case ID:  2493\n",
      "Case ID:  2501\n",
      "Case ID:  2504\n",
      "Case ID:  2508\n",
      "Case ID:  2516\n",
      "Case ID:  2523\n",
      "Case ID:  2527\n",
      "Case ID:  2537\n",
      "Case ID:  2544\n",
      "Case ID:  2547\n",
      "Case ID:  2568\n",
      "Case ID:  2578\n",
      "Case ID:  2580\n",
      "Case ID:  2584\n",
      "Case ID:  2587\n",
      "Case ID:  2594\n",
      "Case ID:  2595\n",
      "Case ID:  2601\n",
      "Case ID:  2605\n",
      "Case ID:  2606\n",
      "Case ID:  559\n",
      "Case ID:  2609\n",
      "Case ID:  562\n",
      "Case ID:  2611\n",
      "Case ID:  567\n",
      "Case ID:  568\n",
      "Case ID:  570\n",
      "Case ID:  2618\n",
      "Case ID:  2619\n",
      "Case ID:  575\n",
      "Case ID:  577\n",
      "Case ID:  584\n",
      "Case ID:  2636\n",
      "Case ID:  589\n",
      "Case ID:  596\n",
      "Case ID:  2645\n",
      "Case ID:  599\n",
      "Case ID:  603\n",
      "Case ID:  611\n",
      "Case ID:  617\n",
      "Case ID:  620\n",
      "Case ID:  626\n",
      "Case ID:  628\n",
      "Case ID:  629\n",
      "Case ID:  631\n",
      "Case ID:  634\n",
      "Case ID:  637\n",
      "Case ID:  644\n",
      "Case ID:  652\n",
      "Case ID:  666\n",
      "Case ID:  669\n",
      "Case ID:  673\n",
      "Case ID:  678\n",
      "Case ID:  683\n",
      "Case ID:  691\n",
      "Case ID:  697\n",
      "Case ID:  698\n",
      "Case ID:  699\n",
      "Case ID:  702\n",
      "Case ID:  706\n",
      "Case ID:  711\n",
      "Case ID:  719\n",
      "Case ID:  721\n",
      "Case ID:  725\n",
      "Case ID:  728\n",
      "Case ID:  730\n",
      "Case ID:  733\n",
      "Case ID:  740\n",
      "Case ID:  741\n",
      "Case ID:  743\n",
      "Case ID:  748\n",
      "Case ID:  750\n",
      "Case ID:  751\n",
      "Case ID:  752\n",
      "Case ID:  763\n",
      "Case ID:  764\n",
      "Case ID:  765\n",
      "Case ID:  767\n",
      "Case ID:  774\n",
      "Case ID:  775\n",
      "Case ID:  779\n",
      "Case ID:  802\n",
      "Case ID:  814\n",
      "Case ID:  815\n",
      "Case ID:  817\n",
      "Case ID:  818\n",
      "Case ID:  822\n",
      "Case ID:  841\n",
      "Case ID:  843\n",
      "Case ID:  846\n",
      "Case ID:  847\n",
      "Case ID:  851\n",
      "Case ID:  853\n",
      "Case ID:  866\n",
      "Case ID:  869\n",
      "Case ID:  872\n",
      "Case ID:  876\n",
      "Case ID:  885\n",
      "Case ID:  886\n",
      "Case ID:  907\n",
      "Case ID:  917\n",
      "Case ID:  920\n",
      "Case ID:  936\n",
      "Case ID:  937\n",
      "Case ID:  944\n",
      "Case ID:  947\n",
      "Case ID:  948\n",
      "Case ID:  963\n",
      "Case ID:  969\n",
      "Case ID:  971\n",
      "Case ID:  972\n",
      "Case ID:  976\n",
      "Case ID:  980\n",
      "Case ID:  984\n",
      "Case ID:  988\n",
      "Case ID:  992\n",
      "Case ID:  1004\n",
      "Case ID:  1005\n",
      "Case ID:  1010\n",
      "Case ID:  1013\n",
      "Case ID:  1016\n",
      "Case ID:  1018\n",
      "Case ID:  1022\n",
      "Case ID:  1025\n",
      "Case ID:  1026\n",
      "Case ID:  1027\n",
      "Case ID:  1030\n",
      "Case ID:  1031\n",
      "Case ID:  1037\n",
      "Case ID:  1038\n",
      "Case ID:  1039\n",
      "Case ID:  1040\n",
      "Case ID:  1044\n",
      "Case ID:  1046\n",
      "Case ID:  1052\n",
      "Case ID:  1056\n",
      "Case ID:  1063\n",
      "Case ID:  1069\n",
      "Case ID:  1073\n",
      "Case ID:  1076\n",
      "Case ID:  1081\n",
      "Case ID:  1086\n",
      "Case ID:  1093\n",
      "Case ID:  1094\n",
      "Case ID:  1095\n",
      "Case ID:  1096\n",
      "Case ID:  1109\n",
      "Case ID:  1113\n",
      "Case ID:  1118\n",
      "Case ID:  1121\n",
      "Case ID:  1123\n",
      "Case ID:  1124\n",
      "Case ID:  1125\n",
      "Case ID:  1131\n",
      "Case ID:  1132\n",
      "Case ID:  1145\n",
      "Case ID:  1153\n",
      "Case ID:  1160\n",
      "Case ID:  1170\n",
      "Case ID:  1176\n",
      "Case ID:  1182\n",
      "Case ID:  1184\n",
      "Case ID:  1185\n",
      "Case ID:  1189\n",
      "Case ID:  1191\n",
      "Case ID:  1230\n",
      "Case ID:  1231\n",
      "Case ID:  1236\n",
      "Case ID:  1239\n",
      "Case ID:  1246\n",
      "Case ID:  1248\n",
      "Case ID:  1256\n",
      "Case ID:  1261\n",
      "Case ID:  1263\n",
      "Case ID:  1272\n",
      "Case ID:  1290\n",
      "Case ID:  1291\n",
      "Case ID:  1292\n",
      "Case ID:  1293\n",
      "Case ID:  1298\n",
      "Case ID:  1305\n",
      "Case ID:  1309\n",
      "Case ID:  1313\n",
      "Case ID:  1316\n",
      "Case ID:  1320\n",
      "Case ID:  1321\n",
      "Case ID:  1323\n",
      "Case ID:  1324\n",
      "Case ID:  1325\n",
      "Case ID:  1331\n",
      "Case ID:  1342\n",
      "Case ID:  1344\n",
      "Case ID:  1347\n",
      "Case ID:  1350\n",
      "Case ID:  1352\n",
      "Case ID:  1353\n",
      "Case ID:  1367\n",
      "Case ID:  1368\n",
      "Case ID:  1389\n",
      "Case ID:  1396\n",
      "Case ID:  1397\n",
      "Case ID:  1399\n",
      "Case ID:  1403\n",
      "Case ID:  1404\n",
      "Case ID:  1407\n",
      "Case ID:  1408\n",
      "Case ID:  1413\n",
      "Case ID:  1422\n",
      "Case ID:  1426\n",
      "Case ID:  1432\n",
      "Case ID:  1434\n",
      "Case ID:  1436\n",
      "Case ID:  1442\n",
      "Case ID:  1451\n",
      "Case ID:  1454\n",
      "Case ID:  1459\n",
      "Case ID:  1468\n",
      "Case ID:  1469\n",
      "Case ID:  1474\n",
      "Case ID:  1475\n",
      "Case ID:  1479\n",
      "Case ID:  1485\n",
      "Case ID:  1486\n",
      "Case ID:  1487\n",
      "Case ID:  1489\n",
      "Case ID:  1492\n",
      "Case ID:  1493\n",
      "Case ID:  1498\n",
      "Case ID:  1515\n",
      "Case ID:  1520\n",
      "Case ID:  1521\n",
      "Case ID:  1523\n",
      "Case ID:  1525\n",
      "Case ID:  1527\n",
      "Case ID:  1530\n",
      "Case ID:  1536\n",
      "Case ID:  1539\n",
      "Case ID:  1540\n",
      "Case ID:  1543\n",
      "Case ID:  1548\n",
      "Case ID:  1549\n",
      "Case ID:  1556\n",
      "Case ID:  1558\n",
      "Case ID:  1562\n",
      "Case ID:  1564\n",
      "Case ID:  1580\n",
      "Case ID:  1583\n",
      "Case ID:  1586\n",
      "Case ID:  1590\n",
      "Case ID:  1595\n",
      "Case ID:  1599\n",
      "Case ID:  1602\n",
      "Case ID:  1605\n",
      "Case ID:  1610\n",
      "Case ID:  1616\n",
      "Case ID:  1620\n",
      "Case ID:  1623\n",
      "Case ID:  1627\n",
      "Case ID:  1630\n",
      "Case ID:  1633\n",
      "Case ID:  1640\n",
      "Case ID:  1642\n",
      "Case ID:  1652\n",
      "Case ID:  1657\n",
      "Case ID:  1666\n",
      "Case ID:  1668\n",
      "Case ID:  1671\n",
      "Case ID:  1672\n",
      "Case ID:  1673\n",
      "Case ID:  1674\n",
      "Case ID:  1681\n",
      "Case ID:  1696\n",
      "Case ID:  1703\n",
      "Case ID:  1705\n",
      "Case ID:  1706\n",
      "Case ID:  1708\n",
      "Case ID:  1718\n",
      "Case ID:  1729\n",
      "Case ID:  1730\n",
      "Case ID:  1733\n",
      "Case ID:  1737\n",
      "Case ID:  1743\n",
      "Case ID:  1747\n",
      "Case ID:  1752\n",
      "Case ID:  1768\n",
      "Case ID:  1771\n",
      "Case ID:  1937\n",
      "Case ID:  1941\n",
      "Case ID:  1948\n",
      "Case ID:  1950\n",
      "Case ID:  1956\n",
      "Case ID:  1961\n",
      "Case ID:  1963\n",
      "Case ID:  1969\n",
      "Case ID:  1976\n",
      "Case ID:  1984\n",
      "Case ID:  1986\n",
      "Case ID:  2000\n",
      "Case ID:  2004\n",
      "Case ID:  2011\n",
      "Case ID:  2014\n",
      "Case ID:  2016\n",
      "Case ID:  2018\n",
      "Case ID:  2028\n",
      "Case ID:  2041\n"
     ]
    }
   ],
   "source": [
    "for case_id in tqdm((list(set(dataset[\"Case_ID\"])))):\n",
    "\n",
    "    print(\"Case ID: \",case_id)\n",
    "    temp_pos = dataset.query('Case_ID =='+str(case_id)+' and Class == \"Isc-Hypo\"')\n",
    "    nan_col_pos = temp_pos.columns[temp_pos.isna().any()].tolist()\n",
    "\n",
    "    for k in nan_col_pos:\n",
    "      dataset.loc[(dataset['Case_ID']==case_id)& (dataset['Class'] == \"Isc-Hypo\") & (np.isnan(dataset[k])),k]=temp_pos[k].mean()\n",
    "\n",
    "\n",
    "\n",
    "    temp_neg = dataset.query('Case_ID =='+str(case_id)+' and Class == \"Non_isc-Hypo\"')\n",
    "    nan_col_neg = temp_neg.columns[temp_neg.isna().any()].tolist()\n",
    "\n",
    "    for k in nan_col_neg:\n",
    "      dataset.loc[(dataset['Case_ID']==case_id)& (dataset['Class'] == \"Non_isc-Hypo\") & (np.isnan(dataset[k])),k]=temp_neg[k].mean()\n"
   ]
  },
  {
   "cell_type": "code",
   "execution_count": 7,
   "metadata": {
    "colab": {
     "base_uri": "https://localhost:8080/"
    },
    "executionInfo": {
     "elapsed": 319,
     "status": "ok",
     "timestamp": 1696504897605,
     "user": {
      "displayName": "Iqram Hussain",
      "userId": "06265911282756912793"
     },
     "user_tz": 240
    },
    "id": "SlWV61adRPm6",
    "outputId": "9f4b9d5e-b145-4d2a-b3b7-10c757742c03",
    "tags": []
   },
   "outputs": [
    {
     "data": {
      "text/plain": [
       "Case_ID                    0\n",
       "Segment                    0\n",
       "ST_II                   6403\n",
       "ART_MBP                    0\n",
       "ART_SBP                    0\n",
       "ART_DBP                    0\n",
       "Cycle                      0\n",
       "R_wave_amplitude       48210\n",
       "ΔR_wave_amplitude      48210\n",
       "R_wave_duration       362917\n",
       "ΔR_wave_duration      362917\n",
       "T_wave_amplitude      246513\n",
       "ΔT_wave_amplitude     246513\n",
       "T_wave_duration       262405\n",
       "ΔT_wave_duration      262405\n",
       "p_wave_duration       336374\n",
       "ΔP_wave_duration      336374\n",
       "S_wave_amplitude       76781\n",
       "ΔS_wave_amplitude      76781\n",
       "ST_amplitude          263573\n",
       "ΔST_amplitude         263573\n",
       "q_wave_amplitude      230136\n",
       "Δq_wave_amplitude     230136\n",
       "QT_interval           390247\n",
       "ΔQT_interval          390247\n",
       "Heart_rate                 0\n",
       "ΔHeart_rate                0\n",
       "J_point_amplitude     354038\n",
       "ΔJ_point_amplitude    354038\n",
       "ST_duration           353951\n",
       "ΔST_duration          353951\n",
       "ST_area               364635\n",
       "ΔST_area              364635\n",
       "ST_slope              593105\n",
       "ΔST_slope             593105\n",
       "Ischemia_Status            0\n",
       "ART_MAP                    0\n",
       "Hypotension_Status         0\n",
       "Class                      0\n",
       "dtype: int64"
      ]
     },
     "execution_count": 7,
     "metadata": {},
     "output_type": "execute_result"
    }
   ],
   "source": [
    "dataset.isnull().sum()"
   ]
  },
  {
   "cell_type": "code",
   "execution_count": 8,
   "metadata": {
    "executionInfo": {
     "elapsed": 741,
     "status": "ok",
     "timestamp": 1696504898341,
     "user": {
      "displayName": "Iqram Hussain",
      "userId": "06265911282756912793"
     },
     "user_tz": 240
    },
    "id": "XE9mWyw1kNqv",
    "tags": []
   },
   "outputs": [],
   "source": [
    "dataset = dataset.dropna(axis=0, how='any')"
   ]
  },
  {
   "cell_type": "markdown",
   "metadata": {
    "id": "d6m9ZYoqOqNm"
   },
   "source": [
    "#Encoding"
   ]
  },
  {
   "cell_type": "code",
   "execution_count": 9,
   "metadata": {
    "colab": {
     "base_uri": "https://localhost:8080/"
    },
    "executionInfo": {
     "elapsed": 11,
     "status": "ok",
     "timestamp": 1696504898342,
     "user": {
      "displayName": "Iqram Hussain",
      "userId": "06265911282756912793"
     },
     "user_tz": 240
    },
    "id": "KREUJoIVFveq",
    "outputId": "8a5f99ba-5c32-43fa-9d63-6a9717157a5f",
    "tags": []
   },
   "outputs": [
    {
     "data": {
      "text/plain": [
       "Non_isc-Non_Hypo    465861\n",
       "Non_isc-Hypo        176285\n",
       "Isc-Non_Hypo         70672\n",
       "Isc-Hypo             34755\n",
       "Name: Class, dtype: int64"
      ]
     },
     "execution_count": 9,
     "metadata": {},
     "output_type": "execute_result"
    }
   ],
   "source": [
    "dataset[\"Class\"].value_counts()"
   ]
  },
  {
   "cell_type": "code",
   "execution_count": 10,
   "metadata": {
    "executionInfo": {
     "elapsed": 1378,
     "status": "ok",
     "timestamp": 1696504899715,
     "user": {
      "displayName": "Iqram Hussain",
      "userId": "06265911282756912793"
     },
     "user_tz": 240
    },
    "id": "Ljyj9yuIf-tX",
    "tags": []
   },
   "outputs": [],
   "source": [
    "from sklearn.preprocessing import LabelEncoder\n",
    "encoder=LabelEncoder()\n",
    "dataset[\"Class\"]=encoder.fit_transform(dataset[\"Class\"])"
   ]
  },
  {
   "cell_type": "code",
   "execution_count": 26,
   "metadata": {
    "colab": {
     "base_uri": "https://localhost:8080/"
    },
    "executionInfo": {
     "elapsed": 12,
     "status": "ok",
     "timestamp": 1696504899715,
     "user": {
      "displayName": "Iqram Hussain",
      "userId": "06265911282756912793"
     },
     "user_tz": 240
    },
    "id": "42si00q3SLh5",
    "outputId": "7ff12bd4-538e-4f22-bb5d-63ec4c69dc45",
    "tags": []
   },
   "outputs": [
    {
     "data": {
      "text/plain": [
       "3    465861\n",
       "2    176285\n",
       "1     70672\n",
       "0     34755\n",
       "Name: Class, dtype: int64"
      ]
     },
     "execution_count": 26,
     "metadata": {},
     "output_type": "execute_result"
    }
   ],
   "source": [
    "dataset[\"Class\"].value_counts()"
   ]
  },
  {
   "cell_type": "code",
   "execution_count": 27,
   "metadata": {
    "colab": {
     "base_uri": "https://localhost:8080/"
    },
    "executionInfo": {
     "elapsed": 19220,
     "status": "ok",
     "timestamp": 1696504918927,
     "user": {
      "displayName": "Iqram Hussain",
      "userId": "06265911282756912793"
     },
     "user_tz": 240
    },
    "id": "MdUB8DMl3LwH",
    "outputId": "411a9b93-83be-4b0d-db8a-326618ecd2aa",
    "tags": []
   },
   "outputs": [
    {
     "name": "stdout",
     "output_type": "stream",
     "text": [
      "Requirement already satisfied: ipywidgets in c:\\users\\razer\\anaconda3\\envs\\titanoboa\\lib\\site-packages (8.0.4)\n",
      "Requirement already satisfied: jupyterlab-widgets~=3.0 in c:\\users\\razer\\anaconda3\\envs\\titanoboa\\lib\\site-packages (from ipywidgets) (3.0.5)\n",
      "Requirement already satisfied: ipykernel>=4.5.1 in c:\\users\\razer\\anaconda3\\envs\\titanoboa\\lib\\site-packages (from ipywidgets) (6.19.2)\n",
      "Requirement already satisfied: widgetsnbextension~=4.0 in c:\\users\\razer\\anaconda3\\envs\\titanoboa\\lib\\site-packages (from ipywidgets) (4.0.5)\n",
      "Requirement already satisfied: traitlets>=4.3.1 in c:\\users\\razer\\anaconda3\\envs\\titanoboa\\lib\\site-packages (from ipywidgets) (5.7.1)\n",
      "Requirement already satisfied: ipython>=6.1.0 in c:\\users\\razer\\anaconda3\\envs\\titanoboa\\lib\\site-packages (from ipywidgets) (8.7.0)\n",
      "Requirement already satisfied: debugpy>=1.0 in c:\\users\\razer\\anaconda3\\envs\\titanoboa\\lib\\site-packages (from ipykernel>=4.5.1->ipywidgets) (1.5.1)\n",
      "Requirement already satisfied: packaging in c:\\users\\razer\\anaconda3\\envs\\titanoboa\\lib\\site-packages (from ipykernel>=4.5.1->ipywidgets) (22.0)\n",
      "Requirement already satisfied: tornado>=6.1 in c:\\users\\razer\\anaconda3\\envs\\titanoboa\\lib\\site-packages (from ipykernel>=4.5.1->ipywidgets) (6.2)\n",
      "Requirement already satisfied: psutil in c:\\users\\razer\\anaconda3\\envs\\titanoboa\\lib\\site-packages (from ipykernel>=4.5.1->ipywidgets) (5.9.0)\n",
      "Requirement already satisfied: pyzmq>=17 in c:\\users\\razer\\anaconda3\\envs\\titanoboa\\lib\\site-packages (from ipykernel>=4.5.1->ipywidgets) (23.2.0)\n",
      "Requirement already satisfied: comm>=0.1.1 in c:\\users\\razer\\anaconda3\\envs\\titanoboa\\lib\\site-packages (from ipykernel>=4.5.1->ipywidgets) (0.1.2)\n",
      "Requirement already satisfied: nest-asyncio in c:\\users\\razer\\anaconda3\\envs\\titanoboa\\lib\\site-packages (from ipykernel>=4.5.1->ipywidgets) (1.5.6)\n",
      "Requirement already satisfied: jupyter-client>=6.1.12 in c:\\users\\razer\\anaconda3\\envs\\titanoboa\\lib\\site-packages (from ipykernel>=4.5.1->ipywidgets) (7.4.8)\n",
      "Requirement already satisfied: matplotlib-inline>=0.1 in c:\\users\\razer\\anaconda3\\envs\\titanoboa\\lib\\site-packages (from ipykernel>=4.5.1->ipywidgets) (0.1.6)\n",
      "Requirement already satisfied: decorator in c:\\users\\razer\\anaconda3\\envs\\titanoboa\\lib\\site-packages (from ipython>=6.1.0->ipywidgets) (5.1.1)\n",
      "Requirement already satisfied: backcall in c:\\users\\razer\\anaconda3\\envs\\titanoboa\\lib\\site-packages (from ipython>=6.1.0->ipywidgets) (0.2.0)\n",
      "Requirement already satisfied: jedi>=0.16 in c:\\users\\razer\\anaconda3\\envs\\titanoboa\\lib\\site-packages (from ipython>=6.1.0->ipywidgets) (0.18.1)\n",
      "Requirement already satisfied: stack-data in c:\\users\\razer\\anaconda3\\envs\\titanoboa\\lib\\site-packages (from ipython>=6.1.0->ipywidgets) (0.2.0)\n",
      "Requirement already satisfied: colorama in c:\\users\\razer\\anaconda3\\envs\\titanoboa\\lib\\site-packages (from ipython>=6.1.0->ipywidgets) (0.4.6)\n",
      "Requirement already satisfied: prompt-toolkit<3.1.0,>=3.0.11 in c:\\users\\razer\\anaconda3\\envs\\titanoboa\\lib\\site-packages (from ipython>=6.1.0->ipywidgets) (3.0.36)\n",
      "Requirement already satisfied: pickleshare in c:\\users\\razer\\anaconda3\\envs\\titanoboa\\lib\\site-packages (from ipython>=6.1.0->ipywidgets) (0.7.5)\n",
      "Requirement already satisfied: pygments>=2.4.0 in c:\\users\\razer\\anaconda3\\envs\\titanoboa\\lib\\site-packages (from ipython>=6.1.0->ipywidgets) (2.11.2)\n",
      "Requirement already satisfied: parso<0.9.0,>=0.8.0 in c:\\users\\razer\\anaconda3\\envs\\titanoboa\\lib\\site-packages (from jedi>=0.16->ipython>=6.1.0->ipywidgets) (0.8.3)\n",
      "Requirement already satisfied: python-dateutil>=2.8.2 in c:\\users\\razer\\anaconda3\\envs\\titanoboa\\lib\\site-packages (from jupyter-client>=6.1.12->ipykernel>=4.5.1->ipywidgets) (2.8.2)\n",
      "Requirement already satisfied: jupyter-core>=4.9.2 in c:\\users\\razer\\anaconda3\\envs\\titanoboa\\lib\\site-packages (from jupyter-client>=6.1.12->ipykernel>=4.5.1->ipywidgets) (5.1.1)\n",
      "Requirement already satisfied: entrypoints in c:\\users\\razer\\anaconda3\\envs\\titanoboa\\lib\\site-packages (from jupyter-client>=6.1.12->ipykernel>=4.5.1->ipywidgets) (0.4)\n",
      "Requirement already satisfied: wcwidth in c:\\users\\razer\\anaconda3\\envs\\titanoboa\\lib\\site-packages (from prompt-toolkit<3.1.0,>=3.0.11->ipython>=6.1.0->ipywidgets) (0.2.5)\n",
      "Requirement already satisfied: executing in c:\\users\\razer\\anaconda3\\envs\\titanoboa\\lib\\site-packages (from stack-data->ipython>=6.1.0->ipywidgets) (0.8.3)\n",
      "Requirement already satisfied: asttokens in c:\\users\\razer\\anaconda3\\envs\\titanoboa\\lib\\site-packages (from stack-data->ipython>=6.1.0->ipywidgets) (2.0.5)\n",
      "Requirement already satisfied: pure-eval in c:\\users\\razer\\anaconda3\\envs\\titanoboa\\lib\\site-packages (from stack-data->ipython>=6.1.0->ipywidgets) (0.2.2)\n",
      "Requirement already satisfied: pywin32>=1.0 in c:\\users\\razer\\anaconda3\\envs\\titanoboa\\lib\\site-packages (from jupyter-core>=4.9.2->jupyter-client>=6.1.12->ipykernel>=4.5.1->ipywidgets) (305.1)\n",
      "Requirement already satisfied: platformdirs>=2.5 in c:\\users\\razer\\anaconda3\\envs\\titanoboa\\lib\\site-packages (from jupyter-core>=4.9.2->jupyter-client>=6.1.12->ipykernel>=4.5.1->ipywidgets) (2.5.2)\n",
      "Requirement already satisfied: six>=1.5 in c:\\users\\razer\\anaconda3\\envs\\titanoboa\\lib\\site-packages (from python-dateutil>=2.8.2->jupyter-client>=6.1.12->ipykernel>=4.5.1->ipywidgets) (1.16.0)\n",
      "Requirement already satisfied: IPython in c:\\users\\razer\\anaconda3\\envs\\titanoboa\\lib\\site-packages (8.7.0)\n",
      "Requirement already satisfied: pickleshare in c:\\users\\razer\\anaconda3\\envs\\titanoboa\\lib\\site-packages (from IPython) (0.7.5)\n",
      "Requirement already satisfied: decorator in c:\\users\\razer\\anaconda3\\envs\\titanoboa\\lib\\site-packages (from IPython) (5.1.1)\n",
      "Requirement already satisfied: stack-data in c:\\users\\razer\\anaconda3\\envs\\titanoboa\\lib\\site-packages (from IPython) (0.2.0)\n",
      "Requirement already satisfied: jedi>=0.16 in c:\\users\\razer\\anaconda3\\envs\\titanoboa\\lib\\site-packages (from IPython) (0.18.1)\n",
      "Requirement already satisfied: backcall in c:\\users\\razer\\anaconda3\\envs\\titanoboa\\lib\\site-packages (from IPython) (0.2.0)\n",
      "Requirement already satisfied: colorama in c:\\users\\razer\\anaconda3\\envs\\titanoboa\\lib\\site-packages (from IPython) (0.4.6)\n",
      "Requirement already satisfied: matplotlib-inline in c:\\users\\razer\\anaconda3\\envs\\titanoboa\\lib\\site-packages (from IPython) (0.1.6)\n",
      "Requirement already satisfied: pygments>=2.4.0 in c:\\users\\razer\\anaconda3\\envs\\titanoboa\\lib\\site-packages (from IPython) (2.11.2)\n",
      "Requirement already satisfied: prompt-toolkit<3.1.0,>=3.0.11 in c:\\users\\razer\\anaconda3\\envs\\titanoboa\\lib\\site-packages (from IPython) (3.0.36)\n",
      "Requirement already satisfied: traitlets>=5 in c:\\users\\razer\\anaconda3\\envs\\titanoboa\\lib\\site-packages (from IPython) (5.7.1)\n",
      "Requirement already satisfied: parso<0.9.0,>=0.8.0 in c:\\users\\razer\\anaconda3\\envs\\titanoboa\\lib\\site-packages (from jedi>=0.16->IPython) (0.8.3)\n",
      "Requirement already satisfied: wcwidth in c:\\users\\razer\\anaconda3\\envs\\titanoboa\\lib\\site-packages (from prompt-toolkit<3.1.0,>=3.0.11->IPython) (0.2.5)\n",
      "Requirement already satisfied: pure-eval in c:\\users\\razer\\anaconda3\\envs\\titanoboa\\lib\\site-packages (from stack-data->IPython) (0.2.2)\n",
      "Requirement already satisfied: executing in c:\\users\\razer\\anaconda3\\envs\\titanoboa\\lib\\site-packages (from stack-data->IPython) (0.8.3)\n",
      "Requirement already satisfied: asttokens in c:\\users\\razer\\anaconda3\\envs\\titanoboa\\lib\\site-packages (from stack-data->IPython) (2.0.5)\n",
      "Requirement already satisfied: six in c:\\users\\razer\\anaconda3\\envs\\titanoboa\\lib\\site-packages (from asttokens->stack-data->IPython) (1.16.0)\n",
      "Requirement already satisfied: graphviz in c:\\users\\razer\\anaconda3\\envs\\titanoboa\\lib\\site-packages (0.20.1)\n"
     ]
    }
   ],
   "source": [
    "\n",
    "!pip install ipywidgets\n",
    "!pip install IPython\n",
    "!pip install graphviz\n",
    "\n",
    "import ipywidgets as widgets\n",
    "from IPython.display import display\n",
    "import seaborn as sns\n",
    "import sklearn.metrics as sm\n",
    "import matplotlib.pyplot as plt\n",
    "from sklearn import tree\n",
    "import pandas as pd"
   ]
  },
  {
   "cell_type": "code",
   "execution_count": 28,
   "metadata": {
    "executionInfo": {
     "elapsed": 32,
     "status": "ok",
     "timestamp": 1696504918928,
     "user": {
      "displayName": "Iqram Hussain",
      "userId": "06265911282756912793"
     },
     "user_tz": 240
    },
    "id": "_J7P9zURkGtB",
    "tags": []
   },
   "outputs": [],
   "source": [
    "\n",
    "def items_check_box(items):\n",
    "  new_keys=[]\n",
    "  for i in items:\n",
    "    i=widgets.Checkbox(\n",
    "      value=False,\n",
    "      description=str(i),\n",
    "      disabled=False,\n",
    "      indent=False\n",
    "      )\n",
    "    display(i)\n",
    "    new_keys.append(i)\n",
    "  return new_keys\n",
    "result={}\n"
   ]
  },
  {
   "cell_type": "code",
   "execution_count": 29,
   "metadata": {
    "executionInfo": {
     "elapsed": 30,
     "status": "ok",
     "timestamp": 1696504918929,
     "user": {
      "displayName": "Iqram Hussain",
      "userId": "06265911282756912793"
     },
     "user_tz": 240
    },
    "id": "M92GLyye2_AM",
    "tags": []
   },
   "outputs": [],
   "source": [
    "def models_check_box(models):\n",
    "  import ipywidgets as widgets\n",
    "  from IPython.display import display\n",
    "  new_keys=[]\n",
    "  for i in models:\n",
    "    i=widgets.Checkbox(\n",
    "      value=False,\n",
    "      description=str(i),\n",
    "      disabled=False,\n",
    "      indent=False\n",
    "      )\n",
    "    display(i)\n",
    "    new_keys.append(i)\n",
    "  return new_keys"
   ]
  },
  {
   "cell_type": "code",
   "execution_count": 16,
   "metadata": {
    "colab": {
     "base_uri": "https://localhost:8080/",
     "height": 1000,
     "referenced_widgets": [
      "3a2a6cada0d64db2bab827eb7ef1a5e6",
      "401ef345c3c341f78a89076c077508ec",
      "b64d6a9929674d81a4a44e479b64be44",
      "6328a45e4889493c850304d73ca531bd",
      "47c446a74e2842d7b1f73ab1ec78e477",
      "8dcb7cb82a7c421f918b12227e24e99a",
      "d1f15e039d9f42b3bb5f97dbc866f2b1",
      "7ed4093e26e149bf82a2eab95d43beeb",
      "4e04a384dd6842c0800d9d3f212968b4",
      "293f5e002bb646708ae222048545c1ba",
      "66ad9c2e84b94c11ae8a3d720405b4e2",
      "15ec7e5b7ba74353ae27bceb56bdb545",
      "b24c3a977965490eb20c4c65b78b16ba",
      "1bbcc7ca95e84220a0a7ee35295a070f",
      "0dbe98b8a9d040cb81cccc11cc1c8028",
      "2008009a11af48558957655fac2de658",
      "15e14e28a3604cc28781269a29134d5c",
      "8afbf61f4afe4ffaafe0f71c12fe6fda",
      "15c3ce9ce0b5492d97bb9d17406b3ffa",
      "fc91c9f584d0404f88c1f51c28856e6a",
      "b95b9967178c4955a3020a6466dff996",
      "cfd0cdfa656948d097b117e344689e2a",
      "cac82b37eb3f4c14a57110e5d607c0a8",
      "27958fb4be034566a1b72d2e6e42a944",
      "2b85fa124784471b857aa9f4a131f03d",
      "4baa0b78466d45519ecd44242bef214e",
      "65e39f84fefa4cd3ada947525085aac7",
      "afbdd352b46e42048d35f804637470a9",
      "a721747bc5d24264bbda6ba8909a2224",
      "f08e369bafc34180bf9c1d893d7f1feb",
      "9817b83f0466457b8f3c660c15d45ffa",
      "455b823039d54682b0914c7faae9d1f4",
      "529797b4feb24fdfb4617fdcf10f8e0d",
      "4fa26054375747eabfa2a2cc42513ecc",
      "548bd6ab38764f51b300105d94e37180",
      "c887167d909749919adca74612df8932",
      "2d1b03d18efe4db2b5548faea5b6be62",
      "11b4737a43084f45a79cfad5284aaf77",
      "1f98e36408b64422a71012ab805a25ab",
      "464b799acaa248e4a578e35ffafdce71",
      "d9e62e9e2f304869b5f7035e7b275c85",
      "35f81bf04ce5484eb87e00c03cfeedd0",
      "f6700e319dc04a6b86a55e54f29960b3",
      "9a8fc12b64924fc589eed9ca9a1de2c0",
      "a808c84b8d444409ab0e5867273412d8",
      "e23c53626b6b468fa4937bf9f7412181",
      "1bf9ba90695e4c81935441f5c64c0f3b",
      "127ed13148bf421199d4fda17c3b2bca",
      "c3154ee6b12e46c9b9fe0d761aba1d87",
      "11919a7786274255a191047bd7169523",
      "9625a3b66b114df3a0e75933dff168e0",
      "ab8a6f5516024a9bbc1a5fda3782108a",
      "47e06060a1ee47b2a340678ed8f84024",
      "e54215825b944294bbf4fe5c90549b6e",
      "67f652b5d373413f9b3b38cc41b49808",
      "2658da33ac9c4e308dcd28909ee37de7",
      "5f5d4fe139a9412b95d677abf52e9e94",
      "aa6b1aa856e54c2297bda9ceb7160abf",
      "ed3fba12cb694a38a55c3ef74d4bf2a8",
      "7790f205a80247d0a312b01522fb18af",
      "c4f043c5e6a44330ab1ed93634f1b081",
      "2bada28024d54e3ea277521b543fa3de",
      "b0b06478d82e4f78b9c6b89b113a8af3",
      "f09d14b2cd8448668a1ec9ae6152ce8f",
      "34641228e3264b898e9e2fbd79bf6227",
      "40ba6d55b9a94ebaa272ea83049283d6",
      "f5e9749c4a164d0f95f5bb3eab9f71aa",
      "143dee602a3c490d9bb7dfc384ce0515",
      "ff8c20f0e2af4312b6ebb5955f9c43fb",
      "07d2125a2b214a0481fd8baf4d725d6f",
      "b5d151c40655450f8ee881f2e893beb4",
      "dbe4e81fc987416992112b491a4cda03",
      "152622efe56842d5ae648d683a07aadb",
      "abbadbbfd0db429483f02461096ce4c2",
      "ac786a13dcb7420082b7379c6ecda854",
      "d0e052267d914279a77b8e776ec2f457",
      "eb4dbd2be5024c2b86b8c897a00ea1fa",
      "59e16cec6cb844b1a6f968c8d75ab900",
      "cbc8e042c6f642ab8471a4556ac2f199",
      "a72636761d5649fd941bf0f1e58ec218",
      "a75c492e89d24646bb7e1d2b202bb9ea",
      "d6c4722d20314813bf6cb56de655c27e",
      "98e0272db8d8434584254c91b53e7e94",
      "611654e3aca640d3b6e5b3850a02ef10",
      "7680d516b912459bb0b2dc89da7b9c92",
      "5d55f119b7004c99a4c42d013581cffd",
      "4cc89bb1b7c94572b1f767092160af10",
      "21f18736689d4a5a88b74a996f4fd064",
      "087d77e0be5449a9b6774be0911fb966",
      "bda70d1aa02c43deb2ef475e206b385c",
      "f5126b9c1b1a47e7be45f575fcb64a59",
      "fbc315d5658b43f3a0c31ce04065a52f",
      "4f7d6694cb1142b1b5bff501368b2bac",
      "002d2800f5e74716b97190d713a2877a",
      "5680dec64e414390a9850df2f6187ed4",
      "5af89a66dafc45849ea619f8e3c28233",
      "2536f1900cb44949955d568e52c190e7",
      "027c0cb2d5d64755a5582107161f8b44",
      "efa9cbbcda0c4b098b584042373b60ac",
      "9006a2e3e0fa417aa3ac33b01254886b",
      "6e4e2edb34934203943980bf58bd6557",
      "8c60a22786a04132b179540990eff989",
      "dc5028b44334402c940beac7174cdf6b",
      "a8399e99f5554323b91effc723320188",
      "a98e52df9956470284e34eaa3e2c2361",
      "1d31f4b0b2f641858191c77030e4163c",
      "327b33b2fb3f4166a126b90e465cea49",
      "6b91a44fece949a69c229db9bd57528a",
      "aa5925f029b845a788d29fea30dc5404",
      "c7a64185516e464fb02c468966e5f441",
      "5d0ea73bd17448539142c9c21bfb7d05",
      "d7c0976d1c6247f2885539dcaaa96e9a",
      "47958739319e4c21936350bb66a26a8f",
      "ec72e9dd31bb4139b3488d86583fb857",
      "54379e60b47746d781a331c8e1ef4a2e",
      "621d05bb94664fdfb90fbc7a7e2e4895",
      "e97b0246d2c94c5b83824bbb5fb84f6a"
     ]
    },
    "executionInfo": {
     "elapsed": 974,
     "status": "ok",
     "timestamp": 1696505173119,
     "user": {
      "displayName": "Iqram Hussain",
      "userId": "06265911282756912793"
     },
     "user_tz": 240
    },
    "id": "Z_7bUGiXj58N",
    "outputId": "b4248a0e-97e3-4e8f-a549-b77f60c883f9",
    "tags": []
   },
   "outputs": [
    {
     "data": {
      "application/vnd.jupyter.widget-view+json": {
       "model_id": "dd49446530d548db9a45cba634975750",
       "version_major": 2,
       "version_minor": 0
      },
      "text/plain": [
       "Checkbox(value=False, description='Case_ID', indent=False)"
      ]
     },
     "metadata": {},
     "output_type": "display_data"
    },
    {
     "data": {
      "application/vnd.jupyter.widget-view+json": {
       "model_id": "6e167d2440da4fe0827e7cbc62aa2a4d",
       "version_major": 2,
       "version_minor": 0
      },
      "text/plain": [
       "Checkbox(value=False, description='Segment', indent=False)"
      ]
     },
     "metadata": {},
     "output_type": "display_data"
    },
    {
     "data": {
      "application/vnd.jupyter.widget-view+json": {
       "model_id": "cab1a09b244e4ee4bb6e3c482da8fb59",
       "version_major": 2,
       "version_minor": 0
      },
      "text/plain": [
       "Checkbox(value=False, description='ST_II', indent=False)"
      ]
     },
     "metadata": {},
     "output_type": "display_data"
    },
    {
     "data": {
      "application/vnd.jupyter.widget-view+json": {
       "model_id": "94b1da72505441be9a5fe3f2b7fb9334",
       "version_major": 2,
       "version_minor": 0
      },
      "text/plain": [
       "Checkbox(value=False, description='ART_MBP', indent=False)"
      ]
     },
     "metadata": {},
     "output_type": "display_data"
    },
    {
     "data": {
      "application/vnd.jupyter.widget-view+json": {
       "model_id": "1d7e6f84408f42368e459f9e2ec082fa",
       "version_major": 2,
       "version_minor": 0
      },
      "text/plain": [
       "Checkbox(value=False, description='ART_SBP', indent=False)"
      ]
     },
     "metadata": {},
     "output_type": "display_data"
    },
    {
     "data": {
      "application/vnd.jupyter.widget-view+json": {
       "model_id": "778ed57c0d174060b729a0cecf05a9e3",
       "version_major": 2,
       "version_minor": 0
      },
      "text/plain": [
       "Checkbox(value=False, description='ART_DBP', indent=False)"
      ]
     },
     "metadata": {},
     "output_type": "display_data"
    },
    {
     "data": {
      "application/vnd.jupyter.widget-view+json": {
       "model_id": "d5b71027ee054d6abeff5b7ac3b6a45d",
       "version_major": 2,
       "version_minor": 0
      },
      "text/plain": [
       "Checkbox(value=False, description='Cycle', indent=False)"
      ]
     },
     "metadata": {},
     "output_type": "display_data"
    },
    {
     "data": {
      "application/vnd.jupyter.widget-view+json": {
       "model_id": "9d97bbbe248c45e08ee177f942d0918b",
       "version_major": 2,
       "version_minor": 0
      },
      "text/plain": [
       "Checkbox(value=False, description='R_wave_amplitude', indent=False)"
      ]
     },
     "metadata": {},
     "output_type": "display_data"
    },
    {
     "data": {
      "application/vnd.jupyter.widget-view+json": {
       "model_id": "4dcdb1c51df44022994899f3573142d8",
       "version_major": 2,
       "version_minor": 0
      },
      "text/plain": [
       "Checkbox(value=False, description='ΔR_wave_amplitude', indent=False)"
      ]
     },
     "metadata": {},
     "output_type": "display_data"
    },
    {
     "data": {
      "application/vnd.jupyter.widget-view+json": {
       "model_id": "af75430adc0f4dfab403ff44617d9293",
       "version_major": 2,
       "version_minor": 0
      },
      "text/plain": [
       "Checkbox(value=False, description='R_wave_duration', indent=False)"
      ]
     },
     "metadata": {},
     "output_type": "display_data"
    },
    {
     "data": {
      "application/vnd.jupyter.widget-view+json": {
       "model_id": "f28cf4af19654ef1b1061f54e0a46ad6",
       "version_major": 2,
       "version_minor": 0
      },
      "text/plain": [
       "Checkbox(value=False, description='ΔR_wave_duration', indent=False)"
      ]
     },
     "metadata": {},
     "output_type": "display_data"
    },
    {
     "data": {
      "application/vnd.jupyter.widget-view+json": {
       "model_id": "99e8591b4859434ab78b192407cd0edf",
       "version_major": 2,
       "version_minor": 0
      },
      "text/plain": [
       "Checkbox(value=False, description='T_wave_amplitude', indent=False)"
      ]
     },
     "metadata": {},
     "output_type": "display_data"
    },
    {
     "data": {
      "application/vnd.jupyter.widget-view+json": {
       "model_id": "1669b75e0ddc4bab8f19971f9ea61e10",
       "version_major": 2,
       "version_minor": 0
      },
      "text/plain": [
       "Checkbox(value=False, description='ΔT_wave_amplitude', indent=False)"
      ]
     },
     "metadata": {},
     "output_type": "display_data"
    },
    {
     "data": {
      "application/vnd.jupyter.widget-view+json": {
       "model_id": "9a1d83b428cc4f789254cc76a3432153",
       "version_major": 2,
       "version_minor": 0
      },
      "text/plain": [
       "Checkbox(value=False, description='T_wave_duration', indent=False)"
      ]
     },
     "metadata": {},
     "output_type": "display_data"
    },
    {
     "data": {
      "application/vnd.jupyter.widget-view+json": {
       "model_id": "52a1fa72631d403fb598f1ce2ceae38f",
       "version_major": 2,
       "version_minor": 0
      },
      "text/plain": [
       "Checkbox(value=False, description='ΔT_wave_duration', indent=False)"
      ]
     },
     "metadata": {},
     "output_type": "display_data"
    },
    {
     "data": {
      "application/vnd.jupyter.widget-view+json": {
       "model_id": "a30616866aa143da98599226a8ddb0a0",
       "version_major": 2,
       "version_minor": 0
      },
      "text/plain": [
       "Checkbox(value=False, description='p_wave_duration', indent=False)"
      ]
     },
     "metadata": {},
     "output_type": "display_data"
    },
    {
     "data": {
      "application/vnd.jupyter.widget-view+json": {
       "model_id": "6e4950df2163465c8562be058d0e60d6",
       "version_major": 2,
       "version_minor": 0
      },
      "text/plain": [
       "Checkbox(value=False, description='ΔP_wave_duration', indent=False)"
      ]
     },
     "metadata": {},
     "output_type": "display_data"
    },
    {
     "data": {
      "application/vnd.jupyter.widget-view+json": {
       "model_id": "a651a4cef80c44b9a982d26e5695c389",
       "version_major": 2,
       "version_minor": 0
      },
      "text/plain": [
       "Checkbox(value=False, description='S_wave_amplitude', indent=False)"
      ]
     },
     "metadata": {},
     "output_type": "display_data"
    },
    {
     "data": {
      "application/vnd.jupyter.widget-view+json": {
       "model_id": "57949456f01e4b7cb6cfccd382ab21fb",
       "version_major": 2,
       "version_minor": 0
      },
      "text/plain": [
       "Checkbox(value=False, description='ΔS_wave_amplitude', indent=False)"
      ]
     },
     "metadata": {},
     "output_type": "display_data"
    },
    {
     "data": {
      "application/vnd.jupyter.widget-view+json": {
       "model_id": "18f998a60c40435fa6e0de0312040fba",
       "version_major": 2,
       "version_minor": 0
      },
      "text/plain": [
       "Checkbox(value=False, description='ST_amplitude', indent=False)"
      ]
     },
     "metadata": {},
     "output_type": "display_data"
    },
    {
     "data": {
      "application/vnd.jupyter.widget-view+json": {
       "model_id": "e7349a66887d4b25be393d195eb5a624",
       "version_major": 2,
       "version_minor": 0
      },
      "text/plain": [
       "Checkbox(value=False, description='ΔST_amplitude', indent=False)"
      ]
     },
     "metadata": {},
     "output_type": "display_data"
    },
    {
     "data": {
      "application/vnd.jupyter.widget-view+json": {
       "model_id": "c634a54f855e4d4cbe67f4a76c0283f8",
       "version_major": 2,
       "version_minor": 0
      },
      "text/plain": [
       "Checkbox(value=False, description='q_wave_amplitude', indent=False)"
      ]
     },
     "metadata": {},
     "output_type": "display_data"
    },
    {
     "data": {
      "application/vnd.jupyter.widget-view+json": {
       "model_id": "016522a844204e478d8f5ff126398112",
       "version_major": 2,
       "version_minor": 0
      },
      "text/plain": [
       "Checkbox(value=False, description='Δq_wave_amplitude', indent=False)"
      ]
     },
     "metadata": {},
     "output_type": "display_data"
    },
    {
     "data": {
      "application/vnd.jupyter.widget-view+json": {
       "model_id": "7f355babf12d4aaab067849bdf77cb8d",
       "version_major": 2,
       "version_minor": 0
      },
      "text/plain": [
       "Checkbox(value=False, description='QT_interval', indent=False)"
      ]
     },
     "metadata": {},
     "output_type": "display_data"
    },
    {
     "data": {
      "application/vnd.jupyter.widget-view+json": {
       "model_id": "43c87ca115564b07ad1c543e9c904dd4",
       "version_major": 2,
       "version_minor": 0
      },
      "text/plain": [
       "Checkbox(value=False, description='ΔQT_interval', indent=False)"
      ]
     },
     "metadata": {},
     "output_type": "display_data"
    },
    {
     "data": {
      "application/vnd.jupyter.widget-view+json": {
       "model_id": "c549b5c97fb24ac3b3fcb58c1a6a7a7e",
       "version_major": 2,
       "version_minor": 0
      },
      "text/plain": [
       "Checkbox(value=False, description='Heart_rate', indent=False)"
      ]
     },
     "metadata": {},
     "output_type": "display_data"
    },
    {
     "data": {
      "application/vnd.jupyter.widget-view+json": {
       "model_id": "7406cf03a55c4b55943b5702a2b7ca7b",
       "version_major": 2,
       "version_minor": 0
      },
      "text/plain": [
       "Checkbox(value=False, description='ΔHeart_rate', indent=False)"
      ]
     },
     "metadata": {},
     "output_type": "display_data"
    },
    {
     "data": {
      "application/vnd.jupyter.widget-view+json": {
       "model_id": "a8f030011b1d4e29971561c266b709e4",
       "version_major": 2,
       "version_minor": 0
      },
      "text/plain": [
       "Checkbox(value=False, description='J_point_amplitude', indent=False)"
      ]
     },
     "metadata": {},
     "output_type": "display_data"
    },
    {
     "data": {
      "application/vnd.jupyter.widget-view+json": {
       "model_id": "892d21cb68f2450e8d8b5edc161aaecc",
       "version_major": 2,
       "version_minor": 0
      },
      "text/plain": [
       "Checkbox(value=False, description='ΔJ_point_amplitude', indent=False)"
      ]
     },
     "metadata": {},
     "output_type": "display_data"
    },
    {
     "data": {
      "application/vnd.jupyter.widget-view+json": {
       "model_id": "a6e83d7a13154e4f9659055b46497c40",
       "version_major": 2,
       "version_minor": 0
      },
      "text/plain": [
       "Checkbox(value=False, description='ST_duration', indent=False)"
      ]
     },
     "metadata": {},
     "output_type": "display_data"
    },
    {
     "data": {
      "application/vnd.jupyter.widget-view+json": {
       "model_id": "47f6c32ce6fa4373bf7972b258cf9b36",
       "version_major": 2,
       "version_minor": 0
      },
      "text/plain": [
       "Checkbox(value=False, description='ΔST_duration', indent=False)"
      ]
     },
     "metadata": {},
     "output_type": "display_data"
    },
    {
     "data": {
      "application/vnd.jupyter.widget-view+json": {
       "model_id": "d061303bbd6d4df0912431a342ec5f27",
       "version_major": 2,
       "version_minor": 0
      },
      "text/plain": [
       "Checkbox(value=False, description='ST_area', indent=False)"
      ]
     },
     "metadata": {},
     "output_type": "display_data"
    },
    {
     "data": {
      "application/vnd.jupyter.widget-view+json": {
       "model_id": "374fe3729e67400f8593c8d665859f03",
       "version_major": 2,
       "version_minor": 0
      },
      "text/plain": [
       "Checkbox(value=False, description='ΔST_area', indent=False)"
      ]
     },
     "metadata": {},
     "output_type": "display_data"
    },
    {
     "data": {
      "application/vnd.jupyter.widget-view+json": {
       "model_id": "3599575bbd504c0ebfc05be77398cced",
       "version_major": 2,
       "version_minor": 0
      },
      "text/plain": [
       "Checkbox(value=False, description='ST_slope', indent=False)"
      ]
     },
     "metadata": {},
     "output_type": "display_data"
    },
    {
     "data": {
      "application/vnd.jupyter.widget-view+json": {
       "model_id": "f2c397e2c69c41cba5edf508623c5070",
       "version_major": 2,
       "version_minor": 0
      },
      "text/plain": [
       "Checkbox(value=False, description='ΔST_slope', indent=False)"
      ]
     },
     "metadata": {},
     "output_type": "display_data"
    },
    {
     "data": {
      "application/vnd.jupyter.widget-view+json": {
       "model_id": "bb4f1d3943b542a3adfdd1bc799a5971",
       "version_major": 2,
       "version_minor": 0
      },
      "text/plain": [
       "Checkbox(value=False, description='Ischemia_Status', indent=False)"
      ]
     },
     "metadata": {},
     "output_type": "display_data"
    },
    {
     "data": {
      "application/vnd.jupyter.widget-view+json": {
       "model_id": "13bd84626c2140fabe869e5fa7a516e0",
       "version_major": 2,
       "version_minor": 0
      },
      "text/plain": [
       "Checkbox(value=False, description='ART_MAP', indent=False)"
      ]
     },
     "metadata": {},
     "output_type": "display_data"
    },
    {
     "data": {
      "application/vnd.jupyter.widget-view+json": {
       "model_id": "e09344a8c9b746768daa3691a07fe1b0",
       "version_major": 2,
       "version_minor": 0
      },
      "text/plain": [
       "Checkbox(value=False, description='Hypotension_Status', indent=False)"
      ]
     },
     "metadata": {},
     "output_type": "display_data"
    },
    {
     "data": {
      "application/vnd.jupyter.widget-view+json": {
       "model_id": "b985171ce96f44fe9b30bc9175501e97",
       "version_major": 2,
       "version_minor": 0
      },
      "text/plain": [
       "Checkbox(value=False, description='Class', indent=False)"
      ]
     },
     "metadata": {},
     "output_type": "display_data"
    }
   ],
   "source": [
    "\n",
    "all_columns = list(dataset.columns)\n",
    "new_keys=items_check_box(all_columns)"
   ]
  },
  {
   "cell_type": "code",
   "execution_count": 43,
   "metadata": {
    "executionInfo": {
     "elapsed": 274,
     "status": "ok",
     "timestamp": 1696505249949,
     "user": {
      "displayName": "Iqram Hussain",
      "userId": "06265911282756912793"
     },
     "user_tz": 240
    },
    "id": "AU30J3rbkS9n",
    "tags": []
   },
   "outputs": [],
   "source": [
    "new_features = []\n",
    "for i in range(len(new_keys)):\n",
    "  if new_keys[i].value ==True:\n",
    "    new_features.append(all_columns[i])"
   ]
  },
  {
   "cell_type": "code",
   "execution_count": 74,
   "metadata": {
    "executionInfo": {
     "elapsed": 443,
     "status": "ok",
     "timestamp": 1696505276930,
     "user": {
      "displayName": "Iqram Hussain",
      "userId": "06265911282756912793"
     },
     "user_tz": 240
    },
    "id": "E_qn48a6Bi-w",
    "tags": []
   },
   "outputs": [],
   "source": [
    "X = dataset[new_features]\n",
    "y = dataset[\"Class\"]\n",
    "col=list(X.columns)"
   ]
  },
  {
   "cell_type": "code",
   "execution_count": null,
   "metadata": {},
   "outputs": [],
   "source": []
  },
  {
   "cell_type": "code",
   "execution_count": 45,
   "metadata": {
    "colab": {
     "base_uri": "https://localhost:8080/",
     "height": 444
    },
    "executionInfo": {
     "elapsed": 283,
     "status": "ok",
     "timestamp": 1696505281563,
     "user": {
      "displayName": "Iqram Hussain",
      "userId": "06265911282756912793"
     },
     "user_tz": 240
    },
    "id": "_kdDizjDmFwb",
    "outputId": "0ca44f00-b99c-4116-bfe0-4bdde1f6b676",
    "tags": []
   },
   "outputs": [
    {
     "data": {
      "text/html": [
       "<div>\n",
       "<style scoped>\n",
       "    .dataframe tbody tr th:only-of-type {\n",
       "        vertical-align: middle;\n",
       "    }\n",
       "\n",
       "    .dataframe tbody tr th {\n",
       "        vertical-align: top;\n",
       "    }\n",
       "\n",
       "    .dataframe thead th {\n",
       "        text-align: right;\n",
       "    }\n",
       "</style>\n",
       "<table border=\"1\" class=\"dataframe\">\n",
       "  <thead>\n",
       "    <tr style=\"text-align: right;\">\n",
       "      <th></th>\n",
       "      <th>Case_ID</th>\n",
       "      <th>Segment</th>\n",
       "      <th>ST_II</th>\n",
       "      <th>ART_MBP</th>\n",
       "      <th>ART_SBP</th>\n",
       "      <th>ΔR_wave_amplitude</th>\n",
       "      <th>R_wave_duration</th>\n",
       "      <th>ΔR_wave_duration</th>\n",
       "      <th>T_wave_amplitude</th>\n",
       "      <th>ΔT_wave_amplitude</th>\n",
       "      <th>...</th>\n",
       "      <th>S_wave_amplitude</th>\n",
       "      <th>ΔS_wave_amplitude</th>\n",
       "      <th>ΔST_amplitude</th>\n",
       "      <th>q_wave_amplitude</th>\n",
       "      <th>Δq_wave_amplitude</th>\n",
       "      <th>QT_interval</th>\n",
       "      <th>ΔQT_interval</th>\n",
       "      <th>ΔHeart_rate</th>\n",
       "      <th>ΔST_slope</th>\n",
       "      <th>ART_MAP</th>\n",
       "    </tr>\n",
       "  </thead>\n",
       "  <tbody>\n",
       "    <tr>\n",
       "      <th>0</th>\n",
       "      <td>1</td>\n",
       "      <td>2</td>\n",
       "      <td>-0.586322</td>\n",
       "      <td>65.986667</td>\n",
       "      <td>102.516667</td>\n",
       "      <td>-0.013308</td>\n",
       "      <td>0.030474</td>\n",
       "      <td>-0.039374</td>\n",
       "      <td>-0.041614</td>\n",
       "      <td>0.101378</td>\n",
       "      <td>...</td>\n",
       "      <td>-0.041614</td>\n",
       "      <td>-0.012443</td>\n",
       "      <td>0.090375</td>\n",
       "      <td>0.042653</td>\n",
       "      <td>-0.055180</td>\n",
       "      <td>0.314894</td>\n",
       "      <td>-0.105544</td>\n",
       "      <td>-3.753000</td>\n",
       "      <td>-0.003783</td>\n",
       "      <td>63.476667</td>\n",
       "    </tr>\n",
       "    <tr>\n",
       "      <th>1</th>\n",
       "      <td>1</td>\n",
       "      <td>2</td>\n",
       "      <td>-0.586322</td>\n",
       "      <td>65.986667</td>\n",
       "      <td>102.516667</td>\n",
       "      <td>-0.003500</td>\n",
       "      <td>0.091421</td>\n",
       "      <td>-0.100321</td>\n",
       "      <td>0.060508</td>\n",
       "      <td>-0.000744</td>\n",
       "      <td>...</td>\n",
       "      <td>-0.033428</td>\n",
       "      <td>-0.020629</td>\n",
       "      <td>-0.019933</td>\n",
       "      <td>0.019686</td>\n",
       "      <td>-0.032212</td>\n",
       "      <td>0.243789</td>\n",
       "      <td>-0.034439</td>\n",
       "      <td>-6.738195</td>\n",
       "      <td>-0.003783</td>\n",
       "      <td>63.476667</td>\n",
       "    </tr>\n",
       "    <tr>\n",
       "      <th>2</th>\n",
       "      <td>1</td>\n",
       "      <td>2</td>\n",
       "      <td>-0.586322</td>\n",
       "      <td>65.986667</td>\n",
       "      <td>102.516667</td>\n",
       "      <td>-0.027424</td>\n",
       "      <td>-0.005888</td>\n",
       "      <td>-0.003012</td>\n",
       "      <td>-0.019423</td>\n",
       "      <td>0.079187</td>\n",
       "      <td>...</td>\n",
       "      <td>-0.019423</td>\n",
       "      <td>-0.034634</td>\n",
       "      <td>0.045993</td>\n",
       "      <td>0.008175</td>\n",
       "      <td>-0.020702</td>\n",
       "      <td>0.171902</td>\n",
       "      <td>0.037448</td>\n",
       "      <td>-4.737844</td>\n",
       "      <td>-0.003783</td>\n",
       "      <td>63.476667</td>\n",
       "    </tr>\n",
       "    <tr>\n",
       "      <th>3</th>\n",
       "      <td>1</td>\n",
       "      <td>2</td>\n",
       "      <td>-0.586322</td>\n",
       "      <td>65.986667</td>\n",
       "      <td>102.516667</td>\n",
       "      <td>-0.005896</td>\n",
       "      <td>0.040631</td>\n",
       "      <td>-0.049532</td>\n",
       "      <td>0.039235</td>\n",
       "      <td>0.020529</td>\n",
       "      <td>...</td>\n",
       "      <td>-0.054558</td>\n",
       "      <td>0.000501</td>\n",
       "      <td>0.022471</td>\n",
       "      <td>0.027019</td>\n",
       "      <td>-0.039545</td>\n",
       "      <td>0.243789</td>\n",
       "      <td>-0.034439</td>\n",
       "      <td>-5.041399</td>\n",
       "      <td>-0.003783</td>\n",
       "      <td>63.476667</td>\n",
       "    </tr>\n",
       "    <tr>\n",
       "      <th>4</th>\n",
       "      <td>1</td>\n",
       "      <td>2</td>\n",
       "      <td>-0.586322</td>\n",
       "      <td>65.986667</td>\n",
       "      <td>102.516667</td>\n",
       "      <td>-0.026942</td>\n",
       "      <td>0.081263</td>\n",
       "      <td>-0.090163</td>\n",
       "      <td>0.077779</td>\n",
       "      <td>-0.018015</td>\n",
       "      <td>...</td>\n",
       "      <td>-0.023452</td>\n",
       "      <td>-0.030605</td>\n",
       "      <td>-0.047179</td>\n",
       "      <td>0.013652</td>\n",
       "      <td>-0.026178</td>\n",
       "      <td>0.335209</td>\n",
       "      <td>-0.125859</td>\n",
       "      <td>-5.546153</td>\n",
       "      <td>-0.003783</td>\n",
       "      <td>63.476667</td>\n",
       "    </tr>\n",
       "    <tr>\n",
       "      <th>...</th>\n",
       "      <td>...</td>\n",
       "      <td>...</td>\n",
       "      <td>...</td>\n",
       "      <td>...</td>\n",
       "      <td>...</td>\n",
       "      <td>...</td>\n",
       "      <td>...</td>\n",
       "      <td>...</td>\n",
       "      <td>...</td>\n",
       "      <td>...</td>\n",
       "      <td>...</td>\n",
       "      <td>...</td>\n",
       "      <td>...</td>\n",
       "      <td>...</td>\n",
       "      <td>...</td>\n",
       "      <td>...</td>\n",
       "      <td>...</td>\n",
       "      <td>...</td>\n",
       "      <td>...</td>\n",
       "      <td>...</td>\n",
       "      <td>...</td>\n",
       "    </tr>\n",
       "    <tr>\n",
       "      <th>1527695</th>\n",
       "      <td>2645</td>\n",
       "      <td>3</td>\n",
       "      <td>-2.449826</td>\n",
       "      <td>95.113333</td>\n",
       "      <td>126.103333</td>\n",
       "      <td>-0.016047</td>\n",
       "      <td>-0.376769</td>\n",
       "      <td>0.451632</td>\n",
       "      <td>0.167043</td>\n",
       "      <td>0.040732</td>\n",
       "      <td>...</td>\n",
       "      <td>-0.237115</td>\n",
       "      <td>0.023327</td>\n",
       "      <td>0.063498</td>\n",
       "      <td>0.022932</td>\n",
       "      <td>-0.128018</td>\n",
       "      <td>0.000000</td>\n",
       "      <td>0.400725</td>\n",
       "      <td>-9.626992</td>\n",
       "      <td>0.006889</td>\n",
       "      <td>88.821111</td>\n",
       "    </tr>\n",
       "    <tr>\n",
       "      <th>1527708</th>\n",
       "      <td>2645</td>\n",
       "      <td>3</td>\n",
       "      <td>-2.449826</td>\n",
       "      <td>95.113333</td>\n",
       "      <td>126.103333</td>\n",
       "      <td>-0.041382</td>\n",
       "      <td>0.071281</td>\n",
       "      <td>0.003582</td>\n",
       "      <td>0.091209</td>\n",
       "      <td>0.116566</td>\n",
       "      <td>...</td>\n",
       "      <td>-0.165131</td>\n",
       "      <td>-0.048656</td>\n",
       "      <td>0.067348</td>\n",
       "      <td>-0.158268</td>\n",
       "      <td>0.053182</td>\n",
       "      <td>-0.132378</td>\n",
       "      <td>0.533103</td>\n",
       "      <td>-50.718133</td>\n",
       "      <td>0.021361</td>\n",
       "      <td>88.821111</td>\n",
       "    </tr>\n",
       "    <tr>\n",
       "      <th>1527729</th>\n",
       "      <td>2645</td>\n",
       "      <td>3</td>\n",
       "      <td>-2.449826</td>\n",
       "      <td>95.113333</td>\n",
       "      <td>126.103333</td>\n",
       "      <td>-0.179384</td>\n",
       "      <td>0.050915</td>\n",
       "      <td>0.023948</td>\n",
       "      <td>0.202941</td>\n",
       "      <td>0.004835</td>\n",
       "      <td>...</td>\n",
       "      <td>-0.229967</td>\n",
       "      <td>0.016179</td>\n",
       "      <td>0.020452</td>\n",
       "      <td>-0.119200</td>\n",
       "      <td>0.014114</td>\n",
       "      <td>0.427684</td>\n",
       "      <td>-0.026959</td>\n",
       "      <td>-35.224370</td>\n",
       "      <td>-0.000672</td>\n",
       "      <td>88.821111</td>\n",
       "    </tr>\n",
       "    <tr>\n",
       "      <th>1527769</th>\n",
       "      <td>2645</td>\n",
       "      <td>3</td>\n",
       "      <td>-2.449826</td>\n",
       "      <td>95.113333</td>\n",
       "      <td>126.103333</td>\n",
       "      <td>-0.107492</td>\n",
       "      <td>0.050915</td>\n",
       "      <td>0.023948</td>\n",
       "      <td>0.251564</td>\n",
       "      <td>-0.043788</td>\n",
       "      <td>...</td>\n",
       "      <td>-0.096550</td>\n",
       "      <td>-0.117238</td>\n",
       "      <td>-0.161588</td>\n",
       "      <td>-0.124820</td>\n",
       "      <td>0.019734</td>\n",
       "      <td>0.448050</td>\n",
       "      <td>-0.047325</td>\n",
       "      <td>31.194649</td>\n",
       "      <td>0.010543</td>\n",
       "      <td>88.821111</td>\n",
       "    </tr>\n",
       "    <tr>\n",
       "      <th>1527821</th>\n",
       "      <td>2645</td>\n",
       "      <td>3</td>\n",
       "      <td>-2.449826</td>\n",
       "      <td>95.113333</td>\n",
       "      <td>126.103333</td>\n",
       "      <td>-0.159059</td>\n",
       "      <td>0.101829</td>\n",
       "      <td>-0.026967</td>\n",
       "      <td>0.082625</td>\n",
       "      <td>0.125150</td>\n",
       "      <td>...</td>\n",
       "      <td>-0.229010</td>\n",
       "      <td>0.015223</td>\n",
       "      <td>0.139811</td>\n",
       "      <td>-0.074279</td>\n",
       "      <td>-0.030807</td>\n",
       "      <td>0.285123</td>\n",
       "      <td>0.115603</td>\n",
       "      <td>43.990000</td>\n",
       "      <td>-0.010565</td>\n",
       "      <td>88.821111</td>\n",
       "    </tr>\n",
       "  </tbody>\n",
       "</table>\n",
       "<p>747573 rows × 22 columns</p>\n",
       "</div>"
      ],
      "text/plain": [
       "         Case_ID  Segment     ST_II    ART_MBP     ART_SBP  ΔR_wave_amplitude  \\\n",
       "0              1        2 -0.586322  65.986667  102.516667          -0.013308   \n",
       "1              1        2 -0.586322  65.986667  102.516667          -0.003500   \n",
       "2              1        2 -0.586322  65.986667  102.516667          -0.027424   \n",
       "3              1        2 -0.586322  65.986667  102.516667          -0.005896   \n",
       "4              1        2 -0.586322  65.986667  102.516667          -0.026942   \n",
       "...          ...      ...       ...        ...         ...                ...   \n",
       "1527695     2645        3 -2.449826  95.113333  126.103333          -0.016047   \n",
       "1527708     2645        3 -2.449826  95.113333  126.103333          -0.041382   \n",
       "1527729     2645        3 -2.449826  95.113333  126.103333          -0.179384   \n",
       "1527769     2645        3 -2.449826  95.113333  126.103333          -0.107492   \n",
       "1527821     2645        3 -2.449826  95.113333  126.103333          -0.159059   \n",
       "\n",
       "         R_wave_duration  ΔR_wave_duration  T_wave_amplitude  \\\n",
       "0               0.030474         -0.039374         -0.041614   \n",
       "1               0.091421         -0.100321          0.060508   \n",
       "2              -0.005888         -0.003012         -0.019423   \n",
       "3               0.040631         -0.049532          0.039235   \n",
       "4               0.081263         -0.090163          0.077779   \n",
       "...                  ...               ...               ...   \n",
       "1527695        -0.376769          0.451632          0.167043   \n",
       "1527708         0.071281          0.003582          0.091209   \n",
       "1527729         0.050915          0.023948          0.202941   \n",
       "1527769         0.050915          0.023948          0.251564   \n",
       "1527821         0.101829         -0.026967          0.082625   \n",
       "\n",
       "         ΔT_wave_amplitude  ...  S_wave_amplitude  ΔS_wave_amplitude  \\\n",
       "0                 0.101378  ...         -0.041614          -0.012443   \n",
       "1                -0.000744  ...         -0.033428          -0.020629   \n",
       "2                 0.079187  ...         -0.019423          -0.034634   \n",
       "3                 0.020529  ...         -0.054558           0.000501   \n",
       "4                -0.018015  ...         -0.023452          -0.030605   \n",
       "...                    ...  ...               ...                ...   \n",
       "1527695           0.040732  ...         -0.237115           0.023327   \n",
       "1527708           0.116566  ...         -0.165131          -0.048656   \n",
       "1527729           0.004835  ...         -0.229967           0.016179   \n",
       "1527769          -0.043788  ...         -0.096550          -0.117238   \n",
       "1527821           0.125150  ...         -0.229010           0.015223   \n",
       "\n",
       "         ΔST_amplitude  q_wave_amplitude  Δq_wave_amplitude  QT_interval  \\\n",
       "0             0.090375          0.042653          -0.055180     0.314894   \n",
       "1            -0.019933          0.019686          -0.032212     0.243789   \n",
       "2             0.045993          0.008175          -0.020702     0.171902   \n",
       "3             0.022471          0.027019          -0.039545     0.243789   \n",
       "4            -0.047179          0.013652          -0.026178     0.335209   \n",
       "...                ...               ...                ...          ...   \n",
       "1527695       0.063498          0.022932          -0.128018     0.000000   \n",
       "1527708       0.067348         -0.158268           0.053182    -0.132378   \n",
       "1527729       0.020452         -0.119200           0.014114     0.427684   \n",
       "1527769      -0.161588         -0.124820           0.019734     0.448050   \n",
       "1527821       0.139811         -0.074279          -0.030807     0.285123   \n",
       "\n",
       "         ΔQT_interval  ΔHeart_rate  ΔST_slope    ART_MAP  \n",
       "0           -0.105544    -3.753000  -0.003783  63.476667  \n",
       "1           -0.034439    -6.738195  -0.003783  63.476667  \n",
       "2            0.037448    -4.737844  -0.003783  63.476667  \n",
       "3           -0.034439    -5.041399  -0.003783  63.476667  \n",
       "4           -0.125859    -5.546153  -0.003783  63.476667  \n",
       "...               ...          ...        ...        ...  \n",
       "1527695      0.400725    -9.626992   0.006889  88.821111  \n",
       "1527708      0.533103   -50.718133   0.021361  88.821111  \n",
       "1527729     -0.026959   -35.224370  -0.000672  88.821111  \n",
       "1527769     -0.047325    31.194649   0.010543  88.821111  \n",
       "1527821      0.115603    43.990000  -0.010565  88.821111  \n",
       "\n",
       "[747573 rows x 22 columns]"
      ]
     },
     "execution_count": 45,
     "metadata": {},
     "output_type": "execute_result"
    }
   ],
   "source": [
    "X"
   ]
  },
  {
   "cell_type": "markdown",
   "metadata": {
    "id": "C0Akgb_na7NU"
   },
   "source": [
    "#Feature Selection"
   ]
  },
  {
   "cell_type": "code",
   "execution_count": 46,
   "metadata": {
    "executionInfo": {
     "elapsed": 432,
     "status": "ok",
     "timestamp": 1696505288331,
     "user": {
      "displayName": "Iqram Hussain",
      "userId": "06265911282756912793"
     },
     "user_tz": 240
    },
    "id": "cYi_6jUgl-Rh",
    "tags": []
   },
   "outputs": [],
   "source": [
    "number_of_feat = 5"
   ]
  },
  {
   "cell_type": "markdown",
   "metadata": {
    "id": "i3_650AAmL60"
   },
   "source": [
    "## **Filter Method**"
   ]
  },
  {
   "cell_type": "markdown",
   "metadata": {
    "id": "vipcBMuojeUs"
   },
   "source": [
    "You can remove it. I added for not to input all the features for every runtime"
   ]
  },
  {
   "cell_type": "code",
   "execution_count": 47,
   "metadata": {
    "executionInfo": {
     "elapsed": 914,
     "status": "ok",
     "timestamp": 1696505293343,
     "user": {
      "displayName": "Iqram Hussain",
      "userId": "06265911282756912793"
     },
     "user_tz": 240
    },
    "id": "H6AwBA_YvY5f",
    "tags": []
   },
   "outputs": [],
   "source": [
    "from sklearn.feature_selection import SelectKBest\n",
    "bestfeatures_1 = SelectKBest(k=10)\n",
    "fit = bestfeatures_1.fit(X,y)\n",
    "dfscores = pd.DataFrame(fit.scores_)\n",
    "dfcolumns = pd.DataFrame(X.columns)\n",
    "featureScores1 = pd.concat([dfcolumns,dfscores],axis=1)\n",
    "featureScores1.columns = ['Specs','Score']"
   ]
  },
  {
   "cell_type": "code",
   "execution_count": 48,
   "metadata": {
    "colab": {
     "base_uri": "https://localhost:8080/"
    },
    "executionInfo": {
     "elapsed": 4035,
     "status": "ok",
     "timestamp": 1696505300761,
     "user": {
      "displayName": "Iqram Hussain",
      "userId": "06265911282756912793"
     },
     "user_tz": 240
    },
    "id": "GF377CBeumt9",
    "outputId": "182dec17-f205-453d-aeb4-ff5cdd151e8d",
    "tags": []
   },
   "outputs": [],
   "source": [
    "number_of_feat=int(input(\"Number Of Best Features: \"))"
   ]
  },
  {
   "cell_type": "code",
   "execution_count": 49,
   "metadata": {
    "colab": {
     "base_uri": "https://localhost:8080/"
    },
    "executionInfo": {
     "elapsed": 296,
     "status": "ok",
     "timestamp": 1696505304140,
     "user": {
      "displayName": "Iqram Hussain",
      "userId": "06265911282756912793"
     },
     "user_tz": 240
    },
    "id": "-GIurqWDuqKi",
    "outputId": "df245cdd-5d0e-41ab-fcd0-dd2bd5718f46",
    "tags": []
   },
   "outputs": [
    {
     "name": "stdout",
     "output_type": "stream",
     "text": [
      "               Specs          Score\n",
      "21           ART_MAP  272131.882750\n",
      "4            ART_SBP  245716.124376\n",
      "3            ART_MBP  226939.340813\n",
      "8   T_wave_amplitude   21068.663569\n",
      "17       QT_interval   13464.609176\n"
     ]
    }
   ],
   "source": [
    "imp=featureScores1.nlargest(number_of_feat,'Score')\n",
    "print(imp)"
   ]
  },
  {
   "cell_type": "code",
   "execution_count": 50,
   "metadata": {
    "executionInfo": {
     "elapsed": 426,
     "status": "ok",
     "timestamp": 1696505343913,
     "user": {
      "displayName": "Iqram Hussain",
      "userId": "06265911282756912793"
     },
     "user_tz": 240
    },
    "id": "1cdpiUSfuteC",
    "tags": []
   },
   "outputs": [],
   "source": [
    "list_of_feat1=[]\n",
    "\n",
    "for i in range(number_of_feat):\n",
    "  list_of_feat1.append(imp.iloc[:,0:].values[i][0])"
   ]
  },
  {
   "cell_type": "markdown",
   "metadata": {
    "id": "vSvefTMBcprz"
   },
   "source": [
    "##ANOVA with f classifciation"
   ]
  },
  {
   "cell_type": "code",
   "execution_count": 51,
   "metadata": {
    "executionInfo": {
     "elapsed": 635,
     "status": "ok",
     "timestamp": 1696505348549,
     "user": {
      "displayName": "Iqram Hussain",
      "userId": "06265911282756912793"
     },
     "user_tz": 240
    },
    "id": "pAz__SDWcjmJ",
    "tags": []
   },
   "outputs": [],
   "source": [
    "\n",
    "\n",
    "from sklearn.datasets import make_classification\n",
    "from sklearn.feature_selection import SelectKBest\n",
    "from sklearn.feature_selection import f_classif\n",
    "import pandas as pd\n",
    "\n",
    "\n",
    "\n",
    "fs = SelectKBest(score_func=f_classif, k=5)\n",
    "fit = fs.fit(X,y)\n",
    "dfscores = pd.DataFrame(fit.scores_)\n",
    "dfcolumns = pd.DataFrame(X.columns)\n",
    "\n",
    "featureScores = pd.concat([dfcolumns,dfscores],axis=1)\n",
    "\n",
    "featureScores.columns = ['Best_columns','Score_ANOVA']\n",
    "\n",
    "lyst = featureScores.nlargest(number_of_feat,'Score_ANOVA')\n",
    "\n",
    "#lyst.to_csv('Filter_Method_ANOVA_with_f_classif.csv')\n",
    "\n",
    "list_of_feat = list(lyst[\"Best_columns\"])\n",
    "selection_method = \"ANOVA\""
   ]
  },
  {
   "cell_type": "markdown",
   "metadata": {
    "id": "XwzfvlmpIVdw"
   },
   "source": [
    "#Dataset with Selected Feature"
   ]
  },
  {
   "cell_type": "code",
   "execution_count": 88,
   "metadata": {
    "executionInfo": {
     "elapsed": 298,
     "status": "ok",
     "timestamp": 1696505355454,
     "user": {
      "displayName": "Iqram Hussain",
      "userId": "06265911282756912793"
     },
     "user_tz": 240
    },
    "id": "IxAQb_BWOV_S",
    "tags": []
   },
   "outputs": [],
   "source": [
    "dataset = dataset.reset_index(drop=True)\n",
    "X_new = dataset[list_of_feat1]\n",
    "y_new = dataset[\"Class\"]"
   ]
  },
  {
   "cell_type": "markdown",
   "metadata": {
    "id": "M9UR49ja78Nx"
   },
   "source": [
    "## Data Partition"
   ]
  },
  {
   "cell_type": "code",
   "execution_count": 25,
   "metadata": {
    "executionInfo": {
     "elapsed": 605,
     "status": "ok",
     "timestamp": 1696505367580,
     "user": {
      "displayName": "Iqram Hussain",
      "userId": "06265911282756912793"
     },
     "user_tz": 240
    },
    "id": "N1nCb9PuOYGj"
   },
   "outputs": [],
   "source": [
    "\n",
    "from sklearn.model_selection import train_test_split\n",
    "X_train, X_test, y_train, y_test = train_test_split(X_new, y_new, test_size = 0.20, random_state = 0)"
   ]
  },
  {
   "cell_type": "markdown",
   "metadata": {},
   "source": [
    "#Data Spliting Subject wise"
   ]
  },
  {
   "cell_type": "code",
   "execution_count": 75,
   "metadata": {},
   "outputs": [
    {
     "data": {
      "text/html": [
       "<div>\n",
       "<style scoped>\n",
       "    .dataframe tbody tr th:only-of-type {\n",
       "        vertical-align: middle;\n",
       "    }\n",
       "\n",
       "    .dataframe tbody tr th {\n",
       "        vertical-align: top;\n",
       "    }\n",
       "\n",
       "    .dataframe thead th {\n",
       "        text-align: right;\n",
       "    }\n",
       "</style>\n",
       "<table border=\"1\" class=\"dataframe\">\n",
       "  <thead>\n",
       "    <tr style=\"text-align: right;\">\n",
       "      <th></th>\n",
       "      <th>Case_ID</th>\n",
       "      <th>Segment</th>\n",
       "      <th>ST_II</th>\n",
       "      <th>ART_MBP</th>\n",
       "      <th>ART_SBP</th>\n",
       "      <th>ΔR_wave_amplitude</th>\n",
       "      <th>R_wave_duration</th>\n",
       "      <th>ΔR_wave_duration</th>\n",
       "      <th>T_wave_amplitude</th>\n",
       "      <th>ΔT_wave_amplitude</th>\n",
       "      <th>...</th>\n",
       "      <th>S_wave_amplitude</th>\n",
       "      <th>ΔS_wave_amplitude</th>\n",
       "      <th>ΔST_amplitude</th>\n",
       "      <th>q_wave_amplitude</th>\n",
       "      <th>Δq_wave_amplitude</th>\n",
       "      <th>QT_interval</th>\n",
       "      <th>ΔQT_interval</th>\n",
       "      <th>ΔHeart_rate</th>\n",
       "      <th>ΔST_slope</th>\n",
       "      <th>ART_MAP</th>\n",
       "    </tr>\n",
       "  </thead>\n",
       "  <tbody>\n",
       "    <tr>\n",
       "      <th>0</th>\n",
       "      <td>1</td>\n",
       "      <td>2</td>\n",
       "      <td>-0.586322</td>\n",
       "      <td>65.986667</td>\n",
       "      <td>102.516667</td>\n",
       "      <td>-0.013308</td>\n",
       "      <td>0.030474</td>\n",
       "      <td>-0.039374</td>\n",
       "      <td>-0.041614</td>\n",
       "      <td>0.101378</td>\n",
       "      <td>...</td>\n",
       "      <td>-0.041614</td>\n",
       "      <td>-0.012443</td>\n",
       "      <td>0.090375</td>\n",
       "      <td>0.042653</td>\n",
       "      <td>-0.055180</td>\n",
       "      <td>0.314894</td>\n",
       "      <td>-0.105544</td>\n",
       "      <td>-3.753000</td>\n",
       "      <td>-0.003783</td>\n",
       "      <td>63.476667</td>\n",
       "    </tr>\n",
       "    <tr>\n",
       "      <th>1</th>\n",
       "      <td>1</td>\n",
       "      <td>2</td>\n",
       "      <td>-0.586322</td>\n",
       "      <td>65.986667</td>\n",
       "      <td>102.516667</td>\n",
       "      <td>-0.003500</td>\n",
       "      <td>0.091421</td>\n",
       "      <td>-0.100321</td>\n",
       "      <td>0.060508</td>\n",
       "      <td>-0.000744</td>\n",
       "      <td>...</td>\n",
       "      <td>-0.033428</td>\n",
       "      <td>-0.020629</td>\n",
       "      <td>-0.019933</td>\n",
       "      <td>0.019686</td>\n",
       "      <td>-0.032212</td>\n",
       "      <td>0.243789</td>\n",
       "      <td>-0.034439</td>\n",
       "      <td>-6.738195</td>\n",
       "      <td>-0.003783</td>\n",
       "      <td>63.476667</td>\n",
       "    </tr>\n",
       "    <tr>\n",
       "      <th>2</th>\n",
       "      <td>1</td>\n",
       "      <td>2</td>\n",
       "      <td>-0.586322</td>\n",
       "      <td>65.986667</td>\n",
       "      <td>102.516667</td>\n",
       "      <td>-0.027424</td>\n",
       "      <td>-0.005888</td>\n",
       "      <td>-0.003012</td>\n",
       "      <td>-0.019423</td>\n",
       "      <td>0.079187</td>\n",
       "      <td>...</td>\n",
       "      <td>-0.019423</td>\n",
       "      <td>-0.034634</td>\n",
       "      <td>0.045993</td>\n",
       "      <td>0.008175</td>\n",
       "      <td>-0.020702</td>\n",
       "      <td>0.171902</td>\n",
       "      <td>0.037448</td>\n",
       "      <td>-4.737844</td>\n",
       "      <td>-0.003783</td>\n",
       "      <td>63.476667</td>\n",
       "    </tr>\n",
       "    <tr>\n",
       "      <th>3</th>\n",
       "      <td>1</td>\n",
       "      <td>2</td>\n",
       "      <td>-0.586322</td>\n",
       "      <td>65.986667</td>\n",
       "      <td>102.516667</td>\n",
       "      <td>-0.005896</td>\n",
       "      <td>0.040631</td>\n",
       "      <td>-0.049532</td>\n",
       "      <td>0.039235</td>\n",
       "      <td>0.020529</td>\n",
       "      <td>...</td>\n",
       "      <td>-0.054558</td>\n",
       "      <td>0.000501</td>\n",
       "      <td>0.022471</td>\n",
       "      <td>0.027019</td>\n",
       "      <td>-0.039545</td>\n",
       "      <td>0.243789</td>\n",
       "      <td>-0.034439</td>\n",
       "      <td>-5.041399</td>\n",
       "      <td>-0.003783</td>\n",
       "      <td>63.476667</td>\n",
       "    </tr>\n",
       "    <tr>\n",
       "      <th>4</th>\n",
       "      <td>1</td>\n",
       "      <td>2</td>\n",
       "      <td>-0.586322</td>\n",
       "      <td>65.986667</td>\n",
       "      <td>102.516667</td>\n",
       "      <td>-0.026942</td>\n",
       "      <td>0.081263</td>\n",
       "      <td>-0.090163</td>\n",
       "      <td>0.077779</td>\n",
       "      <td>-0.018015</td>\n",
       "      <td>...</td>\n",
       "      <td>-0.023452</td>\n",
       "      <td>-0.030605</td>\n",
       "      <td>-0.047179</td>\n",
       "      <td>0.013652</td>\n",
       "      <td>-0.026178</td>\n",
       "      <td>0.335209</td>\n",
       "      <td>-0.125859</td>\n",
       "      <td>-5.546153</td>\n",
       "      <td>-0.003783</td>\n",
       "      <td>63.476667</td>\n",
       "    </tr>\n",
       "    <tr>\n",
       "      <th>...</th>\n",
       "      <td>...</td>\n",
       "      <td>...</td>\n",
       "      <td>...</td>\n",
       "      <td>...</td>\n",
       "      <td>...</td>\n",
       "      <td>...</td>\n",
       "      <td>...</td>\n",
       "      <td>...</td>\n",
       "      <td>...</td>\n",
       "      <td>...</td>\n",
       "      <td>...</td>\n",
       "      <td>...</td>\n",
       "      <td>...</td>\n",
       "      <td>...</td>\n",
       "      <td>...</td>\n",
       "      <td>...</td>\n",
       "      <td>...</td>\n",
       "      <td>...</td>\n",
       "      <td>...</td>\n",
       "      <td>...</td>\n",
       "      <td>...</td>\n",
       "    </tr>\n",
       "    <tr>\n",
       "      <th>1527695</th>\n",
       "      <td>2645</td>\n",
       "      <td>3</td>\n",
       "      <td>-2.449826</td>\n",
       "      <td>95.113333</td>\n",
       "      <td>126.103333</td>\n",
       "      <td>-0.016047</td>\n",
       "      <td>-0.376769</td>\n",
       "      <td>0.451632</td>\n",
       "      <td>0.167043</td>\n",
       "      <td>0.040732</td>\n",
       "      <td>...</td>\n",
       "      <td>-0.237115</td>\n",
       "      <td>0.023327</td>\n",
       "      <td>0.063498</td>\n",
       "      <td>0.022932</td>\n",
       "      <td>-0.128018</td>\n",
       "      <td>0.000000</td>\n",
       "      <td>0.400725</td>\n",
       "      <td>-9.626992</td>\n",
       "      <td>0.006889</td>\n",
       "      <td>88.821111</td>\n",
       "    </tr>\n",
       "    <tr>\n",
       "      <th>1527708</th>\n",
       "      <td>2645</td>\n",
       "      <td>3</td>\n",
       "      <td>-2.449826</td>\n",
       "      <td>95.113333</td>\n",
       "      <td>126.103333</td>\n",
       "      <td>-0.041382</td>\n",
       "      <td>0.071281</td>\n",
       "      <td>0.003582</td>\n",
       "      <td>0.091209</td>\n",
       "      <td>0.116566</td>\n",
       "      <td>...</td>\n",
       "      <td>-0.165131</td>\n",
       "      <td>-0.048656</td>\n",
       "      <td>0.067348</td>\n",
       "      <td>-0.158268</td>\n",
       "      <td>0.053182</td>\n",
       "      <td>-0.132378</td>\n",
       "      <td>0.533103</td>\n",
       "      <td>-50.718133</td>\n",
       "      <td>0.021361</td>\n",
       "      <td>88.821111</td>\n",
       "    </tr>\n",
       "    <tr>\n",
       "      <th>1527729</th>\n",
       "      <td>2645</td>\n",
       "      <td>3</td>\n",
       "      <td>-2.449826</td>\n",
       "      <td>95.113333</td>\n",
       "      <td>126.103333</td>\n",
       "      <td>-0.179384</td>\n",
       "      <td>0.050915</td>\n",
       "      <td>0.023948</td>\n",
       "      <td>0.202941</td>\n",
       "      <td>0.004835</td>\n",
       "      <td>...</td>\n",
       "      <td>-0.229967</td>\n",
       "      <td>0.016179</td>\n",
       "      <td>0.020452</td>\n",
       "      <td>-0.119200</td>\n",
       "      <td>0.014114</td>\n",
       "      <td>0.427684</td>\n",
       "      <td>-0.026959</td>\n",
       "      <td>-35.224370</td>\n",
       "      <td>-0.000672</td>\n",
       "      <td>88.821111</td>\n",
       "    </tr>\n",
       "    <tr>\n",
       "      <th>1527769</th>\n",
       "      <td>2645</td>\n",
       "      <td>3</td>\n",
       "      <td>-2.449826</td>\n",
       "      <td>95.113333</td>\n",
       "      <td>126.103333</td>\n",
       "      <td>-0.107492</td>\n",
       "      <td>0.050915</td>\n",
       "      <td>0.023948</td>\n",
       "      <td>0.251564</td>\n",
       "      <td>-0.043788</td>\n",
       "      <td>...</td>\n",
       "      <td>-0.096550</td>\n",
       "      <td>-0.117238</td>\n",
       "      <td>-0.161588</td>\n",
       "      <td>-0.124820</td>\n",
       "      <td>0.019734</td>\n",
       "      <td>0.448050</td>\n",
       "      <td>-0.047325</td>\n",
       "      <td>31.194649</td>\n",
       "      <td>0.010543</td>\n",
       "      <td>88.821111</td>\n",
       "    </tr>\n",
       "    <tr>\n",
       "      <th>1527821</th>\n",
       "      <td>2645</td>\n",
       "      <td>3</td>\n",
       "      <td>-2.449826</td>\n",
       "      <td>95.113333</td>\n",
       "      <td>126.103333</td>\n",
       "      <td>-0.159059</td>\n",
       "      <td>0.101829</td>\n",
       "      <td>-0.026967</td>\n",
       "      <td>0.082625</td>\n",
       "      <td>0.125150</td>\n",
       "      <td>...</td>\n",
       "      <td>-0.229010</td>\n",
       "      <td>0.015223</td>\n",
       "      <td>0.139811</td>\n",
       "      <td>-0.074279</td>\n",
       "      <td>-0.030807</td>\n",
       "      <td>0.285123</td>\n",
       "      <td>0.115603</td>\n",
       "      <td>43.990000</td>\n",
       "      <td>-0.010565</td>\n",
       "      <td>88.821111</td>\n",
       "    </tr>\n",
       "  </tbody>\n",
       "</table>\n",
       "<p>747573 rows × 22 columns</p>\n",
       "</div>"
      ],
      "text/plain": [
       "         Case_ID  Segment     ST_II    ART_MBP     ART_SBP  ΔR_wave_amplitude  \\\n",
       "0              1        2 -0.586322  65.986667  102.516667          -0.013308   \n",
       "1              1        2 -0.586322  65.986667  102.516667          -0.003500   \n",
       "2              1        2 -0.586322  65.986667  102.516667          -0.027424   \n",
       "3              1        2 -0.586322  65.986667  102.516667          -0.005896   \n",
       "4              1        2 -0.586322  65.986667  102.516667          -0.026942   \n",
       "...          ...      ...       ...        ...         ...                ...   \n",
       "1527695     2645        3 -2.449826  95.113333  126.103333          -0.016047   \n",
       "1527708     2645        3 -2.449826  95.113333  126.103333          -0.041382   \n",
       "1527729     2645        3 -2.449826  95.113333  126.103333          -0.179384   \n",
       "1527769     2645        3 -2.449826  95.113333  126.103333          -0.107492   \n",
       "1527821     2645        3 -2.449826  95.113333  126.103333          -0.159059   \n",
       "\n",
       "         R_wave_duration  ΔR_wave_duration  T_wave_amplitude  \\\n",
       "0               0.030474         -0.039374         -0.041614   \n",
       "1               0.091421         -0.100321          0.060508   \n",
       "2              -0.005888         -0.003012         -0.019423   \n",
       "3               0.040631         -0.049532          0.039235   \n",
       "4               0.081263         -0.090163          0.077779   \n",
       "...                  ...               ...               ...   \n",
       "1527695        -0.376769          0.451632          0.167043   \n",
       "1527708         0.071281          0.003582          0.091209   \n",
       "1527729         0.050915          0.023948          0.202941   \n",
       "1527769         0.050915          0.023948          0.251564   \n",
       "1527821         0.101829         -0.026967          0.082625   \n",
       "\n",
       "         ΔT_wave_amplitude  ...  S_wave_amplitude  ΔS_wave_amplitude  \\\n",
       "0                 0.101378  ...         -0.041614          -0.012443   \n",
       "1                -0.000744  ...         -0.033428          -0.020629   \n",
       "2                 0.079187  ...         -0.019423          -0.034634   \n",
       "3                 0.020529  ...         -0.054558           0.000501   \n",
       "4                -0.018015  ...         -0.023452          -0.030605   \n",
       "...                    ...  ...               ...                ...   \n",
       "1527695           0.040732  ...         -0.237115           0.023327   \n",
       "1527708           0.116566  ...         -0.165131          -0.048656   \n",
       "1527729           0.004835  ...         -0.229967           0.016179   \n",
       "1527769          -0.043788  ...         -0.096550          -0.117238   \n",
       "1527821           0.125150  ...         -0.229010           0.015223   \n",
       "\n",
       "         ΔST_amplitude  q_wave_amplitude  Δq_wave_amplitude  QT_interval  \\\n",
       "0             0.090375          0.042653          -0.055180     0.314894   \n",
       "1            -0.019933          0.019686          -0.032212     0.243789   \n",
       "2             0.045993          0.008175          -0.020702     0.171902   \n",
       "3             0.022471          0.027019          -0.039545     0.243789   \n",
       "4            -0.047179          0.013652          -0.026178     0.335209   \n",
       "...                ...               ...                ...          ...   \n",
       "1527695       0.063498          0.022932          -0.128018     0.000000   \n",
       "1527708       0.067348         -0.158268           0.053182    -0.132378   \n",
       "1527729       0.020452         -0.119200           0.014114     0.427684   \n",
       "1527769      -0.161588         -0.124820           0.019734     0.448050   \n",
       "1527821       0.139811         -0.074279          -0.030807     0.285123   \n",
       "\n",
       "         ΔQT_interval  ΔHeart_rate  ΔST_slope    ART_MAP  \n",
       "0           -0.105544    -3.753000  -0.003783  63.476667  \n",
       "1           -0.034439    -6.738195  -0.003783  63.476667  \n",
       "2            0.037448    -4.737844  -0.003783  63.476667  \n",
       "3           -0.034439    -5.041399  -0.003783  63.476667  \n",
       "4           -0.125859    -5.546153  -0.003783  63.476667  \n",
       "...               ...          ...        ...        ...  \n",
       "1527695      0.400725    -9.626992   0.006889  88.821111  \n",
       "1527708      0.533103   -50.718133   0.021361  88.821111  \n",
       "1527729     -0.026959   -35.224370  -0.000672  88.821111  \n",
       "1527769     -0.047325    31.194649   0.010543  88.821111  \n",
       "1527821      0.115603    43.990000  -0.010565  88.821111  \n",
       "\n",
       "[747573 rows x 22 columns]"
      ]
     },
     "execution_count": 75,
     "metadata": {},
     "output_type": "execute_result"
    }
   ],
   "source": [
    "X"
   ]
  },
  {
   "cell_type": "code",
   "execution_count": 77,
   "metadata": {},
   "outputs": [
    {
     "name": "stderr",
     "output_type": "stream",
     "text": [
      "C:\\Users\\RAZER\\AppData\\Local\\Temp\\ipykernel_9040\\721213638.py:1: FutureWarning: The behavior of `series[i:j]` with an integer-dtype index is deprecated. In a future version, this will be treated as *label-based* indexing, consistent with e.g. `series[i]` lookups. To retain the old behavior, use `series.iloc[i:j]`. To get the future behavior, use `series.loc[i:j]`.\n",
      "  y[:3]\n"
     ]
    },
    {
     "data": {
      "text/plain": [
       "0    2\n",
       "1    2\n",
       "2    2\n",
       "Name: Class, dtype: int32"
      ]
     },
     "execution_count": 77,
     "metadata": {},
     "output_type": "execute_result"
    }
   ],
   "source": [
    "y[]"
   ]
  },
  {
   "cell_type": "code",
   "execution_count": 89,
   "metadata": {},
   "outputs": [
    {
     "name": "stderr",
     "output_type": "stream",
     "text": [
      "C:\\Users\\RAZER\\AppData\\Local\\Temp\\ipykernel_9040\\3463941943.py:13: FutureWarning: The behavior of `series[i:j]` with an integer-dtype index is deprecated. In a future version, this will be treated as *label-based* indexing, consistent with e.g. `series[i]` lookups. To retain the old behavior, use `series.iloc[i:j]`. To get the future behavior, use `series.loc[i:j]`.\n",
      "  y_train = y[:train_last_idx+1]\n",
      "C:\\Users\\RAZER\\AppData\\Local\\Temp\\ipykernel_9040\\3463941943.py:18: FutureWarning: The behavior of `series[i:j]` with an integer-dtype index is deprecated. In a future version, this will be treated as *label-based* indexing, consistent with e.g. `series[i]` lookups. To retain the old behavior, use `series.iloc[i:j]`. To get the future behavior, use `series.loc[i:j]`.\n",
      "  y_test = y[train_last_idx+1:]\n"
     ]
    }
   ],
   "source": [
    "train_size = 0.8\n",
    "\n",
    "\n",
    "all_case = list(set(dataset[\"Case_ID\"]))\n",
    "train_len = int(len(all_case)*train_size)\n",
    "train_subjects = all_case[:train_len]\n",
    "\n",
    "\n",
    "train_last_idx = dataset[dataset['Case_ID']==1486].index.to_list()[-1]\n",
    "\n",
    "X_train = X.iloc[:train_last_idx+1,:]\n",
    "y_train = y[:train_last_idx+1]\n",
    "\n",
    "X_test = X.iloc[train_last_idx+1:,:]\n",
    "y_test = y[train_last_idx+1:]\n"
   ]
  },
  {
   "cell_type": "code",
   "execution_count": 99,
   "metadata": {},
   "outputs": [
    {
     "data": {
      "text/plain": [
       "-22017"
      ]
     },
     "execution_count": 99,
     "metadata": {},
     "output_type": "execute_result"
    }
   ],
   "source": [
    "len(X_train)-len(X_test)"
   ]
  },
  {
   "cell_type": "code",
   "execution_count": 97,
   "metadata": {},
   "outputs": [
    {
     "data": {
      "text/plain": [
       "384795"
      ]
     },
     "execution_count": 97,
     "metadata": {},
     "output_type": "execute_result"
    }
   ],
   "source": [
    "len(X_test)"
   ]
  },
  {
   "cell_type": "code",
   "execution_count": 90,
   "metadata": {},
   "outputs": [
    {
     "data": {
      "text/plain": [
       "324"
      ]
     },
     "execution_count": 90,
     "metadata": {},
     "output_type": "execute_result"
    }
   ],
   "source": [
    "len(train_subjects)"
   ]
  },
  {
   "cell_type": "markdown",
   "metadata": {
    "id": "KxYLxOfqo0xc"
   },
   "source": [
    "# **SMOTE**"
   ]
  },
  {
   "cell_type": "markdown",
   "metadata": {},
   "source": []
  },
  {
   "cell_type": "code",
   "execution_count": 26,
   "metadata": {
    "colab": {
     "base_uri": "https://localhost:8080/"
    },
    "executionInfo": {
     "elapsed": 5433,
     "status": "ok",
     "timestamp": 1696505377078,
     "user": {
      "displayName": "Iqram Hussain",
      "userId": "06265911282756912793"
     },
     "user_tz": 240
    },
    "id": "TdfB06pbo4P7",
    "outputId": "94a5659b-e5ff-4360-ef72-02f8ecbab0ce"
   },
   "outputs": [
    {
     "name": "stdout",
     "output_type": "stream",
     "text": [
      "Requirement already satisfied: imbalanced-learn in c:\\users\\razer\\anaconda3\\envs\\titanoboa\\lib\\site-packages (0.10.1)\n",
      "Requirement already satisfied: numpy>=1.17.3 in c:\\users\\razer\\anaconda3\\envs\\titanoboa\\lib\\site-packages (from imbalanced-learn) (1.23.5)\n",
      "Requirement already satisfied: scipy>=1.3.2 in c:\\users\\razer\\anaconda3\\envs\\titanoboa\\lib\\site-packages (from imbalanced-learn) (1.9.3)\n",
      "Requirement already satisfied: threadpoolctl>=2.0.0 in c:\\users\\razer\\anaconda3\\envs\\titanoboa\\lib\\site-packages (from imbalanced-learn) (3.1.0)\n",
      "Requirement already satisfied: scikit-learn>=1.0.2 in c:\\users\\razer\\anaconda3\\envs\\titanoboa\\lib\\site-packages (from imbalanced-learn) (1.2.0)\n",
      "Requirement already satisfied: joblib>=1.1.1 in c:\\users\\razer\\anaconda3\\envs\\titanoboa\\lib\\site-packages (from imbalanced-learn) (1.2.0)\n"
     ]
    }
   ],
   "source": [
    "!pip install imbalanced-learn\n",
    "from imblearn.over_sampling import SMOTE"
   ]
  },
  {
   "cell_type": "code",
   "execution_count": 27,
   "metadata": {
    "executionInfo": {
     "elapsed": 5184,
     "status": "ok",
     "timestamp": 1696505386701,
     "user": {
      "displayName": "Iqram Hussain",
      "userId": "06265911282756912793"
     },
     "user_tz": 240
    },
    "id": "K33qoFMvo-sD"
   },
   "outputs": [],
   "source": [
    "smote = SMOTE()\n",
    "X_train, y_train= smote.fit_resample(X_train, y_train)"
   ]
  },
  {
   "cell_type": "markdown",
   "metadata": {
    "id": "jEe2R0yAoifa"
   },
   "source": [
    "#ADABOOST"
   ]
  },
  {
   "cell_type": "code",
   "execution_count": 28,
   "metadata": {
    "colab": {
     "base_uri": "https://localhost:8080/"
    },
    "executionInfo": {
     "elapsed": 290028,
     "status": "ok",
     "timestamp": 1696505691169,
     "user": {
      "displayName": "Iqram Hussain",
      "userId": "06265911282756912793"
     },
     "user_tz": 240
    },
    "id": "Bz_yVJaXod8O",
    "outputId": "57eaf66f-3969-4c90-87e1-e4d8832b85eb"
   },
   "outputs": [
    {
     "name": "stdout",
     "output_type": "stream",
     "text": [
      "[[ 5518     0  1357     0]\n",
      " [13914     0     0     0]\n",
      " [    0     0 35350     0]\n",
      " [    0     0 93376     0]]\n",
      "              precision    recall  f1-score   support\n",
      "\n",
      "           0       0.28      0.80      0.42      6875\n",
      "           1       0.00      0.00      0.00     13914\n",
      "           2       0.27      1.00      0.43     35350\n",
      "           3       0.00      0.00      0.00     93376\n",
      "\n",
      "    accuracy                           0.27    149515\n",
      "   macro avg       0.14      0.45      0.21    149515\n",
      "weighted avg       0.08      0.27      0.12    149515\n",
      "\n",
      "Accurecy:  0.2733371233655486\n"
     ]
    },
    {
     "name": "stderr",
     "output_type": "stream",
     "text": [
      "c:\\Users\\RAZER\\anaconda3\\envs\\TitanoBoa\\lib\\site-packages\\sklearn\\metrics\\_classification.py:1344: UndefinedMetricWarning: Precision and F-score are ill-defined and being set to 0.0 in labels with no predicted samples. Use `zero_division` parameter to control this behavior.\n",
      "  _warn_prf(average, modifier, msg_start, len(result))\n",
      "c:\\Users\\RAZER\\anaconda3\\envs\\TitanoBoa\\lib\\site-packages\\sklearn\\metrics\\_classification.py:1344: UndefinedMetricWarning: Precision and F-score are ill-defined and being set to 0.0 in labels with no predicted samples. Use `zero_division` parameter to control this behavior.\n",
      "  _warn_prf(average, modifier, msg_start, len(result))\n",
      "c:\\Users\\RAZER\\anaconda3\\envs\\TitanoBoa\\lib\\site-packages\\sklearn\\metrics\\_classification.py:1344: UndefinedMetricWarning: Precision and F-score are ill-defined and being set to 0.0 in labels with no predicted samples. Use `zero_division` parameter to control this behavior.\n",
      "  _warn_prf(average, modifier, msg_start, len(result))\n"
     ]
    }
   ],
   "source": [
    "from sklearn.ensemble import AdaBoostClassifier\n",
    "\n",
    "ada_defult = AdaBoostClassifier(random_state=0)\n",
    "ada_defult.fit(X_train, y_train)\n",
    "y_pred = ada_defult.predict(X_test)\n",
    "\n",
    "from sklearn.metrics import classification_report, confusion_matrix, accuracy_score\n",
    "print(confusion_matrix(y_test, y_pred))\n",
    "print(classification_report(y_test,y_pred))\n",
    "print(\"Accurecy: \",accuracy_score(y_test, y_pred))\n",
    "result[(ada_defult,1,'AdaBoostClassifier')]=accuracy_score(y_test, y_pred)\n"
   ]
  },
  {
   "cell_type": "code",
   "execution_count": 42,
   "metadata": {
    "colab": {
     "base_uri": "https://localhost:8080/",
     "height": 771
    },
    "executionInfo": {
     "elapsed": 1211356,
     "status": "ok",
     "timestamp": 1696506902505,
     "user": {
      "displayName": "Iqram Hussain",
      "userId": "06265911282756912793"
     },
     "user_tz": 240
    },
    "id": "_3wRG3rxotzH",
    "outputId": "88a76686-fb1d-4d48-e8c8-9b641ac1adbc"
   },
   "outputs": [
    {
     "data": {
      "text/plain": [
       "'\\nfrom sklearn.ensemble import AdaBoostClassifier\\nN=20\\nk_range = range (1,N+1)\\nscores={}\\nscores_list = []\\nfor k in k_range:\\n  classifier = AdaBoostClassifier(n_estimators=k,random_state=0)\\n  classifier.fit(X_train, y_train)\\n  y_pred=classifier.predict(X_test)\\n  scores[k] = accuracy_score(y_test,y_pred)\\n  scores_list.append(accuracy_score(y_test,y_pred))\\n  print(str(k)+\"/\"+str(N)+\" round completed......................... Accurecy: \"+str(accuracy_score(y_test,y_pred)))\\n\\n\\n\\n%matplotlib inline\\nimport matplotlib.pyplot as plt\\n#plot the relationship between K and the testing accuracy\\nplt.figure(figsize = (25,10))\\nplt.plot(k_range,scores_list)\\nplt.xlabel(\\'Value of n_estimators\\')\\nplt.ylabel (\\'Testing Accuracy\\')\\n\\n\\n\\nprint(\"The best n_estimators:\")\\nbest_estimator=list(scores.keys())[scores_list.index(max(scores_list))]\\nprint(best_estimator)\\n'"
      ]
     },
     "execution_count": 42,
     "metadata": {},
     "output_type": "execute_result"
    }
   ],
   "source": [
    "'''\n",
    "from sklearn.ensemble import AdaBoostClassifier\n",
    "N=20\n",
    "k_range = range (1,N+1)\n",
    "scores={}\n",
    "scores_list = []\n",
    "for k in k_range:\n",
    "  classifier = AdaBoostClassifier(n_estimators=k,random_state=0)\n",
    "  classifier.fit(X_train, y_train)\n",
    "  y_pred=classifier.predict(X_test)\n",
    "  scores[k] = accuracy_score(y_test,y_pred)\n",
    "  scores_list.append(accuracy_score(y_test,y_pred))\n",
    "  print(str(k)+\"/\"+str(N)+\" round completed......................... Accurecy: \"+str(accuracy_score(y_test,y_pred)))\n",
    "\n",
    "\n",
    "\n",
    "%matplotlib inline\n",
    "import matplotlib.pyplot as plt\n",
    "#plot the relationship between K and the testing accuracy\n",
    "plt.figure(figsize = (25,10))\n",
    "plt.plot(k_range,scores_list)\n",
    "plt.xlabel('Value of n_estimators')\n",
    "plt.ylabel ('Testing Accuracy')\n",
    "\n",
    "\n",
    "\n",
    "print(\"The best n_estimators:\")\n",
    "best_estimator=list(scores.keys())[scores_list.index(max(scores_list))]\n",
    "print(best_estimator)\n",
    "'''"
   ]
  },
  {
   "cell_type": "code",
   "execution_count": 43,
   "metadata": {
    "colab": {
     "base_uri": "https://localhost:8080/"
    },
    "executionInfo": {
     "elapsed": 5784,
     "status": "ok",
     "timestamp": 1696506908280,
     "user": {
      "displayName": "Iqram Hussain",
      "userId": "06265911282756912793"
     },
     "user_tz": 240
    },
    "id": "ctzoGCmFo0In",
    "outputId": "0d196904-1c2e-460b-d9dd-59eab01d3d12"
   },
   "outputs": [
    {
     "data": {
      "text/plain": [
       "'\\nfrom sklearn.ensemble import AdaBoostClassifier\\n\\nada_best_estimator = AdaBoostClassifier(n_estimators=best_estimator,random_state=0)\\nada_best_estimator.fit(X_train, y_train)\\ny_pred = ada_best_estimator.predict(X_test)\\n\\nfrom sklearn.metrics import classification_report, confusion_matrix, accuracy_score\\nprint(confusion_matrix(y_test, y_pred))\\nprint(classification_report(y_test,y_pred))\\nprint(\"Accurecy: \",accuracy_score(y_test, y_pred))\\nresult[(ada_best_estimator,1,\\'AdaBoostClassifier\\')]=accuracy_score(y_test, y_pred)\\n'"
      ]
     },
     "execution_count": 43,
     "metadata": {},
     "output_type": "execute_result"
    }
   ],
   "source": [
    "'''\n",
    "from sklearn.ensemble import AdaBoostClassifier\n",
    "\n",
    "ada_best_estimator = AdaBoostClassifier(n_estimators=best_estimator,random_state=0)\n",
    "ada_best_estimator.fit(X_train, y_train)\n",
    "y_pred = ada_best_estimator.predict(X_test)\n",
    "\n",
    "from sklearn.metrics import classification_report, confusion_matrix, accuracy_score\n",
    "print(confusion_matrix(y_test, y_pred))\n",
    "print(classification_report(y_test,y_pred))\n",
    "print(\"Accurecy: \",accuracy_score(y_test, y_pred))\n",
    "result[(ada_best_estimator,1,'AdaBoostClassifier')]=accuracy_score(y_test, y_pred)\n",
    "'''"
   ]
  },
  {
   "cell_type": "markdown",
   "metadata": {
    "id": "JQhATacCo1AD"
   },
   "source": [
    "\n",
    "\n",
    "---\n",
    "\n",
    "\n",
    "\n",
    "---\n",
    "\n"
   ]
  },
  {
   "cell_type": "markdown",
   "metadata": {
    "id": "FJybpt_UvCU0"
   },
   "source": [
    "#Graddient Boosting"
   ]
  },
  {
   "cell_type": "code",
   "execution_count": null,
   "metadata": {
    "colab": {
     "base_uri": "https://localhost:8080/"
    },
    "executionInfo": {
     "elapsed": 1526077,
     "status": "ok",
     "timestamp": 1696508434331,
     "user": {
      "displayName": "Iqram Hussain",
      "userId": "06265911282756912793"
     },
     "user_tz": 240
    },
    "id": "sgmvc8A_o18j",
    "outputId": "dfd791ce-787e-4dcc-c4ed-cf94fc8418b7"
   },
   "outputs": [],
   "source": [
    "from sklearn.ensemble import GradientBoostingClassifier\n",
    "from sklearn.model_selection import RepeatedStratifiedKFold\n",
    "\n",
    "gradBoost_default = GradientBoostingClassifier(random_state=0)\n",
    "gradBoost_default.fit(X_train, y_train)\n",
    "y_pred = gradBoost_default.predict(X_test)\n",
    "\n",
    "from sklearn.metrics import classification_report, confusion_matrix, accuracy_score\n",
    "print(confusion_matrix(y_test, y_pred))\n",
    "print(classification_report(y_test,y_pred))\n",
    "print(\"Accurecy: \",accuracy_score(y_test, y_pred))\n",
    "result[(gradBoost_default,2,'GradientBoostingClassifier')]=accuracy_score(y_test, y_pred)"
   ]
  },
  {
   "cell_type": "code",
   "execution_count": 36,
   "metadata": {
    "colab": {
     "base_uri": "https://localhost:8080/",
     "height": 771
    },
    "executionInfo": {
     "elapsed": 3212668,
     "status": "ok",
     "timestamp": 1696511646972,
     "user": {
      "displayName": "Iqram Hussain",
      "userId": "06265911282756912793"
     },
     "user_tz": 240
    },
    "id": "9brp-qNgo-tX",
    "outputId": "3ccfb073-d641-4fd9-ff35-01a45b144b31"
   },
   "outputs": [
    {
     "data": {
      "text/plain": [
       "'\\nfrom sklearn.ensemble import GradientBoostingClassifier\\nfrom sklearn.metrics import accuracy_score\\nN=20\\nk_range = range (1,N+1)\\nscores={}\\nscores_list = []\\nfor k in k_range:\\n  classifier = GradientBoostingClassifier(n_estimators=k,random_state=0)\\n  classifier.fit(X_train, y_train)\\n  y_pred=classifier.predict(X_test)\\n  scores[k] = accuracy_score(y_test,y_pred)\\n  scores_list.append(accuracy_score(y_test,y_pred))\\n  print(str(k)+\"/\"+str(N)+\" round completed......................... Accurecy: \"+str(accuracy_score(y_test,y_pred)))\\n\\n\\n\\n%matplotlib inline\\nimport matplotlib.pyplot as plt\\n\\nplt.figure(figsize = (25,10))\\nplt.plot(k_range,scores_list)\\nplt.xlabel(\\'Value of n_estimators\\')\\nplt.ylabel (\\'Testing Accuracy\\')\\n\\n\\n\\nprint(\"The best n_estimators:\")\\nbest_estimator=list(scores.keys())[scores_list.index(max(scores_list))]\\nprint(best_estimator)\\n'"
      ]
     },
     "execution_count": 36,
     "metadata": {},
     "output_type": "execute_result"
    }
   ],
   "source": [
    "'''\n",
    "from sklearn.ensemble import GradientBoostingClassifier\n",
    "from sklearn.metrics import accuracy_score\n",
    "N=20\n",
    "k_range = range (1,N+1)\n",
    "scores={}\n",
    "scores_list = []\n",
    "for k in k_range:\n",
    "  classifier = GradientBoostingClassifier(n_estimators=k,random_state=0)\n",
    "  classifier.fit(X_train, y_train)\n",
    "  y_pred=classifier.predict(X_test)\n",
    "  scores[k] = accuracy_score(y_test,y_pred)\n",
    "  scores_list.append(accuracy_score(y_test,y_pred))\n",
    "  print(str(k)+\"/\"+str(N)+\" round completed......................... Accurecy: \"+str(accuracy_score(y_test,y_pred)))\n",
    "\n",
    "\n",
    "\n",
    "%matplotlib inline\n",
    "import matplotlib.pyplot as plt\n",
    "\n",
    "plt.figure(figsize = (25,10))\n",
    "plt.plot(k_range,scores_list)\n",
    "plt.xlabel('Value of n_estimators')\n",
    "plt.ylabel ('Testing Accuracy')\n",
    "\n",
    "\n",
    "\n",
    "print(\"The best n_estimators:\")\n",
    "best_estimator=list(scores.keys())[scores_list.index(max(scores_list))]\n",
    "print(best_estimator)\n",
    "'''"
   ]
  },
  {
   "cell_type": "code",
   "execution_count": 37,
   "metadata": {
    "colab": {
     "base_uri": "https://localhost:8080/",
     "height": 512
    },
    "executionInfo": {
     "elapsed": 16181190,
     "status": "error",
     "timestamp": 1696527828153,
     "user": {
      "displayName": "Iqram Hussain",
      "userId": "06265911282756912793"
     },
     "user_tz": 240
    },
    "id": "LBp3TvYv8s-_",
    "outputId": "3b7ffeec-d313-4582-9f9e-47bea0dc2073"
   },
   "outputs": [
    {
     "data": {
      "text/plain": [
       "'\\nfrom sklearn.ensemble import GradientBoostingClassifier\\nfrom sklearn.metrics import accuracy_score\\nN=20\\nk_range = range (1,N+1)\\nscores={}\\nscores_list = []\\nfor k in k_range:\\n  classifier = GradientBoostingClassifier(max_depth=k,random_state=0)\\n  classifier.fit(X_train, y_train)\\n  y_pred=classifier.predict(X_test)\\n  scores[k] = accuracy_score(y_test,y_pred)\\n  scores_list.append(accuracy_score(y_test,y_pred))\\n  print(str(k)+\"/\"+str(N)+\" round completed......................... Accurecy: \"+str(accuracy_score(y_test,y_pred)))\\n\\n\\n\\n%matplotlib inline\\nimport matplotlib.pyplot as plt\\n\\nplt.figure(figsize = (25,10))\\nplt.plot(k_range,scores_list)\\nplt.xlabel(\\'Value of n_estimators\\')\\nplt.ylabel (\\'Testing Accuracy\\')\\n\\n\\n\\nprint(\"The best Depth:\")\\nbest_depth=list(scores.keys())[scores_list.index(max(scores_list))]\\nprint(best_depth)\\n'"
      ]
     },
     "execution_count": 37,
     "metadata": {},
     "output_type": "execute_result"
    }
   ],
   "source": [
    "'''\n",
    "from sklearn.ensemble import GradientBoostingClassifier\n",
    "from sklearn.metrics import accuracy_score\n",
    "N=20\n",
    "k_range = range (1,N+1)\n",
    "scores={}\n",
    "scores_list = []\n",
    "for k in k_range:\n",
    "  classifier = GradientBoostingClassifier(max_depth=k,random_state=0)\n",
    "  classifier.fit(X_train, y_train)\n",
    "  y_pred=classifier.predict(X_test)\n",
    "  scores[k] = accuracy_score(y_test,y_pred)\n",
    "  scores_list.append(accuracy_score(y_test,y_pred))\n",
    "  print(str(k)+\"/\"+str(N)+\" round completed......................... Accurecy: \"+str(accuracy_score(y_test,y_pred)))\n",
    "\n",
    "\n",
    "\n",
    "%matplotlib inline\n",
    "import matplotlib.pyplot as plt\n",
    "\n",
    "plt.figure(figsize = (25,10))\n",
    "plt.plot(k_range,scores_list)\n",
    "plt.xlabel('Value of n_estimators')\n",
    "plt.ylabel ('Testing Accuracy')\n",
    "\n",
    "\n",
    "\n",
    "print(\"The best Depth:\")\n",
    "best_depth=list(scores.keys())[scores_list.index(max(scores_list))]\n",
    "print(best_depth)\n",
    "'''"
   ]
  },
  {
   "cell_type": "code",
   "execution_count": 38,
   "metadata": {
    "id": "EFg4mMYepGXx"
   },
   "outputs": [
    {
     "data": {
      "text/plain": [
       "'\\nfrom sklearn.ensemble import GradientBoostingClassifier\\n\\ngradBoost_estimator = GradientBoostingClassifier(n_estimators=best_estimator,random_state=0)\\ngradBoost_estimator.fit(X_train, y_train)\\ny_pred = gradBoost_estimator.predict(X_test)\\n\\nfrom sklearn.metrics import classification_report, confusion_matrix, accuracy_score\\nprint(confusion_matrix(y_test, y_pred))\\nprint(classification_report(y_test,y_pred))\\nprint(\"Accurecy: \",accuracy_score(y_test, y_pred))\\nresult[(gradBoost_estimator,2,\\'GradientBoostingClassifier\\')]=accuracy_score(y_test, y_pred)\\n'"
      ]
     },
     "execution_count": 38,
     "metadata": {},
     "output_type": "execute_result"
    }
   ],
   "source": [
    "'''\n",
    "from sklearn.ensemble import GradientBoostingClassifier\n",
    "\n",
    "gradBoost_estimator = GradientBoostingClassifier(n_estimators=best_estimator,random_state=0)\n",
    "gradBoost_estimator.fit(X_train, y_train)\n",
    "y_pred = gradBoost_estimator.predict(X_test)\n",
    "\n",
    "from sklearn.metrics import classification_report, confusion_matrix, accuracy_score\n",
    "print(confusion_matrix(y_test, y_pred))\n",
    "print(classification_report(y_test,y_pred))\n",
    "print(\"Accurecy: \",accuracy_score(y_test, y_pred))\n",
    "result[(gradBoost_estimator,2,'GradientBoostingClassifier')]=accuracy_score(y_test, y_pred)\n",
    "'''"
   ]
  },
  {
   "cell_type": "markdown",
   "metadata": {
    "id": "ThoTlhc4pRJT"
   },
   "source": [
    "\n",
    "\n",
    "---\n",
    "\n",
    "\n",
    "\n",
    "---\n",
    "\n"
   ]
  },
  {
   "cell_type": "markdown",
   "metadata": {
    "id": "AgMT_U8gvM7F"
   },
   "source": [
    "#Random Forest"
   ]
  },
  {
   "cell_type": "code",
   "execution_count": null,
   "metadata": {
    "id": "-4GMunEvtWk2"
   },
   "outputs": [
    {
     "name": "stdout",
     "output_type": "stream",
     "text": [
      "[[ 6257   555    45    18]\n",
      " [  567 13123    16   208]\n",
      " [  424   119 33105  1702]\n",
      " [  382  1007  1363 90624]]\n",
      "              precision    recall  f1-score   support\n",
      "\n",
      "           0       0.82      0.91      0.86      6875\n",
      "           1       0.89      0.94      0.91     13914\n",
      "           2       0.96      0.94      0.95     35350\n",
      "           3       0.98      0.97      0.97     93376\n",
      "\n",
      "    accuracy                           0.96    149515\n",
      "   macro avg       0.91      0.94      0.92    149515\n",
      "weighted avg       0.96      0.96      0.96    149515\n",
      "\n",
      "Accurecy:  0.9571548005216868\n"
     ]
    }
   ],
   "source": [
    "from sklearn.ensemble import RandomForestClassifier\n",
    "rf_default = RandomForestClassifier(random_state=0)\n",
    "rf_default.fit(X_train, y_train)\n",
    "y_pred=rf_default.predict(X_test)\n",
    "\n",
    "\n",
    "from sklearn.metrics import classification_report, confusion_matrix, accuracy_score\n",
    "print(confusion_matrix(y_test, y_pred))\n",
    "print(classification_report(y_test,y_pred))\n",
    "print(\"Accurecy: \",accuracy_score(y_test, y_pred))\n",
    "result[(rf_default,3,'RandomForestClassifier')]=accuracy_score(y_test, y_pred)"
   ]
  },
  {
   "cell_type": "code",
   "execution_count": 40,
   "metadata": {
    "id": "ve34YgestieE"
   },
   "outputs": [
    {
     "data": {
      "text/plain": [
       "'\\nfrom sklearn.ensemble import RandomForestClassifier\\nfrom sklearn.metrics import accuracy_score\\nN=30\\nk_range = range (1,N+1)\\nscores={}\\nscores_list = []\\nfor k in k_range:\\n  classifier = RandomForestClassifier(n_estimators=k,random_state=0)\\n  classifier.fit(X_train, y_train)\\n  y_pred=classifier.predict(X_test)\\n  scores[k] = accuracy_score(y_test,y_pred)\\n  scores_list.append(accuracy_score(y_test,y_pred))\\n  print(str(k)+\"/\"+str(N)+\" round completed......................... Accurecy: \"+str(accuracy_score(y_test,y_pred)))\\n\\n\\n\\n%matplotlib inline\\nimport matplotlib.pyplot as plt\\n\\nplt.figure(figsize = (25,10))\\nplt.plot(k_range,scores_list)\\nplt.xlabel(\\'Value of n_estimators\\')\\nplt.ylabel (\\'Testing Accuracy\\')\\n\\n\\n\\nprint(\"The best n_estimators:\")\\nbest_estimator=list(scores.keys())[scores_list.index(max(scores_list))]\\nprint(best_estimator)\\n'"
      ]
     },
     "execution_count": 40,
     "metadata": {},
     "output_type": "execute_result"
    }
   ],
   "source": [
    "'''\n",
    "from sklearn.ensemble import RandomForestClassifier\n",
    "from sklearn.metrics import accuracy_score\n",
    "N=30\n",
    "k_range = range (1,N+1)\n",
    "scores={}\n",
    "scores_list = []\n",
    "for k in k_range:\n",
    "  classifier = RandomForestClassifier(n_estimators=k,random_state=0)\n",
    "  classifier.fit(X_train, y_train)\n",
    "  y_pred=classifier.predict(X_test)\n",
    "  scores[k] = accuracy_score(y_test,y_pred)\n",
    "  scores_list.append(accuracy_score(y_test,y_pred))\n",
    "  print(str(k)+\"/\"+str(N)+\" round completed......................... Accurecy: \"+str(accuracy_score(y_test,y_pred)))\n",
    "\n",
    "\n",
    "\n",
    "%matplotlib inline\n",
    "import matplotlib.pyplot as plt\n",
    "\n",
    "plt.figure(figsize = (25,10))\n",
    "plt.plot(k_range,scores_list)\n",
    "plt.xlabel('Value of n_estimators')\n",
    "plt.ylabel ('Testing Accuracy')\n",
    "\n",
    "\n",
    "\n",
    "print(\"The best n_estimators:\")\n",
    "best_estimator=list(scores.keys())[scores_list.index(max(scores_list))]\n",
    "print(best_estimator)\n",
    "'''"
   ]
  },
  {
   "cell_type": "code",
   "execution_count": 41,
   "metadata": {
    "id": "eVfKbSTWtnny"
   },
   "outputs": [
    {
     "data": {
      "text/plain": [
       "'\\nfrom sklearn.ensemble import RandomForestClassifier\\nfrom sklearn.metrics import accuracy_score\\nN=30\\nk_range = range (1,N+1)\\nscores={}\\nscores_list = []\\nfor k in k_range:\\n  classifier = RandomForestClassifier(max_depth=k,random_state=0)\\n  classifier.fit(X_train, y_train)\\n  y_pred=classifier.predict(X_test)\\n  scores[k] = accuracy_score(y_test,y_pred)\\n  scores_list.append(accuracy_score(y_test,y_pred))\\n  print(str(k)+\"/\"+str(N)+\" round completed......................... Accurecy: \"+str(accuracy_score(y_test,y_pred)))\\n\\n\\n\\n%matplotlib inline\\nimport matplotlib.pyplot as plt\\n\\nplt.figure(figsize = (25,10))\\nplt.plot(k_range,scores_list)\\nplt.xlabel(\\'Value of n_estimators\\')\\nplt.ylabel (\\'Testing Accuracy\\')\\n\\n\\n\\nprint(\"The best Depth:\")\\nbest_depth=list(scores.keys())[scores_list.index(max(scores_list))]\\nprint(best_depth)\\n'"
      ]
     },
     "execution_count": 41,
     "metadata": {},
     "output_type": "execute_result"
    }
   ],
   "source": [
    "'''\n",
    "from sklearn.ensemble import RandomForestClassifier\n",
    "from sklearn.metrics import accuracy_score\n",
    "N=30\n",
    "k_range = range (1,N+1)\n",
    "scores={}\n",
    "scores_list = []\n",
    "for k in k_range:\n",
    "  classifier = RandomForestClassifier(max_depth=k,random_state=0)\n",
    "  classifier.fit(X_train, y_train)\n",
    "  y_pred=classifier.predict(X_test)\n",
    "  scores[k] = accuracy_score(y_test,y_pred)\n",
    "  scores_list.append(accuracy_score(y_test,y_pred))\n",
    "  print(str(k)+\"/\"+str(N)+\" round completed......................... Accurecy: \"+str(accuracy_score(y_test,y_pred)))\n",
    "\n",
    "\n",
    "\n",
    "%matplotlib inline\n",
    "import matplotlib.pyplot as plt\n",
    "\n",
    "plt.figure(figsize = (25,10))\n",
    "plt.plot(k_range,scores_list)\n",
    "plt.xlabel('Value of n_estimators')\n",
    "plt.ylabel ('Testing Accuracy')\n",
    "\n",
    "\n",
    "\n",
    "print(\"The best Depth:\")\n",
    "best_depth=list(scores.keys())[scores_list.index(max(scores_list))]\n",
    "print(best_depth)\n",
    "'''"
   ]
  },
  {
   "cell_type": "code",
   "execution_count": 42,
   "metadata": {
    "id": "LMUwwEqUt2-T"
   },
   "outputs": [
    {
     "data": {
      "text/plain": [
       "'\\nfrom sklearn.ensemble import RandomForestClassifier\\nrf_estimator = RandomForestClassifier(n_estimators=best_estimator,random_state=0)\\nrf_estimator.fit(X_train, y_train)\\ny_pred=rf_estimator.predict(X_test)\\n\\n\\nfrom sklearn.metrics import classification_report, confusion_matrix, accuracy_score\\nprint(confusion_matrix(y_test, y_pred))\\nprint(classification_report(y_test,y_pred))\\nprint(\"Accurecy: \",accuracy_score(y_test, y_pred))\\nresult[(rf_estimator,3,\\'RandomForestClassifier\\')]=accuracy_score(y_test, y_pred)\\n'"
      ]
     },
     "execution_count": 42,
     "metadata": {},
     "output_type": "execute_result"
    }
   ],
   "source": [
    "'''\n",
    "from sklearn.ensemble import RandomForestClassifier\n",
    "rf_estimator = RandomForestClassifier(n_estimators=best_estimator,random_state=0)\n",
    "rf_estimator.fit(X_train, y_train)\n",
    "y_pred=rf_estimator.predict(X_test)\n",
    "\n",
    "\n",
    "from sklearn.metrics import classification_report, confusion_matrix, accuracy_score\n",
    "print(confusion_matrix(y_test, y_pred))\n",
    "print(classification_report(y_test,y_pred))\n",
    "print(\"Accurecy: \",accuracy_score(y_test, y_pred))\n",
    "result[(rf_estimator,3,'RandomForestClassifier')]=accuracy_score(y_test, y_pred)\n",
    "'''"
   ]
  },
  {
   "cell_type": "code",
   "execution_count": 43,
   "metadata": {
    "id": "NRybS4-nt_vO"
   },
   "outputs": [
    {
     "data": {
      "text/plain": [
       "'\\nfrom sklearn.ensemble import RandomForestClassifier\\nrf_depth = RandomForestClassifier(max_depth=best_depth,random_state=0)\\nrf_depth.fit(X_train, y_train)\\ny_pred=rf_depth.predict(X_test)\\n\\n\\nfrom sklearn.metrics import classification_report, confusion_matrix, accuracy_score\\nprint(confusion_matrix(y_test, y_pred))\\nprint(classification_report(y_test,y_pred))\\nprint(\"Accurecy: \",accuracy_score(y_test, y_pred))\\nresult[(rf_depth,3,\\'RandomForestClassifier\\')]=accuracy_score(y_test, y_pred)\\n'"
      ]
     },
     "execution_count": 43,
     "metadata": {},
     "output_type": "execute_result"
    }
   ],
   "source": [
    "'''\n",
    "from sklearn.ensemble import RandomForestClassifier\n",
    "rf_depth = RandomForestClassifier(max_depth=best_depth,random_state=0)\n",
    "rf_depth.fit(X_train, y_train)\n",
    "y_pred=rf_depth.predict(X_test)\n",
    "\n",
    "\n",
    "from sklearn.metrics import classification_report, confusion_matrix, accuracy_score\n",
    "print(confusion_matrix(y_test, y_pred))\n",
    "print(classification_report(y_test,y_pred))\n",
    "print(\"Accurecy: \",accuracy_score(y_test, y_pred))\n",
    "result[(rf_depth,3,'RandomForestClassifier')]=accuracy_score(y_test, y_pred)\n",
    "'''"
   ]
  },
  {
   "cell_type": "code",
   "execution_count": 44,
   "metadata": {
    "id": "G9p0fJyBtrdZ"
   },
   "outputs": [
    {
     "data": {
      "text/plain": [
       "'\\nfrom sklearn.ensemble import RandomForestClassifier\\nrf_all = RandomForestClassifier(n_estimators=best_estimator,max_depth=best_depth,random_state=0)\\nrf_all.fit(X_train, y_train)\\ny_pred=rf_all.predict(X_test)\\n\\n\\nfrom sklearn.metrics import classification_report, confusion_matrix, accuracy_score\\nprint(confusion_matrix(y_test, y_pred))\\nprint(classification_report(y_test,y_pred))\\nprint(\"Accurecy: \",accuracy_score(y_test, y_pred))\\nresult[(rf_all,3,\\'RandomForestClassifier\\')]=accuracy_score(y_test, y_pred)\\n'"
      ]
     },
     "execution_count": 44,
     "metadata": {},
     "output_type": "execute_result"
    }
   ],
   "source": [
    "'''\n",
    "from sklearn.ensemble import RandomForestClassifier\n",
    "rf_all = RandomForestClassifier(n_estimators=best_estimator,max_depth=best_depth,random_state=0)\n",
    "rf_all.fit(X_train, y_train)\n",
    "y_pred=rf_all.predict(X_test)\n",
    "\n",
    "\n",
    "from sklearn.metrics import classification_report, confusion_matrix, accuracy_score\n",
    "print(confusion_matrix(y_test, y_pred))\n",
    "print(classification_report(y_test,y_pred))\n",
    "print(\"Accurecy: \",accuracy_score(y_test, y_pred))\n",
    "result[(rf_all,3,'RandomForestClassifier')]=accuracy_score(y_test, y_pred)\n",
    "'''"
   ]
  },
  {
   "cell_type": "markdown",
   "metadata": {
    "id": "G_DChNuquB92"
   },
   "source": [
    "\n",
    "\n",
    "---\n",
    "\n",
    "\n",
    "\n",
    "---\n",
    "\n"
   ]
  },
  {
   "cell_type": "markdown",
   "metadata": {
    "id": "jRG4cBnKvZU2"
   },
   "source": [
    "#XGB"
   ]
  },
  {
   "cell_type": "code",
   "execution_count": 46,
   "metadata": {
    "id": "sC1lAZeeuCw8"
   },
   "outputs": [
    {
     "data": {
      "text/plain": [
       "'\\nimport xgboost as xgb\\nxgb_deafult = xgb.XGBClassifier(random_state=0)\\nxgb_deafult.fit(X_train,y_train)\\ny_pred = xgb_deafult.predict(X_test)\\n\\n\\nfrom sklearn.metrics import classification_report, confusion_matrix, accuracy_score\\nprint(confusion_matrix(y_test, y_pred))\\nprint(classification_report(y_test,y_pred))\\nprint(\"Accurecy: \",accuracy_score(y_test, y_pred))\\nresult[(xgb_deafult,4,\\'xgboost\\')]=accuracy_score(y_test, y_pred)\\n'"
      ]
     },
     "execution_count": 46,
     "metadata": {},
     "output_type": "execute_result"
    }
   ],
   "source": [
    "'''\n",
    "import xgboost as xgb\n",
    "xgb_deafult = xgb.XGBClassifier(random_state=0)\n",
    "xgb_deafult.fit(X_train,y_train)\n",
    "y_pred = xgb_deafult.predict(X_test)\n",
    "\n",
    "\n",
    "from sklearn.metrics import classification_report, confusion_matrix, accuracy_score\n",
    "print(confusion_matrix(y_test, y_pred))\n",
    "print(classification_report(y_test,y_pred))\n",
    "print(\"Accurecy: \",accuracy_score(y_test, y_pred))\n",
    "result[(xgb_deafult,4,'xgboost')]=accuracy_score(y_test, y_pred)\n",
    "'''"
   ]
  },
  {
   "cell_type": "code",
   "execution_count": 47,
   "metadata": {
    "id": "YQYsfVO0uPMA"
   },
   "outputs": [
    {
     "data": {
      "text/plain": [
       "'\\nimport xgboost as xgb\\nfrom sklearn.metrics import accuracy_score\\nN=30\\nk_range = range (1,N+1)\\nscores={}\\nscores_list = []\\nfor k in k_range:\\n  xgb_classifier = xgb.XGBClassifier(n_estimators=k,random_state=0)\\n  xgb_classifier.fit(X_train, y_train)\\n  y_pred=xgb_classifier.predict(X_test)\\n  scores[k] = accuracy_score(y_test,y_pred)\\n  scores_list.append(accuracy_score(y_test,y_pred))\\n  print(str(k)+\"/\"+str(N)+\" round completed......................... Accurecy: \"+str(accuracy_score(y_test,y_pred)))\\n\\n\\n%matplotlib inline\\nimport matplotlib.pyplot as plt\\n\\nplt.figure(figsize = (25,10))\\nplt.plot(k_range,scores_list)\\nplt.xlabel(\\'Value of n_estimators\\')\\nplt.ylabel (\\'Testing Accuracy\\')\\n\\n\\n\\nprint(\"The best n_estimators:\")\\nbest_estimator=list(scores.keys())[scores_list.index(max(scores_list))]\\nprint(best_estimator)\\n'"
      ]
     },
     "execution_count": 47,
     "metadata": {},
     "output_type": "execute_result"
    }
   ],
   "source": [
    "'''\n",
    "import xgboost as xgb\n",
    "from sklearn.metrics import accuracy_score\n",
    "N=30\n",
    "k_range = range (1,N+1)\n",
    "scores={}\n",
    "scores_list = []\n",
    "for k in k_range:\n",
    "  xgb_classifier = xgb.XGBClassifier(n_estimators=k,random_state=0)\n",
    "  xgb_classifier.fit(X_train, y_train)\n",
    "  y_pred=xgb_classifier.predict(X_test)\n",
    "  scores[k] = accuracy_score(y_test,y_pred)\n",
    "  scores_list.append(accuracy_score(y_test,y_pred))\n",
    "  print(str(k)+\"/\"+str(N)+\" round completed......................... Accurecy: \"+str(accuracy_score(y_test,y_pred)))\n",
    "\n",
    "\n",
    "%matplotlib inline\n",
    "import matplotlib.pyplot as plt\n",
    "\n",
    "plt.figure(figsize = (25,10))\n",
    "plt.plot(k_range,scores_list)\n",
    "plt.xlabel('Value of n_estimators')\n",
    "plt.ylabel ('Testing Accuracy')\n",
    "\n",
    "\n",
    "\n",
    "print(\"The best n_estimators:\")\n",
    "best_estimator=list(scores.keys())[scores_list.index(max(scores_list))]\n",
    "print(best_estimator)\n",
    "'''"
   ]
  },
  {
   "cell_type": "code",
   "execution_count": 48,
   "metadata": {
    "id": "ABex6e-3kxuX"
   },
   "outputs": [
    {
     "data": {
      "text/plain": [
       "'\\nimport xgboost as xgb\\nfrom sklearn.metrics import accuracy_score\\nN=30\\nk_range = range (1,N+1)\\nscores={}\\nscores_list = []\\nfor k in k_range:\\n  xgb_classifier = xgb.XGBClassifier(max_depth=k,random_state=0)\\n  xgb_classifier.fit(X_train, y_train)\\n  y_pred=xgb_classifier.predict(X_test)\\n  scores[k] = accuracy_score(y_test,y_pred)\\n  scores_list.append(accuracy_score(y_test,y_pred))\\n  print(str(k)+\"/\"+str(N)+\" round completed......................... Accurecy: \"+str(accuracy_score(y_test,y_pred)))\\n\\n\\n%matplotlib inline\\nimport matplotlib.pyplot as plt\\n\\nplt.figure(figsize = (25,10))\\nplt.plot(k_range,scores_list)\\nplt.xlabel(\\'Value of n_estimators\\')\\nplt.ylabel (\\'Testing Accuracy\\')\\n\\n\\n\\nprint(\"The best depth:\")\\nbest_depth=list(scores.keys())[scores_list.index(max(scores_list))]\\nprint(best_depth)\\n'"
      ]
     },
     "execution_count": 48,
     "metadata": {},
     "output_type": "execute_result"
    }
   ],
   "source": [
    "'''\n",
    "import xgboost as xgb\n",
    "from sklearn.metrics import accuracy_score\n",
    "N=30\n",
    "k_range = range (1,N+1)\n",
    "scores={}\n",
    "scores_list = []\n",
    "for k in k_range:\n",
    "  xgb_classifier = xgb.XGBClassifier(max_depth=k,random_state=0)\n",
    "  xgb_classifier.fit(X_train, y_train)\n",
    "  y_pred=xgb_classifier.predict(X_test)\n",
    "  scores[k] = accuracy_score(y_test,y_pred)\n",
    "  scores_list.append(accuracy_score(y_test,y_pred))\n",
    "  print(str(k)+\"/\"+str(N)+\" round completed......................... Accurecy: \"+str(accuracy_score(y_test,y_pred)))\n",
    "\n",
    "\n",
    "%matplotlib inline\n",
    "import matplotlib.pyplot as plt\n",
    "\n",
    "plt.figure(figsize = (25,10))\n",
    "plt.plot(k_range,scores_list)\n",
    "plt.xlabel('Value of n_estimators')\n",
    "plt.ylabel ('Testing Accuracy')\n",
    "\n",
    "\n",
    "\n",
    "print(\"The best depth:\")\n",
    "best_depth=list(scores.keys())[scores_list.index(max(scores_list))]\n",
    "print(best_depth)\n",
    "'''"
   ]
  },
  {
   "cell_type": "code",
   "execution_count": 49,
   "metadata": {
    "id": "lfBp-uGXuaKY"
   },
   "outputs": [
    {
     "data": {
      "text/plain": [
       "'\\nimport xgboost as xgb\\nxgb_depth = xgb.XGBClassifier(max_depth=best_depth,random_state=0)\\nxgb_depth.fit(X_train,y_train)\\ny_pred = xgb_depth.predict(X_test)\\n\\n\\nfrom sklearn.metrics import classification_report, confusion_matrix, accuracy_score\\nprint(confusion_matrix(y_test, y_pred))\\nprint(classification_report(y_test,y_pred))\\nprint(\"Accurecy: \",accuracy_score(y_test, y_pred))\\nresult[(xgb_depth,4,\\'xgboost\\')]=accuracy_score(y_test, y_pred)\\nprint(xgb_depth)\\n'"
      ]
     },
     "execution_count": 49,
     "metadata": {},
     "output_type": "execute_result"
    }
   ],
   "source": [
    "'''\n",
    "import xgboost as xgb\n",
    "xgb_depth = xgb.XGBClassifier(max_depth=best_depth,random_state=0)\n",
    "xgb_depth.fit(X_train,y_train)\n",
    "y_pred = xgb_depth.predict(X_test)\n",
    "\n",
    "\n",
    "from sklearn.metrics import classification_report, confusion_matrix, accuracy_score\n",
    "print(confusion_matrix(y_test, y_pred))\n",
    "print(classification_report(y_test,y_pred))\n",
    "print(\"Accurecy: \",accuracy_score(y_test, y_pred))\n",
    "result[(xgb_depth,4,'xgboost')]=accuracy_score(y_test, y_pred)\n",
    "print(xgb_depth)\n",
    "'''"
   ]
  },
  {
   "cell_type": "code",
   "execution_count": 50,
   "metadata": {
    "id": "_qBm-yTqzOsi"
   },
   "outputs": [
    {
     "data": {
      "text/plain": [
       "'\\nimport xgboost as xgb\\nxgb_estimator = xgb.XGBClassifier(n_estimators=best_estimator,random_state=0)\\nxgb_estimator.fit(X_train,y_train)\\ny_pred = xgb_estimator.predict(X_test)\\n\\n\\nfrom sklearn.metrics import classification_report, confusion_matrix, accuracy_score\\nprint(confusion_matrix(y_test, y_pred))\\nprint(classification_report(y_test,y_pred))\\nprint(\"Accurecy: \",accuracy_score(y_test, y_pred))\\nresult[(xgb_estimator,4,\\'xgboost\\')]=accuracy_score(y_test, y_pred)\\nprint(xgb_estimator)\\n'"
      ]
     },
     "execution_count": 50,
     "metadata": {},
     "output_type": "execute_result"
    }
   ],
   "source": [
    "'''\n",
    "import xgboost as xgb\n",
    "xgb_estimator = xgb.XGBClassifier(n_estimators=best_estimator,random_state=0)\n",
    "xgb_estimator.fit(X_train,y_train)\n",
    "y_pred = xgb_estimator.predict(X_test)\n",
    "\n",
    "\n",
    "from sklearn.metrics import classification_report, confusion_matrix, accuracy_score\n",
    "print(confusion_matrix(y_test, y_pred))\n",
    "print(classification_report(y_test,y_pred))\n",
    "print(\"Accurecy: \",accuracy_score(y_test, y_pred))\n",
    "result[(xgb_estimator,4,'xgboost')]=accuracy_score(y_test, y_pred)\n",
    "print(xgb_estimator)\n",
    "'''"
   ]
  },
  {
   "cell_type": "code",
   "execution_count": 51,
   "metadata": {
    "id": "zW-0PfT-zX3C"
   },
   "outputs": [
    {
     "data": {
      "text/plain": [
       "'\\nimport xgboost as xgb\\nxgb_all = xgb.XGBClassifier(n_estimators=best_estimator,max_depth=best_depth,random_state=0)\\nxgb_all.fit(X_train,y_train)\\ny_pred = xgb_all.predict(X_test)\\n\\n\\nfrom sklearn.metrics import classification_report, confusion_matrix, accuracy_score\\nprint(confusion_matrix(y_test, y_pred))\\nprint(classification_report(y_test,y_pred))\\nprint(\"Accurecy: \",accuracy_score(y_test, y_pred))\\nresult[(xgb_all,4,\\'xgboost\\')]=accuracy_score(y_test, y_pred)\\n'"
      ]
     },
     "execution_count": 51,
     "metadata": {},
     "output_type": "execute_result"
    }
   ],
   "source": [
    "'''\n",
    "import xgboost as xgb\n",
    "xgb_all = xgb.XGBClassifier(n_estimators=best_estimator,max_depth=best_depth,random_state=0)\n",
    "xgb_all.fit(X_train,y_train)\n",
    "y_pred = xgb_all.predict(X_test)\n",
    "\n",
    "\n",
    "from sklearn.metrics import classification_report, confusion_matrix, accuracy_score\n",
    "print(confusion_matrix(y_test, y_pred))\n",
    "print(classification_report(y_test,y_pred))\n",
    "print(\"Accurecy: \",accuracy_score(y_test, y_pred))\n",
    "result[(xgb_all,4,'xgboost')]=accuracy_score(y_test, y_pred)\n",
    "'''"
   ]
  },
  {
   "cell_type": "markdown",
   "metadata": {
    "id": "K6_icFWdauSI"
   },
   "source": [
    "#KNN"
   ]
  },
  {
   "cell_type": "code",
   "execution_count": null,
   "metadata": {
    "id": "6GALUBYbaz1z"
   },
   "outputs": [
    {
     "name": "stdout",
     "output_type": "stream",
     "text": [
      "[[ 4401  1030  1148   296]\n",
      " [ 1245 10479   736  1454]\n",
      " [ 2378  1154 28682  3136]\n",
      " [ 2113  6143  7781 77339]]\n",
      "              precision    recall  f1-score   support\n",
      "\n",
      "           0       0.43      0.64      0.52      6875\n",
      "           1       0.56      0.75      0.64     13914\n",
      "           2       0.75      0.81      0.78     35350\n",
      "           3       0.94      0.83      0.88     93376\n",
      "\n",
      "    accuracy                           0.81    149515\n",
      "   macro avg       0.67      0.76      0.70    149515\n",
      "weighted avg       0.84      0.81      0.82    149515\n",
      "\n",
      "Accurecy:  0.8086212085743906\n"
     ]
    }
   ],
   "source": [
    "from sklearn.neighbors import KNeighborsClassifier\n",
    "knn_default = KNeighborsClassifier()\n",
    "knn_default.fit(X_train, y_train)\n",
    "y_pred=knn_default.predict(X_test)\n",
    "\n",
    "\n",
    "from sklearn.metrics import classification_report, confusion_matrix, accuracy_score\n",
    "print(confusion_matrix(y_test, y_pred))\n",
    "print(classification_report(y_test,y_pred))\n",
    "print(\"Accurecy: \",accuracy_score(y_test, y_pred))\n",
    "result[(knn_default,5,'KNeighborsClassifier')]=accuracy_score(y_test, y_pred)"
   ]
  },
  {
   "cell_type": "code",
   "execution_count": 53,
   "metadata": {
    "id": "CpSsmYDHa-VF"
   },
   "outputs": [
    {
     "data": {
      "text/plain": [
       "'\\nfrom sklearn.neighbors import KNeighborsClassifier\\nfrom sklearn.metrics import accuracy_score\\nNeighbors=105\\nk_range = range (1,Neighbors+1)\\nscores={}\\nscores_list = []\\nfor k in k_range:\\n  knn = KNeighborsClassifier(n_neighbors=k)\\n  knn.fit(X_train, y_train)\\n  y_pred=knn.predict(X_test)\\n  scores[k] = accuracy_score(y_test,y_pred)\\n  scores_list.append(accuracy_score(y_test,y_pred))\\n  print(str(k)+\"/\"+str(Neighbors)+\" round completed......................... Accurecy: \"+str(accuracy_score(y_test,y_pred)))\\n\\n\\n%matplotlib inline\\nimport matplotlib.pyplot as plt\\n\\nplt.figure(figsize = (25,10))\\nplt.plot(k_range,scores_list)\\nplt.xlabel(\\'Value of n_estimators\\')\\nplt.ylabel (\\'Testing Accuracy\\')\\n\\n\\n\\nprint(\"The best Depth:\")\\nbest=list(scores.keys())[scores_list.index(max(scores_list))]\\nprint(best)\\n'"
      ]
     },
     "execution_count": 53,
     "metadata": {},
     "output_type": "execute_result"
    }
   ],
   "source": [
    "'''\n",
    "from sklearn.neighbors import KNeighborsClassifier\n",
    "from sklearn.metrics import accuracy_score\n",
    "Neighbors=105\n",
    "k_range = range (1,Neighbors+1)\n",
    "scores={}\n",
    "scores_list = []\n",
    "for k in k_range:\n",
    "  knn = KNeighborsClassifier(n_neighbors=k)\n",
    "  knn.fit(X_train, y_train)\n",
    "  y_pred=knn.predict(X_test)\n",
    "  scores[k] = accuracy_score(y_test,y_pred)\n",
    "  scores_list.append(accuracy_score(y_test,y_pred))\n",
    "  print(str(k)+\"/\"+str(Neighbors)+\" round completed......................... Accurecy: \"+str(accuracy_score(y_test,y_pred)))\n",
    "\n",
    "\n",
    "%matplotlib inline\n",
    "import matplotlib.pyplot as plt\n",
    "\n",
    "plt.figure(figsize = (25,10))\n",
    "plt.plot(k_range,scores_list)\n",
    "plt.xlabel('Value of n_estimators')\n",
    "plt.ylabel ('Testing Accuracy')\n",
    "\n",
    "\n",
    "\n",
    "print(\"The best Depth:\")\n",
    "best=list(scores.keys())[scores_list.index(max(scores_list))]\n",
    "print(best)\n",
    "'''"
   ]
  },
  {
   "cell_type": "code",
   "execution_count": 54,
   "metadata": {
    "id": "MIVJZYV8bCjo"
   },
   "outputs": [
    {
     "data": {
      "text/plain": [
       "'\\nfrom sklearn.neighbors import KNeighborsClassifier\\nknn_neighbors = KNeighborsClassifier(n_neighbors=best)\\nknn_neighbors.fit(X_train, y_train)\\ny_pred=knn_neighbors.predict(X_test)\\n\\n\\nfrom sklearn.metrics import classification_report, confusion_matrix, accuracy_score\\nprint(confusion_matrix(y_test, y_pred))\\nprint(classification_report(y_test,y_pred))\\nprint(\"Accurecy: \",accuracy_score(y_test, y_pred))\\nresult[(knn_neighbors,5,\\'KNeighborsClassifier\\')]=accuracy_score(y_test, y_pred)\\n'"
      ]
     },
     "execution_count": 54,
     "metadata": {},
     "output_type": "execute_result"
    }
   ],
   "source": [
    "'''\n",
    "from sklearn.neighbors import KNeighborsClassifier\n",
    "knn_neighbors = KNeighborsClassifier(n_neighbors=best)\n",
    "knn_neighbors.fit(X_train, y_train)\n",
    "y_pred=knn_neighbors.predict(X_test)\n",
    "\n",
    "\n",
    "from sklearn.metrics import classification_report, confusion_matrix, accuracy_score\n",
    "print(confusion_matrix(y_test, y_pred))\n",
    "print(classification_report(y_test,y_pred))\n",
    "print(\"Accurecy: \",accuracy_score(y_test, y_pred))\n",
    "result[(knn_neighbors,5,'KNeighborsClassifier')]=accuracy_score(y_test, y_pred)\n",
    "'''"
   ]
  },
  {
   "cell_type": "markdown",
   "metadata": {
    "id": "_Btki9jRvc1Y"
   },
   "source": [
    "#NB"
   ]
  },
  {
   "cell_type": "code",
   "execution_count": 55,
   "metadata": {
    "id": "iRmd7ve-ubcd"
   },
   "outputs": [
    {
     "data": {
      "text/plain": [
       "'\\nfrom sklearn.naive_bayes import GaussianNB\\n\\nnb_deafult = GaussianNB()\\nnb_deafult.fit(X_train, y_train)\\ny_pred = nb_deafult.predict(X_test)\\n\\n\\nfrom sklearn.metrics import classification_report, confusion_matrix, accuracy_score\\nprint(confusion_matrix(y_test, y_pred))\\nprint(classification_report(y_test,y_pred))\\nprint(\"Accurecy: \",accuracy_score(y_test, y_pred))\\nresult[(nb_deafult,6,\\'GaussianNB\\')]=accuracy_score(y_test, y_pred)\\n'"
      ]
     },
     "execution_count": 55,
     "metadata": {},
     "output_type": "execute_result"
    }
   ],
   "source": [
    "'''\n",
    "from sklearn.naive_bayes import GaussianNB\n",
    "\n",
    "nb_deafult = GaussianNB()\n",
    "nb_deafult.fit(X_train, y_train)\n",
    "y_pred = nb_deafult.predict(X_test)\n",
    "\n",
    "\n",
    "from sklearn.metrics import classification_report, confusion_matrix, accuracy_score\n",
    "print(confusion_matrix(y_test, y_pred))\n",
    "print(classification_report(y_test,y_pred))\n",
    "print(\"Accurecy: \",accuracy_score(y_test, y_pred))\n",
    "result[(nb_deafult,6,'GaussianNB')]=accuracy_score(y_test, y_pred)\n",
    "'''"
   ]
  },
  {
   "cell_type": "markdown",
   "metadata": {
    "id": "MxrnfbZmDH_l"
   },
   "source": [
    "#Histogram-Based Gradient Boosting"
   ]
  },
  {
   "cell_type": "code",
   "execution_count": null,
   "metadata": {
    "id": "RCYLXoybDIxt"
   },
   "outputs": [
    {
     "name": "stdout",
     "output_type": "stream",
     "text": [
      "[[ 5918   790    86    81]\n",
      " [  681 12769    11   453]\n",
      " [  726   181 29223  5220]\n",
      " [  280  1250  2627 89219]]\n",
      "              precision    recall  f1-score   support\n",
      "\n",
      "           0       0.78      0.86      0.82      6875\n",
      "           1       0.85      0.92      0.88     13914\n",
      "           2       0.91      0.83      0.87     35350\n",
      "           3       0.94      0.96      0.95     93376\n",
      "\n",
      "    accuracy                           0.92    149515\n",
      "   macro avg       0.87      0.89      0.88    149515\n",
      "weighted avg       0.92      0.92      0.92    149515\n",
      "\n",
      "Accurecy:  0.9171588134969736\n"
     ]
    }
   ],
   "source": [
    "from sklearn.ensemble import HistGradientBoostingClassifier\n",
    "\n",
    "hisgradBoost_default = HistGradientBoostingClassifier(random_state=0)\n",
    "hisgradBoost_default.fit(X_train, y_train)\n",
    "y_pred = hisgradBoost_default.predict(X_test)\n",
    "\n",
    "\n",
    "from sklearn.metrics import classification_report, confusion_matrix, accuracy_score\n",
    "print(confusion_matrix(y_test, y_pred))\n",
    "print(classification_report(y_test,y_pred))\n",
    "print(\"Accurecy: \",accuracy_score(y_test, y_pred))\n",
    "result[(hisgradBoost_default,7,'HistGradientBoostingClassifier')]=accuracy_score(y_test, y_pred)\n"
   ]
  },
  {
   "cell_type": "code",
   "execution_count": 57,
   "metadata": {
    "id": "B_REP4R-EvBd"
   },
   "outputs": [
    {
     "data": {
      "text/plain": [
       "'\\nfrom sklearn.ensemble import HistGradientBoostingClassifier\\nfrom sklearn.metrics import accuracy_score\\nN=1000\\nk_range = range (100,N+1,100)\\nscores={}\\nscores_list = []\\nfor k in k_range:\\n  hisgradBoost_cls = HistGradientBoostingClassifier(max_iter=k,random_state=0)\\n  hisgradBoost_cls.fit(X_train, y_train)\\n  y_pred=hisgradBoost_cls.predict(X_test)\\n  scores[k] = accuracy_score(y_test,y_pred)\\n  scores_list.append(accuracy_score(y_test,y_pred))\\n  print(str(k)+\"/\"+str(N)+\" round completed......................... Accurecy: \"+str(accuracy_score(y_test,y_pred)))\\n\\n\\n%matplotlib inline\\nimport matplotlib.pyplot as plt\\n\\nplt.figure(figsize = (25,10))\\nplt.plot(k_range,scores_list)\\nplt.xlabel(\\'Value of n_estimators\\')\\nplt.ylabel (\\'Testing Accuracy\\')\\n\\n\\n\\nprint(\"The best max_iter:\")\\nbest_estimator=list(scores.keys())[scores_list.index(max(scores_list))]\\nprint(best_estimator)\\n'"
      ]
     },
     "execution_count": 57,
     "metadata": {},
     "output_type": "execute_result"
    }
   ],
   "source": [
    "'''\n",
    "from sklearn.ensemble import HistGradientBoostingClassifier\n",
    "from sklearn.metrics import accuracy_score\n",
    "N=1000\n",
    "k_range = range (100,N+1,100)\n",
    "scores={}\n",
    "scores_list = []\n",
    "for k in k_range:\n",
    "  hisgradBoost_cls = HistGradientBoostingClassifier(max_iter=k,random_state=0)\n",
    "  hisgradBoost_cls.fit(X_train, y_train)\n",
    "  y_pred=hisgradBoost_cls.predict(X_test)\n",
    "  scores[k] = accuracy_score(y_test,y_pred)\n",
    "  scores_list.append(accuracy_score(y_test,y_pred))\n",
    "  print(str(k)+\"/\"+str(N)+\" round completed......................... Accurecy: \"+str(accuracy_score(y_test,y_pred)))\n",
    "\n",
    "\n",
    "%matplotlib inline\n",
    "import matplotlib.pyplot as plt\n",
    "\n",
    "plt.figure(figsize = (25,10))\n",
    "plt.plot(k_range,scores_list)\n",
    "plt.xlabel('Value of n_estimators')\n",
    "plt.ylabel ('Testing Accuracy')\n",
    "\n",
    "\n",
    "\n",
    "print(\"The best max_iter:\")\n",
    "best_estimator=list(scores.keys())[scores_list.index(max(scores_list))]\n",
    "print(best_estimator)\n",
    "'''"
   ]
  },
  {
   "cell_type": "code",
   "execution_count": 58,
   "metadata": {
    "id": "LqYNVEDxFdFU"
   },
   "outputs": [
    {
     "data": {
      "text/plain": [
       "'\\nfrom sklearn.ensemble import HistGradientBoostingClassifier\\nfrom sklearn.metrics import accuracy_score\\nN=30\\nk_range = range (1,N+1)\\nscores={}\\nscores_list = []\\nfor k in k_range:\\n  hisgradBoost_cls = HistGradientBoostingClassifier(max_depth=k,random_state=0)\\n  hisgradBoost_cls.fit(X_train, y_train)\\n  y_pred=hisgradBoost_cls.predict(X_test)\\n  scores[k] = accuracy_score(y_test,y_pred)\\n  scores_list.append(accuracy_score(y_test,y_pred))\\n  print(str(k)+\"/\"+str(N)+\" round completed......................... Accurecy: \"+str(accuracy_score(y_test,y_pred)))\\n\\n\\n%matplotlib inline\\nimport matplotlib.pyplot as plt\\n\\nplt.figure(figsize = (25,10))\\nplt.plot(k_range,scores_list)\\nplt.xlabel(\\'Value of n_estimators\\')\\nplt.ylabel (\\'Testing Accuracy\\')\\n\\n\\n\\nprint(\"The best max_depth:\")\\nmax_depth=list(scores.keys())[scores_list.index(max(scores_list))]\\nprint(max_depth)\\n'"
      ]
     },
     "execution_count": 58,
     "metadata": {},
     "output_type": "execute_result"
    }
   ],
   "source": [
    "'''\n",
    "from sklearn.ensemble import HistGradientBoostingClassifier\n",
    "from sklearn.metrics import accuracy_score\n",
    "N=30\n",
    "k_range = range (1,N+1)\n",
    "scores={}\n",
    "scores_list = []\n",
    "for k in k_range:\n",
    "  hisgradBoost_cls = HistGradientBoostingClassifier(max_depth=k,random_state=0)\n",
    "  hisgradBoost_cls.fit(X_train, y_train)\n",
    "  y_pred=hisgradBoost_cls.predict(X_test)\n",
    "  scores[k] = accuracy_score(y_test,y_pred)\n",
    "  scores_list.append(accuracy_score(y_test,y_pred))\n",
    "  print(str(k)+\"/\"+str(N)+\" round completed......................... Accurecy: \"+str(accuracy_score(y_test,y_pred)))\n",
    "\n",
    "\n",
    "%matplotlib inline\n",
    "import matplotlib.pyplot as plt\n",
    "\n",
    "plt.figure(figsize = (25,10))\n",
    "plt.plot(k_range,scores_list)\n",
    "plt.xlabel('Value of n_estimators')\n",
    "plt.ylabel ('Testing Accuracy')\n",
    "\n",
    "\n",
    "\n",
    "print(\"The best max_depth:\")\n",
    "max_depth=list(scores.keys())[scores_list.index(max(scores_list))]\n",
    "print(max_depth)\n",
    "'''"
   ]
  },
  {
   "cell_type": "code",
   "execution_count": 59,
   "metadata": {
    "id": "DTSpE7QEGTec"
   },
   "outputs": [
    {
     "data": {
      "text/plain": [
       "'\\nfrom sklearn.ensemble import HistGradientBoostingClassifier\\nfrom sklearn.metrics import accuracy_score\\n\\nhisgradBoost_max_iter = HistGradientBoostingClassifier(max_iter=best_estimator,random_state=0)\\nhisgradBoost_max_iter.fit(X_train, y_train)\\ny_pred = hisgradBoost_max_iter.predict(X_test)\\n\\nfrom sklearn.metrics import classification_report, confusion_matrix, accuracy_score\\nprint(confusion_matrix(y_test, y_pred))\\nprint(classification_report(y_test,y_pred))\\nprint(\"Accurecy: \",accuracy_score(y_test, y_pred))\\nresult[(hisgradBoost_max_iter,8,\\'HistGradientBoostingClassifier\\')]=accuracy_score(y_test, y_pred)\\n'"
      ]
     },
     "execution_count": 59,
     "metadata": {},
     "output_type": "execute_result"
    }
   ],
   "source": [
    "'''\n",
    "from sklearn.ensemble import HistGradientBoostingClassifier\n",
    "from sklearn.metrics import accuracy_score\n",
    "\n",
    "hisgradBoost_max_iter = HistGradientBoostingClassifier(max_iter=best_estimator,random_state=0)\n",
    "hisgradBoost_max_iter.fit(X_train, y_train)\n",
    "y_pred = hisgradBoost_max_iter.predict(X_test)\n",
    "\n",
    "from sklearn.metrics import classification_report, confusion_matrix, accuracy_score\n",
    "print(confusion_matrix(y_test, y_pred))\n",
    "print(classification_report(y_test,y_pred))\n",
    "print(\"Accurecy: \",accuracy_score(y_test, y_pred))\n",
    "result[(hisgradBoost_max_iter,8,'HistGradientBoostingClassifier')]=accuracy_score(y_test, y_pred)\n",
    "'''"
   ]
  },
  {
   "cell_type": "code",
   "execution_count": 60,
   "metadata": {
    "id": "BPzCMerDHXDp"
   },
   "outputs": [
    {
     "data": {
      "text/plain": [
       "'\\nfrom sklearn.ensemble import HistGradientBoostingClassifier\\nfrom sklearn.metrics import accuracy_score\\n\\nhisgradBoost_max_depth = HistGradientBoostingClassifier(max_depth=max_depth,random_state=0)\\nhisgradBoost_max_depth.fit(X_train, y_train)\\ny_pred = hisgradBoost_max_depth.predict(X_test)\\n\\nfrom sklearn.metrics import classification_report, confusion_matrix, accuracy_score\\nprint(confusion_matrix(y_test, y_pred))\\nprint(classification_report(y_test,y_pred))\\nprint(\"Accurecy: \",accuracy_score(y_test, y_pred))\\nresult[(hisgradBoost_max_depth,9,\\'HistGradientBoostingClassifier\\')]=accuracy_score(y_test, y_pred)\\n'"
      ]
     },
     "execution_count": 60,
     "metadata": {},
     "output_type": "execute_result"
    }
   ],
   "source": [
    "'''\n",
    "from sklearn.ensemble import HistGradientBoostingClassifier\n",
    "from sklearn.metrics import accuracy_score\n",
    "\n",
    "hisgradBoost_max_depth = HistGradientBoostingClassifier(max_depth=max_depth,random_state=0)\n",
    "hisgradBoost_max_depth.fit(X_train, y_train)\n",
    "y_pred = hisgradBoost_max_depth.predict(X_test)\n",
    "\n",
    "from sklearn.metrics import classification_report, confusion_matrix, accuracy_score\n",
    "print(confusion_matrix(y_test, y_pred))\n",
    "print(classification_report(y_test,y_pred))\n",
    "print(\"Accurecy: \",accuracy_score(y_test, y_pred))\n",
    "result[(hisgradBoost_max_depth,9,'HistGradientBoostingClassifier')]=accuracy_score(y_test, y_pred)\n",
    "'''"
   ]
  },
  {
   "cell_type": "code",
   "execution_count": 61,
   "metadata": {
    "id": "JiaUWcbwHpC7"
   },
   "outputs": [
    {
     "data": {
      "text/plain": [
       "'\\nfrom sklearn.ensemble import HistGradientBoostingClassifier\\nfrom sklearn.metrics import accuracy_score\\n\\nhisgradBoost_all = HistGradientBoostingClassifier(max_iter=best_estimator,max_depth=max_depth,random_state=0)\\nhisgradBoost_all.fit(X_train, y_train)\\ny_pred = hisgradBoost_all.predict(X_test)\\n\\nfrom sklearn.metrics import classification_report, confusion_matrix, accuracy_score\\nprint(confusion_matrix(y_test, y_pred))\\nprint(classification_report(y_test,y_pred))\\nprint(\"Accurecy: \",accuracy_score(y_test, y_pred))\\nresult[(hisgradBoost_all,10,\\'HistGradientBoostingClassifier\\')]=accuracy_score(y_test, y_pred)\\n'"
      ]
     },
     "execution_count": 61,
     "metadata": {},
     "output_type": "execute_result"
    }
   ],
   "source": [
    "'''\n",
    "from sklearn.ensemble import HistGradientBoostingClassifier\n",
    "from sklearn.metrics import accuracy_score\n",
    "\n",
    "hisgradBoost_all = HistGradientBoostingClassifier(max_iter=best_estimator,max_depth=max_depth,random_state=0)\n",
    "hisgradBoost_all.fit(X_train, y_train)\n",
    "y_pred = hisgradBoost_all.predict(X_test)\n",
    "\n",
    "from sklearn.metrics import classification_report, confusion_matrix, accuracy_score\n",
    "print(confusion_matrix(y_test, y_pred))\n",
    "print(classification_report(y_test,y_pred))\n",
    "print(\"Accurecy: \",accuracy_score(y_test, y_pred))\n",
    "result[(hisgradBoost_all,10,'HistGradientBoostingClassifier')]=accuracy_score(y_test, y_pred)\n",
    "'''"
   ]
  },
  {
   "cell_type": "markdown",
   "metadata": {
    "id": "6FEsxCdvkg2D"
   },
   "source": [
    "#Result"
   ]
  },
  {
   "cell_type": "code",
   "execution_count": null,
   "metadata": {
    "id": "rx7qCLU14Aim"
   },
   "outputs": [
    {
     "name": "stdout",
     "output_type": "stream",
     "text": [
      "AdaBoostClassifier(random_state=0) 1  :  0.6675116209076012\n",
      "---------------------------------------------------------------\n",
      "\n",
      "GradientBoostingClassifier(random_state=0) 2  :  0.8132896364913219\n",
      "---------------------------------------------------------------\n",
      "\n",
      "RandomForestClassifier(random_state=0) 3  :  0.9571548005216868\n",
      "---------------------------------------------------------------\n",
      "\n",
      "KNeighborsClassifier() 5  :  0.8086212085743906\n",
      "---------------------------------------------------------------\n",
      "\n",
      "HistGradientBoostingClassifier(random_state=0) 7  :  0.9171588134969736\n",
      "---------------------------------------------------------------\n",
      "\n"
     ]
    }
   ],
   "source": [
    "\n",
    "models=[]\n",
    "\n",
    "for i in result:\n",
    "  models.append(i[0])\n",
    "  print(i[0],i[1],\" : \",result[i])\n",
    "  print(\"---------------------------------------------------------------\")\n",
    "  print()"
   ]
  },
  {
   "cell_type": "code",
   "execution_count": null,
   "metadata": {
    "id": "slItYG8uLOFi"
   },
   "outputs": [
    {
     "name": "stdout",
     "output_type": "stream",
     "text": [
      "(RandomForestClassifier(random_state=0), 3, 'RandomForestClassifier')   :  0.9571548005216868\n",
      "-------------------------------------------------------------------------------------------------\n",
      "(HistGradientBoostingClassifier(random_state=0), 7, 'HistGradientBoostingClassifier')   :  0.9171588134969736\n",
      "-------------------------------------------------------------------------------------------------\n",
      "(GradientBoostingClassifier(random_state=0), 2, 'GradientBoostingClassifier')   :  0.8132896364913219\n",
      "-------------------------------------------------------------------------------------------------\n",
      "(KNeighborsClassifier(), 5, 'KNeighborsClassifier')   :  0.8086212085743906\n",
      "-------------------------------------------------------------------------------------------------\n",
      "(AdaBoostClassifier(random_state=0), 1, 'AdaBoostClassifier')   :  0.6675116209076012\n",
      "-------------------------------------------------------------------------------------------------\n",
      "[(RandomForestClassifier(random_state=0), 3, 'RandomForestClassifier'), (HistGradientBoostingClassifier(random_state=0), 7, 'HistGradientBoostingClassifier'), (GradientBoostingClassifier(random_state=0), 2, 'GradientBoostingClassifier'), (KNeighborsClassifier(), 5, 'KNeighborsClassifier'), (AdaBoostClassifier(random_state=0), 1, 'AdaBoostClassifier')]\n"
     ]
    }
   ],
   "source": [
    "sorted_list=[]\n",
    "sorted_list = sorted(result, key=result.get,reverse=True)\n",
    "\n",
    "for i in sorted_list:\n",
    "  print(i,\"  : \",result[i])\n",
    "  print(\"-------------------------------------------------------------------------------------------------\")\n",
    "\n",
    "print(sorted_list)\n",
    "\n",
    "\n",
    "flage=[]\n",
    "best_models=[]\n",
    "it=0\n",
    "\n",
    "for i in sorted_list:\n",
    "  if it==4:\n",
    "    break\n",
    "\n",
    "  if i[1] not in flage:\n",
    "    best_models.append((i[0],i[2]))\n",
    "    flage.append(i[1])\n",
    "    it+=1\n"
   ]
  },
  {
   "cell_type": "code",
   "execution_count": 64,
   "metadata": {
    "id": "SR0XBsJDMi_1"
   },
   "outputs": [
    {
     "name": "stdout",
     "output_type": "stream",
     "text": [
      "best_models:\n",
      "(RandomForestClassifier(random_state=0), 'RandomForestClassifier')\n",
      "(HistGradientBoostingClassifier(random_state=0), 'HistGradientBoostingClassifier')\n",
      "(GradientBoostingClassifier(random_state=0), 'GradientBoostingClassifier')\n",
      "(KNeighborsClassifier(), 'KNeighborsClassifier')\n"
     ]
    }
   ],
   "source": [
    "print(\"best_models:\")\n",
    "for i in best_models:\n",
    "  print(i)\n"
   ]
  },
  {
   "cell_type": "code",
   "execution_count": 65,
   "metadata": {
    "id": "VQCaVYKA5acD"
   },
   "outputs": [
    {
     "data": {
      "text/plain": [
       "4"
      ]
     },
     "execution_count": 65,
     "metadata": {},
     "output_type": "execute_result"
    }
   ],
   "source": [
    "len(best_models)"
   ]
  },
  {
   "cell_type": "markdown",
   "metadata": {
    "id": "znXNx2bgUvtd"
   },
   "source": [
    "#Testing Accuracy For Best 4 Models"
   ]
  },
  {
   "cell_type": "code",
   "execution_count": 66,
   "metadata": {
    "id": "2j9CXuBkUuiR"
   },
   "outputs": [
    {
     "name": "stdout",
     "output_type": "stream",
     "text": [
      "--------------------------------------------------\n",
      "RandomForestClassifier(random_state=0)\n",
      "[[ 6257   555    45    18]\n",
      " [  567 13123    16   208]\n",
      " [  424   119 33105  1702]\n",
      " [  382  1007  1363 90624]]\n",
      "              precision    recall  f1-score   support\n",
      "\n",
      "           0       0.82      0.91      0.86      6875\n",
      "           1       0.89      0.94      0.91     13914\n",
      "           2       0.96      0.94      0.95     35350\n",
      "           3       0.98      0.97      0.97     93376\n",
      "\n",
      "    accuracy                           0.96    149515\n",
      "   macro avg       0.91      0.94      0.92    149515\n",
      "weighted avg       0.96      0.96      0.96    149515\n",
      "\n",
      "Accurecy:  0.9571548005216868\n",
      "--------------------------------------------------\n",
      "HistGradientBoostingClassifier(random_state=0)\n",
      "[[ 5918   790    86    81]\n",
      " [  681 12769    11   453]\n",
      " [  726   181 29223  5220]\n",
      " [  280  1250  2627 89219]]\n",
      "              precision    recall  f1-score   support\n",
      "\n",
      "           0       0.78      0.86      0.82      6875\n",
      "           1       0.85      0.92      0.88     13914\n",
      "           2       0.91      0.83      0.87     35350\n",
      "           3       0.94      0.96      0.95     93376\n",
      "\n",
      "    accuracy                           0.92    149515\n",
      "   macro avg       0.87      0.89      0.88    149515\n",
      "weighted avg       0.92      0.92      0.92    149515\n",
      "\n",
      "Accurecy:  0.9171588134969736\n",
      "--------------------------------------------------\n",
      "GradientBoostingClassifier(random_state=0)\n",
      "[[ 5500  1038   222   115]\n",
      " [ 1432 11532   109   841]\n",
      " [ 2003   475 24725  8147]\n",
      " [ 1747  3110  8677 79842]]\n",
      "              precision    recall  f1-score   support\n",
      "\n",
      "           0       0.51      0.80      0.63      6875\n",
      "           1       0.71      0.83      0.77     13914\n",
      "           2       0.73      0.70      0.72     35350\n",
      "           3       0.90      0.86      0.88     93376\n",
      "\n",
      "    accuracy                           0.81    149515\n",
      "   macro avg       0.71      0.80      0.75    149515\n",
      "weighted avg       0.82      0.81      0.82    149515\n",
      "\n",
      "Accurecy:  0.8132896364913219\n",
      "--------------------------------------------------\n",
      "KNeighborsClassifier()\n",
      "[[ 4401  1030  1148   296]\n",
      " [ 1245 10479   736  1454]\n",
      " [ 2378  1154 28682  3136]\n",
      " [ 2113  6143  7781 77339]]\n",
      "              precision    recall  f1-score   support\n",
      "\n",
      "           0       0.43      0.64      0.52      6875\n",
      "           1       0.56      0.75      0.64     13914\n",
      "           2       0.75      0.81      0.78     35350\n",
      "           3       0.94      0.83      0.88     93376\n",
      "\n",
      "    accuracy                           0.81    149515\n",
      "   macro avg       0.67      0.76      0.70    149515\n",
      "weighted avg       0.84      0.81      0.82    149515\n",
      "\n",
      "Accurecy:  0.8086212085743906\n"
     ]
    }
   ],
   "source": [
    "\n",
    "for i in best_models:\n",
    "  print(\"--------------------------------------------------\")\n",
    "  print(i[0])\n",
    "  y_pred=i[0].predict(X_test)\n",
    "  print(confusion_matrix(y_test, y_pred))\n",
    "  print(classification_report(y_test,y_pred))\n",
    "  print(\"Accurecy: \",accuracy_score(y_test, y_pred))"
   ]
  },
  {
   "cell_type": "markdown",
   "metadata": {
    "id": "zxxWSX26jsGT"
   },
   "source": [
    "#SHAP"
   ]
  },
  {
   "cell_type": "code",
   "execution_count": 30,
   "metadata": {
    "id": "YUhJ7dWajur-"
   },
   "outputs": [
    {
     "name": "stdout",
     "output_type": "stream",
     "text": [
      "Requirement already satisfied: shap in c:\\users\\razer\\anaconda3\\envs\\titanoboa\\lib\\site-packages (0.43.0)\n",
      "Requirement already satisfied: scipy in c:\\users\\razer\\anaconda3\\envs\\titanoboa\\lib\\site-packages (from shap) (1.9.3)\n",
      "Requirement already satisfied: packaging>20.9 in c:\\users\\razer\\anaconda3\\envs\\titanoboa\\lib\\site-packages (from shap) (22.0)\n",
      "Requirement already satisfied: cloudpickle in c:\\users\\razer\\anaconda3\\envs\\titanoboa\\lib\\site-packages (from shap) (2.2.1)\n",
      "Requirement already satisfied: scikit-learn in c:\\users\\razer\\anaconda3\\envs\\titanoboa\\lib\\site-packages (from shap) (1.2.0)\n",
      "Requirement already satisfied: pandas in c:\\users\\razer\\anaconda3\\envs\\titanoboa\\lib\\site-packages (from shap) (1.5.2)\n",
      "Requirement already satisfied: numba in c:\\users\\razer\\anaconda3\\envs\\titanoboa\\lib\\site-packages (from shap) (0.56.4)\n",
      "Requirement already satisfied: slicer==0.0.7 in c:\\users\\razer\\anaconda3\\envs\\titanoboa\\lib\\site-packages (from shap) (0.0.7)\n",
      "Requirement already satisfied: tqdm>=4.27.0 in c:\\users\\razer\\anaconda3\\envs\\titanoboa\\lib\\site-packages (from shap) (4.64.1)\n",
      "Requirement already satisfied: numpy in c:\\users\\razer\\anaconda3\\envs\\titanoboa\\lib\\site-packages (from shap) (1.23.5)\n",
      "Requirement already satisfied: colorama in c:\\users\\razer\\anaconda3\\envs\\titanoboa\\lib\\site-packages (from tqdm>=4.27.0->shap) (0.4.6)\n",
      "Requirement already satisfied: setuptools in c:\\users\\razer\\anaconda3\\envs\\titanoboa\\lib\\site-packages (from numba->shap) (65.6.3)\n",
      "Requirement already satisfied: llvmlite<0.40,>=0.39.0dev0 in c:\\users\\razer\\anaconda3\\envs\\titanoboa\\lib\\site-packages (from numba->shap) (0.39.1)\n",
      "Requirement already satisfied: python-dateutil>=2.8.1 in c:\\users\\razer\\anaconda3\\envs\\titanoboa\\lib\\site-packages (from pandas->shap) (2.8.2)\n",
      "Requirement already satisfied: pytz>=2020.1 in c:\\users\\razer\\anaconda3\\envs\\titanoboa\\lib\\site-packages (from pandas->shap) (2022.7)\n",
      "Requirement already satisfied: threadpoolctl>=2.0.0 in c:\\users\\razer\\anaconda3\\envs\\titanoboa\\lib\\site-packages (from scikit-learn->shap) (3.1.0)\n",
      "Requirement already satisfied: joblib>=1.1.1 in c:\\users\\razer\\anaconda3\\envs\\titanoboa\\lib\\site-packages (from scikit-learn->shap) (1.2.0)\n",
      "Requirement already satisfied: six>=1.5 in c:\\users\\razer\\anaconda3\\envs\\titanoboa\\lib\\site-packages (from python-dateutil>=2.8.1->pandas->shap) (1.16.0)\n"
     ]
    }
   ],
   "source": [
    "!pip install shap\n",
    "import shap\n",
    "import matplotlib.pyplot as plt"
   ]
  },
  {
   "cell_type": "code",
   "execution_count": 31,
   "metadata": {
    "id": "POk0kUrdB-Y4"
   },
   "outputs": [],
   "source": [
    "\n",
    "def SHAP_EXP(model,graph_feat,X_t):\n",
    "  print(\"Models: \",model)\n",
    "\n",
    "  explainer = shap.Explainer(model.predict, X_t)\n",
    "\n",
    "  shap_values1 = explainer(X_t)\n",
    "  features_names=list_of_feat1\n",
    "\n",
    "  if 'Subjects' in features_names:\n",
    "    features_names.pop(0)\n",
    "\n",
    "  print(\"Global Explaination\")\n",
    "  shap.plots.bar(shap_values1,max_display=30,show=False)\n",
    "\n",
    "  plt.xlabel('xlabel',fontweight=\"bold\",fontsize=13)\n",
    "  plt.ylabel('ylabel',fontweight=\"bold\",fontsize=13)\n",
    "  plt.xticks(fontsize=13, weight = 'bold')\n",
    "  plt.yticks(fontsize=13, weight = 'bold')\n",
    "\n",
    "  plt.show()\n",
    "  print(\"Global Explaination\")\n",
    "\n",
    "  shap.summary_plot(shap_values1,max_display=30,show=False)\n",
    "  plt.xlabel('xlabel',fontweight=\"bold\",fontsize=13)\n",
    "  plt.ylabel('ylabel',fontweight=\"bold\",fontsize=13)\n",
    "  plt.xticks(fontsize=13, weight = 'bold')\n",
    "  plt.yticks(fontsize=13, weight = 'bold')\n",
    "\n",
    "  plt.show()\n",
    "  print(\"__________________________\")\n",
    "  shap.plots.violin(shap_values1, feature_names=features_names, plot_type=\"layered_violin\",max_display=30,show=False)\n",
    "  plt.xlabel('xlabel',fontweight=\"bold\",fontsize=13)\n",
    "  plt.ylabel('ylabel',fontweight=\"bold\",fontsize=13)\n",
    "  plt.xticks(fontsize=13, weight = 'bold')\n",
    "  plt.yticks(fontsize=13, weight = 'bold')\n",
    "\n",
    "  plt.show()\n",
    "  print(\"Local Explaination\")\n",
    "  shap.plots.violin(shap_values1,feature_names=features_names, max_display=30,show=False)\n",
    "  plt.xlabel('xlabel',fontweight=\"bold\",fontsize=13)\n",
    "  plt.ylabel('ylabel',fontweight=\"bold\",fontsize=13)\n",
    "  plt.xticks(fontsize=13, weight = 'bold')\n",
    "  plt.yticks(fontsize=13, weight = 'bold')\n",
    "\n",
    "  plt.show()\n",
    "\n",
    "  print(\"___________________________\")\n",
    "\n",
    "  print(\"Local Explaination\")\n",
    "  shap.plots.waterfall(shap_values1[graph_feat[\"shap_values Index\"]],max_display=25,show=False)\n",
    "  plt.xlabel('xlabel',fontweight=\"bold\",fontsize=13)\n",
    "  plt.ylabel('ylabel',fontweight=\"bold\",fontsize=13)\n",
    "  plt.xticks(fontsize=13, weight = 'bold')\n",
    "  plt.yticks(fontsize=13, weight = 'bold')\n",
    "\n",
    "  plt.show()\n",
    "\n",
    "\n",
    "  print(\"Local Explaination\")\n",
    "\n",
    "  shap.plots.bar(shap_values1[graph_feat[\"shap_values Index\"]],max_display=25,show=False)\n",
    "  plt.xlabel('xlabel',fontweight=\"bold\",fontsize=13)\n",
    "  plt.ylabel('ylabel',fontweight=\"bold\",fontsize=13)\n",
    "  plt.xticks(fontsize=13, weight = 'bold')\n",
    "  plt.yticks(fontsize=13, weight = 'bold')\n",
    "\n",
    "  plt.show()"
   ]
  },
  {
   "cell_type": "markdown",
   "metadata": {
    "id": "jadUdILzrhrz"
   },
   "source": [
    "**Model Check Box Function**"
   ]
  },
  {
   "cell_type": "code",
   "execution_count": 69,
   "metadata": {
    "id": "V9gVXE96rdZ2"
   },
   "outputs": [],
   "source": [
    "\n",
    "def models_check_box(models):\n",
    "  import ipywidgets as widgets\n",
    "  from IPython.display import display\n",
    "  new_keys=[]\n",
    "  for i in models:\n",
    "    i=widgets.Checkbox(\n",
    "      value=False,\n",
    "      description=str(i),\n",
    "      disabled=False,\n",
    "      indent=False\n",
    "      )\n",
    "    display(i)\n",
    "    new_keys.append(i)\n",
    "  return new_keys"
   ]
  },
  {
   "cell_type": "code",
   "execution_count": 70,
   "metadata": {
    "id": "V-G5szfQDiz1"
   },
   "outputs": [
    {
     "data": {
      "application/vnd.jupyter.widget-view+json": {
       "model_id": "ef834a812dc84a808452dfa24e702cf9",
       "version_major": 2,
       "version_minor": 0
      },
      "text/plain": [
       "Checkbox(value=False, description='AdaBoostClassifier(random_state=0)', indent=False)"
      ]
     },
     "metadata": {},
     "output_type": "display_data"
    },
    {
     "data": {
      "application/vnd.jupyter.widget-view+json": {
       "model_id": "873643cda6dc4d1da6f795131097108b",
       "version_major": 2,
       "version_minor": 0
      },
      "text/plain": [
       "Checkbox(value=False, description='GradientBoostingClassifier(random_state=0)', indent=False)"
      ]
     },
     "metadata": {},
     "output_type": "display_data"
    },
    {
     "data": {
      "application/vnd.jupyter.widget-view+json": {
       "model_id": "7b609079568540419d68d8d279e8e7b5",
       "version_major": 2,
       "version_minor": 0
      },
      "text/plain": [
       "Checkbox(value=False, description='RandomForestClassifier(random_state=0)', indent=False)"
      ]
     },
     "metadata": {},
     "output_type": "display_data"
    },
    {
     "data": {
      "application/vnd.jupyter.widget-view+json": {
       "model_id": "de4222fe3f5a4668b6c1c668047d28b0",
       "version_major": 2,
       "version_minor": 0
      },
      "text/plain": [
       "Checkbox(value=False, description='KNeighborsClassifier()', indent=False)"
      ]
     },
     "metadata": {},
     "output_type": "display_data"
    },
    {
     "data": {
      "application/vnd.jupyter.widget-view+json": {
       "model_id": "46b2636a0a94445a986f3d7f068b927e",
       "version_major": 2,
       "version_minor": 0
      },
      "text/plain": [
       "Checkbox(value=False, description='HistGradientBoostingClassifier(random_state=0)', indent=False)"
      ]
     },
     "metadata": {},
     "output_type": "display_data"
    }
   ],
   "source": [
    "new_keys_7=models_check_box(models)"
   ]
  },
  {
   "cell_type": "code",
   "execution_count": null,
   "metadata": {
    "id": "JeD8HT_iDodb"
   },
   "outputs": [
    {
     "name": "stdout",
     "output_type": "stream",
     "text": [
      "Models:  RandomForestClassifier(random_state=0)\n"
     ]
    },
    {
     "name": "stderr",
     "output_type": "stream",
     "text": [
      "Permutation explainer:  14%|█▎        | 202528/1489940 [67:57:55<465:39:06,  1.30s/it]     "
     ]
    }
   ],
   "source": [
    "graph_feat={\n",
    "    \"max_display\":30,\n",
    "    \"shap_values Index\":10\n",
    "}\n",
    "\n",
    "explainable_data = X_test[0:100] # first 100 rows of testing data\n",
    "\n",
    "for i in range(len(new_keys_7)):\n",
    "  if new_keys_7[i].value ==True:\n",
    "    SHAP_EXP(models[i],graph_feat,explainable_data)\n",
    "    print(\"---------------------------------------------------------\")\n",
    "    print(\"---------------------------------------------------------\")\n",
    "    print(\"---------------------------------------------------------\")\n",
    "    print(\"---------------------------------------------------------\")"
   ]
  },
  {
   "cell_type": "markdown",
   "metadata": {
    "id": "23z3A3f1ol6d"
   },
   "source": [
    "#Confusion Matrix For Testing"
   ]
  },
  {
   "cell_type": "code",
   "execution_count": 72,
   "metadata": {
    "id": "2MQY3_i_cnFC"
   },
   "outputs": [],
   "source": [
    "def Conf_Mat_percent(X_,y_,attb,keys):\n",
    "\n",
    "  import matplotlib.pyplot as plt\n",
    "  from yellowbrick.classifier import ConfusionMatrix\n",
    "  import matplotlib.dates as dates\n",
    "\n",
    "  fig = plt.figure(figsize=(attb[\"Fig Height\"],attb[\"Fig weidth\"]))\n",
    "  ax = fig.add_subplot(111)\n",
    "\n",
    "\n",
    "  for i in range(len(keys)):\n",
    "    if keys[i].value ==True:\n",
    "      cm = ConfusionMatrix(models[i], classes=['Control', 'Stroke'],fontsize=attb[\"Confusion Matrix Inner Fontsize\"],ax=ax,percent=True,fontweight=\"bold\")\n",
    "\n",
    "      if str(models[i])[:3] == \"XGB\":\n",
    "        cm.fit(X_train.values, y_train.values)\n",
    "        cm.score(X_.values, y_.values)\n",
    "      else:\n",
    "        cm.fit(X_train, y_train)\n",
    "        cm.score(X_, y_)\n",
    "      cm.ax.set_title(str(models[i]), fontsize=30, fontweight=\"bold\")\n",
    "      cm.ax.set_xlabel(\"Predicted Class\", fontsize=attb[\"X Axis Fontsize\"],fontweight=\"bold\")\n",
    "      cm.ax.set_ylabel(\"True Class\", fontsize=attb[\"Y Axis Fontsize\"],fontweight=\"bold\")\n",
    "      cm.ax.xaxis.set_tick_params(labelsize=attb[\"X Label Fontsize\"])\n",
    "      cm.ax.yaxis.set_tick_params(labelsize=attb[\"Y Label Fontsize\"])\n",
    "      for label in ax.get_xticklabels():\n",
    "        label.set_fontweight(550)\n",
    "      for label in ax.get_yticklabels():\n",
    "        label.set_fontweight(550)\n",
    "\n",
    "      plt.savefig(attb[\"type\"]+\"_Confusion_mat(\"+str(models[i])+\").png\")\n",
    "      cm.show()\n",
    "      print(\"--------------------\")\n",
    "      print(\"--------------------\")"
   ]
  },
  {
   "cell_type": "code",
   "execution_count": 73,
   "metadata": {
    "id": "b3tHiraMBr_C"
   },
   "outputs": [
    {
     "data": {
      "application/vnd.jupyter.widget-view+json": {
       "model_id": "06db9972083846aea784d1e8131bbbb1",
       "version_major": 2,
       "version_minor": 0
      },
      "text/plain": [
       "Checkbox(value=False, description='AdaBoostClassifier(random_state=0)', indent=False)"
      ]
     },
     "metadata": {},
     "output_type": "display_data"
    },
    {
     "data": {
      "application/vnd.jupyter.widget-view+json": {
       "model_id": "948f9fcfd7064e31a15880279a9c003e",
       "version_major": 2,
       "version_minor": 0
      },
      "text/plain": [
       "Checkbox(value=False, description='GradientBoostingClassifier(random_state=0)', indent=False)"
      ]
     },
     "metadata": {},
     "output_type": "display_data"
    },
    {
     "data": {
      "application/vnd.jupyter.widget-view+json": {
       "model_id": "5baee58947b340a499a4fea1d86cab4d",
       "version_major": 2,
       "version_minor": 0
      },
      "text/plain": [
       "Checkbox(value=False, description='RandomForestClassifier(random_state=0)', indent=False)"
      ]
     },
     "metadata": {},
     "output_type": "display_data"
    },
    {
     "data": {
      "application/vnd.jupyter.widget-view+json": {
       "model_id": "9ea67062d5ee444886404e95f3479bfb",
       "version_major": 2,
       "version_minor": 0
      },
      "text/plain": [
       "Checkbox(value=False, description='KNeighborsClassifier()', indent=False)"
      ]
     },
     "metadata": {},
     "output_type": "display_data"
    },
    {
     "data": {
      "application/vnd.jupyter.widget-view+json": {
       "model_id": "d89370af7250451683592c92afcd1316",
       "version_major": 2,
       "version_minor": 0
      },
      "text/plain": [
       "Checkbox(value=False, description='HistGradientBoostingClassifier(random_state=0)', indent=False)"
      ]
     },
     "metadata": {},
     "output_type": "display_data"
    }
   ],
   "source": [
    "new_keys_6=models_check_box(models)"
   ]
  },
  {
   "cell_type": "code",
   "execution_count": 74,
   "metadata": {
    "id": "5vsqEYhponhI"
   },
   "outputs": [
    {
     "data": {
      "text/plain": [
       "'\\nfrom yellowbrick.classifier import ConfusionMatrix\\n\\n\\nfor i in range(len(new_keys_6)):\\n  if new_keys_6[i].value ==True:\\n    cm = ConfusionMatrix(models[i], classes=classes, percent=True)\\n\\n    cm.fit(X_train, y_train)\\n    cm.score(X_test, y_test)\\n    cm.show()\\n'"
      ]
     },
     "execution_count": 74,
     "metadata": {},
     "output_type": "execute_result"
    }
   ],
   "source": [
    "'''\n",
    "from yellowbrick.classifier import ConfusionMatrix\n",
    "\n",
    "\n",
    "for i in range(len(new_keys_6)):\n",
    "  if new_keys_6[i].value ==True:\n",
    "    cm = ConfusionMatrix(models[i], classes=classes, percent=True)\n",
    "\n",
    "    cm.fit(X_train, y_train)\n",
    "    cm.score(X_test, y_test)\n",
    "    cm.show()\n",
    "'''"
   ]
  },
  {
   "cell_type": "code",
   "execution_count": 75,
   "metadata": {
    "id": "ByyYNhq_cxNx"
   },
   "outputs": [
    {
     "data": {
      "image/png": "[encoded data removed]",
      "text/plain": [
       "<Figure size 1000x1000 with 1 Axes>"
      ]
     },
     "metadata": {},
     "output_type": "display_data"
    }
   ],
   "source": [
    "attributes={\n",
    "   \"Fig Height\": 10,\n",
    "   \"Fig weidth\": 10,\n",
    "\n",
    "  \"Y Axis Fontsize\" : 25,\n",
    "  \"X Axis Fontsize\" : 25,\n",
    "\n",
    "  \"Y Label Fontsize\" : 20,\n",
    "  \"X Label Fontsize\" : 20,\n",
    "\n",
    "  \"Confusion Matrix Inner Fontsize\": 30,\n",
    "  \"type\"  : \"Training\"\n",
    "\n",
    "}\n",
    "\n",
    "Conf_Mat_percent(X_test,y_test,attributes,new_keys_6)"
   ]
  },
  {
   "cell_type": "markdown",
   "metadata": {
    "id": "EwT5yAeqols7"
   },
   "source": []
  },
  {
   "cell_type": "markdown",
   "metadata": {
    "id": "57cQ8dzJX0Lp"
   },
   "source": [
    "#Confusion Matrix For Training"
   ]
  },
  {
   "cell_type": "code",
   "execution_count": 76,
   "metadata": {
    "id": "tDrF5oTkBcZ_"
   },
   "outputs": [
    {
     "data": {
      "application/vnd.jupyter.widget-view+json": {
       "model_id": "20dcbf0e2c7e4831bc49b291574293ce",
       "version_major": 2,
       "version_minor": 0
      },
      "text/plain": [
       "Checkbox(value=False, description='AdaBoostClassifier(random_state=0)', indent=False)"
      ]
     },
     "metadata": {},
     "output_type": "display_data"
    },
    {
     "data": {
      "application/vnd.jupyter.widget-view+json": {
       "model_id": "cc5e23b035b24675a86577c8a9172bea",
       "version_major": 2,
       "version_minor": 0
      },
      "text/plain": [
       "Checkbox(value=False, description='GradientBoostingClassifier(random_state=0)', indent=False)"
      ]
     },
     "metadata": {},
     "output_type": "display_data"
    },
    {
     "data": {
      "application/vnd.jupyter.widget-view+json": {
       "model_id": "d6275a04a176491286b8c25d028ec440",
       "version_major": 2,
       "version_minor": 0
      },
      "text/plain": [
       "Checkbox(value=False, description='RandomForestClassifier(random_state=0)', indent=False)"
      ]
     },
     "metadata": {},
     "output_type": "display_data"
    },
    {
     "data": {
      "application/vnd.jupyter.widget-view+json": {
       "model_id": "debc273925354658aa0a1a0e96ddbb78",
       "version_major": 2,
       "version_minor": 0
      },
      "text/plain": [
       "Checkbox(value=False, description='KNeighborsClassifier()', indent=False)"
      ]
     },
     "metadata": {},
     "output_type": "display_data"
    },
    {
     "data": {
      "application/vnd.jupyter.widget-view+json": {
       "model_id": "54e7c7893fd14fc9951b34aef6f1a94e",
       "version_major": 2,
       "version_minor": 0
      },
      "text/plain": [
       "Checkbox(value=False, description='HistGradientBoostingClassifier(random_state=0)', indent=False)"
      ]
     },
     "metadata": {},
     "output_type": "display_data"
    }
   ],
   "source": [
    "new_keys_5=models_check_box(models)"
   ]
  },
  {
   "cell_type": "code",
   "execution_count": 77,
   "metadata": {
    "id": "jhzRUmq9X4CZ"
   },
   "outputs": [],
   "source": [
    "\n",
    "for i in range(len(new_keys_5)):\n",
    "  if new_keys_5[i].value ==True:\n",
    "    cm = ConfusionMatrix(models[i], classes=classes)\n",
    "\n",
    "    cm.fit(X_train, y_train)\n",
    "    cm.score(X_train, y_train)\n",
    "    cm.show()\n",
    "    print(\"-------------------------------\")\n",
    "    print(\"-------------------------------\")"
   ]
  },
  {
   "cell_type": "markdown",
   "metadata": {
    "id": "Wvhy6ENJf_oS"
   },
   "source": [
    "#Result CSV<br>\n",
    "Predicted and Actual Row will be added at the end index"
   ]
  },
  {
   "cell_type": "code",
   "execution_count": 78,
   "metadata": {
    "id": "FA_xBniSgLzZ"
   },
   "outputs": [],
   "source": [
    "def reverse_transfrom(my_list):\n",
    "  for i in range(len(my_list)):\n",
    "    if my_list[i] == 0:\n",
    "      my_list[i] = 'Control'\n",
    "    else:\n",
    "      my_list[i] = 'Tinnitus'\n",
    "  return my_list"
   ]
  },
  {
   "cell_type": "code",
   "execution_count": 79,
   "metadata": {
    "id": "iZye8IXAAN9V"
   },
   "outputs": [
    {
     "data": {
      "application/vnd.jupyter.widget-view+json": {
       "model_id": "cd4e41f4bde84768b5173438a316611f",
       "version_major": 2,
       "version_minor": 0
      },
      "text/plain": [
       "Checkbox(value=False, description='AdaBoostClassifier(random_state=0)', indent=False)"
      ]
     },
     "metadata": {},
     "output_type": "display_data"
    },
    {
     "data": {
      "application/vnd.jupyter.widget-view+json": {
       "model_id": "33a94ab6118b41f682ba9dedc19e978b",
       "version_major": 2,
       "version_minor": 0
      },
      "text/plain": [
       "Checkbox(value=False, description='GradientBoostingClassifier(random_state=0)', indent=False)"
      ]
     },
     "metadata": {},
     "output_type": "display_data"
    },
    {
     "data": {
      "application/vnd.jupyter.widget-view+json": {
       "model_id": "0d61d4b4fbca4371afabbad76ebea5c6",
       "version_major": 2,
       "version_minor": 0
      },
      "text/plain": [
       "Checkbox(value=False, description='RandomForestClassifier(random_state=0)', indent=False)"
      ]
     },
     "metadata": {},
     "output_type": "display_data"
    },
    {
     "data": {
      "application/vnd.jupyter.widget-view+json": {
       "model_id": "8b3c597b5500436f9bf148fa94a19aab",
       "version_major": 2,
       "version_minor": 0
      },
      "text/plain": [
       "Checkbox(value=False, description='KNeighborsClassifier()', indent=False)"
      ]
     },
     "metadata": {},
     "output_type": "display_data"
    },
    {
     "data": {
      "application/vnd.jupyter.widget-view+json": {
       "model_id": "1e2cb99b9f714cccb4ad811e697a48a2",
       "version_major": 2,
       "version_minor": 0
      },
      "text/plain": [
       "Checkbox(value=False, description='HistGradientBoostingClassifier(random_state=0)', indent=False)"
      ]
     },
     "metadata": {},
     "output_type": "display_data"
    }
   ],
   "source": [
    "new_keys_4=models_check_box(models)"
   ]
  },
  {
   "cell_type": "code",
   "execution_count": 80,
   "metadata": {
    "id": "aGw3UapChSZE"
   },
   "outputs": [],
   "source": [
    "for i in range(len(new_keys_4)):\n",
    "  if new_keys_4[i].value ==True:\n",
    "    temp=X_test\n",
    "\n",
    "    prediction_cls = reverse_transfrom(list(models[i].predict(X_test[0:])))\n",
    "    actual_cls = reverse_transfrom(list(y_test[0:]))\n",
    "\n",
    "    temp[\"Actual\"] = actual_cls\n",
    "    temp[\"Predicted\"] = prediction_cls\n",
    "\n",
    "    temp.to_csv(str(models[i])+\".csv\")"
   ]
  },
  {
   "cell_type": "markdown",
   "metadata": {
    "id": "bwOJ36hchWiN"
   },
   "source": [
    "#ROC Comparaing Machine Learning Models"
   ]
  },
  {
   "cell_type": "code",
   "execution_count": 81,
   "metadata": {
    "id": "5XCVUOkc23oX"
   },
   "outputs": [],
   "source": [
    "\n",
    "def ROC(mod,X_t,y_t,graph_feat):\n",
    "  r_probs = [0 for _ in range(len(y_t))]\n",
    "\n",
    "  model_probs = []\n",
    "\n",
    "\n",
    "  for i in mod:\n",
    "    model_probs.append(i.predict_proba(X_t))\n",
    "\n",
    "\n",
    "  model_probs2=[]\n",
    "\n",
    "  for i in model_probs:\n",
    "    model_probs2.append(i[:,1])\n",
    "\n",
    "\n",
    "  from sklearn.metrics import roc_curve, roc_auc_score\n",
    "\n",
    "  model_auc=[]\n",
    "  r_auc = roc_auc_score(y_t, r_probs)\n",
    "\n",
    "  for i in model_probs2:\n",
    "    model_auc.append(roc_auc_score(y_t,i))\n",
    "\n",
    "\n",
    "  fpr_tpr=[]\n",
    "  r_fpr, r_tpr, _ = roc_curve(y_t, r_probs)\n",
    "\n",
    "  for i in model_probs2:\n",
    "    fpr, tpr, _ = roc_curve(y_t, i)\n",
    "    fpr_tpr.append((fpr,tpr))\n",
    "\n",
    "  import matplotlib.pyplot as plt\n",
    "  plt.plot(r_fpr, r_tpr, linestyle='--', label='Random prediction (AUROC = %0.3f)' % r_auc)\n",
    "\n",
    "  for i in range(len(model_auc)):\n",
    "    plt.plot(fpr_tpr[i][0], fpr_tpr[i][1], marker='.', label=str(mod[i])+' (AUROC = %0.3f)' % model_auc[i], lw = 5)\n",
    "\n",
    "  # Title\n",
    "  plt.title('ROC Plot Testing',fontsize= graph_feat[\"Title Size\"], fontweight=graph_feat[\"Title Fontweight\"])\n",
    "  plt.xlabel('False Positive Rate',fontweight=graph_feat[\"X axis Label Fontweight\"],fontsize=graph_feat[\"X axis Label Font Size\"])\n",
    "  plt.ylabel('True Positive Rate',fontweight=graph_feat[\"Y axis Label Fontweight\"],fontsize=graph_feat[\"Y axis Label Font Size\"])\n",
    "\n",
    "  plt.legend(\n",
    "           prop = {'size' : graph_feat[\"legend Font Size\"]},\n",
    "           loc = graph_feat[\"legend Position\"])\n",
    "  plt.xticks(fontsize=20, weight = 'bold')\n",
    "  plt.yticks(fontsize=20, weight = 'bold')\n",
    "  fig = plt.gcf()\n",
    "  fig.set_size_inches(graph_feat[\"Fig Width (inches)\"], graph_feat[\"Fig Height (inches)\"])\n",
    "  fig.savefig(graph_feat[\"Fig Saving Name\"], dpi=graph_feat[\"dpi\"])\n",
    "  plt.show()"
   ]
  },
  {
   "cell_type": "markdown",
   "metadata": {
    "id": "zDbik7Nf6vq0"
   },
   "source": [
    "***Training ROC***<br>\n",
    "Chosse the Models"
   ]
  },
  {
   "cell_type": "code",
   "execution_count": 82,
   "metadata": {
    "id": "Co9nhyU864CC"
   },
   "outputs": [
    {
     "data": {
      "application/vnd.jupyter.widget-view+json": {
       "model_id": "60f6c39e452343c380117c70c391ffc6",
       "version_major": 2,
       "version_minor": 0
      },
      "text/plain": [
       "Checkbox(value=False, description='AdaBoostClassifier(random_state=0)', indent=False)"
      ]
     },
     "metadata": {},
     "output_type": "display_data"
    },
    {
     "data": {
      "application/vnd.jupyter.widget-view+json": {
       "model_id": "83ac5c2452ad49aeaf14b734c4ee9c07",
       "version_major": 2,
       "version_minor": 0
      },
      "text/plain": [
       "Checkbox(value=False, description='GradientBoostingClassifier(random_state=0)', indent=False)"
      ]
     },
     "metadata": {},
     "output_type": "display_data"
    },
    {
     "data": {
      "application/vnd.jupyter.widget-view+json": {
       "model_id": "23ffebe416864392b916379d0aa3cdf0",
       "version_major": 2,
       "version_minor": 0
      },
      "text/plain": [
       "Checkbox(value=False, description='RandomForestClassifier(random_state=0)', indent=False)"
      ]
     },
     "metadata": {},
     "output_type": "display_data"
    },
    {
     "data": {
      "application/vnd.jupyter.widget-view+json": {
       "model_id": "5ed36f1ca9d4498688a9bbdf2e429cba",
       "version_major": 2,
       "version_minor": 0
      },
      "text/plain": [
       "Checkbox(value=False, description='KNeighborsClassifier()', indent=False)"
      ]
     },
     "metadata": {},
     "output_type": "display_data"
    },
    {
     "data": {
      "application/vnd.jupyter.widget-view+json": {
       "model_id": "b0658563280443a38b28444430641f90",
       "version_major": 2,
       "version_minor": 0
      },
      "text/plain": [
       "Checkbox(value=False, description='HistGradientBoostingClassifier(random_state=0)', indent=False)"
      ]
     },
     "metadata": {},
     "output_type": "display_data"
    }
   ],
   "source": [
    "new_keys_2=models_check_box(models)"
   ]
  },
  {
   "cell_type": "markdown",
   "metadata": {
    "id": "Xz5G8tcr6Ulx"
   },
   "source": [
    "\n",
    "Change  the given dictionary of graph feature for desire graph."
   ]
  },
  {
   "cell_type": "code",
   "execution_count": 83,
   "metadata": {
    "id": "6VAJMmn-97p3"
   },
   "outputs": [
    {
     "ename": "ValueError",
     "evalue": "multi_class must be in ('ovo', 'ovr')",
     "output_type": "error",
     "traceback": [
      "\u001b[1;31m---------------------------------------------------------------------------\u001b[0m",
      "\u001b[1;31mValueError\u001b[0m                                Traceback (most recent call last)",
      "Cell \u001b[1;32mIn[83], line 28\u001b[0m\n\u001b[0;32m     25\u001b[0m   \u001b[38;5;28;01mif\u001b[39;00m new_keys_2[i]\u001b[38;5;241m.\u001b[39mvalue \u001b[38;5;241m==\u001b[39m\u001b[38;5;28;01mTrue\u001b[39;00m:\n\u001b[0;32m     26\u001b[0m     mod\u001b[38;5;241m.\u001b[39mappend(models[i])\n\u001b[1;32m---> 28\u001b[0m ROC(mod,X_test,y_test,graph_feat)\n",
      "Cell \u001b[1;32mIn[81], line 20\u001b[0m, in \u001b[0;36mROC\u001b[1;34m(mod, X_t, y_t, graph_feat)\u001b[0m\n\u001b[0;32m     17\u001b[0m \u001b[38;5;28;01mfrom\u001b[39;00m \u001b[38;5;21;01msklearn\u001b[39;00m\u001b[38;5;21;01m.\u001b[39;00m\u001b[38;5;21;01mmetrics\u001b[39;00m \u001b[38;5;28;01mimport\u001b[39;00m roc_curve, roc_auc_score\n\u001b[0;32m     19\u001b[0m model_auc\u001b[38;5;241m=\u001b[39m[]\n\u001b[1;32m---> 20\u001b[0m r_auc \u001b[38;5;241m=\u001b[39m roc_auc_score(y_t, r_probs)\n\u001b[0;32m     22\u001b[0m \u001b[38;5;28;01mfor\u001b[39;00m i \u001b[38;5;129;01min\u001b[39;00m model_probs2:\n\u001b[0;32m     23\u001b[0m   model_auc\u001b[38;5;241m.\u001b[39mappend(roc_auc_score(y_t,i))\n",
      "File \u001b[1;32mC:\\ProgramData\\anaconda3\\Lib\\site-packages\\sklearn\\metrics\\_ranking.py:565\u001b[0m, in \u001b[0;36mroc_auc_score\u001b[1;34m(y_true, y_score, average, sample_weight, max_fpr, multi_class, labels)\u001b[0m\n\u001b[0;32m    558\u001b[0m         \u001b[38;5;28;01mraise\u001b[39;00m \u001b[38;5;167;01mValueError\u001b[39;00m(\n\u001b[0;32m    559\u001b[0m             \u001b[38;5;124m\"\u001b[39m\u001b[38;5;124mPartial AUC computation not available in \u001b[39m\u001b[38;5;124m\"\u001b[39m\n\u001b[0;32m    560\u001b[0m             \u001b[38;5;124m\"\u001b[39m\u001b[38;5;124mmulticlass setting, \u001b[39m\u001b[38;5;124m'\u001b[39m\u001b[38;5;124mmax_fpr\u001b[39m\u001b[38;5;124m'\u001b[39m\u001b[38;5;124m must be\u001b[39m\u001b[38;5;124m\"\u001b[39m\n\u001b[0;32m    561\u001b[0m             \u001b[38;5;124m\"\u001b[39m\u001b[38;5;124m set to `None`, received `max_fpr=\u001b[39m\u001b[38;5;132;01m{0}\u001b[39;00m\u001b[38;5;124m` \u001b[39m\u001b[38;5;124m\"\u001b[39m\n\u001b[0;32m    562\u001b[0m             \u001b[38;5;124m\"\u001b[39m\u001b[38;5;124minstead\u001b[39m\u001b[38;5;124m\"\u001b[39m\u001b[38;5;241m.\u001b[39mformat(max_fpr)\n\u001b[0;32m    563\u001b[0m         )\n\u001b[0;32m    564\u001b[0m     \u001b[38;5;28;01mif\u001b[39;00m multi_class \u001b[38;5;241m==\u001b[39m \u001b[38;5;124m\"\u001b[39m\u001b[38;5;124mraise\u001b[39m\u001b[38;5;124m\"\u001b[39m:\n\u001b[1;32m--> 565\u001b[0m         \u001b[38;5;28;01mraise\u001b[39;00m \u001b[38;5;167;01mValueError\u001b[39;00m(\u001b[38;5;124m\"\u001b[39m\u001b[38;5;124mmulti_class must be in (\u001b[39m\u001b[38;5;124m'\u001b[39m\u001b[38;5;124movo\u001b[39m\u001b[38;5;124m'\u001b[39m\u001b[38;5;124m, \u001b[39m\u001b[38;5;124m'\u001b[39m\u001b[38;5;124movr\u001b[39m\u001b[38;5;124m'\u001b[39m\u001b[38;5;124m)\u001b[39m\u001b[38;5;124m\"\u001b[39m)\n\u001b[0;32m    566\u001b[0m     \u001b[38;5;28;01mreturn\u001b[39;00m _multiclass_roc_auc_score(\n\u001b[0;32m    567\u001b[0m         y_true, y_score, labels, multi_class, average, sample_weight\n\u001b[0;32m    568\u001b[0m     )\n\u001b[0;32m    569\u001b[0m \u001b[38;5;28;01melif\u001b[39;00m y_type \u001b[38;5;241m==\u001b[39m \u001b[38;5;124m\"\u001b[39m\u001b[38;5;124mbinary\u001b[39m\u001b[38;5;124m\"\u001b[39m:\n",
      "\u001b[1;31mValueError\u001b[0m: multi_class must be in ('ovo', 'ovr')"
     ]
    }
   ],
   "source": [
    "graph_feat={\n",
    "    \"Title Size\":30,\n",
    "    \"Title Fontweight\":'bold',\n",
    "\n",
    "    \"legend Font Size\": 20,\n",
    "    \"legend Position\": \"lower right\",\n",
    "    \"legend Fontweight\":'bold',\n",
    "\n",
    "    \"X axis Label Font Size\":25,\n",
    "    \"X axis Label Fontweight\":'bold',\n",
    "\n",
    "    \"Y axis Label Font Size\":25,\n",
    "    \"Y axis Label Fontweight\":'bold',\n",
    "\n",
    "    \"Fig Height (inches)\":10.8,\n",
    "    \"Fig Width (inches)\":18.8,\n",
    "\n",
    "    \"Fig Saving Name\": \"ROC_testing.png\",\n",
    "    \"dpi\":100\n",
    "\n",
    "}\n",
    "\n",
    "mod=[]\n",
    "for i in range(len(new_keys_2)):\n",
    "  if new_keys_2[i].value ==True:\n",
    "    mod.append(models[i])\n",
    "\n",
    "ROC(mod,X_test,y_test,graph_feat)"
   ]
  },
  {
   "cell_type": "markdown",
   "metadata": {
    "id": "I_zBmlgG9x-q"
   },
   "source": [
    "\n",
    "\n",
    "---\n",
    "\n"
   ]
  },
  {
   "cell_type": "markdown",
   "metadata": {
    "id": "fGFXoWwH9SX6"
   },
   "source": [
    "***Testing ROC***<br>\n",
    "Chosse the Models"
   ]
  },
  {
   "cell_type": "code",
   "execution_count": null,
   "metadata": {
    "id": "XuGVSd3M9hEI"
   },
   "outputs": [],
   "source": [
    "new_keys_3=models_check_box(models)"
   ]
  },
  {
   "cell_type": "markdown",
   "metadata": {
    "id": "whZYw0Q-9gke"
   },
   "source": [
    "\n",
    "Change  the given dictionary of graph feature for desire graph."
   ]
  },
  {
   "cell_type": "code",
   "execution_count": null,
   "metadata": {
    "id": "hsYH7Q6fkbSh"
   },
   "outputs": [],
   "source": [
    "graph_feat={\n",
    "    \"Title Size\":18,\n",
    "    \"Title Fontweight\":'bold',\n",
    "\n",
    "    \"legend Font Size\": 14,\n",
    "    \"legend Position\": \"lower right\",\n",
    "\n",
    "    \"X axis Label Font Size\":16,\n",
    "    \"X axis Label Fontweight\":'bold',\n",
    "\n",
    "    \"Y axis Label Font Size\":16,\n",
    "    \"Y axis Label Fontweight\":'bold',\n",
    "\n",
    "    \"Fig Height (inches)\":10.8,\n",
    "    \"Fig Width (inches)\":18.8,\n",
    "\n",
    "    \"Fig Saving Name\": \"ROC_testing.png\",\n",
    "    \"dpi\":100\n",
    "\n",
    "}\n",
    "\n",
    "mod=[]\n",
    "for i in range(len(new_keys_3)):\n",
    "  if new_keys_3[i].value ==True:\n",
    "    mod.append(models[i])\n",
    "\n",
    "ROC(mod,X_test,y_test,graph_feat)"
   ]
  },
  {
   "cell_type": "markdown",
   "metadata": {
    "id": "Q1ytN7Xdqhmc"
   },
   "source": [
    "# **Performance Matrces_Test Dataset**"
   ]
  },
  {
   "cell_type": "code",
   "execution_count": null,
   "metadata": {
    "id": "Cf3Rz0_UWiuH"
   },
   "outputs": [],
   "source": [
    "model_compare = models_check_box(models)"
   ]
  },
  {
   "cell_type": "code",
   "execution_count": null,
   "metadata": {
    "id": "Ihoa5P_LX1Vk"
   },
   "outputs": [],
   "source": [
    "from sklearn.metrics import make_scorer, accuracy_score, precision_score, recall_score,f1_score\n",
    "import seaborn as sns\n",
    "import matplotlib.pyplot as plt\n",
    "# Create a figure with a specific size\n",
    "\n",
    "def plot_model_comp(df):\n",
    "  plt.figure(figsize=(10, 7))\n",
    "  ax = sns.barplot(data=df, x=df.columns[0], y=df.columns[1])\n",
    "\n",
    "  ax.set_xlabel(\"Models\", fontdict={'size': 30, 'weight': 'bold'})\n",
    "  ax.set_ylabel(\"Scores\", fontdict={'size': 30, 'weight': 'bold'})\n",
    "  #ax.tick_params(axis='both', which='major', labelsize=14,fontweight='bold')\n",
    "\n",
    "\n",
    "  plt.yticks(fontsize=20,fontweight='bold')\n",
    "  plt.xticks(fontsize=20,fontweight='bold')\n",
    "  ax.set_xticklabels(ax.get_xticklabels(), rotation=45)\n",
    "\n",
    "  plt.show()\n",
    "\n",
    "\n",
    "\n",
    "\n",
    "\n",
    "\n",
    "\n",
    "m=[]\n",
    "acc=[]\n",
    "precision_list=[]\n",
    "recall_list=[]\n",
    "f1_score_list=[]\n",
    "\n",
    "\n",
    "\n",
    "for i in range(len(model_compare)):\n",
    "  if model_compare[i].value ==True:\n",
    "    y_pred = models[i].predict(X_test)\n",
    "    m.append(str(models[i]).split('(')[0])\n",
    "    acc.append(accuracy_score(y_pred,y_test))\n",
    "    precision_list.append(precision_score(y_pred,y_test))\n",
    "    recall_list.append(recall_score(y_pred,y_test))\n",
    "    f1_score_list.append(f1_score(y_pred,y_test))\n",
    "\n",
    "\n",
    "\n",
    "\n",
    "df_accu = {\n",
    "    \"Models\" : m,\n",
    "    \"Accurecy\" : acc,\n",
    "\n",
    "}\n",
    "df_accu = pd.DataFrame.from_dict(df_accu)\n",
    "\n",
    "\n",
    "df_precision={\n",
    "    \"Models\" : m,\n",
    "    \"Precision\" : precision_list\n",
    "}\n",
    "df_precision = pd.DataFrame.from_dict(df_precision)\n",
    "\n",
    "df_recall = {\n",
    "    \"Models\" : m,\n",
    "    \"Recall\" : recall_list\n",
    "}\n",
    "df_recall = pd.DataFrame.from_dict(df_recall)\n",
    "\n",
    "df_f1_score = {\n",
    "    \"Models\" : m,\n",
    "    \"f1_score\" : f1_score_list\n",
    "}\n",
    "df_f1_score = pd.DataFrame.from_dict(df_f1_score)"
   ]
  },
  {
   "cell_type": "markdown",
   "metadata": {
    "id": "JN66h0voeqAv"
   },
   "source": [
    "##Accurecy"
   ]
  },
  {
   "cell_type": "code",
   "execution_count": null,
   "metadata": {
    "id": "h4udAHklep26"
   },
   "outputs": [],
   "source": [
    "plot_model_comp(df_accu)"
   ]
  },
  {
   "cell_type": "markdown",
   "metadata": {
    "id": "YX_shen-epvK"
   },
   "source": [
    "##Precision"
   ]
  },
  {
   "cell_type": "code",
   "execution_count": null,
   "metadata": {
    "id": "-XcfgCC5epmL"
   },
   "outputs": [],
   "source": [
    "plot_model_comp(df_precision)"
   ]
  },
  {
   "cell_type": "markdown",
   "metadata": {
    "id": "V1qFdj67epdh"
   },
   "source": [
    "##Recall"
   ]
  },
  {
   "cell_type": "code",
   "execution_count": null,
   "metadata": {
    "id": "CB992bLqeozE"
   },
   "outputs": [],
   "source": [
    "plot_model_comp(df_recall)"
   ]
  },
  {
   "cell_type": "markdown",
   "metadata": {
    "id": "FyS4YWHteiWH"
   },
   "source": [
    "##f1_score"
   ]
  },
  {
   "cell_type": "code",
   "execution_count": null,
   "metadata": {
    "id": "-WGdr268Zjrm"
   },
   "outputs": [],
   "source": [
    "plot_model_comp(df_f1_score)"
   ]
  },
  {
   "cell_type": "markdown",
   "metadata": {
    "id": "6TIc25SmmZ47"
   },
   "source": []
  },
  {
   "cell_type": "markdown",
   "metadata": {
    "id": "LgstSxKXlrGF"
   },
   "source": [
    "# **Voilin Plot_K-fold CV**"
   ]
  },
  {
   "cell_type": "code",
   "execution_count": null,
   "metadata": {
    "id": "P0_UrBQlpyRA"
   },
   "outputs": [],
   "source": [
    "from sklearn.model_selection import cross_validate\n",
    "from sklearn.metrics import make_scorer, accuracy_score, precision_score, recall_score,f1_score\n",
    "\n",
    "scoring = {'accuracy' : make_scorer(accuracy_score),\n",
    "           'precision' : make_scorer(precision_score),\n",
    "           'recall' : make_scorer(recall_score),\n",
    "           'f1_score' : make_scorer(f1_score)}\n",
    "\n",
    "\n",
    "k=10\n",
    "for i in result:\n",
    "  print(i[0],\" -> Accuracy: \",result[i])\n",
    "  #l=list(cross_val_score(i[0],X_new.iloc[:,1:], y_new,cv=k, scoring=scoring))\n",
    "  #avg=sum(l)/k\n",
    "  outcome = cross_validate(i[0],X_new.iloc[:,1:], y_new,cv=k, scoring=scoring)\n",
    "  #print(i[0],\" -> AVG Accurecy After CV: \"+str(avg)+ \" (For \"+str(k)+\" Fold)\")\n",
    "  print(i[0], outcome)\n",
    "  print(\"--------------------------------------------------------------------------\")"
   ]
  },
  {
   "cell_type": "code",
   "execution_count": null,
   "metadata": {
    "id": "H7h_DD0YuAyC"
   },
   "outputs": [],
   "source": [
    "vio_plot_key=models_check_box(models)"
   ]
  },
  {
   "cell_type": "code",
   "execution_count": null,
   "metadata": {
    "id": "KF8z1MX_w6sN"
   },
   "outputs": [],
   "source": [
    "\n",
    "\n",
    "\n",
    "k =10\n",
    "mod_outcomes = []\n",
    "for i in range(len(vio_plot_key)):\n",
    "  if vio_plot_key[i].value ==True:\n",
    "    mod_outcomes.append((str(models[i]).split('(')[0],cross_validate(models[i],X_new.iloc[:,1:], y_new,cv=k, scoring=scoring)))\n",
    "\n",
    "mat_dic={\n",
    "    'test_accuracy': \"Accuracy\",\n",
    "    'test_precision':\"Precision\",\n",
    "    'test_recall':\"Recall\",\n",
    "    'test_f1_score':\"F1-Score\"\n",
    "}\n",
    "\n",
    "\n",
    "\n",
    "m = []\n",
    "matrics = []\n",
    "mat_score = []\n",
    "\n",
    "\n",
    "\n",
    "for i in mod_outcomes:\n",
    "  for j in i[1]:\n",
    "    for l in i[1][j]:\n",
    "      if j in mat_dic.keys():\n",
    "        m.append(i[0])\n",
    "        matrics.append(mat_dic[j])\n",
    "        mat_score.append(l)\n",
    "\n",
    "\n",
    "df={\n",
    "    \"Models\" : m,\n",
    "    \"Matrics\": matrics,\n",
    "    \"Scores\":mat_score\n",
    "}\n",
    "\n",
    "df = pd.DataFrame.from_dict(df)\n",
    "\n",
    "\n",
    "\n",
    "\n",
    "import seaborn as sns\n",
    "import matplotlib.pyplot as plt\n",
    "# Create a figure with a specific size\n",
    "plt.figure(figsize=(20, 8))\n",
    "\n",
    "my_pal = {\"GradientBoostingClassifier\": \"cyan\", \"HistGradientBoostingClassifier\": \"lime\"}\n",
    "ax = sns.violinplot(data=df, x=\"Matrics\", y=\"Scores\", hue=\"Models\", palette=my_pal)\n",
    "#ax = sns.violinplot(data=df, y=\"Performance Scores\", hue=\"Models\")\n",
    "\n",
    "ax.set_xlabel(\"Matrics\", fontdict={'size': 20, 'weight': 'bold'})\n",
    "ax.set_ylabel(\"Performance Scores\", fontdict={'size': 20, 'weight': 'bold'})\n",
    "#ax.tick_params(axis='both', which='major', labelsize=14,fontweight='bold')\n",
    "\n",
    "\n",
    "plt.yticks(fontsize=15,fontweight='bold')\n",
    "plt.xticks(fontsize=15,fontweight='bold')\n",
    "\n",
    "plt.legend(title='Models',fontsize= 15, title_fontproperties={'weight':'bold'})\n",
    "\n",
    "\n",
    "plt.show()\n",
    "\n",
    "\n"
   ]
  },
  {
   "cell_type": "markdown",
   "metadata": {
    "id": "kFC9VGyzl4YF"
   },
   "source": [
    "# **CV_ROC**"
   ]
  },
  {
   "cell_type": "code",
   "execution_count": null,
   "metadata": {
    "id": "x4PxNBSBpyRB"
   },
   "outputs": [],
   "source": [
    "\n",
    "\n",
    "def CV_ROC(model,folds,graph_feat):\n",
    "  import matplotlib.pyplot as plt\n",
    "\n",
    "  from sklearn import svm\n",
    "  from sklearn.metrics import auc,roc_curve\n",
    "  from sklearn.metrics import RocCurveDisplay\n",
    "  from sklearn.model_selection import StratifiedKFold\n",
    "\n",
    "\n",
    "  cv = StratifiedKFold(n_splits=folds)\n",
    "\n",
    "\n",
    "\n",
    "  tprs = []\n",
    "  aucs = []\n",
    "  mean_fpr = np.linspace(0,1,100)\n",
    "  i = 1\n",
    "  for train,test in cv.split(X_new.iloc[:,1:], y_new.values):\n",
    "      prediction = model.fit(X_new.iloc[:,1:].values[train], y_new.values[train]).predict_proba(X_new.iloc[:,1:].values[test])\n",
    "      fpr, tpr, t = roc_curve(y_new.values[test], prediction[:, 1])\n",
    "      tprs.append(np.interp(mean_fpr, fpr, tpr))\n",
    "      roc_auc = auc(fpr, tpr)\n",
    "      aucs.append(roc_auc)\n",
    "      plt.plot(fpr, tpr, lw=5, alpha=0.3, label='ROC fold %d (AUC = %0.2f)' % (i, roc_auc))\n",
    "      i= i+1\n",
    "\n",
    "  plt.plot([0,1],[0,1],linestyle = '--',lw = 5,color = 'black')\n",
    "  mean_tpr = np.mean(tprs, axis=0)\n",
    "  mean_auc = auc(mean_fpr, mean_tpr)\n",
    "  plt.plot(mean_fpr, mean_tpr, color='blue',\n",
    "          label=r'Mean ROC (AUC = %0.2f )' % (mean_auc),lw=2, alpha=1)\n",
    "\n",
    "  plt.title('CV-ROC-> '+str(model),fontsize= graph_feat[\"Title Size\"], fontweight=graph_feat[\"Title Fontweight\"])\n",
    "  plt.xlabel('False Positive Rate',fontweight=graph_feat[\"X axis Label Fontweight\"],fontsize=graph_feat[\"X axis Label Font Size\"])\n",
    "  plt.ylabel('True Positive Rate',fontweight=graph_feat[\"Y axis Label Fontweight\"],fontsize=graph_feat[\"Y axis Label Font Size\"])\n",
    "  plt.legend(\n",
    "           prop = {'size' : graph_feat[\"legend Font Size\"]},\n",
    "           loc = graph_feat[\"legend Position\"])\n",
    "  plt.xticks(fontsize=25, weight = 'bold')\n",
    "  plt.yticks(fontsize=25, weight = 'bold')\n",
    "  fig = plt.gcf()\n",
    "  fig.set_size_inches(graph_feat[\"Fig Width (inches)\"], graph_feat[\"Fig Height (inches)\"])\n",
    "  fig.savefig(graph_feat[\"Fig Saving Name\"], dpi=graph_feat[\"dpi\"])\n",
    "  plt.show()"
   ]
  },
  {
   "cell_type": "code",
   "execution_count": null,
   "metadata": {
    "id": "IoCnbTsrpyRB"
   },
   "outputs": [],
   "source": [
    "new_keys=models_check_box(models)"
   ]
  },
  {
   "cell_type": "markdown",
   "metadata": {
    "id": "5jKYr0KupyRC"
   },
   "source": [
    "<font color=\"apple green\">Just mark the above cell to select the Multiple Algorithms for ROC CV graph. <font color=\"sky blue\"><b>Then run the cell below after selecting.</b></font> You do not need to run above cell everytime...</font><font color='red'><b>Do not run above cell after selecting</b></font>"
   ]
  },
  {
   "cell_type": "code",
   "execution_count": null,
   "metadata": {
    "id": "Ta06KS20pyRC"
   },
   "outputs": [],
   "source": [
    "# run this cell after selecting\n",
    "\n",
    "graph_feat={\n",
    "    \"Title Size\":30,\n",
    "    \"Title Fontweight\":'bold',\n",
    "\n",
    "    \"legend Font Size\": 20,\n",
    "    \"legend Position\": \"lower right\",\n",
    "\n",
    "    \"X axis Label Font Size\":25,\n",
    "    \"X axis Label Fontweight\":'bold',\n",
    "\n",
    "    \"Y axis Label Font Size\":25,\n",
    "    \"Y axis Label Fontweight\":'bold',\n",
    "\n",
    "    \"Fig Height (inches)\":10.8,\n",
    "    \"Fig Width (inches)\":18.8,\n",
    "\n",
    "    \"Fig Saving Name\": \"ROC_testing.png\",\n",
    "    \"dpi\":100\n",
    "\n",
    "}\n",
    "\n",
    "\n",
    "\n",
    "\n",
    "\n",
    "k_fold=10\n",
    "\n",
    "for i in range(len(new_keys)):\n",
    "  if new_keys[i].value ==True:\n",
    "    CV_ROC(models[i],10,graph_feat)\n",
    "    print(\"-----------------------------------------------------------------\")\n",
    "    print(\"-----------------------------------------------------------------\")"
   ]
  },
  {
   "cell_type": "markdown",
   "metadata": {
    "id": "lPf95oUm7Q4M"
   },
   "source": [
    "# **LIME**"
   ]
  },
  {
   "cell_type": "code",
   "execution_count": null,
   "metadata": {
    "id": "bJ3amMdJp8d3"
   },
   "outputs": [],
   "source": [
    "!pip install lime"
   ]
  },
  {
   "cell_type": "code",
   "execution_count": null,
   "metadata": {
    "id": "_qqTzUf87VqK"
   },
   "outputs": [],
   "source": [
    "\n",
    "def LIME_EXP(model,row):\n",
    "  import lime\n",
    "  from lime import lime_tabular\n",
    "\n",
    "\n",
    "  if str(model)[:3] == \"XGB\":\n",
    "\n",
    "    '''\n",
    "    explainer = lime.lime_tabular.LimeTabularExplainer(\n",
    "      X_train.values,\n",
    "      feature_names=list(list(X_new.columns)),\n",
    "      class_names=['Reading', 'Resting', 'Walking', 'Working']\n",
    "      )\n",
    "\n",
    "    exp = explainer.explain_instance(X_test.iloc[row, :].values,\n",
    "                                model.predict_proba,\n",
    "                                num_features=6,\n",
    "                                top_labels=2)'''\n",
    "    print(\"Plz RUN XGboost cell....\")\n",
    "    return None\n",
    "\n",
    "  else:\n",
    "    explainer = lime_tabular.LimeTabularExplainer(\n",
    "      training_data=np.array(X_train),\n",
    "      feature_names=list(X_new.columns),\n",
    "      class_names=['Control', 'Stroke'],\n",
    "      mode='classification'\n",
    "      )\n",
    "\n",
    "    exp = explainer.explain_instance(X_test.iloc[row],\n",
    "                                    model.predict_proba,\n",
    "                                    num_features=6,\n",
    "                                    top_labels=4)\n",
    "\n",
    "\n",
    "\n",
    "  #exp.show_in_notebook(show_table=True, show_all=True)\n",
    "  exp.show_in_notebook(show_table=True)\n",
    "\n",
    "\n",
    "  import matplotlib.pyplot as plt\n",
    "  with plt.style.context(\"ggplot\"):\n",
    "      exp.as_pyplot_figure()\n",
    "\n",
    "\n",
    "  from IPython.display import HTML\n",
    "  html_data = exp.as_html()\n",
    "  HTML(data=html_data)\n",
    "\n",
    "  exp.save_to_file(str(model)+\".html\")"
   ]
  },
  {
   "cell_type": "code",
   "execution_count": null,
   "metadata": {
    "id": "dnpSEivWCbn1"
   },
   "outputs": [],
   "source": [
    "row = int(input(\"Enter the index of row to explain: \"))      # the index of row to be explained in LIME"
   ]
  },
  {
   "cell_type": "code",
   "execution_count": null,
   "metadata": {
    "id": "q9oWhYY_7aKC"
   },
   "outputs": [],
   "source": [
    "\n",
    "new_keys_8=models_check_box(models)"
   ]
  },
  {
   "cell_type": "code",
   "execution_count": null,
   "metadata": {
    "id": "Y8u_k2dT7az0"
   },
   "outputs": [],
   "source": [
    "for i in range(len(new_keys_8)):\n",
    "  if new_keys_8[i].value ==True:\n",
    "    print(models[i])\n",
    "    LIME_EXP(models[i],row)\n",
    "    print(\"---------------------------------------------------------\")\n",
    "    print(\"---------------------------------------------------------\")\n",
    "    print(\"---------------------------------------------------------\")\n",
    "    print(\"---------------------------------------------------------\")"
   ]
  },
  {
   "cell_type": "markdown",
   "metadata": {
    "id": "uShYm2_JU-kn"
   },
   "source": [
    "### LIME for XGboost"
   ]
  },
  {
   "cell_type": "code",
   "execution_count": null,
   "metadata": {
    "id": "UiCt6pXuYhQU"
   },
   "outputs": [],
   "source": [
    "row = 18  ## the index of row to be explained in LIME\n",
    "\n",
    "import lime\n",
    "from lime import lime_tabular\n",
    "explainer = lime.lime_tabular.LimeTabularExplainer(X_train.values,\n",
    "                                                   feature_names=list(list(X_new.columns)),\n",
    "                                                   class_names=['Control', 'Stroke'])"
   ]
  },
  {
   "cell_type": "markdown",
   "metadata": {
    "id": "JV98gDirYqlI"
   },
   "source": [
    "####Default"
   ]
  },
  {
   "cell_type": "code",
   "execution_count": null,
   "metadata": {
    "id": "db_NRU-cVDfk"
   },
   "outputs": [],
   "source": [
    "\n",
    "exp = explainer.explain_instance(X_test.iloc[row, :].values,\n",
    "                                 xgb_deafult.predict_proba,\n",
    "                                 num_features=6,\n",
    "                                 top_labels=4)\n",
    "\n",
    "exp.show_in_notebook(show_table=True, show_all=False)\n",
    "\n",
    "import matplotlib.pyplot as plt\n",
    "with plt.style.context(\"ggplot\"):\n",
    "    exp.as_pyplot_figure()\n",
    "\n",
    "\n",
    "from IPython.display import HTML\n",
    "html_data = exp.as_html()\n",
    "HTML(data=html_data)\n",
    "\n",
    "exp.save_to_file(\"xgb_deafult.html\")"
   ]
  },
  {
   "cell_type": "markdown",
   "metadata": {
    "id": "HCtRZ2soYvmm"
   },
   "source": [
    "####Best Max Depth"
   ]
  },
  {
   "cell_type": "code",
   "execution_count": null,
   "metadata": {
    "id": "wmErRPogYdxA"
   },
   "outputs": [],
   "source": [
    "\n",
    "exp = explainer.explain_instance(X_test.iloc[row, :].values,\n",
    "                                 xgb_depth.predict_proba,\n",
    "                                 num_features=6,\n",
    "                                 top_labels=4)\n",
    "\n",
    "exp.show_in_notebook(show_table=True, show_all=False)\n",
    "\n",
    "import matplotlib.pyplot as plt\n",
    "with plt.style.context(\"ggplot\"):\n",
    "    exp.as_pyplot_figure()\n",
    "\n",
    "\n",
    "from IPython.display import HTML\n",
    "html_data = exp.as_html()\n",
    "HTML(data=html_data)\n",
    "\n",
    "exp.save_to_file(\"xgb_depth.html\")"
   ]
  },
  {
   "cell_type": "markdown",
   "metadata": {
    "id": "Db6bDLDKZBu6"
   },
   "source": [
    "####Best N Estimator"
   ]
  },
  {
   "cell_type": "code",
   "execution_count": null,
   "metadata": {
    "id": "nqJ6uclBYeb2"
   },
   "outputs": [],
   "source": [
    "\n",
    "\n",
    "exp = explainer.explain_instance(X_test.iloc[row, :].values,\n",
    "                                 xgb_estimator.predict_proba,\n",
    "                                 num_features=6,\n",
    "                                 top_labels=4)\n",
    "\n",
    "exp.show_in_notebook(show_table=True, show_all=False)\n",
    "\n",
    "import matplotlib.pyplot as plt\n",
    "with plt.style.context(\"ggplot\"):\n",
    "    exp.as_pyplot_figure()\n",
    "\n",
    "\n",
    "from IPython.display import HTML\n",
    "html_data = exp.as_html()\n",
    "HTML(data=html_data)\n",
    "\n",
    "exp.save_to_file(\"xgb_estimator.html\")"
   ]
  },
  {
   "cell_type": "markdown",
   "metadata": {
    "id": "oGZFn8-bZJoK"
   },
   "source": [
    "####Best Depth and Best Estimator"
   ]
  },
  {
   "cell_type": "code",
   "execution_count": null,
   "metadata": {
    "id": "qPeJmpyvYfAW"
   },
   "outputs": [],
   "source": [
    "\n",
    "exp = explainer.explain_instance(X_test.iloc[row, :].values,\n",
    "                                 xgb_all.predict_proba,\n",
    "                                 num_features=6,\n",
    "                                 top_labels=4)\n",
    "\n",
    "exp.show_in_notebook(show_table=True, show_all=False)\n",
    "\n",
    "\n",
    "import matplotlib.pyplot as plt\n",
    "with plt.style.context(\"ggplot\"):\n",
    "    exp.as_pyplot_figure()\n",
    "\n",
    "\n",
    "from IPython.display import HTML\n",
    "html_data = exp.as_html()\n",
    "HTML(data=html_data)\n",
    "\n",
    "exp.save_to_file(\"xgb_all.html\")"
   ]
  },
  {
   "cell_type": "code",
   "execution_count": null,
   "metadata": {
    "id": "SWStWRJrrX9e"
   },
   "outputs": [],
   "source": []
  }
 ],
 "metadata": {
  "colab": {
   "provenance": []
  },
  "kernelspec": {
   "display_name": "Python 3 (ipykernel)",
   "language": "python",
   "name": "python3"
  },
  "language_info": {
   "codemirror_mode": {
    "name": "ipython",
    "version": 3
   },
   "file_extension": ".py",
   "mimetype": "text/x-python",
   "name": "python",
   "nbconvert_exporter": "python",
   "pygments_lexer": "ipython3",
   "version": "3.9.15"
  },
  "widgets": {
   "application/vnd.jupyter.widget-state+json": {
    "002d2800f5e74716b97190d713a2877a": {
     "model_module": "@jupyter-widgets/controls",
     "model_module_version": "1.5.0",
     "model_name": "CheckboxModel",
     "state": {
      "_dom_classes": [],
      "_model_module": "@jupyter-widgets/controls",
      "_model_module_version": "1.5.0",
      "_model_name": "CheckboxModel",
      "_view_count": null,
      "_view_module": "@jupyter-widgets/controls",
      "_view_module_version": "1.5.0",
      "_view_name": "CheckboxView",
      "description": "ST_area",
      "description_tooltip": null,
      "disabled": false,
      "indent": false,
      "layout": "IPY_MODEL_5680dec64e414390a9850df2f6187ed4",
      "style": "IPY_MODEL_5af89a66dafc45849ea619f8e3c28233",
      "value": true
     }
    },
    "027c0cb2d5d64755a5582107161f8b44": {
     "model_module": "@jupyter-widgets/base",
     "model_module_version": "1.2.0",
     "model_name": "LayoutModel",
     "state": {
      "_model_module": "@jupyter-widgets/base",
      "_model_module_version": "1.2.0",
      "_model_name": "LayoutModel",
      "_view_count": null,
      "_view_module": "@jupyter-widgets/base",
      "_view_module_version": "1.2.0",
      "_view_name": "LayoutView",
      "align_content": null,
      "align_items": null,
      "align_self": null,
      "border": null,
      "bottom": null,
      "display": null,
      "flex": null,
      "flex_flow": null,
      "grid_area": null,
      "grid_auto_columns": null,
      "grid_auto_flow": null,
      "grid_auto_rows": null,
      "grid_column": null,
      "grid_gap": null,
      "grid_row": null,
      "grid_template_areas": null,
      "grid_template_columns": null,
      "grid_template_rows": null,
      "height": null,
      "justify_content": null,
      "justify_items": null,
      "left": null,
      "margin": null,
      "max_height": null,
      "max_width": null,
      "min_height": null,
      "min_width": null,
      "object_fit": null,
      "object_position": null,
      "order": null,
      "overflow": null,
      "overflow_x": null,
      "overflow_y": null,
      "padding": null,
      "right": null,
      "top": null,
      "visibility": null,
      "width": null
     }
    },
    "07d2125a2b214a0481fd8baf4d725d6f": {
     "model_module": "@jupyter-widgets/controls",
     "model_module_version": "1.5.0",
     "model_name": "CheckboxModel",
     "state": {
      "_dom_classes": [],
      "_model_module": "@jupyter-widgets/controls",
      "_model_module_version": "1.5.0",
      "_model_name": "CheckboxModel",
      "_view_count": null,
      "_view_module": "@jupyter-widgets/controls",
      "_view_module_version": "1.5.0",
      "_view_name": "CheckboxView",
      "description": "QT_interval",
      "description_tooltip": null,
      "disabled": false,
      "indent": false,
      "layout": "IPY_MODEL_b5d151c40655450f8ee881f2e893beb4",
      "style": "IPY_MODEL_dbe4e81fc987416992112b491a4cda03",
      "value": true
     }
    },
    "087d77e0be5449a9b6774be0911fb966": {
     "model_module": "@jupyter-widgets/base",
     "model_module_version": "1.2.0",
     "model_name": "LayoutModel",
     "state": {
      "_model_module": "@jupyter-widgets/base",
      "_model_module_version": "1.2.0",
      "_model_name": "LayoutModel",
      "_view_count": null,
      "_view_module": "@jupyter-widgets/base",
      "_view_module_version": "1.2.0",
      "_view_name": "LayoutView",
      "align_content": null,
      "align_items": null,
      "align_self": null,
      "border": null,
      "bottom": null,
      "display": null,
      "flex": null,
      "flex_flow": null,
      "grid_area": null,
      "grid_auto_columns": null,
      "grid_auto_flow": null,
      "grid_auto_rows": null,
      "grid_column": null,
      "grid_gap": null,
      "grid_row": null,
      "grid_template_areas": null,
      "grid_template_columns": null,
      "grid_template_rows": null,
      "height": null,
      "justify_content": null,
      "justify_items": null,
      "left": null,
      "margin": null,
      "max_height": null,
      "max_width": null,
      "min_height": null,
      "min_width": null,
      "object_fit": null,
      "object_position": null,
      "order": null,
      "overflow": null,
      "overflow_x": null,
      "overflow_y": null,
      "padding": null,
      "right": null,
      "top": null,
      "visibility": null,
      "width": null
     }
    },
    "0dbe98b8a9d040cb81cccc11cc1c8028": {
     "model_module": "@jupyter-widgets/controls",
     "model_module_version": "1.5.0",
     "model_name": "DescriptionStyleModel",
     "state": {
      "_model_module": "@jupyter-widgets/controls",
      "_model_module_version": "1.5.0",
      "_model_name": "DescriptionStyleModel",
      "_view_count": null,
      "_view_module": "@jupyter-widgets/base",
      "_view_module_version": "1.2.0",
      "_view_name": "StyleView",
      "description_width": ""
     }
    },
    "11919a7786274255a191047bd7169523": {
     "model_module": "@jupyter-widgets/base",
     "model_module_version": "1.2.0",
     "model_name": "LayoutModel",
     "state": {
      "_model_module": "@jupyter-widgets/base",
      "_model_module_version": "1.2.0",
      "_model_name": "LayoutModel",
      "_view_count": null,
      "_view_module": "@jupyter-widgets/base",
      "_view_module_version": "1.2.0",
      "_view_name": "LayoutView",
      "align_content": null,
      "align_items": null,
      "align_self": null,
      "border": null,
      "bottom": null,
      "display": null,
      "flex": null,
      "flex_flow": null,
      "grid_area": null,
      "grid_auto_columns": null,
      "grid_auto_flow": null,
      "grid_auto_rows": null,
      "grid_column": null,
      "grid_gap": null,
      "grid_row": null,
      "grid_template_areas": null,
      "grid_template_columns": null,
      "grid_template_rows": null,
      "height": null,
      "justify_content": null,
      "justify_items": null,
      "left": null,
      "margin": null,
      "max_height": null,
      "max_width": null,
      "min_height": null,
      "min_width": null,
      "object_fit": null,
      "object_position": null,
      "order": null,
      "overflow": null,
      "overflow_x": null,
      "overflow_y": null,
      "padding": null,
      "right": null,
      "top": null,
      "visibility": null,
      "width": null
     }
    },
    "11b4737a43084f45a79cfad5284aaf77": {
     "model_module": "@jupyter-widgets/base",
     "model_module_version": "1.2.0",
     "model_name": "LayoutModel",
     "state": {
      "_model_module": "@jupyter-widgets/base",
      "_model_module_version": "1.2.0",
      "_model_name": "LayoutModel",
      "_view_count": null,
      "_view_module": "@jupyter-widgets/base",
      "_view_module_version": "1.2.0",
      "_view_name": "LayoutView",
      "align_content": null,
      "align_items": null,
      "align_self": null,
      "border": null,
      "bottom": null,
      "display": null,
      "flex": null,
      "flex_flow": null,
      "grid_area": null,
      "grid_auto_columns": null,
      "grid_auto_flow": null,
      "grid_auto_rows": null,
      "grid_column": null,
      "grid_gap": null,
      "grid_row": null,
      "grid_template_areas": null,
      "grid_template_columns": null,
      "grid_template_rows": null,
      "height": null,
      "justify_content": null,
      "justify_items": null,
      "left": null,
      "margin": null,
      "max_height": null,
      "max_width": null,
      "min_height": null,
      "min_width": null,
      "object_fit": null,
      "object_position": null,
      "order": null,
      "overflow": null,
      "overflow_x": null,
      "overflow_y": null,
      "padding": null,
      "right": null,
      "top": null,
      "visibility": null,
      "width": null
     }
    },
    "127ed13148bf421199d4fda17c3b2bca": {
     "model_module": "@jupyter-widgets/controls",
     "model_module_version": "1.5.0",
     "model_name": "DescriptionStyleModel",
     "state": {
      "_model_module": "@jupyter-widgets/controls",
      "_model_module_version": "1.5.0",
      "_model_name": "DescriptionStyleModel",
      "_view_count": null,
      "_view_module": "@jupyter-widgets/base",
      "_view_module_version": "1.2.0",
      "_view_name": "StyleView",
      "description_width": ""
     }
    },
    "143dee602a3c490d9bb7dfc384ce0515": {
     "model_module": "@jupyter-widgets/base",
     "model_module_version": "1.2.0",
     "model_name": "LayoutModel",
     "state": {
      "_model_module": "@jupyter-widgets/base",
      "_model_module_version": "1.2.0",
      "_model_name": "LayoutModel",
      "_view_count": null,
      "_view_module": "@jupyter-widgets/base",
      "_view_module_version": "1.2.0",
      "_view_name": "LayoutView",
      "align_content": null,
      "align_items": null,
      "align_self": null,
      "border": null,
      "bottom": null,
      "display": null,
      "flex": null,
      "flex_flow": null,
      "grid_area": null,
      "grid_auto_columns": null,
      "grid_auto_flow": null,
      "grid_auto_rows": null,
      "grid_column": null,
      "grid_gap": null,
      "grid_row": null,
      "grid_template_areas": null,
      "grid_template_columns": null,
      "grid_template_rows": null,
      "height": null,
      "justify_content": null,
      "justify_items": null,
      "left": null,
      "margin": null,
      "max_height": null,
      "max_width": null,
      "min_height": null,
      "min_width": null,
      "object_fit": null,
      "object_position": null,
      "order": null,
      "overflow": null,
      "overflow_x": null,
      "overflow_y": null,
      "padding": null,
      "right": null,
      "top": null,
      "visibility": null,
      "width": null
     }
    },
    "152622efe56842d5ae648d683a07aadb": {
     "model_module": "@jupyter-widgets/controls",
     "model_module_version": "1.5.0",
     "model_name": "CheckboxModel",
     "state": {
      "_dom_classes": [],
      "_model_module": "@jupyter-widgets/controls",
      "_model_module_version": "1.5.0",
      "_model_name": "CheckboxModel",
      "_view_count": null,
      "_view_module": "@jupyter-widgets/controls",
      "_view_module_version": "1.5.0",
      "_view_name": "CheckboxView",
      "description": "ΔQT_interval",
      "description_tooltip": null,
      "disabled": false,
      "indent": false,
      "layout": "IPY_MODEL_abbadbbfd0db429483f02461096ce4c2",
      "style": "IPY_MODEL_ac786a13dcb7420082b7379c6ecda854",
      "value": true
     }
    },
    "15c3ce9ce0b5492d97bb9d17406b3ffa": {
     "model_module": "@jupyter-widgets/controls",
     "model_module_version": "1.5.0",
     "model_name": "CheckboxModel",
     "state": {
      "_dom_classes": [],
      "_model_module": "@jupyter-widgets/controls",
      "_model_module_version": "1.5.0",
      "_model_name": "CheckboxModel",
      "_view_count": null,
      "_view_module": "@jupyter-widgets/controls",
      "_view_module_version": "1.5.0",
      "_view_name": "CheckboxView",
      "description": "Cycle",
      "description_tooltip": null,
      "disabled": false,
      "indent": false,
      "layout": "IPY_MODEL_fc91c9f584d0404f88c1f51c28856e6a",
      "style": "IPY_MODEL_b95b9967178c4955a3020a6466dff996",
      "value": false
     }
    },
    "15e14e28a3604cc28781269a29134d5c": {
     "model_module": "@jupyter-widgets/base",
     "model_module_version": "1.2.0",
     "model_name": "LayoutModel",
     "state": {
      "_model_module": "@jupyter-widgets/base",
      "_model_module_version": "1.2.0",
      "_model_name": "LayoutModel",
      "_view_count": null,
      "_view_module": "@jupyter-widgets/base",
      "_view_module_version": "1.2.0",
      "_view_name": "LayoutView",
      "align_content": null,
      "align_items": null,
      "align_self": null,
      "border": null,
      "bottom": null,
      "display": null,
      "flex": null,
      "flex_flow": null,
      "grid_area": null,
      "grid_auto_columns": null,
      "grid_auto_flow": null,
      "grid_auto_rows": null,
      "grid_column": null,
      "grid_gap": null,
      "grid_row": null,
      "grid_template_areas": null,
      "grid_template_columns": null,
      "grid_template_rows": null,
      "height": null,
      "justify_content": null,
      "justify_items": null,
      "left": null,
      "margin": null,
      "max_height": null,
      "max_width": null,
      "min_height": null,
      "min_width": null,
      "object_fit": null,
      "object_position": null,
      "order": null,
      "overflow": null,
      "overflow_x": null,
      "overflow_y": null,
      "padding": null,
      "right": null,
      "top": null,
      "visibility": null,
      "width": null
     }
    },
    "15ec7e5b7ba74353ae27bceb56bdb545": {
     "model_module": "@jupyter-widgets/controls",
     "model_module_version": "1.5.0",
     "model_name": "DescriptionStyleModel",
     "state": {
      "_model_module": "@jupyter-widgets/controls",
      "_model_module_version": "1.5.0",
      "_model_name": "DescriptionStyleModel",
      "_view_count": null,
      "_view_module": "@jupyter-widgets/base",
      "_view_module_version": "1.2.0",
      "_view_name": "StyleView",
      "description_width": ""
     }
    },
    "1bbcc7ca95e84220a0a7ee35295a070f": {
     "model_module": "@jupyter-widgets/base",
     "model_module_version": "1.2.0",
     "model_name": "LayoutModel",
     "state": {
      "_model_module": "@jupyter-widgets/base",
      "_model_module_version": "1.2.0",
      "_model_name": "LayoutModel",
      "_view_count": null,
      "_view_module": "@jupyter-widgets/base",
      "_view_module_version": "1.2.0",
      "_view_name": "LayoutView",
      "align_content": null,
      "align_items": null,
      "align_self": null,
      "border": null,
      "bottom": null,
      "display": null,
      "flex": null,
      "flex_flow": null,
      "grid_area": null,
      "grid_auto_columns": null,
      "grid_auto_flow": null,
      "grid_auto_rows": null,
      "grid_column": null,
      "grid_gap": null,
      "grid_row": null,
      "grid_template_areas": null,
      "grid_template_columns": null,
      "grid_template_rows": null,
      "height": null,
      "justify_content": null,
      "justify_items": null,
      "left": null,
      "margin": null,
      "max_height": null,
      "max_width": null,
      "min_height": null,
      "min_width": null,
      "object_fit": null,
      "object_position": null,
      "order": null,
      "overflow": null,
      "overflow_x": null,
      "overflow_y": null,
      "padding": null,
      "right": null,
      "top": null,
      "visibility": null,
      "width": null
     }
    },
    "1bf9ba90695e4c81935441f5c64c0f3b": {
     "model_module": "@jupyter-widgets/base",
     "model_module_version": "1.2.0",
     "model_name": "LayoutModel",
     "state": {
      "_model_module": "@jupyter-widgets/base",
      "_model_module_version": "1.2.0",
      "_model_name": "LayoutModel",
      "_view_count": null,
      "_view_module": "@jupyter-widgets/base",
      "_view_module_version": "1.2.0",
      "_view_name": "LayoutView",
      "align_content": null,
      "align_items": null,
      "align_self": null,
      "border": null,
      "bottom": null,
      "display": null,
      "flex": null,
      "flex_flow": null,
      "grid_area": null,
      "grid_auto_columns": null,
      "grid_auto_flow": null,
      "grid_auto_rows": null,
      "grid_column": null,
      "grid_gap": null,
      "grid_row": null,
      "grid_template_areas": null,
      "grid_template_columns": null,
      "grid_template_rows": null,
      "height": null,
      "justify_content": null,
      "justify_items": null,
      "left": null,
      "margin": null,
      "max_height": null,
      "max_width": null,
      "min_height": null,
      "min_width": null,
      "object_fit": null,
      "object_position": null,
      "order": null,
      "overflow": null,
      "overflow_x": null,
      "overflow_y": null,
      "padding": null,
      "right": null,
      "top": null,
      "visibility": null,
      "width": null
     }
    },
    "1d31f4b0b2f641858191c77030e4163c": {
     "model_module": "@jupyter-widgets/controls",
     "model_module_version": "1.5.0",
     "model_name": "CheckboxModel",
     "state": {
      "_dom_classes": [],
      "_model_module": "@jupyter-widgets/controls",
      "_model_module_version": "1.5.0",
      "_model_name": "CheckboxModel",
      "_view_count": null,
      "_view_module": "@jupyter-widgets/controls",
      "_view_module_version": "1.5.0",
      "_view_name": "CheckboxView",
      "description": "Ischemia_Status",
      "description_tooltip": null,
      "disabled": false,
      "indent": false,
      "layout": "IPY_MODEL_327b33b2fb3f4166a126b90e465cea49",
      "style": "IPY_MODEL_6b91a44fece949a69c229db9bd57528a",
      "value": false
     }
    },
    "1f98e36408b64422a71012ab805a25ab": {
     "model_module": "@jupyter-widgets/controls",
     "model_module_version": "1.5.0",
     "model_name": "DescriptionStyleModel",
     "state": {
      "_model_module": "@jupyter-widgets/controls",
      "_model_module_version": "1.5.0",
      "_model_name": "DescriptionStyleModel",
      "_view_count": null,
      "_view_module": "@jupyter-widgets/base",
      "_view_module_version": "1.2.0",
      "_view_name": "StyleView",
      "description_width": ""
     }
    },
    "2008009a11af48558957655fac2de658": {
     "model_module": "@jupyter-widgets/controls",
     "model_module_version": "1.5.0",
     "model_name": "CheckboxModel",
     "state": {
      "_dom_classes": [],
      "_model_module": "@jupyter-widgets/controls",
      "_model_module_version": "1.5.0",
      "_model_name": "CheckboxModel",
      "_view_count": null,
      "_view_module": "@jupyter-widgets/controls",
      "_view_module_version": "1.5.0",
      "_view_name": "CheckboxView",
      "description": "ART_DBP",
      "description_tooltip": null,
      "disabled": false,
      "indent": false,
      "layout": "IPY_MODEL_15e14e28a3604cc28781269a29134d5c",
      "style": "IPY_MODEL_8afbf61f4afe4ffaafe0f71c12fe6fda",
      "value": false
     }
    },
    "21f18736689d4a5a88b74a996f4fd064": {
     "model_module": "@jupyter-widgets/controls",
     "model_module_version": "1.5.0",
     "model_name": "CheckboxModel",
     "state": {
      "_dom_classes": [],
      "_model_module": "@jupyter-widgets/controls",
      "_model_module_version": "1.5.0",
      "_model_name": "CheckboxModel",
      "_view_count": null,
      "_view_module": "@jupyter-widgets/controls",
      "_view_module_version": "1.5.0",
      "_view_name": "CheckboxView",
      "description": "ST_duration",
      "description_tooltip": null,
      "disabled": false,
      "indent": false,
      "layout": "IPY_MODEL_087d77e0be5449a9b6774be0911fb966",
      "style": "IPY_MODEL_bda70d1aa02c43deb2ef475e206b385c",
      "value": true
     }
    },
    "225c5271898d4155a1cd3b914db94527": {
     "model_module": "@jupyter-widgets/controls",
     "model_module_version": "1.5.0",
     "model_name": "HBoxModel",
     "state": {
      "_dom_classes": [],
      "_model_module": "@jupyter-widgets/controls",
      "_model_module_version": "1.5.0",
      "_model_name": "HBoxModel",
      "_view_count": null,
      "_view_module": "@jupyter-widgets/controls",
      "_view_module_version": "1.5.0",
      "_view_name": "HBoxView",
      "box_style": "",
      "children": [
       "IPY_MODEL_85f3f700358946a29f6bccbae94881fe",
       "IPY_MODEL_f4c20a51c59f49aba3d5e511998765a8",
       "IPY_MODEL_a50a48c3dcdc46fcb721fdbc001e9abb"
      ],
      "layout": "IPY_MODEL_f8ed9d11a3af48d5b7b2882d3770099b"
     }
    },
    "2536f1900cb44949955d568e52c190e7": {
     "model_module": "@jupyter-widgets/controls",
     "model_module_version": "1.5.0",
     "model_name": "CheckboxModel",
     "state": {
      "_dom_classes": [],
      "_model_module": "@jupyter-widgets/controls",
      "_model_module_version": "1.5.0",
      "_model_name": "CheckboxModel",
      "_view_count": null,
      "_view_module": "@jupyter-widgets/controls",
      "_view_module_version": "1.5.0",
      "_view_name": "CheckboxView",
      "description": "ΔST_area",
      "description_tooltip": null,
      "disabled": false,
      "indent": false,
      "layout": "IPY_MODEL_027c0cb2d5d64755a5582107161f8b44",
      "style": "IPY_MODEL_efa9cbbcda0c4b098b584042373b60ac",
      "value": true
     }
    },
    "2658da33ac9c4e308dcd28909ee37de7": {
     "model_module": "@jupyter-widgets/base",
     "model_module_version": "1.2.0",
     "model_name": "LayoutModel",
     "state": {
      "_model_module": "@jupyter-widgets/base",
      "_model_module_version": "1.2.0",
      "_model_name": "LayoutModel",
      "_view_count": null,
      "_view_module": "@jupyter-widgets/base",
      "_view_module_version": "1.2.0",
      "_view_name": "LayoutView",
      "align_content": null,
      "align_items": null,
      "align_self": null,
      "border": null,
      "bottom": null,
      "display": null,
      "flex": null,
      "flex_flow": null,
      "grid_area": null,
      "grid_auto_columns": null,
      "grid_auto_flow": null,
      "grid_auto_rows": null,
      "grid_column": null,
      "grid_gap": null,
      "grid_row": null,
      "grid_template_areas": null,
      "grid_template_columns": null,
      "grid_template_rows": null,
      "height": null,
      "justify_content": null,
      "justify_items": null,
      "left": null,
      "margin": null,
      "max_height": null,
      "max_width": null,
      "min_height": null,
      "min_width": null,
      "object_fit": null,
      "object_position": null,
      "order": null,
      "overflow": null,
      "overflow_x": null,
      "overflow_y": null,
      "padding": null,
      "right": null,
      "top": null,
      "visibility": null,
      "width": null
     }
    },
    "27958fb4be034566a1b72d2e6e42a944": {
     "model_module": "@jupyter-widgets/controls",
     "model_module_version": "1.5.0",
     "model_name": "DescriptionStyleModel",
     "state": {
      "_model_module": "@jupyter-widgets/controls",
      "_model_module_version": "1.5.0",
      "_model_name": "DescriptionStyleModel",
      "_view_count": null,
      "_view_module": "@jupyter-widgets/base",
      "_view_module_version": "1.2.0",
      "_view_name": "StyleView",
      "description_width": ""
     }
    },
    "293f5e002bb646708ae222048545c1ba": {
     "model_module": "@jupyter-widgets/controls",
     "model_module_version": "1.5.0",
     "model_name": "CheckboxModel",
     "state": {
      "_dom_classes": [],
      "_model_module": "@jupyter-widgets/controls",
      "_model_module_version": "1.5.0",
      "_model_name": "CheckboxModel",
      "_view_count": null,
      "_view_module": "@jupyter-widgets/controls",
      "_view_module_version": "1.5.0",
      "_view_name": "CheckboxView",
      "description": "ART_MBP",
      "description_tooltip": null,
      "disabled": false,
      "indent": false,
      "layout": "IPY_MODEL_66ad9c2e84b94c11ae8a3d720405b4e2",
      "style": "IPY_MODEL_15ec7e5b7ba74353ae27bceb56bdb545",
      "value": false
     }
    },
    "2b85fa124784471b857aa9f4a131f03d": {
     "model_module": "@jupyter-widgets/controls",
     "model_module_version": "1.5.0",
     "model_name": "CheckboxModel",
     "state": {
      "_dom_classes": [],
      "_model_module": "@jupyter-widgets/controls",
      "_model_module_version": "1.5.0",
      "_model_name": "CheckboxModel",
      "_view_count": null,
      "_view_module": "@jupyter-widgets/controls",
      "_view_module_version": "1.5.0",
      "_view_name": "CheckboxView",
      "description": "ΔR_wave_amplitude",
      "description_tooltip": null,
      "disabled": false,
      "indent": false,
      "layout": "IPY_MODEL_4baa0b78466d45519ecd44242bef214e",
      "style": "IPY_MODEL_65e39f84fefa4cd3ada947525085aac7",
      "value": true
     }
    },
    "2bada28024d54e3ea277521b543fa3de": {
     "model_module": "@jupyter-widgets/base",
     "model_module_version": "1.2.0",
     "model_name": "LayoutModel",
     "state": {
      "_model_module": "@jupyter-widgets/base",
      "_model_module_version": "1.2.0",
      "_model_name": "LayoutModel",
      "_view_count": null,
      "_view_module": "@jupyter-widgets/base",
      "_view_module_version": "1.2.0",
      "_view_name": "LayoutView",
      "align_content": null,
      "align_items": null,
      "align_self": null,
      "border": null,
      "bottom": null,
      "display": null,
      "flex": null,
      "flex_flow": null,
      "grid_area": null,
      "grid_auto_columns": null,
      "grid_auto_flow": null,
      "grid_auto_rows": null,
      "grid_column": null,
      "grid_gap": null,
      "grid_row": null,
      "grid_template_areas": null,
      "grid_template_columns": null,
      "grid_template_rows": null,
      "height": null,
      "justify_content": null,
      "justify_items": null,
      "left": null,
      "margin": null,
      "max_height": null,
      "max_width": null,
      "min_height": null,
      "min_width": null,
      "object_fit": null,
      "object_position": null,
      "order": null,
      "overflow": null,
      "overflow_x": null,
      "overflow_y": null,
      "padding": null,
      "right": null,
      "top": null,
      "visibility": null,
      "width": null
     }
    },
    "2d1b03d18efe4db2b5548faea5b6be62": {
     "model_module": "@jupyter-widgets/controls",
     "model_module_version": "1.5.0",
     "model_name": "CheckboxModel",
     "state": {
      "_dom_classes": [],
      "_model_module": "@jupyter-widgets/controls",
      "_model_module_version": "1.5.0",
      "_model_name": "CheckboxModel",
      "_view_count": null,
      "_view_module": "@jupyter-widgets/controls",
      "_view_module_version": "1.5.0",
      "_view_name": "CheckboxView",
      "description": "ΔT_wave_amplitude",
      "description_tooltip": null,
      "disabled": false,
      "indent": false,
      "layout": "IPY_MODEL_11b4737a43084f45a79cfad5284aaf77",
      "style": "IPY_MODEL_1f98e36408b64422a71012ab805a25ab",
      "value": true
     }
    },
    "327b33b2fb3f4166a126b90e465cea49": {
     "model_module": "@jupyter-widgets/base",
     "model_module_version": "1.2.0",
     "model_name": "LayoutModel",
     "state": {
      "_model_module": "@jupyter-widgets/base",
      "_model_module_version": "1.2.0",
      "_model_name": "LayoutModel",
      "_view_count": null,
      "_view_module": "@jupyter-widgets/base",
      "_view_module_version": "1.2.0",
      "_view_name": "LayoutView",
      "align_content": null,
      "align_items": null,
      "align_self": null,
      "border": null,
      "bottom": null,
      "display": null,
      "flex": null,
      "flex_flow": null,
      "grid_area": null,
      "grid_auto_columns": null,
      "grid_auto_flow": null,
      "grid_auto_rows": null,
      "grid_column": null,
      "grid_gap": null,
      "grid_row": null,
      "grid_template_areas": null,
      "grid_template_columns": null,
      "grid_template_rows": null,
      "height": null,
      "justify_content": null,
      "justify_items": null,
      "left": null,
      "margin": null,
      "max_height": null,
      "max_width": null,
      "min_height": null,
      "min_width": null,
      "object_fit": null,
      "object_position": null,
      "order": null,
      "overflow": null,
      "overflow_x": null,
      "overflow_y": null,
      "padding": null,
      "right": null,
      "top": null,
      "visibility": null,
      "width": null
     }
    },
    "34641228e3264b898e9e2fbd79bf6227": {
     "model_module": "@jupyter-widgets/base",
     "model_module_version": "1.2.0",
     "model_name": "LayoutModel",
     "state": {
      "_model_module": "@jupyter-widgets/base",
      "_model_module_version": "1.2.0",
      "_model_name": "LayoutModel",
      "_view_count": null,
      "_view_module": "@jupyter-widgets/base",
      "_view_module_version": "1.2.0",
      "_view_name": "LayoutView",
      "align_content": null,
      "align_items": null,
      "align_self": null,
      "border": null,
      "bottom": null,
      "display": null,
      "flex": null,
      "flex_flow": null,
      "grid_area": null,
      "grid_auto_columns": null,
      "grid_auto_flow": null,
      "grid_auto_rows": null,
      "grid_column": null,
      "grid_gap": null,
      "grid_row": null,
      "grid_template_areas": null,
      "grid_template_columns": null,
      "grid_template_rows": null,
      "height": null,
      "justify_content": null,
      "justify_items": null,
      "left": null,
      "margin": null,
      "max_height": null,
      "max_width": null,
      "min_height": null,
      "min_width": null,
      "object_fit": null,
      "object_position": null,
      "order": null,
      "overflow": null,
      "overflow_x": null,
      "overflow_y": null,
      "padding": null,
      "right": null,
      "top": null,
      "visibility": null,
      "width": null
     }
    },
    "35f81bf04ce5484eb87e00c03cfeedd0": {
     "model_module": "@jupyter-widgets/controls",
     "model_module_version": "1.5.0",
     "model_name": "DescriptionStyleModel",
     "state": {
      "_model_module": "@jupyter-widgets/controls",
      "_model_module_version": "1.5.0",
      "_model_name": "DescriptionStyleModel",
      "_view_count": null,
      "_view_module": "@jupyter-widgets/base",
      "_view_module_version": "1.2.0",
      "_view_name": "StyleView",
      "description_width": ""
     }
    },
    "3a2a6cada0d64db2bab827eb7ef1a5e6": {
     "model_module": "@jupyter-widgets/controls",
     "model_module_version": "1.5.0",
     "model_name": "CheckboxModel",
     "state": {
      "_dom_classes": [],
      "_model_module": "@jupyter-widgets/controls",
      "_model_module_version": "1.5.0",
      "_model_name": "CheckboxModel",
      "_view_count": null,
      "_view_module": "@jupyter-widgets/controls",
      "_view_module_version": "1.5.0",
      "_view_name": "CheckboxView",
      "description": "Case_ID",
      "description_tooltip": null,
      "disabled": false,
      "indent": false,
      "layout": "IPY_MODEL_401ef345c3c341f78a89076c077508ec",
      "style": "IPY_MODEL_b64d6a9929674d81a4a44e479b64be44",
      "value": false
     }
    },
    "401ef345c3c341f78a89076c077508ec": {
     "model_module": "@jupyter-widgets/base",
     "model_module_version": "1.2.0",
     "model_name": "LayoutModel",
     "state": {
      "_model_module": "@jupyter-widgets/base",
      "_model_module_version": "1.2.0",
      "_model_name": "LayoutModel",
      "_view_count": null,
      "_view_module": "@jupyter-widgets/base",
      "_view_module_version": "1.2.0",
      "_view_name": "LayoutView",
      "align_content": null,
      "align_items": null,
      "align_self": null,
      "border": null,
      "bottom": null,
      "display": null,
      "flex": null,
      "flex_flow": null,
      "grid_area": null,
      "grid_auto_columns": null,
      "grid_auto_flow": null,
      "grid_auto_rows": null,
      "grid_column": null,
      "grid_gap": null,
      "grid_row": null,
      "grid_template_areas": null,
      "grid_template_columns": null,
      "grid_template_rows": null,
      "height": null,
      "justify_content": null,
      "justify_items": null,
      "left": null,
      "margin": null,
      "max_height": null,
      "max_width": null,
      "min_height": null,
      "min_width": null,
      "object_fit": null,
      "object_position": null,
      "order": null,
      "overflow": null,
      "overflow_x": null,
      "overflow_y": null,
      "padding": null,
      "right": null,
      "top": null,
      "visibility": null,
      "width": null
     }
    },
    "40ba6d55b9a94ebaa272ea83049283d6": {
     "model_module": "@jupyter-widgets/controls",
     "model_module_version": "1.5.0",
     "model_name": "DescriptionStyleModel",
     "state": {
      "_model_module": "@jupyter-widgets/controls",
      "_model_module_version": "1.5.0",
      "_model_name": "DescriptionStyleModel",
      "_view_count": null,
      "_view_module": "@jupyter-widgets/base",
      "_view_module_version": "1.2.0",
      "_view_name": "StyleView",
      "description_width": ""
     }
    },
    "455b823039d54682b0914c7faae9d1f4": {
     "model_module": "@jupyter-widgets/base",
     "model_module_version": "1.2.0",
     "model_name": "LayoutModel",
     "state": {
      "_model_module": "@jupyter-widgets/base",
      "_model_module_version": "1.2.0",
      "_model_name": "LayoutModel",
      "_view_count": null,
      "_view_module": "@jupyter-widgets/base",
      "_view_module_version": "1.2.0",
      "_view_name": "LayoutView",
      "align_content": null,
      "align_items": null,
      "align_self": null,
      "border": null,
      "bottom": null,
      "display": null,
      "flex": null,
      "flex_flow": null,
      "grid_area": null,
      "grid_auto_columns": null,
      "grid_auto_flow": null,
      "grid_auto_rows": null,
      "grid_column": null,
      "grid_gap": null,
      "grid_row": null,
      "grid_template_areas": null,
      "grid_template_columns": null,
      "grid_template_rows": null,
      "height": null,
      "justify_content": null,
      "justify_items": null,
      "left": null,
      "margin": null,
      "max_height": null,
      "max_width": null,
      "min_height": null,
      "min_width": null,
      "object_fit": null,
      "object_position": null,
      "order": null,
      "overflow": null,
      "overflow_x": null,
      "overflow_y": null,
      "padding": null,
      "right": null,
      "top": null,
      "visibility": null,
      "width": null
     }
    },
    "464b799acaa248e4a578e35ffafdce71": {
     "model_module": "@jupyter-widgets/controls",
     "model_module_version": "1.5.0",
     "model_name": "CheckboxModel",
     "state": {
      "_dom_classes": [],
      "_model_module": "@jupyter-widgets/controls",
      "_model_module_version": "1.5.0",
      "_model_name": "CheckboxModel",
      "_view_count": null,
      "_view_module": "@jupyter-widgets/controls",
      "_view_module_version": "1.5.0",
      "_view_name": "CheckboxView",
      "description": "T_wave_duration",
      "description_tooltip": null,
      "disabled": false,
      "indent": false,
      "layout": "IPY_MODEL_d9e62e9e2f304869b5f7035e7b275c85",
      "style": "IPY_MODEL_35f81bf04ce5484eb87e00c03cfeedd0",
      "value": true
     }
    },
    "47958739319e4c21936350bb66a26a8f": {
     "model_module": "@jupyter-widgets/base",
     "model_module_version": "1.2.0",
     "model_name": "LayoutModel",
     "state": {
      "_model_module": "@jupyter-widgets/base",
      "_model_module_version": "1.2.0",
      "_model_name": "LayoutModel",
      "_view_count": null,
      "_view_module": "@jupyter-widgets/base",
      "_view_module_version": "1.2.0",
      "_view_name": "LayoutView",
      "align_content": null,
      "align_items": null,
      "align_self": null,
      "border": null,
      "bottom": null,
      "display": null,
      "flex": null,
      "flex_flow": null,
      "grid_area": null,
      "grid_auto_columns": null,
      "grid_auto_flow": null,
      "grid_auto_rows": null,
      "grid_column": null,
      "grid_gap": null,
      "grid_row": null,
      "grid_template_areas": null,
      "grid_template_columns": null,
      "grid_template_rows": null,
      "height": null,
      "justify_content": null,
      "justify_items": null,
      "left": null,
      "margin": null,
      "max_height": null,
      "max_width": null,
      "min_height": null,
      "min_width": null,
      "object_fit": null,
      "object_position": null,
      "order": null,
      "overflow": null,
      "overflow_x": null,
      "overflow_y": null,
      "padding": null,
      "right": null,
      "top": null,
      "visibility": null,
      "width": null
     }
    },
    "47c446a74e2842d7b1f73ab1ec78e477": {
     "model_module": "@jupyter-widgets/base",
     "model_module_version": "1.2.0",
     "model_name": "LayoutModel",
     "state": {
      "_model_module": "@jupyter-widgets/base",
      "_model_module_version": "1.2.0",
      "_model_name": "LayoutModel",
      "_view_count": null,
      "_view_module": "@jupyter-widgets/base",
      "_view_module_version": "1.2.0",
      "_view_name": "LayoutView",
      "align_content": null,
      "align_items": null,
      "align_self": null,
      "border": null,
      "bottom": null,
      "display": null,
      "flex": null,
      "flex_flow": null,
      "grid_area": null,
      "grid_auto_columns": null,
      "grid_auto_flow": null,
      "grid_auto_rows": null,
      "grid_column": null,
      "grid_gap": null,
      "grid_row": null,
      "grid_template_areas": null,
      "grid_template_columns": null,
      "grid_template_rows": null,
      "height": null,
      "justify_content": null,
      "justify_items": null,
      "left": null,
      "margin": null,
      "max_height": null,
      "max_width": null,
      "min_height": null,
      "min_width": null,
      "object_fit": null,
      "object_position": null,
      "order": null,
      "overflow": null,
      "overflow_x": null,
      "overflow_y": null,
      "padding": null,
      "right": null,
      "top": null,
      "visibility": null,
      "width": null
     }
    },
    "47e06060a1ee47b2a340678ed8f84024": {
     "model_module": "@jupyter-widgets/base",
     "model_module_version": "1.2.0",
     "model_name": "LayoutModel",
     "state": {
      "_model_module": "@jupyter-widgets/base",
      "_model_module_version": "1.2.0",
      "_model_name": "LayoutModel",
      "_view_count": null,
      "_view_module": "@jupyter-widgets/base",
      "_view_module_version": "1.2.0",
      "_view_name": "LayoutView",
      "align_content": null,
      "align_items": null,
      "align_self": null,
      "border": null,
      "bottom": null,
      "display": null,
      "flex": null,
      "flex_flow": null,
      "grid_area": null,
      "grid_auto_columns": null,
      "grid_auto_flow": null,
      "grid_auto_rows": null,
      "grid_column": null,
      "grid_gap": null,
      "grid_row": null,
      "grid_template_areas": null,
      "grid_template_columns": null,
      "grid_template_rows": null,
      "height": null,
      "justify_content": null,
      "justify_items": null,
      "left": null,
      "margin": null,
      "max_height": null,
      "max_width": null,
      "min_height": null,
      "min_width": null,
      "object_fit": null,
      "object_position": null,
      "order": null,
      "overflow": null,
      "overflow_x": null,
      "overflow_y": null,
      "padding": null,
      "right": null,
      "top": null,
      "visibility": null,
      "width": null
     }
    },
    "48308c5e5704445d830997491136f718": {
     "model_module": "@jupyter-widgets/controls",
     "model_module_version": "1.5.0",
     "model_name": "DescriptionStyleModel",
     "state": {
      "_model_module": "@jupyter-widgets/controls",
      "_model_module_version": "1.5.0",
      "_model_name": "DescriptionStyleModel",
      "_view_count": null,
      "_view_module": "@jupyter-widgets/base",
      "_view_module_version": "1.2.0",
      "_view_name": "StyleView",
      "description_width": ""
     }
    },
    "4baa0b78466d45519ecd44242bef214e": {
     "model_module": "@jupyter-widgets/base",
     "model_module_version": "1.2.0",
     "model_name": "LayoutModel",
     "state": {
      "_model_module": "@jupyter-widgets/base",
      "_model_module_version": "1.2.0",
      "_model_name": "LayoutModel",
      "_view_count": null,
      "_view_module": "@jupyter-widgets/base",
      "_view_module_version": "1.2.0",
      "_view_name": "LayoutView",
      "align_content": null,
      "align_items": null,
      "align_self": null,
      "border": null,
      "bottom": null,
      "display": null,
      "flex": null,
      "flex_flow": null,
      "grid_area": null,
      "grid_auto_columns": null,
      "grid_auto_flow": null,
      "grid_auto_rows": null,
      "grid_column": null,
      "grid_gap": null,
      "grid_row": null,
      "grid_template_areas": null,
      "grid_template_columns": null,
      "grid_template_rows": null,
      "height": null,
      "justify_content": null,
      "justify_items": null,
      "left": null,
      "margin": null,
      "max_height": null,
      "max_width": null,
      "min_height": null,
      "min_width": null,
      "object_fit": null,
      "object_position": null,
      "order": null,
      "overflow": null,
      "overflow_x": null,
      "overflow_y": null,
      "padding": null,
      "right": null,
      "top": null,
      "visibility": null,
      "width": null
     }
    },
    "4cc89bb1b7c94572b1f767092160af10": {
     "model_module": "@jupyter-widgets/controls",
     "model_module_version": "1.5.0",
     "model_name": "DescriptionStyleModel",
     "state": {
      "_model_module": "@jupyter-widgets/controls",
      "_model_module_version": "1.5.0",
      "_model_name": "DescriptionStyleModel",
      "_view_count": null,
      "_view_module": "@jupyter-widgets/base",
      "_view_module_version": "1.2.0",
      "_view_name": "StyleView",
      "description_width": ""
     }
    },
    "4e04a384dd6842c0800d9d3f212968b4": {
     "model_module": "@jupyter-widgets/controls",
     "model_module_version": "1.5.0",
     "model_name": "DescriptionStyleModel",
     "state": {
      "_model_module": "@jupyter-widgets/controls",
      "_model_module_version": "1.5.0",
      "_model_name": "DescriptionStyleModel",
      "_view_count": null,
      "_view_module": "@jupyter-widgets/base",
      "_view_module_version": "1.2.0",
      "_view_name": "StyleView",
      "description_width": ""
     }
    },
    "4f7d6694cb1142b1b5bff501368b2bac": {
     "model_module": "@jupyter-widgets/controls",
     "model_module_version": "1.5.0",
     "model_name": "DescriptionStyleModel",
     "state": {
      "_model_module": "@jupyter-widgets/controls",
      "_model_module_version": "1.5.0",
      "_model_name": "DescriptionStyleModel",
      "_view_count": null,
      "_view_module": "@jupyter-widgets/base",
      "_view_module_version": "1.2.0",
      "_view_name": "StyleView",
      "description_width": ""
     }
    },
    "4fa26054375747eabfa2a2cc42513ecc": {
     "model_module": "@jupyter-widgets/controls",
     "model_module_version": "1.5.0",
     "model_name": "CheckboxModel",
     "state": {
      "_dom_classes": [],
      "_model_module": "@jupyter-widgets/controls",
      "_model_module_version": "1.5.0",
      "_model_name": "CheckboxModel",
      "_view_count": null,
      "_view_module": "@jupyter-widgets/controls",
      "_view_module_version": "1.5.0",
      "_view_name": "CheckboxView",
      "description": "T_wave_amplitude",
      "description_tooltip": null,
      "disabled": false,
      "indent": false,
      "layout": "IPY_MODEL_548bd6ab38764f51b300105d94e37180",
      "style": "IPY_MODEL_c887167d909749919adca74612df8932",
      "value": true
     }
    },
    "529797b4feb24fdfb4617fdcf10f8e0d": {
     "model_module": "@jupyter-widgets/controls",
     "model_module_version": "1.5.0",
     "model_name": "DescriptionStyleModel",
     "state": {
      "_model_module": "@jupyter-widgets/controls",
      "_model_module_version": "1.5.0",
      "_model_name": "DescriptionStyleModel",
      "_view_count": null,
      "_view_module": "@jupyter-widgets/base",
      "_view_module_version": "1.2.0",
      "_view_name": "StyleView",
      "description_width": ""
     }
    },
    "54379e60b47746d781a331c8e1ef4a2e": {
     "model_module": "@jupyter-widgets/controls",
     "model_module_version": "1.5.0",
     "model_name": "CheckboxModel",
     "state": {
      "_dom_classes": [],
      "_model_module": "@jupyter-widgets/controls",
      "_model_module_version": "1.5.0",
      "_model_name": "CheckboxModel",
      "_view_count": null,
      "_view_module": "@jupyter-widgets/controls",
      "_view_module_version": "1.5.0",
      "_view_name": "CheckboxView",
      "description": "Class",
      "description_tooltip": null,
      "disabled": false,
      "indent": false,
      "layout": "IPY_MODEL_621d05bb94664fdfb90fbc7a7e2e4895",
      "style": "IPY_MODEL_e97b0246d2c94c5b83824bbb5fb84f6a",
      "value": false
     }
    },
    "548bd6ab38764f51b300105d94e37180": {
     "model_module": "@jupyter-widgets/base",
     "model_module_version": "1.2.0",
     "model_name": "LayoutModel",
     "state": {
      "_model_module": "@jupyter-widgets/base",
      "_model_module_version": "1.2.0",
      "_model_name": "LayoutModel",
      "_view_count": null,
      "_view_module": "@jupyter-widgets/base",
      "_view_module_version": "1.2.0",
      "_view_name": "LayoutView",
      "align_content": null,
      "align_items": null,
      "align_self": null,
      "border": null,
      "bottom": null,
      "display": null,
      "flex": null,
      "flex_flow": null,
      "grid_area": null,
      "grid_auto_columns": null,
      "grid_auto_flow": null,
      "grid_auto_rows": null,
      "grid_column": null,
      "grid_gap": null,
      "grid_row": null,
      "grid_template_areas": null,
      "grid_template_columns": null,
      "grid_template_rows": null,
      "height": null,
      "justify_content": null,
      "justify_items": null,
      "left": null,
      "margin": null,
      "max_height": null,
      "max_width": null,
      "min_height": null,
      "min_width": null,
      "object_fit": null,
      "object_position": null,
      "order": null,
      "overflow": null,
      "overflow_x": null,
      "overflow_y": null,
      "padding": null,
      "right": null,
      "top": null,
      "visibility": null,
      "width": null
     }
    },
    "5680dec64e414390a9850df2f6187ed4": {
     "model_module": "@jupyter-widgets/base",
     "model_module_version": "1.2.0",
     "model_name": "LayoutModel",
     "state": {
      "_model_module": "@jupyter-widgets/base",
      "_model_module_version": "1.2.0",
      "_model_name": "LayoutModel",
      "_view_count": null,
      "_view_module": "@jupyter-widgets/base",
      "_view_module_version": "1.2.0",
      "_view_name": "LayoutView",
      "align_content": null,
      "align_items": null,
      "align_self": null,
      "border": null,
      "bottom": null,
      "display": null,
      "flex": null,
      "flex_flow": null,
      "grid_area": null,
      "grid_auto_columns": null,
      "grid_auto_flow": null,
      "grid_auto_rows": null,
      "grid_column": null,
      "grid_gap": null,
      "grid_row": null,
      "grid_template_areas": null,
      "grid_template_columns": null,
      "grid_template_rows": null,
      "height": null,
      "justify_content": null,
      "justify_items": null,
      "left": null,
      "margin": null,
      "max_height": null,
      "max_width": null,
      "min_height": null,
      "min_width": null,
      "object_fit": null,
      "object_position": null,
      "order": null,
      "overflow": null,
      "overflow_x": null,
      "overflow_y": null,
      "padding": null,
      "right": null,
      "top": null,
      "visibility": null,
      "width": null
     }
    },
    "59e16cec6cb844b1a6f968c8d75ab900": {
     "model_module": "@jupyter-widgets/controls",
     "model_module_version": "1.5.0",
     "model_name": "DescriptionStyleModel",
     "state": {
      "_model_module": "@jupyter-widgets/controls",
      "_model_module_version": "1.5.0",
      "_model_name": "DescriptionStyleModel",
      "_view_count": null,
      "_view_module": "@jupyter-widgets/base",
      "_view_module_version": "1.2.0",
      "_view_name": "StyleView",
      "description_width": ""
     }
    },
    "5af89a66dafc45849ea619f8e3c28233": {
     "model_module": "@jupyter-widgets/controls",
     "model_module_version": "1.5.0",
     "model_name": "DescriptionStyleModel",
     "state": {
      "_model_module": "@jupyter-widgets/controls",
      "_model_module_version": "1.5.0",
      "_model_name": "DescriptionStyleModel",
      "_view_count": null,
      "_view_module": "@jupyter-widgets/base",
      "_view_module_version": "1.2.0",
      "_view_name": "StyleView",
      "description_width": ""
     }
    },
    "5d0ea73bd17448539142c9c21bfb7d05": {
     "model_module": "@jupyter-widgets/controls",
     "model_module_version": "1.5.0",
     "model_name": "DescriptionStyleModel",
     "state": {
      "_model_module": "@jupyter-widgets/controls",
      "_model_module_version": "1.5.0",
      "_model_name": "DescriptionStyleModel",
      "_view_count": null,
      "_view_module": "@jupyter-widgets/base",
      "_view_module_version": "1.2.0",
      "_view_name": "StyleView",
      "description_width": ""
     }
    },
    "5d55f119b7004c99a4c42d013581cffd": {
     "model_module": "@jupyter-widgets/base",
     "model_module_version": "1.2.0",
     "model_name": "LayoutModel",
     "state": {
      "_model_module": "@jupyter-widgets/base",
      "_model_module_version": "1.2.0",
      "_model_name": "LayoutModel",
      "_view_count": null,
      "_view_module": "@jupyter-widgets/base",
      "_view_module_version": "1.2.0",
      "_view_name": "LayoutView",
      "align_content": null,
      "align_items": null,
      "align_self": null,
      "border": null,
      "bottom": null,
      "display": null,
      "flex": null,
      "flex_flow": null,
      "grid_area": null,
      "grid_auto_columns": null,
      "grid_auto_flow": null,
      "grid_auto_rows": null,
      "grid_column": null,
      "grid_gap": null,
      "grid_row": null,
      "grid_template_areas": null,
      "grid_template_columns": null,
      "grid_template_rows": null,
      "height": null,
      "justify_content": null,
      "justify_items": null,
      "left": null,
      "margin": null,
      "max_height": null,
      "max_width": null,
      "min_height": null,
      "min_width": null,
      "object_fit": null,
      "object_position": null,
      "order": null,
      "overflow": null,
      "overflow_x": null,
      "overflow_y": null,
      "padding": null,
      "right": null,
      "top": null,
      "visibility": null,
      "width": null
     }
    },
    "5f5d4fe139a9412b95d677abf52e9e94": {
     "model_module": "@jupyter-widgets/controls",
     "model_module_version": "1.5.0",
     "model_name": "DescriptionStyleModel",
     "state": {
      "_model_module": "@jupyter-widgets/controls",
      "_model_module_version": "1.5.0",
      "_model_name": "DescriptionStyleModel",
      "_view_count": null,
      "_view_module": "@jupyter-widgets/base",
      "_view_module_version": "1.2.0",
      "_view_name": "StyleView",
      "description_width": ""
     }
    },
    "611654e3aca640d3b6e5b3850a02ef10": {
     "model_module": "@jupyter-widgets/controls",
     "model_module_version": "1.5.0",
     "model_name": "DescriptionStyleModel",
     "state": {
      "_model_module": "@jupyter-widgets/controls",
      "_model_module_version": "1.5.0",
      "_model_name": "DescriptionStyleModel",
      "_view_count": null,
      "_view_module": "@jupyter-widgets/base",
      "_view_module_version": "1.2.0",
      "_view_name": "StyleView",
      "description_width": ""
     }
    },
    "621d05bb94664fdfb90fbc7a7e2e4895": {
     "model_module": "@jupyter-widgets/base",
     "model_module_version": "1.2.0",
     "model_name": "LayoutModel",
     "state": {
      "_model_module": "@jupyter-widgets/base",
      "_model_module_version": "1.2.0",
      "_model_name": "LayoutModel",
      "_view_count": null,
      "_view_module": "@jupyter-widgets/base",
      "_view_module_version": "1.2.0",
      "_view_name": "LayoutView",
      "align_content": null,
      "align_items": null,
      "align_self": null,
      "border": null,
      "bottom": null,
      "display": null,
      "flex": null,
      "flex_flow": null,
      "grid_area": null,
      "grid_auto_columns": null,
      "grid_auto_flow": null,
      "grid_auto_rows": null,
      "grid_column": null,
      "grid_gap": null,
      "grid_row": null,
      "grid_template_areas": null,
      "grid_template_columns": null,
      "grid_template_rows": null,
      "height": null,
      "justify_content": null,
      "justify_items": null,
      "left": null,
      "margin": null,
      "max_height": null,
      "max_width": null,
      "min_height": null,
      "min_width": null,
      "object_fit": null,
      "object_position": null,
      "order": null,
      "overflow": null,
      "overflow_x": null,
      "overflow_y": null,
      "padding": null,
      "right": null,
      "top": null,
      "visibility": null,
      "width": null
     }
    },
    "6328a45e4889493c850304d73ca531bd": {
     "model_module": "@jupyter-widgets/controls",
     "model_module_version": "1.5.0",
     "model_name": "CheckboxModel",
     "state": {
      "_dom_classes": [],
      "_model_module": "@jupyter-widgets/controls",
      "_model_module_version": "1.5.0",
      "_model_name": "CheckboxModel",
      "_view_count": null,
      "_view_module": "@jupyter-widgets/controls",
      "_view_module_version": "1.5.0",
      "_view_name": "CheckboxView",
      "description": "Segment",
      "description_tooltip": null,
      "disabled": false,
      "indent": false,
      "layout": "IPY_MODEL_47c446a74e2842d7b1f73ab1ec78e477",
      "style": "IPY_MODEL_8dcb7cb82a7c421f918b12227e24e99a",
      "value": false
     }
    },
    "65e39f84fefa4cd3ada947525085aac7": {
     "model_module": "@jupyter-widgets/controls",
     "model_module_version": "1.5.0",
     "model_name": "DescriptionStyleModel",
     "state": {
      "_model_module": "@jupyter-widgets/controls",
      "_model_module_version": "1.5.0",
      "_model_name": "DescriptionStyleModel",
      "_view_count": null,
      "_view_module": "@jupyter-widgets/base",
      "_view_module_version": "1.2.0",
      "_view_name": "StyleView",
      "description_width": ""
     }
    },
    "66ad9c2e84b94c11ae8a3d720405b4e2": {
     "model_module": "@jupyter-widgets/base",
     "model_module_version": "1.2.0",
     "model_name": "LayoutModel",
     "state": {
      "_model_module": "@jupyter-widgets/base",
      "_model_module_version": "1.2.0",
      "_model_name": "LayoutModel",
      "_view_count": null,
      "_view_module": "@jupyter-widgets/base",
      "_view_module_version": "1.2.0",
      "_view_name": "LayoutView",
      "align_content": null,
      "align_items": null,
      "align_self": null,
      "border": null,
      "bottom": null,
      "display": null,
      "flex": null,
      "flex_flow": null,
      "grid_area": null,
      "grid_auto_columns": null,
      "grid_auto_flow": null,
      "grid_auto_rows": null,
      "grid_column": null,
      "grid_gap": null,
      "grid_row": null,
      "grid_template_areas": null,
      "grid_template_columns": null,
      "grid_template_rows": null,
      "height": null,
      "justify_content": null,
      "justify_items": null,
      "left": null,
      "margin": null,
      "max_height": null,
      "max_width": null,
      "min_height": null,
      "min_width": null,
      "object_fit": null,
      "object_position": null,
      "order": null,
      "overflow": null,
      "overflow_x": null,
      "overflow_y": null,
      "padding": null,
      "right": null,
      "top": null,
      "visibility": null,
      "width": null
     }
    },
    "67f652b5d373413f9b3b38cc41b49808": {
     "model_module": "@jupyter-widgets/controls",
     "model_module_version": "1.5.0",
     "model_name": "CheckboxModel",
     "state": {
      "_dom_classes": [],
      "_model_module": "@jupyter-widgets/controls",
      "_model_module_version": "1.5.0",
      "_model_name": "CheckboxModel",
      "_view_count": null,
      "_view_module": "@jupyter-widgets/controls",
      "_view_module_version": "1.5.0",
      "_view_name": "CheckboxView",
      "description": "ΔS_wave_amplitude",
      "description_tooltip": null,
      "disabled": false,
      "indent": false,
      "layout": "IPY_MODEL_2658da33ac9c4e308dcd28909ee37de7",
      "style": "IPY_MODEL_5f5d4fe139a9412b95d677abf52e9e94",
      "value": true
     }
    },
    "6b91a44fece949a69c229db9bd57528a": {
     "model_module": "@jupyter-widgets/controls",
     "model_module_version": "1.5.0",
     "model_name": "DescriptionStyleModel",
     "state": {
      "_model_module": "@jupyter-widgets/controls",
      "_model_module_version": "1.5.0",
      "_model_name": "DescriptionStyleModel",
      "_view_count": null,
      "_view_module": "@jupyter-widgets/base",
      "_view_module_version": "1.2.0",
      "_view_name": "StyleView",
      "description_width": ""
     }
    },
    "6e4e2edb34934203943980bf58bd6557": {
     "model_module": "@jupyter-widgets/base",
     "model_module_version": "1.2.0",
     "model_name": "LayoutModel",
     "state": {
      "_model_module": "@jupyter-widgets/base",
      "_model_module_version": "1.2.0",
      "_model_name": "LayoutModel",
      "_view_count": null,
      "_view_module": "@jupyter-widgets/base",
      "_view_module_version": "1.2.0",
      "_view_name": "LayoutView",
      "align_content": null,
      "align_items": null,
      "align_self": null,
      "border": null,
      "bottom": null,
      "display": null,
      "flex": null,
      "flex_flow": null,
      "grid_area": null,
      "grid_auto_columns": null,
      "grid_auto_flow": null,
      "grid_auto_rows": null,
      "grid_column": null,
      "grid_gap": null,
      "grid_row": null,
      "grid_template_areas": null,
      "grid_template_columns": null,
      "grid_template_rows": null,
      "height": null,
      "justify_content": null,
      "justify_items": null,
      "left": null,
      "margin": null,
      "max_height": null,
      "max_width": null,
      "min_height": null,
      "min_width": null,
      "object_fit": null,
      "object_position": null,
      "order": null,
      "overflow": null,
      "overflow_x": null,
      "overflow_y": null,
      "padding": null,
      "right": null,
      "top": null,
      "visibility": null,
      "width": null
     }
    },
    "7680d516b912459bb0b2dc89da7b9c92": {
     "model_module": "@jupyter-widgets/controls",
     "model_module_version": "1.5.0",
     "model_name": "CheckboxModel",
     "state": {
      "_dom_classes": [],
      "_model_module": "@jupyter-widgets/controls",
      "_model_module_version": "1.5.0",
      "_model_name": "CheckboxModel",
      "_view_count": null,
      "_view_module": "@jupyter-widgets/controls",
      "_view_module_version": "1.5.0",
      "_view_name": "CheckboxView",
      "description": "ΔJ_point_amplitude",
      "description_tooltip": null,
      "disabled": false,
      "indent": false,
      "layout": "IPY_MODEL_5d55f119b7004c99a4c42d013581cffd",
      "style": "IPY_MODEL_4cc89bb1b7c94572b1f767092160af10",
      "value": true
     }
    },
    "7790f205a80247d0a312b01522fb18af": {
     "model_module": "@jupyter-widgets/controls",
     "model_module_version": "1.5.0",
     "model_name": "DescriptionStyleModel",
     "state": {
      "_model_module": "@jupyter-widgets/controls",
      "_model_module_version": "1.5.0",
      "_model_name": "DescriptionStyleModel",
      "_view_count": null,
      "_view_module": "@jupyter-widgets/base",
      "_view_module_version": "1.2.0",
      "_view_name": "StyleView",
      "description_width": ""
     }
    },
    "7ed4093e26e149bf82a2eab95d43beeb": {
     "model_module": "@jupyter-widgets/base",
     "model_module_version": "1.2.0",
     "model_name": "LayoutModel",
     "state": {
      "_model_module": "@jupyter-widgets/base",
      "_model_module_version": "1.2.0",
      "_model_name": "LayoutModel",
      "_view_count": null,
      "_view_module": "@jupyter-widgets/base",
      "_view_module_version": "1.2.0",
      "_view_name": "LayoutView",
      "align_content": null,
      "align_items": null,
      "align_self": null,
      "border": null,
      "bottom": null,
      "display": null,
      "flex": null,
      "flex_flow": null,
      "grid_area": null,
      "grid_auto_columns": null,
      "grid_auto_flow": null,
      "grid_auto_rows": null,
      "grid_column": null,
      "grid_gap": null,
      "grid_row": null,
      "grid_template_areas": null,
      "grid_template_columns": null,
      "grid_template_rows": null,
      "height": null,
      "justify_content": null,
      "justify_items": null,
      "left": null,
      "margin": null,
      "max_height": null,
      "max_width": null,
      "min_height": null,
      "min_width": null,
      "object_fit": null,
      "object_position": null,
      "order": null,
      "overflow": null,
      "overflow_x": null,
      "overflow_y": null,
      "padding": null,
      "right": null,
      "top": null,
      "visibility": null,
      "width": null
     }
    },
    "85f3f700358946a29f6bccbae94881fe": {
     "model_module": "@jupyter-widgets/controls",
     "model_module_version": "1.5.0",
     "model_name": "HTMLModel",
     "state": {
      "_dom_classes": [],
      "_model_module": "@jupyter-widgets/controls",
      "_model_module_version": "1.5.0",
      "_model_name": "HTMLModel",
      "_view_count": null,
      "_view_module": "@jupyter-widgets/controls",
      "_view_module_version": "1.5.0",
      "_view_name": "HTMLView",
      "description": "",
      "description_tooltip": null,
      "layout": "IPY_MODEL_fbf6461268594572935eef9521379e8d",
      "placeholder": "​",
      "style": "IPY_MODEL_48308c5e5704445d830997491136f718",
      "value": "100%"
     }
    },
    "8afbf61f4afe4ffaafe0f71c12fe6fda": {
     "model_module": "@jupyter-widgets/controls",
     "model_module_version": "1.5.0",
     "model_name": "DescriptionStyleModel",
     "state": {
      "_model_module": "@jupyter-widgets/controls",
      "_model_module_version": "1.5.0",
      "_model_name": "DescriptionStyleModel",
      "_view_count": null,
      "_view_module": "@jupyter-widgets/base",
      "_view_module_version": "1.2.0",
      "_view_name": "StyleView",
      "description_width": ""
     }
    },
    "8c60a22786a04132b179540990eff989": {
     "model_module": "@jupyter-widgets/controls",
     "model_module_version": "1.5.0",
     "model_name": "DescriptionStyleModel",
     "state": {
      "_model_module": "@jupyter-widgets/controls",
      "_model_module_version": "1.5.0",
      "_model_name": "DescriptionStyleModel",
      "_view_count": null,
      "_view_module": "@jupyter-widgets/base",
      "_view_module_version": "1.2.0",
      "_view_name": "StyleView",
      "description_width": ""
     }
    },
    "8dcb7cb82a7c421f918b12227e24e99a": {
     "model_module": "@jupyter-widgets/controls",
     "model_module_version": "1.5.0",
     "model_name": "DescriptionStyleModel",
     "state": {
      "_model_module": "@jupyter-widgets/controls",
      "_model_module_version": "1.5.0",
      "_model_name": "DescriptionStyleModel",
      "_view_count": null,
      "_view_module": "@jupyter-widgets/base",
      "_view_module_version": "1.2.0",
      "_view_name": "StyleView",
      "description_width": ""
     }
    },
    "9006a2e3e0fa417aa3ac33b01254886b": {
     "model_module": "@jupyter-widgets/controls",
     "model_module_version": "1.5.0",
     "model_name": "CheckboxModel",
     "state": {
      "_dom_classes": [],
      "_model_module": "@jupyter-widgets/controls",
      "_model_module_version": "1.5.0",
      "_model_name": "CheckboxModel",
      "_view_count": null,
      "_view_module": "@jupyter-widgets/controls",
      "_view_module_version": "1.5.0",
      "_view_name": "CheckboxView",
      "description": "ST_slope",
      "description_tooltip": null,
      "disabled": false,
      "indent": false,
      "layout": "IPY_MODEL_6e4e2edb34934203943980bf58bd6557",
      "style": "IPY_MODEL_8c60a22786a04132b179540990eff989",
      "value": true
     }
    },
    "9625a3b66b114df3a0e75933dff168e0": {
     "model_module": "@jupyter-widgets/controls",
     "model_module_version": "1.5.0",
     "model_name": "DescriptionStyleModel",
     "state": {
      "_model_module": "@jupyter-widgets/controls",
      "_model_module_version": "1.5.0",
      "_model_name": "DescriptionStyleModel",
      "_view_count": null,
      "_view_module": "@jupyter-widgets/base",
      "_view_module_version": "1.2.0",
      "_view_name": "StyleView",
      "description_width": ""
     }
    },
    "9817b83f0466457b8f3c660c15d45ffa": {
     "model_module": "@jupyter-widgets/controls",
     "model_module_version": "1.5.0",
     "model_name": "CheckboxModel",
     "state": {
      "_dom_classes": [],
      "_model_module": "@jupyter-widgets/controls",
      "_model_module_version": "1.5.0",
      "_model_name": "CheckboxModel",
      "_view_count": null,
      "_view_module": "@jupyter-widgets/controls",
      "_view_module_version": "1.5.0",
      "_view_name": "CheckboxView",
      "description": "ΔR_wave_duration",
      "description_tooltip": null,
      "disabled": false,
      "indent": false,
      "layout": "IPY_MODEL_455b823039d54682b0914c7faae9d1f4",
      "style": "IPY_MODEL_529797b4feb24fdfb4617fdcf10f8e0d",
      "value": true
     }
    },
    "98e0272db8d8434584254c91b53e7e94": {
     "model_module": "@jupyter-widgets/base",
     "model_module_version": "1.2.0",
     "model_name": "LayoutModel",
     "state": {
      "_model_module": "@jupyter-widgets/base",
      "_model_module_version": "1.2.0",
      "_model_name": "LayoutModel",
      "_view_count": null,
      "_view_module": "@jupyter-widgets/base",
      "_view_module_version": "1.2.0",
      "_view_name": "LayoutView",
      "align_content": null,
      "align_items": null,
      "align_self": null,
      "border": null,
      "bottom": null,
      "display": null,
      "flex": null,
      "flex_flow": null,
      "grid_area": null,
      "grid_auto_columns": null,
      "grid_auto_flow": null,
      "grid_auto_rows": null,
      "grid_column": null,
      "grid_gap": null,
      "grid_row": null,
      "grid_template_areas": null,
      "grid_template_columns": null,
      "grid_template_rows": null,
      "height": null,
      "justify_content": null,
      "justify_items": null,
      "left": null,
      "margin": null,
      "max_height": null,
      "max_width": null,
      "min_height": null,
      "min_width": null,
      "object_fit": null,
      "object_position": null,
      "order": null,
      "overflow": null,
      "overflow_x": null,
      "overflow_y": null,
      "padding": null,
      "right": null,
      "top": null,
      "visibility": null,
      "width": null
     }
    },
    "9a8fc12b64924fc589eed9ca9a1de2c0": {
     "model_module": "@jupyter-widgets/base",
     "model_module_version": "1.2.0",
     "model_name": "LayoutModel",
     "state": {
      "_model_module": "@jupyter-widgets/base",
      "_model_module_version": "1.2.0",
      "_model_name": "LayoutModel",
      "_view_count": null,
      "_view_module": "@jupyter-widgets/base",
      "_view_module_version": "1.2.0",
      "_view_name": "LayoutView",
      "align_content": null,
      "align_items": null,
      "align_self": null,
      "border": null,
      "bottom": null,
      "display": null,
      "flex": null,
      "flex_flow": null,
      "grid_area": null,
      "grid_auto_columns": null,
      "grid_auto_flow": null,
      "grid_auto_rows": null,
      "grid_column": null,
      "grid_gap": null,
      "grid_row": null,
      "grid_template_areas": null,
      "grid_template_columns": null,
      "grid_template_rows": null,
      "height": null,
      "justify_content": null,
      "justify_items": null,
      "left": null,
      "margin": null,
      "max_height": null,
      "max_width": null,
      "min_height": null,
      "min_width": null,
      "object_fit": null,
      "object_position": null,
      "order": null,
      "overflow": null,
      "overflow_x": null,
      "overflow_y": null,
      "padding": null,
      "right": null,
      "top": null,
      "visibility": null,
      "width": null
     }
    },
    "a3a82935da614b9e9c296546062b4af1": {
     "model_module": "@jupyter-widgets/controls",
     "model_module_version": "1.5.0",
     "model_name": "DescriptionStyleModel",
     "state": {
      "_model_module": "@jupyter-widgets/controls",
      "_model_module_version": "1.5.0",
      "_model_name": "DescriptionStyleModel",
      "_view_count": null,
      "_view_module": "@jupyter-widgets/base",
      "_view_module_version": "1.2.0",
      "_view_name": "StyleView",
      "description_width": ""
     }
    },
    "a50a48c3dcdc46fcb721fdbc001e9abb": {
     "model_module": "@jupyter-widgets/controls",
     "model_module_version": "1.5.0",
     "model_name": "HTMLModel",
     "state": {
      "_dom_classes": [],
      "_model_module": "@jupyter-widgets/controls",
      "_model_module_version": "1.5.0",
      "_model_name": "HTMLModel",
      "_view_count": null,
      "_view_module": "@jupyter-widgets/controls",
      "_view_module_version": "1.5.0",
      "_view_name": "HTMLView",
      "description": "",
      "description_tooltip": null,
      "layout": "IPY_MODEL_d338f625c81b4a8080c9005971f567e4",
      "placeholder": "​",
      "style": "IPY_MODEL_a3a82935da614b9e9c296546062b4af1",
      "value": " 352/352 [14:54&lt;00:00,  2.41s/it]"
     }
    },
    "a721747bc5d24264bbda6ba8909a2224": {
     "model_module": "@jupyter-widgets/base",
     "model_module_version": "1.2.0",
     "model_name": "LayoutModel",
     "state": {
      "_model_module": "@jupyter-widgets/base",
      "_model_module_version": "1.2.0",
      "_model_name": "LayoutModel",
      "_view_count": null,
      "_view_module": "@jupyter-widgets/base",
      "_view_module_version": "1.2.0",
      "_view_name": "LayoutView",
      "align_content": null,
      "align_items": null,
      "align_self": null,
      "border": null,
      "bottom": null,
      "display": null,
      "flex": null,
      "flex_flow": null,
      "grid_area": null,
      "grid_auto_columns": null,
      "grid_auto_flow": null,
      "grid_auto_rows": null,
      "grid_column": null,
      "grid_gap": null,
      "grid_row": null,
      "grid_template_areas": null,
      "grid_template_columns": null,
      "grid_template_rows": null,
      "height": null,
      "justify_content": null,
      "justify_items": null,
      "left": null,
      "margin": null,
      "max_height": null,
      "max_width": null,
      "min_height": null,
      "min_width": null,
      "object_fit": null,
      "object_position": null,
      "order": null,
      "overflow": null,
      "overflow_x": null,
      "overflow_y": null,
      "padding": null,
      "right": null,
      "top": null,
      "visibility": null,
      "width": null
     }
    },
    "a72636761d5649fd941bf0f1e58ec218": {
     "model_module": "@jupyter-widgets/base",
     "model_module_version": "1.2.0",
     "model_name": "LayoutModel",
     "state": {
      "_model_module": "@jupyter-widgets/base",
      "_model_module_version": "1.2.0",
      "_model_name": "LayoutModel",
      "_view_count": null,
      "_view_module": "@jupyter-widgets/base",
      "_view_module_version": "1.2.0",
      "_view_name": "LayoutView",
      "align_content": null,
      "align_items": null,
      "align_self": null,
      "border": null,
      "bottom": null,
      "display": null,
      "flex": null,
      "flex_flow": null,
      "grid_area": null,
      "grid_auto_columns": null,
      "grid_auto_flow": null,
      "grid_auto_rows": null,
      "grid_column": null,
      "grid_gap": null,
      "grid_row": null,
      "grid_template_areas": null,
      "grid_template_columns": null,
      "grid_template_rows": null,
      "height": null,
      "justify_content": null,
      "justify_items": null,
      "left": null,
      "margin": null,
      "max_height": null,
      "max_width": null,
      "min_height": null,
      "min_width": null,
      "object_fit": null,
      "object_position": null,
      "order": null,
      "overflow": null,
      "overflow_x": null,
      "overflow_y": null,
      "padding": null,
      "right": null,
      "top": null,
      "visibility": null,
      "width": null
     }
    },
    "a75c492e89d24646bb7e1d2b202bb9ea": {
     "model_module": "@jupyter-widgets/controls",
     "model_module_version": "1.5.0",
     "model_name": "DescriptionStyleModel",
     "state": {
      "_model_module": "@jupyter-widgets/controls",
      "_model_module_version": "1.5.0",
      "_model_name": "DescriptionStyleModel",
      "_view_count": null,
      "_view_module": "@jupyter-widgets/base",
      "_view_module_version": "1.2.0",
      "_view_name": "StyleView",
      "description_width": ""
     }
    },
    "a808c84b8d444409ab0e5867273412d8": {
     "model_module": "@jupyter-widgets/controls",
     "model_module_version": "1.5.0",
     "model_name": "DescriptionStyleModel",
     "state": {
      "_model_module": "@jupyter-widgets/controls",
      "_model_module_version": "1.5.0",
      "_model_name": "DescriptionStyleModel",
      "_view_count": null,
      "_view_module": "@jupyter-widgets/base",
      "_view_module_version": "1.2.0",
      "_view_name": "StyleView",
      "description_width": ""
     }
    },
    "a8399e99f5554323b91effc723320188": {
     "model_module": "@jupyter-widgets/base",
     "model_module_version": "1.2.0",
     "model_name": "LayoutModel",
     "state": {
      "_model_module": "@jupyter-widgets/base",
      "_model_module_version": "1.2.0",
      "_model_name": "LayoutModel",
      "_view_count": null,
      "_view_module": "@jupyter-widgets/base",
      "_view_module_version": "1.2.0",
      "_view_name": "LayoutView",
      "align_content": null,
      "align_items": null,
      "align_self": null,
      "border": null,
      "bottom": null,
      "display": null,
      "flex": null,
      "flex_flow": null,
      "grid_area": null,
      "grid_auto_columns": null,
      "grid_auto_flow": null,
      "grid_auto_rows": null,
      "grid_column": null,
      "grid_gap": null,
      "grid_row": null,
      "grid_template_areas": null,
      "grid_template_columns": null,
      "grid_template_rows": null,
      "height": null,
      "justify_content": null,
      "justify_items": null,
      "left": null,
      "margin": null,
      "max_height": null,
      "max_width": null,
      "min_height": null,
      "min_width": null,
      "object_fit": null,
      "object_position": null,
      "order": null,
      "overflow": null,
      "overflow_x": null,
      "overflow_y": null,
      "padding": null,
      "right": null,
      "top": null,
      "visibility": null,
      "width": null
     }
    },
    "a98e52df9956470284e34eaa3e2c2361": {
     "model_module": "@jupyter-widgets/controls",
     "model_module_version": "1.5.0",
     "model_name": "DescriptionStyleModel",
     "state": {
      "_model_module": "@jupyter-widgets/controls",
      "_model_module_version": "1.5.0",
      "_model_name": "DescriptionStyleModel",
      "_view_count": null,
      "_view_module": "@jupyter-widgets/base",
      "_view_module_version": "1.2.0",
      "_view_name": "StyleView",
      "description_width": ""
     }
    },
    "aa5925f029b845a788d29fea30dc5404": {
     "model_module": "@jupyter-widgets/controls",
     "model_module_version": "1.5.0",
     "model_name": "CheckboxModel",
     "state": {
      "_dom_classes": [],
      "_model_module": "@jupyter-widgets/controls",
      "_model_module_version": "1.5.0",
      "_model_name": "CheckboxModel",
      "_view_count": null,
      "_view_module": "@jupyter-widgets/controls",
      "_view_module_version": "1.5.0",
      "_view_name": "CheckboxView",
      "description": "ART_MAP",
      "description_tooltip": null,
      "disabled": false,
      "indent": false,
      "layout": "IPY_MODEL_c7a64185516e464fb02c468966e5f441",
      "style": "IPY_MODEL_5d0ea73bd17448539142c9c21bfb7d05",
      "value": false
     }
    },
    "aa6b1aa856e54c2297bda9ceb7160abf": {
     "model_module": "@jupyter-widgets/controls",
     "model_module_version": "1.5.0",
     "model_name": "CheckboxModel",
     "state": {
      "_dom_classes": [],
      "_model_module": "@jupyter-widgets/controls",
      "_model_module_version": "1.5.0",
      "_model_name": "CheckboxModel",
      "_view_count": null,
      "_view_module": "@jupyter-widgets/controls",
      "_view_module_version": "1.5.0",
      "_view_name": "CheckboxView",
      "description": "ST_amplitude",
      "description_tooltip": null,
      "disabled": false,
      "indent": false,
      "layout": "IPY_MODEL_ed3fba12cb694a38a55c3ef74d4bf2a8",
      "style": "IPY_MODEL_7790f205a80247d0a312b01522fb18af",
      "value": true
     }
    },
    "ab8a6f5516024a9bbc1a5fda3782108a": {
     "model_module": "@jupyter-widgets/controls",
     "model_module_version": "1.5.0",
     "model_name": "CheckboxModel",
     "state": {
      "_dom_classes": [],
      "_model_module": "@jupyter-widgets/controls",
      "_model_module_version": "1.5.0",
      "_model_name": "CheckboxModel",
      "_view_count": null,
      "_view_module": "@jupyter-widgets/controls",
      "_view_module_version": "1.5.0",
      "_view_name": "CheckboxView",
      "description": "S_wave_amplitude",
      "description_tooltip": null,
      "disabled": false,
      "indent": false,
      "layout": "IPY_MODEL_47e06060a1ee47b2a340678ed8f84024",
      "style": "IPY_MODEL_e54215825b944294bbf4fe5c90549b6e",
      "value": true
     }
    },
    "abbadbbfd0db429483f02461096ce4c2": {
     "model_module": "@jupyter-widgets/base",
     "model_module_version": "1.2.0",
     "model_name": "LayoutModel",
     "state": {
      "_model_module": "@jupyter-widgets/base",
      "_model_module_version": "1.2.0",
      "_model_name": "LayoutModel",
      "_view_count": null,
      "_view_module": "@jupyter-widgets/base",
      "_view_module_version": "1.2.0",
      "_view_name": "LayoutView",
      "align_content": null,
      "align_items": null,
      "align_self": null,
      "border": null,
      "bottom": null,
      "display": null,
      "flex": null,
      "flex_flow": null,
      "grid_area": null,
      "grid_auto_columns": null,
      "grid_auto_flow": null,
      "grid_auto_rows": null,
      "grid_column": null,
      "grid_gap": null,
      "grid_row": null,
      "grid_template_areas": null,
      "grid_template_columns": null,
      "grid_template_rows": null,
      "height": null,
      "justify_content": null,
      "justify_items": null,
      "left": null,
      "margin": null,
      "max_height": null,
      "max_width": null,
      "min_height": null,
      "min_width": null,
      "object_fit": null,
      "object_position": null,
      "order": null,
      "overflow": null,
      "overflow_x": null,
      "overflow_y": null,
      "padding": null,
      "right": null,
      "top": null,
      "visibility": null,
      "width": null
     }
    },
    "ac786a13dcb7420082b7379c6ecda854": {
     "model_module": "@jupyter-widgets/controls",
     "model_module_version": "1.5.0",
     "model_name": "DescriptionStyleModel",
     "state": {
      "_model_module": "@jupyter-widgets/controls",
      "_model_module_version": "1.5.0",
      "_model_name": "DescriptionStyleModel",
      "_view_count": null,
      "_view_module": "@jupyter-widgets/base",
      "_view_module_version": "1.2.0",
      "_view_name": "StyleView",
      "description_width": ""
     }
    },
    "afbdd352b46e42048d35f804637470a9": {
     "model_module": "@jupyter-widgets/controls",
     "model_module_version": "1.5.0",
     "model_name": "CheckboxModel",
     "state": {
      "_dom_classes": [],
      "_model_module": "@jupyter-widgets/controls",
      "_model_module_version": "1.5.0",
      "_model_name": "CheckboxModel",
      "_view_count": null,
      "_view_module": "@jupyter-widgets/controls",
      "_view_module_version": "1.5.0",
      "_view_name": "CheckboxView",
      "description": "R_wave_duration",
      "description_tooltip": null,
      "disabled": false,
      "indent": false,
      "layout": "IPY_MODEL_a721747bc5d24264bbda6ba8909a2224",
      "style": "IPY_MODEL_f08e369bafc34180bf9c1d893d7f1feb",
      "value": true
     }
    },
    "b0b06478d82e4f78b9c6b89b113a8af3": {
     "model_module": "@jupyter-widgets/controls",
     "model_module_version": "1.5.0",
     "model_name": "DescriptionStyleModel",
     "state": {
      "_model_module": "@jupyter-widgets/controls",
      "_model_module_version": "1.5.0",
      "_model_name": "DescriptionStyleModel",
      "_view_count": null,
      "_view_module": "@jupyter-widgets/base",
      "_view_module_version": "1.2.0",
      "_view_name": "StyleView",
      "description_width": ""
     }
    },
    "b24c3a977965490eb20c4c65b78b16ba": {
     "model_module": "@jupyter-widgets/controls",
     "model_module_version": "1.5.0",
     "model_name": "CheckboxModel",
     "state": {
      "_dom_classes": [],
      "_model_module": "@jupyter-widgets/controls",
      "_model_module_version": "1.5.0",
      "_model_name": "CheckboxModel",
      "_view_count": null,
      "_view_module": "@jupyter-widgets/controls",
      "_view_module_version": "1.5.0",
      "_view_name": "CheckboxView",
      "description": "ART_SBP",
      "description_tooltip": null,
      "disabled": false,
      "indent": false,
      "layout": "IPY_MODEL_1bbcc7ca95e84220a0a7ee35295a070f",
      "style": "IPY_MODEL_0dbe98b8a9d040cb81cccc11cc1c8028",
      "value": false
     }
    },
    "b5d151c40655450f8ee881f2e893beb4": {
     "model_module": "@jupyter-widgets/base",
     "model_module_version": "1.2.0",
     "model_name": "LayoutModel",
     "state": {
      "_model_module": "@jupyter-widgets/base",
      "_model_module_version": "1.2.0",
      "_model_name": "LayoutModel",
      "_view_count": null,
      "_view_module": "@jupyter-widgets/base",
      "_view_module_version": "1.2.0",
      "_view_name": "LayoutView",
      "align_content": null,
      "align_items": null,
      "align_self": null,
      "border": null,
      "bottom": null,
      "display": null,
      "flex": null,
      "flex_flow": null,
      "grid_area": null,
      "grid_auto_columns": null,
      "grid_auto_flow": null,
      "grid_auto_rows": null,
      "grid_column": null,
      "grid_gap": null,
      "grid_row": null,
      "grid_template_areas": null,
      "grid_template_columns": null,
      "grid_template_rows": null,
      "height": null,
      "justify_content": null,
      "justify_items": null,
      "left": null,
      "margin": null,
      "max_height": null,
      "max_width": null,
      "min_height": null,
      "min_width": null,
      "object_fit": null,
      "object_position": null,
      "order": null,
      "overflow": null,
      "overflow_x": null,
      "overflow_y": null,
      "padding": null,
      "right": null,
      "top": null,
      "visibility": null,
      "width": null
     }
    },
    "b63a970e5731416db1119c17772d2f9f": {
     "model_module": "@jupyter-widgets/base",
     "model_module_version": "1.2.0",
     "model_name": "LayoutModel",
     "state": {
      "_model_module": "@jupyter-widgets/base",
      "_model_module_version": "1.2.0",
      "_model_name": "LayoutModel",
      "_view_count": null,
      "_view_module": "@jupyter-widgets/base",
      "_view_module_version": "1.2.0",
      "_view_name": "LayoutView",
      "align_content": null,
      "align_items": null,
      "align_self": null,
      "border": null,
      "bottom": null,
      "display": null,
      "flex": null,
      "flex_flow": null,
      "grid_area": null,
      "grid_auto_columns": null,
      "grid_auto_flow": null,
      "grid_auto_rows": null,
      "grid_column": null,
      "grid_gap": null,
      "grid_row": null,
      "grid_template_areas": null,
      "grid_template_columns": null,
      "grid_template_rows": null,
      "height": null,
      "justify_content": null,
      "justify_items": null,
      "left": null,
      "margin": null,
      "max_height": null,
      "max_width": null,
      "min_height": null,
      "min_width": null,
      "object_fit": null,
      "object_position": null,
      "order": null,
      "overflow": null,
      "overflow_x": null,
      "overflow_y": null,
      "padding": null,
      "right": null,
      "top": null,
      "visibility": null,
      "width": null
     }
    },
    "b64d6a9929674d81a4a44e479b64be44": {
     "model_module": "@jupyter-widgets/controls",
     "model_module_version": "1.5.0",
     "model_name": "DescriptionStyleModel",
     "state": {
      "_model_module": "@jupyter-widgets/controls",
      "_model_module_version": "1.5.0",
      "_model_name": "DescriptionStyleModel",
      "_view_count": null,
      "_view_module": "@jupyter-widgets/base",
      "_view_module_version": "1.2.0",
      "_view_name": "StyleView",
      "description_width": ""
     }
    },
    "b95b9967178c4955a3020a6466dff996": {
     "model_module": "@jupyter-widgets/controls",
     "model_module_version": "1.5.0",
     "model_name": "DescriptionStyleModel",
     "state": {
      "_model_module": "@jupyter-widgets/controls",
      "_model_module_version": "1.5.0",
      "_model_name": "DescriptionStyleModel",
      "_view_count": null,
      "_view_module": "@jupyter-widgets/base",
      "_view_module_version": "1.2.0",
      "_view_name": "StyleView",
      "description_width": ""
     }
    },
    "bda70d1aa02c43deb2ef475e206b385c": {
     "model_module": "@jupyter-widgets/controls",
     "model_module_version": "1.5.0",
     "model_name": "DescriptionStyleModel",
     "state": {
      "_model_module": "@jupyter-widgets/controls",
      "_model_module_version": "1.5.0",
      "_model_name": "DescriptionStyleModel",
      "_view_count": null,
      "_view_module": "@jupyter-widgets/base",
      "_view_module_version": "1.2.0",
      "_view_name": "StyleView",
      "description_width": ""
     }
    },
    "c3154ee6b12e46c9b9fe0d761aba1d87": {
     "model_module": "@jupyter-widgets/controls",
     "model_module_version": "1.5.0",
     "model_name": "CheckboxModel",
     "state": {
      "_dom_classes": [],
      "_model_module": "@jupyter-widgets/controls",
      "_model_module_version": "1.5.0",
      "_model_name": "CheckboxModel",
      "_view_count": null,
      "_view_module": "@jupyter-widgets/controls",
      "_view_module_version": "1.5.0",
      "_view_name": "CheckboxView",
      "description": "ΔP_wave_duration",
      "description_tooltip": null,
      "disabled": false,
      "indent": false,
      "layout": "IPY_MODEL_11919a7786274255a191047bd7169523",
      "style": "IPY_MODEL_9625a3b66b114df3a0e75933dff168e0",
      "value": true
     }
    },
    "c4f043c5e6a44330ab1ed93634f1b081": {
     "model_module": "@jupyter-widgets/controls",
     "model_module_version": "1.5.0",
     "model_name": "CheckboxModel",
     "state": {
      "_dom_classes": [],
      "_model_module": "@jupyter-widgets/controls",
      "_model_module_version": "1.5.0",
      "_model_name": "CheckboxModel",
      "_view_count": null,
      "_view_module": "@jupyter-widgets/controls",
      "_view_module_version": "1.5.0",
      "_view_name": "CheckboxView",
      "description": "ΔST_amplitude",
      "description_tooltip": null,
      "disabled": false,
      "indent": false,
      "layout": "IPY_MODEL_2bada28024d54e3ea277521b543fa3de",
      "style": "IPY_MODEL_b0b06478d82e4f78b9c6b89b113a8af3",
      "value": false
     }
    },
    "c7a64185516e464fb02c468966e5f441": {
     "model_module": "@jupyter-widgets/base",
     "model_module_version": "1.2.0",
     "model_name": "LayoutModel",
     "state": {
      "_model_module": "@jupyter-widgets/base",
      "_model_module_version": "1.2.0",
      "_model_name": "LayoutModel",
      "_view_count": null,
      "_view_module": "@jupyter-widgets/base",
      "_view_module_version": "1.2.0",
      "_view_name": "LayoutView",
      "align_content": null,
      "align_items": null,
      "align_self": null,
      "border": null,
      "bottom": null,
      "display": null,
      "flex": null,
      "flex_flow": null,
      "grid_area": null,
      "grid_auto_columns": null,
      "grid_auto_flow": null,
      "grid_auto_rows": null,
      "grid_column": null,
      "grid_gap": null,
      "grid_row": null,
      "grid_template_areas": null,
      "grid_template_columns": null,
      "grid_template_rows": null,
      "height": null,
      "justify_content": null,
      "justify_items": null,
      "left": null,
      "margin": null,
      "max_height": null,
      "max_width": null,
      "min_height": null,
      "min_width": null,
      "object_fit": null,
      "object_position": null,
      "order": null,
      "overflow": null,
      "overflow_x": null,
      "overflow_y": null,
      "padding": null,
      "right": null,
      "top": null,
      "visibility": null,
      "width": null
     }
    },
    "c887167d909749919adca74612df8932": {
     "model_module": "@jupyter-widgets/controls",
     "model_module_version": "1.5.0",
     "model_name": "DescriptionStyleModel",
     "state": {
      "_model_module": "@jupyter-widgets/controls",
      "_model_module_version": "1.5.0",
      "_model_name": "DescriptionStyleModel",
      "_view_count": null,
      "_view_module": "@jupyter-widgets/base",
      "_view_module_version": "1.2.0",
      "_view_name": "StyleView",
      "description_width": ""
     }
    },
    "cac82b37eb3f4c14a57110e5d607c0a8": {
     "model_module": "@jupyter-widgets/base",
     "model_module_version": "1.2.0",
     "model_name": "LayoutModel",
     "state": {
      "_model_module": "@jupyter-widgets/base",
      "_model_module_version": "1.2.0",
      "_model_name": "LayoutModel",
      "_view_count": null,
      "_view_module": "@jupyter-widgets/base",
      "_view_module_version": "1.2.0",
      "_view_name": "LayoutView",
      "align_content": null,
      "align_items": null,
      "align_self": null,
      "border": null,
      "bottom": null,
      "display": null,
      "flex": null,
      "flex_flow": null,
      "grid_area": null,
      "grid_auto_columns": null,
      "grid_auto_flow": null,
      "grid_auto_rows": null,
      "grid_column": null,
      "grid_gap": null,
      "grid_row": null,
      "grid_template_areas": null,
      "grid_template_columns": null,
      "grid_template_rows": null,
      "height": null,
      "justify_content": null,
      "justify_items": null,
      "left": null,
      "margin": null,
      "max_height": null,
      "max_width": null,
      "min_height": null,
      "min_width": null,
      "object_fit": null,
      "object_position": null,
      "order": null,
      "overflow": null,
      "overflow_x": null,
      "overflow_y": null,
      "padding": null,
      "right": null,
      "top": null,
      "visibility": null,
      "width": null
     }
    },
    "cbc8e042c6f642ab8471a4556ac2f199": {
     "model_module": "@jupyter-widgets/controls",
     "model_module_version": "1.5.0",
     "model_name": "CheckboxModel",
     "state": {
      "_dom_classes": [],
      "_model_module": "@jupyter-widgets/controls",
      "_model_module_version": "1.5.0",
      "_model_name": "CheckboxModel",
      "_view_count": null,
      "_view_module": "@jupyter-widgets/controls",
      "_view_module_version": "1.5.0",
      "_view_name": "CheckboxView",
      "description": "ΔHeart_rate",
      "description_tooltip": null,
      "disabled": false,
      "indent": false,
      "layout": "IPY_MODEL_a72636761d5649fd941bf0f1e58ec218",
      "style": "IPY_MODEL_a75c492e89d24646bb7e1d2b202bb9ea",
      "value": true
     }
    },
    "cfd0cdfa656948d097b117e344689e2a": {
     "model_module": "@jupyter-widgets/controls",
     "model_module_version": "1.5.0",
     "model_name": "CheckboxModel",
     "state": {
      "_dom_classes": [],
      "_model_module": "@jupyter-widgets/controls",
      "_model_module_version": "1.5.0",
      "_model_name": "CheckboxModel",
      "_view_count": null,
      "_view_module": "@jupyter-widgets/controls",
      "_view_module_version": "1.5.0",
      "_view_name": "CheckboxView",
      "description": "R_wave_amplitude",
      "description_tooltip": null,
      "disabled": false,
      "indent": false,
      "layout": "IPY_MODEL_cac82b37eb3f4c14a57110e5d607c0a8",
      "style": "IPY_MODEL_27958fb4be034566a1b72d2e6e42a944",
      "value": true
     }
    },
    "d0e052267d914279a77b8e776ec2f457": {
     "model_module": "@jupyter-widgets/controls",
     "model_module_version": "1.5.0",
     "model_name": "CheckboxModel",
     "state": {
      "_dom_classes": [],
      "_model_module": "@jupyter-widgets/controls",
      "_model_module_version": "1.5.0",
      "_model_name": "CheckboxModel",
      "_view_count": null,
      "_view_module": "@jupyter-widgets/controls",
      "_view_module_version": "1.5.0",
      "_view_name": "CheckboxView",
      "description": "Heart_rate",
      "description_tooltip": null,
      "disabled": false,
      "indent": false,
      "layout": "IPY_MODEL_eb4dbd2be5024c2b86b8c897a00ea1fa",
      "style": "IPY_MODEL_59e16cec6cb844b1a6f968c8d75ab900",
      "value": true
     }
    },
    "d1f15e039d9f42b3bb5f97dbc866f2b1": {
     "model_module": "@jupyter-widgets/controls",
     "model_module_version": "1.5.0",
     "model_name": "CheckboxModel",
     "state": {
      "_dom_classes": [],
      "_model_module": "@jupyter-widgets/controls",
      "_model_module_version": "1.5.0",
      "_model_name": "CheckboxModel",
      "_view_count": null,
      "_view_module": "@jupyter-widgets/controls",
      "_view_module_version": "1.5.0",
      "_view_name": "CheckboxView",
      "description": "ST_II",
      "description_tooltip": null,
      "disabled": false,
      "indent": false,
      "layout": "IPY_MODEL_7ed4093e26e149bf82a2eab95d43beeb",
      "style": "IPY_MODEL_4e04a384dd6842c0800d9d3f212968b4",
      "value": false
     }
    },
    "d233a209186c452f9df754ec9fef1421": {
     "model_module": "@jupyter-widgets/controls",
     "model_module_version": "1.5.0",
     "model_name": "ProgressStyleModel",
     "state": {
      "_model_module": "@jupyter-widgets/controls",
      "_model_module_version": "1.5.0",
      "_model_name": "ProgressStyleModel",
      "_view_count": null,
      "_view_module": "@jupyter-widgets/base",
      "_view_module_version": "1.2.0",
      "_view_name": "StyleView",
      "bar_color": null,
      "description_width": ""
     }
    },
    "d338f625c81b4a8080c9005971f567e4": {
     "model_module": "@jupyter-widgets/base",
     "model_module_version": "1.2.0",
     "model_name": "LayoutModel",
     "state": {
      "_model_module": "@jupyter-widgets/base",
      "_model_module_version": "1.2.0",
      "_model_name": "LayoutModel",
      "_view_count": null,
      "_view_module": "@jupyter-widgets/base",
      "_view_module_version": "1.2.0",
      "_view_name": "LayoutView",
      "align_content": null,
      "align_items": null,
      "align_self": null,
      "border": null,
      "bottom": null,
      "display": null,
      "flex": null,
      "flex_flow": null,
      "grid_area": null,
      "grid_auto_columns": null,
      "grid_auto_flow": null,
      "grid_auto_rows": null,
      "grid_column": null,
      "grid_gap": null,
      "grid_row": null,
      "grid_template_areas": null,
      "grid_template_columns": null,
      "grid_template_rows": null,
      "height": null,
      "justify_content": null,
      "justify_items": null,
      "left": null,
      "margin": null,
      "max_height": null,
      "max_width": null,
      "min_height": null,
      "min_width": null,
      "object_fit": null,
      "object_position": null,
      "order": null,
      "overflow": null,
      "overflow_x": null,
      "overflow_y": null,
      "padding": null,
      "right": null,
      "top": null,
      "visibility": null,
      "width": null
     }
    },
    "d6c4722d20314813bf6cb56de655c27e": {
     "model_module": "@jupyter-widgets/controls",
     "model_module_version": "1.5.0",
     "model_name": "CheckboxModel",
     "state": {
      "_dom_classes": [],
      "_model_module": "@jupyter-widgets/controls",
      "_model_module_version": "1.5.0",
      "_model_name": "CheckboxModel",
      "_view_count": null,
      "_view_module": "@jupyter-widgets/controls",
      "_view_module_version": "1.5.0",
      "_view_name": "CheckboxView",
      "description": "J_point_amplitude",
      "description_tooltip": null,
      "disabled": false,
      "indent": false,
      "layout": "IPY_MODEL_98e0272db8d8434584254c91b53e7e94",
      "style": "IPY_MODEL_611654e3aca640d3b6e5b3850a02ef10",
      "value": true
     }
    },
    "d7c0976d1c6247f2885539dcaaa96e9a": {
     "model_module": "@jupyter-widgets/controls",
     "model_module_version": "1.5.0",
     "model_name": "CheckboxModel",
     "state": {
      "_dom_classes": [],
      "_model_module": "@jupyter-widgets/controls",
      "_model_module_version": "1.5.0",
      "_model_name": "CheckboxModel",
      "_view_count": null,
      "_view_module": "@jupyter-widgets/controls",
      "_view_module_version": "1.5.0",
      "_view_name": "CheckboxView",
      "description": "Hypotension_Status",
      "description_tooltip": null,
      "disabled": false,
      "indent": false,
      "layout": "IPY_MODEL_47958739319e4c21936350bb66a26a8f",
      "style": "IPY_MODEL_ec72e9dd31bb4139b3488d86583fb857",
      "value": false
     }
    },
    "d9e62e9e2f304869b5f7035e7b275c85": {
     "model_module": "@jupyter-widgets/base",
     "model_module_version": "1.2.0",
     "model_name": "LayoutModel",
     "state": {
      "_model_module": "@jupyter-widgets/base",
      "_model_module_version": "1.2.0",
      "_model_name": "LayoutModel",
      "_view_count": null,
      "_view_module": "@jupyter-widgets/base",
      "_view_module_version": "1.2.0",
      "_view_name": "LayoutView",
      "align_content": null,
      "align_items": null,
      "align_self": null,
      "border": null,
      "bottom": null,
      "display": null,
      "flex": null,
      "flex_flow": null,
      "grid_area": null,
      "grid_auto_columns": null,
      "grid_auto_flow": null,
      "grid_auto_rows": null,
      "grid_column": null,
      "grid_gap": null,
      "grid_row": null,
      "grid_template_areas": null,
      "grid_template_columns": null,
      "grid_template_rows": null,
      "height": null,
      "justify_content": null,
      "justify_items": null,
      "left": null,
      "margin": null,
      "max_height": null,
      "max_width": null,
      "min_height": null,
      "min_width": null,
      "object_fit": null,
      "object_position": null,
      "order": null,
      "overflow": null,
      "overflow_x": null,
      "overflow_y": null,
      "padding": null,
      "right": null,
      "top": null,
      "visibility": null,
      "width": null
     }
    },
    "dbe4e81fc987416992112b491a4cda03": {
     "model_module": "@jupyter-widgets/controls",
     "model_module_version": "1.5.0",
     "model_name": "DescriptionStyleModel",
     "state": {
      "_model_module": "@jupyter-widgets/controls",
      "_model_module_version": "1.5.0",
      "_model_name": "DescriptionStyleModel",
      "_view_count": null,
      "_view_module": "@jupyter-widgets/base",
      "_view_module_version": "1.2.0",
      "_view_name": "StyleView",
      "description_width": ""
     }
    },
    "dc5028b44334402c940beac7174cdf6b": {
     "model_module": "@jupyter-widgets/controls",
     "model_module_version": "1.5.0",
     "model_name": "CheckboxModel",
     "state": {
      "_dom_classes": [],
      "_model_module": "@jupyter-widgets/controls",
      "_model_module_version": "1.5.0",
      "_model_name": "CheckboxModel",
      "_view_count": null,
      "_view_module": "@jupyter-widgets/controls",
      "_view_module_version": "1.5.0",
      "_view_name": "CheckboxView",
      "description": "ΔST_slope",
      "description_tooltip": null,
      "disabled": false,
      "indent": false,
      "layout": "IPY_MODEL_a8399e99f5554323b91effc723320188",
      "style": "IPY_MODEL_a98e52df9956470284e34eaa3e2c2361",
      "value": true
     }
    },
    "e23c53626b6b468fa4937bf9f7412181": {
     "model_module": "@jupyter-widgets/controls",
     "model_module_version": "1.5.0",
     "model_name": "CheckboxModel",
     "state": {
      "_dom_classes": [],
      "_model_module": "@jupyter-widgets/controls",
      "_model_module_version": "1.5.0",
      "_model_name": "CheckboxModel",
      "_view_count": null,
      "_view_module": "@jupyter-widgets/controls",
      "_view_module_version": "1.5.0",
      "_view_name": "CheckboxView",
      "description": "p_wave_duration",
      "description_tooltip": null,
      "disabled": false,
      "indent": false,
      "layout": "IPY_MODEL_1bf9ba90695e4c81935441f5c64c0f3b",
      "style": "IPY_MODEL_127ed13148bf421199d4fda17c3b2bca",
      "value": true
     }
    },
    "e54215825b944294bbf4fe5c90549b6e": {
     "model_module": "@jupyter-widgets/controls",
     "model_module_version": "1.5.0",
     "model_name": "DescriptionStyleModel",
     "state": {
      "_model_module": "@jupyter-widgets/controls",
      "_model_module_version": "1.5.0",
      "_model_name": "DescriptionStyleModel",
      "_view_count": null,
      "_view_module": "@jupyter-widgets/base",
      "_view_module_version": "1.2.0",
      "_view_name": "StyleView",
      "description_width": ""
     }
    },
    "e97b0246d2c94c5b83824bbb5fb84f6a": {
     "model_module": "@jupyter-widgets/controls",
     "model_module_version": "1.5.0",
     "model_name": "DescriptionStyleModel",
     "state": {
      "_model_module": "@jupyter-widgets/controls",
      "_model_module_version": "1.5.0",
      "_model_name": "DescriptionStyleModel",
      "_view_count": null,
      "_view_module": "@jupyter-widgets/base",
      "_view_module_version": "1.2.0",
      "_view_name": "StyleView",
      "description_width": ""
     }
    },
    "eb4dbd2be5024c2b86b8c897a00ea1fa": {
     "model_module": "@jupyter-widgets/base",
     "model_module_version": "1.2.0",
     "model_name": "LayoutModel",
     "state": {
      "_model_module": "@jupyter-widgets/base",
      "_model_module_version": "1.2.0",
      "_model_name": "LayoutModel",
      "_view_count": null,
      "_view_module": "@jupyter-widgets/base",
      "_view_module_version": "1.2.0",
      "_view_name": "LayoutView",
      "align_content": null,
      "align_items": null,
      "align_self": null,
      "border": null,
      "bottom": null,
      "display": null,
      "flex": null,
      "flex_flow": null,
      "grid_area": null,
      "grid_auto_columns": null,
      "grid_auto_flow": null,
      "grid_auto_rows": null,
      "grid_column": null,
      "grid_gap": null,
      "grid_row": null,
      "grid_template_areas": null,
      "grid_template_columns": null,
      "grid_template_rows": null,
      "height": null,
      "justify_content": null,
      "justify_items": null,
      "left": null,
      "margin": null,
      "max_height": null,
      "max_width": null,
      "min_height": null,
      "min_width": null,
      "object_fit": null,
      "object_position": null,
      "order": null,
      "overflow": null,
      "overflow_x": null,
      "overflow_y": null,
      "padding": null,
      "right": null,
      "top": null,
      "visibility": null,
      "width": null
     }
    },
    "ec72e9dd31bb4139b3488d86583fb857": {
     "model_module": "@jupyter-widgets/controls",
     "model_module_version": "1.5.0",
     "model_name": "DescriptionStyleModel",
     "state": {
      "_model_module": "@jupyter-widgets/controls",
      "_model_module_version": "1.5.0",
      "_model_name": "DescriptionStyleModel",
      "_view_count": null,
      "_view_module": "@jupyter-widgets/base",
      "_view_module_version": "1.2.0",
      "_view_name": "StyleView",
      "description_width": ""
     }
    },
    "ed3fba12cb694a38a55c3ef74d4bf2a8": {
     "model_module": "@jupyter-widgets/base",
     "model_module_version": "1.2.0",
     "model_name": "LayoutModel",
     "state": {
      "_model_module": "@jupyter-widgets/base",
      "_model_module_version": "1.2.0",
      "_model_name": "LayoutModel",
      "_view_count": null,
      "_view_module": "@jupyter-widgets/base",
      "_view_module_version": "1.2.0",
      "_view_name": "LayoutView",
      "align_content": null,
      "align_items": null,
      "align_self": null,
      "border": null,
      "bottom": null,
      "display": null,
      "flex": null,
      "flex_flow": null,
      "grid_area": null,
      "grid_auto_columns": null,
      "grid_auto_flow": null,
      "grid_auto_rows": null,
      "grid_column": null,
      "grid_gap": null,
      "grid_row": null,
      "grid_template_areas": null,
      "grid_template_columns": null,
      "grid_template_rows": null,
      "height": null,
      "justify_content": null,
      "justify_items": null,
      "left": null,
      "margin": null,
      "max_height": null,
      "max_width": null,
      "min_height": null,
      "min_width": null,
      "object_fit": null,
      "object_position": null,
      "order": null,
      "overflow": null,
      "overflow_x": null,
      "overflow_y": null,
      "padding": null,
      "right": null,
      "top": null,
      "visibility": null,
      "width": null
     }
    },
    "efa9cbbcda0c4b098b584042373b60ac": {
     "model_module": "@jupyter-widgets/controls",
     "model_module_version": "1.5.0",
     "model_name": "DescriptionStyleModel",
     "state": {
      "_model_module": "@jupyter-widgets/controls",
      "_model_module_version": "1.5.0",
      "_model_name": "DescriptionStyleModel",
      "_view_count": null,
      "_view_module": "@jupyter-widgets/base",
      "_view_module_version": "1.2.0",
      "_view_name": "StyleView",
      "description_width": ""
     }
    },
    "f08e369bafc34180bf9c1d893d7f1feb": {
     "model_module": "@jupyter-widgets/controls",
     "model_module_version": "1.5.0",
     "model_name": "DescriptionStyleModel",
     "state": {
      "_model_module": "@jupyter-widgets/controls",
      "_model_module_version": "1.5.0",
      "_model_name": "DescriptionStyleModel",
      "_view_count": null,
      "_view_module": "@jupyter-widgets/base",
      "_view_module_version": "1.2.0",
      "_view_name": "StyleView",
      "description_width": ""
     }
    },
    "f09d14b2cd8448668a1ec9ae6152ce8f": {
     "model_module": "@jupyter-widgets/controls",
     "model_module_version": "1.5.0",
     "model_name": "CheckboxModel",
     "state": {
      "_dom_classes": [],
      "_model_module": "@jupyter-widgets/controls",
      "_model_module_version": "1.5.0",
      "_model_name": "CheckboxModel",
      "_view_count": null,
      "_view_module": "@jupyter-widgets/controls",
      "_view_module_version": "1.5.0",
      "_view_name": "CheckboxView",
      "description": "q_wave_amplitude",
      "description_tooltip": null,
      "disabled": false,
      "indent": false,
      "layout": "IPY_MODEL_34641228e3264b898e9e2fbd79bf6227",
      "style": "IPY_MODEL_40ba6d55b9a94ebaa272ea83049283d6",
      "value": true
     }
    },
    "f4c20a51c59f49aba3d5e511998765a8": {
     "model_module": "@jupyter-widgets/controls",
     "model_module_version": "1.5.0",
     "model_name": "FloatProgressModel",
     "state": {
      "_dom_classes": [],
      "_model_module": "@jupyter-widgets/controls",
      "_model_module_version": "1.5.0",
      "_model_name": "FloatProgressModel",
      "_view_count": null,
      "_view_module": "@jupyter-widgets/controls",
      "_view_module_version": "1.5.0",
      "_view_name": "ProgressView",
      "bar_style": "success",
      "description": "",
      "description_tooltip": null,
      "layout": "IPY_MODEL_b63a970e5731416db1119c17772d2f9f",
      "max": 352,
      "min": 0,
      "orientation": "horizontal",
      "style": "IPY_MODEL_d233a209186c452f9df754ec9fef1421",
      "value": 352
     }
    },
    "f5126b9c1b1a47e7be45f575fcb64a59": {
     "model_module": "@jupyter-widgets/controls",
     "model_module_version": "1.5.0",
     "model_name": "CheckboxModel",
     "state": {
      "_dom_classes": [],
      "_model_module": "@jupyter-widgets/controls",
      "_model_module_version": "1.5.0",
      "_model_name": "CheckboxModel",
      "_view_count": null,
      "_view_module": "@jupyter-widgets/controls",
      "_view_module_version": "1.5.0",
      "_view_name": "CheckboxView",
      "description": "ΔST_duration",
      "description_tooltip": null,
      "disabled": false,
      "indent": false,
      "layout": "IPY_MODEL_fbc315d5658b43f3a0c31ce04065a52f",
      "style": "IPY_MODEL_4f7d6694cb1142b1b5bff501368b2bac",
      "value": true
     }
    },
    "f5e9749c4a164d0f95f5bb3eab9f71aa": {
     "model_module": "@jupyter-widgets/controls",
     "model_module_version": "1.5.0",
     "model_name": "CheckboxModel",
     "state": {
      "_dom_classes": [],
      "_model_module": "@jupyter-widgets/controls",
      "_model_module_version": "1.5.0",
      "_model_name": "CheckboxModel",
      "_view_count": null,
      "_view_module": "@jupyter-widgets/controls",
      "_view_module_version": "1.5.0",
      "_view_name": "CheckboxView",
      "description": "Δq_wave_amplitude",
      "description_tooltip": null,
      "disabled": false,
      "indent": false,
      "layout": "IPY_MODEL_143dee602a3c490d9bb7dfc384ce0515",
      "style": "IPY_MODEL_ff8c20f0e2af4312b6ebb5955f9c43fb",
      "value": true
     }
    },
    "f6700e319dc04a6b86a55e54f29960b3": {
     "model_module": "@jupyter-widgets/controls",
     "model_module_version": "1.5.0",
     "model_name": "CheckboxModel",
     "state": {
      "_dom_classes": [],
      "_model_module": "@jupyter-widgets/controls",
      "_model_module_version": "1.5.0",
      "_model_name": "CheckboxModel",
      "_view_count": null,
      "_view_module": "@jupyter-widgets/controls",
      "_view_module_version": "1.5.0",
      "_view_name": "CheckboxView",
      "description": "ΔT_wave_duration",
      "description_tooltip": null,
      "disabled": false,
      "indent": false,
      "layout": "IPY_MODEL_9a8fc12b64924fc589eed9ca9a1de2c0",
      "style": "IPY_MODEL_a808c84b8d444409ab0e5867273412d8",
      "value": true
     }
    },
    "f8ed9d11a3af48d5b7b2882d3770099b": {
     "model_module": "@jupyter-widgets/base",
     "model_module_version": "1.2.0",
     "model_name": "LayoutModel",
     "state": {
      "_model_module": "@jupyter-widgets/base",
      "_model_module_version": "1.2.0",
      "_model_name": "LayoutModel",
      "_view_count": null,
      "_view_module": "@jupyter-widgets/base",
      "_view_module_version": "1.2.0",
      "_view_name": "LayoutView",
      "align_content": null,
      "align_items": null,
      "align_self": null,
      "border": null,
      "bottom": null,
      "display": null,
      "flex": null,
      "flex_flow": null,
      "grid_area": null,
      "grid_auto_columns": null,
      "grid_auto_flow": null,
      "grid_auto_rows": null,
      "grid_column": null,
      "grid_gap": null,
      "grid_row": null,
      "grid_template_areas": null,
      "grid_template_columns": null,
      "grid_template_rows": null,
      "height": null,
      "justify_content": null,
      "justify_items": null,
      "left": null,
      "margin": null,
      "max_height": null,
      "max_width": null,
      "min_height": null,
      "min_width": null,
      "object_fit": null,
      "object_position": null,
      "order": null,
      "overflow": null,
      "overflow_x": null,
      "overflow_y": null,
      "padding": null,
      "right": null,
      "top": null,
      "visibility": null,
      "width": null
     }
    },
    "fbc315d5658b43f3a0c31ce04065a52f": {
     "model_module": "@jupyter-widgets/base",
     "model_module_version": "1.2.0",
     "model_name": "LayoutModel",
     "state": {
      "_model_module": "@jupyter-widgets/base",
      "_model_module_version": "1.2.0",
      "_model_name": "LayoutModel",
      "_view_count": null,
      "_view_module": "@jupyter-widgets/base",
      "_view_module_version": "1.2.0",
      "_view_name": "LayoutView",
      "align_content": null,
      "align_items": null,
      "align_self": null,
      "border": null,
      "bottom": null,
      "display": null,
      "flex": null,
      "flex_flow": null,
      "grid_area": null,
      "grid_auto_columns": null,
      "grid_auto_flow": null,
      "grid_auto_rows": null,
      "grid_column": null,
      "grid_gap": null,
      "grid_row": null,
      "grid_template_areas": null,
      "grid_template_columns": null,
      "grid_template_rows": null,
      "height": null,
      "justify_content": null,
      "justify_items": null,
      "left": null,
      "margin": null,
      "max_height": null,
      "max_width": null,
      "min_height": null,
      "min_width": null,
      "object_fit": null,
      "object_position": null,
      "order": null,
      "overflow": null,
      "overflow_x": null,
      "overflow_y": null,
      "padding": null,
      "right": null,
      "top": null,
      "visibility": null,
      "width": null
     }
    },
    "fbf6461268594572935eef9521379e8d": {
     "model_module": "@jupyter-widgets/base",
     "model_module_version": "1.2.0",
     "model_name": "LayoutModel",
     "state": {
      "_model_module": "@jupyter-widgets/base",
      "_model_module_version": "1.2.0",
      "_model_name": "LayoutModel",
      "_view_count": null,
      "_view_module": "@jupyter-widgets/base",
      "_view_module_version": "1.2.0",
      "_view_name": "LayoutView",
      "align_content": null,
      "align_items": null,
      "align_self": null,
      "border": null,
      "bottom": null,
      "display": null,
      "flex": null,
      "flex_flow": null,
      "grid_area": null,
      "grid_auto_columns": null,
      "grid_auto_flow": null,
      "grid_auto_rows": null,
      "grid_column": null,
      "grid_gap": null,
      "grid_row": null,
      "grid_template_areas": null,
      "grid_template_columns": null,
      "grid_template_rows": null,
      "height": null,
      "justify_content": null,
      "justify_items": null,
      "left": null,
      "margin": null,
      "max_height": null,
      "max_width": null,
      "min_height": null,
      "min_width": null,
      "object_fit": null,
      "object_position": null,
      "order": null,
      "overflow": null,
      "overflow_x": null,
      "overflow_y": null,
      "padding": null,
      "right": null,
      "top": null,
      "visibility": null,
      "width": null
     }
    },
    "fc91c9f584d0404f88c1f51c28856e6a": {
     "model_module": "@jupyter-widgets/base",
     "model_module_version": "1.2.0",
     "model_name": "LayoutModel",
     "state": {
      "_model_module": "@jupyter-widgets/base",
      "_model_module_version": "1.2.0",
      "_model_name": "LayoutModel",
      "_view_count": null,
      "_view_module": "@jupyter-widgets/base",
      "_view_module_version": "1.2.0",
      "_view_name": "LayoutView",
      "align_content": null,
      "align_items": null,
      "align_self": null,
      "border": null,
      "bottom": null,
      "display": null,
      "flex": null,
      "flex_flow": null,
      "grid_area": null,
      "grid_auto_columns": null,
      "grid_auto_flow": null,
      "grid_auto_rows": null,
      "grid_column": null,
      "grid_gap": null,
      "grid_row": null,
      "grid_template_areas": null,
      "grid_template_columns": null,
      "grid_template_rows": null,
      "height": null,
      "justify_content": null,
      "justify_items": null,
      "left": null,
      "margin": null,
      "max_height": null,
      "max_width": null,
      "min_height": null,
      "min_width": null,
      "object_fit": null,
      "object_position": null,
      "order": null,
      "overflow": null,
      "overflow_x": null,
      "overflow_y": null,
      "padding": null,
      "right": null,
      "top": null,
      "visibility": null,
      "width": null
     }
    },
    "ff8c20f0e2af4312b6ebb5955f9c43fb": {
     "model_module": "@jupyter-widgets/controls",
     "model_module_version": "1.5.0",
     "model_name": "DescriptionStyleModel",
     "state": {
      "_model_module": "@jupyter-widgets/controls",
      "_model_module_version": "1.5.0",
      "_model_name": "DescriptionStyleModel",
      "_view_count": null,
      "_view_module": "@jupyter-widgets/base",
      "_view_module_version": "1.2.0",
      "_view_name": "StyleView",
      "description_width": ""
     }
    }
   }
  }
 },
 "nbformat": 4,
 "nbformat_minor": 4
}
