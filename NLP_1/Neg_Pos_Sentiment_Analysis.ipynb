{
 "cells": [
  {
   "cell_type": "markdown",
   "metadata": {
    "colab_type": "text",
    "id": "view-in-github"
   },
   "source": [
    "<a href=\"https://colab.research.google.com/github/RafsanJany-44/NLP_Research/blob/master/tensoreflow_2.ipynb\" target=\"_parent\"><img src=\"https://colab.research.google.com/assets/colab-badge.svg\" alt=\"Open In Colab\"/></a>"
   ]
  },
  {
   "cell_type": "code",
   "execution_count": 1,
   "metadata": {
    "id": "YxPHOLZhhCvM",
    "tags": []
   },
   "outputs": [],
   "source": [
    "import pandas as pd\n",
    "import numpy as np\n",
    "\n",
    "df = pd.read_csv(\"Main_Result.csv\")"
   ]
  },
  {
   "cell_type": "code",
   "execution_count": 2,
   "metadata": {},
   "outputs": [
    {
     "data": {
      "text/html": [
       "<div>\n",
       "<style scoped>\n",
       "    .dataframe tbody tr th:only-of-type {\n",
       "        vertical-align: middle;\n",
       "    }\n",
       "\n",
       "    .dataframe tbody tr th {\n",
       "        vertical-align: top;\n",
       "    }\n",
       "\n",
       "    .dataframe thead th {\n",
       "        text-align: right;\n",
       "    }\n",
       "</style>\n",
       "<table border=\"1\" class=\"dataframe\">\n",
       "  <thead>\n",
       "    <tr style=\"text-align: right;\">\n",
       "      <th></th>\n",
       "      <th>Comments</th>\n",
       "      <th>Type</th>\n",
       "    </tr>\n",
       "  </thead>\n",
       "  <tbody>\n",
       "    <tr>\n",
       "      <th>0</th>\n",
       "      <td>there is nothing else like khan academy out th...</td>\n",
       "      <td>1.0</td>\n",
       "    </tr>\n",
       "    <tr>\n",
       "      <th>1</th>\n",
       "      <td>sal is amazing. so is chemistry. i really real...</td>\n",
       "      <td>1.0</td>\n",
       "    </tr>\n",
       "    <tr>\n",
       "      <th>2</th>\n",
       "      <td>thanks khan academy! wish i had this series wh...</td>\n",
       "      <td>1.0</td>\n",
       "    </tr>\n",
       "    <tr>\n",
       "      <th>3</th>\n",
       "      <td>this was a really helpful video in understandi...</td>\n",
       "      <td>1.0</td>\n",
       "    </tr>\n",
       "    <tr>\n",
       "      <th>4</th>\n",
       "      <td>always stuns me how the study of the minute bl...</td>\n",
       "      <td>1.0</td>\n",
       "    </tr>\n",
       "    <tr>\n",
       "      <th>...</th>\n",
       "      <td>...</td>\n",
       "      <td>...</td>\n",
       "    </tr>\n",
       "    <tr>\n",
       "      <th>4531</th>\n",
       "      <td>is wondering y Mother Nature is making my life...</td>\n",
       "      <td>0.0</td>\n",
       "    </tr>\n",
       "    <tr>\n",
       "      <th>4532</th>\n",
       "      <td>ouch, thats your achy back...so sorry ... i d...</td>\n",
       "      <td>0.0</td>\n",
       "    </tr>\n",
       "    <tr>\n",
       "      <th>4533</th>\n",
       "      <td>One lane stop and go trafffffffic suckssss! Al...</td>\n",
       "      <td>0.0</td>\n",
       "    </tr>\n",
       "    <tr>\n",
       "      <th>4534</th>\n",
       "      <td>the dog dug a hole in the backyard well iwas s...</td>\n",
       "      <td>0.0</td>\n",
       "    </tr>\n",
       "    <tr>\n",
       "      <th>4535</th>\n",
       "      <td>I`m torn, do I get an extended warranty for my...</td>\n",
       "      <td>0.0</td>\n",
       "    </tr>\n",
       "  </tbody>\n",
       "</table>\n",
       "<p>4536 rows × 2 columns</p>\n",
       "</div>"
      ],
      "text/plain": [
       "                                               Comments  Type\n",
       "0     there is nothing else like khan academy out th...   1.0\n",
       "1     sal is amazing. so is chemistry. i really real...   1.0\n",
       "2     thanks khan academy! wish i had this series wh...   1.0\n",
       "3     this was a really helpful video in understandi...   1.0\n",
       "4     always stuns me how the study of the minute bl...   1.0\n",
       "...                                                 ...   ...\n",
       "4531  is wondering y Mother Nature is making my life...   0.0\n",
       "4532   ouch, thats your achy back...so sorry ... i d...   0.0\n",
       "4533  One lane stop and go trafffffffic suckssss! Al...   0.0\n",
       "4534  the dog dug a hole in the backyard well iwas s...   0.0\n",
       "4535  I`m torn, do I get an extended warranty for my...   0.0\n",
       "\n",
       "[4536 rows x 2 columns]"
      ]
     },
     "execution_count": 2,
     "metadata": {},
     "output_type": "execute_result"
    }
   ],
   "source": [
    "df"
   ]
  },
  {
   "cell_type": "code",
   "execution_count": 3,
   "metadata": {},
   "outputs": [
    {
     "data": {
      "text/plain": [
       "1.0    2326\n",
       "0.0    2002\n",
       "Name: Type, dtype: int64"
      ]
     },
     "execution_count": 3,
     "metadata": {},
     "output_type": "execute_result"
    }
   ],
   "source": [
    "df[\"Type\"].value_counts()"
   ]
  },
  {
   "cell_type": "code",
   "execution_count": 4,
   "metadata": {},
   "outputs": [
    {
     "data": {
      "text/plain": [
       "Comments     17\n",
       "Type        208\n",
       "dtype: int64"
      ]
     },
     "execution_count": 4,
     "metadata": {},
     "output_type": "execute_result"
    }
   ],
   "source": [
    "df.isnull().sum()"
   ]
  },
  {
   "cell_type": "code",
   "execution_count": 5,
   "metadata": {},
   "outputs": [],
   "source": [
    "\n",
    "df = df.dropna().reset_index(drop=True)"
   ]
  },
  {
   "cell_type": "code",
   "execution_count": 6,
   "metadata": {},
   "outputs": [
    {
     "data": {
      "text/plain": [
       "Comments    0\n",
       "Type        0\n",
       "dtype: int64"
      ]
     },
     "execution_count": 6,
     "metadata": {},
     "output_type": "execute_result"
    }
   ],
   "source": [
    "df.isnull().sum()"
   ]
  },
  {
   "cell_type": "code",
   "execution_count": 7,
   "metadata": {},
   "outputs": [
    {
     "data": {
      "text/html": [
       "<div>\n",
       "<style scoped>\n",
       "    .dataframe tbody tr th:only-of-type {\n",
       "        vertical-align: middle;\n",
       "    }\n",
       "\n",
       "    .dataframe tbody tr th {\n",
       "        vertical-align: top;\n",
       "    }\n",
       "\n",
       "    .dataframe thead th {\n",
       "        text-align: right;\n",
       "    }\n",
       "</style>\n",
       "<table border=\"1\" class=\"dataframe\">\n",
       "  <thead>\n",
       "    <tr style=\"text-align: right;\">\n",
       "      <th></th>\n",
       "      <th>Comments</th>\n",
       "      <th>Type</th>\n",
       "    </tr>\n",
       "  </thead>\n",
       "  <tbody>\n",
       "    <tr>\n",
       "      <th>0</th>\n",
       "      <td>there is nothing else like khan academy out th...</td>\n",
       "      <td>1.0</td>\n",
       "    </tr>\n",
       "    <tr>\n",
       "      <th>1</th>\n",
       "      <td>sal is amazing. so is chemistry. i really real...</td>\n",
       "      <td>1.0</td>\n",
       "    </tr>\n",
       "    <tr>\n",
       "      <th>2</th>\n",
       "      <td>thanks khan academy! wish i had this series wh...</td>\n",
       "      <td>1.0</td>\n",
       "    </tr>\n",
       "    <tr>\n",
       "      <th>3</th>\n",
       "      <td>this was a really helpful video in understandi...</td>\n",
       "      <td>1.0</td>\n",
       "    </tr>\n",
       "    <tr>\n",
       "      <th>4</th>\n",
       "      <td>always stuns me how the study of the minute bl...</td>\n",
       "      <td>1.0</td>\n",
       "    </tr>\n",
       "    <tr>\n",
       "      <th>...</th>\n",
       "      <td>...</td>\n",
       "      <td>...</td>\n",
       "    </tr>\n",
       "    <tr>\n",
       "      <th>4310</th>\n",
       "      <td>is wondering y Mother Nature is making my life...</td>\n",
       "      <td>0.0</td>\n",
       "    </tr>\n",
       "    <tr>\n",
       "      <th>4311</th>\n",
       "      <td>ouch, thats your achy back...so sorry ... i d...</td>\n",
       "      <td>0.0</td>\n",
       "    </tr>\n",
       "    <tr>\n",
       "      <th>4312</th>\n",
       "      <td>One lane stop and go trafffffffic suckssss! Al...</td>\n",
       "      <td>0.0</td>\n",
       "    </tr>\n",
       "    <tr>\n",
       "      <th>4313</th>\n",
       "      <td>the dog dug a hole in the backyard well iwas s...</td>\n",
       "      <td>0.0</td>\n",
       "    </tr>\n",
       "    <tr>\n",
       "      <th>4314</th>\n",
       "      <td>I`m torn, do I get an extended warranty for my...</td>\n",
       "      <td>0.0</td>\n",
       "    </tr>\n",
       "  </tbody>\n",
       "</table>\n",
       "<p>4315 rows × 2 columns</p>\n",
       "</div>"
      ],
      "text/plain": [
       "                                               Comments  Type\n",
       "0     there is nothing else like khan academy out th...   1.0\n",
       "1     sal is amazing. so is chemistry. i really real...   1.0\n",
       "2     thanks khan academy! wish i had this series wh...   1.0\n",
       "3     this was a really helpful video in understandi...   1.0\n",
       "4     always stuns me how the study of the minute bl...   1.0\n",
       "...                                                 ...   ...\n",
       "4310  is wondering y Mother Nature is making my life...   0.0\n",
       "4311   ouch, thats your achy back...so sorry ... i d...   0.0\n",
       "4312  One lane stop and go trafffffffic suckssss! Al...   0.0\n",
       "4313  the dog dug a hole in the backyard well iwas s...   0.0\n",
       "4314  I`m torn, do I get an extended warranty for my...   0.0\n",
       "\n",
       "[4315 rows x 2 columns]"
      ]
     },
     "execution_count": 7,
     "metadata": {},
     "output_type": "execute_result"
    }
   ],
   "source": [
    "df"
   ]
  },
  {
   "cell_type": "code",
   "execution_count": 8,
   "metadata": {
    "colab": {
     "base_uri": "https://localhost:8080/"
    },
    "id": "4gs9htvM7n_x",
    "outputId": "dab585bd-d195-4030-f4a6-e2d3297dfa58",
    "tags": []
   },
   "outputs": [],
   "source": [
    "\n",
    "try:\n",
    "\n",
    "  %tensorflow_version 2.x\n",
    "except Exception:\n",
    "  pass"
   ]
  },
  {
   "cell_type": "code",
   "execution_count": 9,
   "metadata": {
    "tags": []
   },
   "outputs": [
    {
     "name": "stdout",
     "output_type": "stream",
     "text": [
      "[PhysicalDevice(name='/physical_device:GPU:0', device_type='GPU')]\n"
     ]
    }
   ],
   "source": [
    "import tensorflow as tf\n",
    "print(tf.config.list_physical_devices('GPU'))"
   ]
  },
  {
   "cell_type": "code",
   "execution_count": 10,
   "metadata": {
    "id": "XYYDvoskkE61",
    "tags": []
   },
   "outputs": [],
   "source": [
    "\n",
    "import tensorflow as tf\n",
    "\n",
    "from tensorflow.keras.preprocessing.text import Tokenizer\n",
    "from tensorflow.keras.preprocessing.sequence import pad_sequences"
   ]
  },
  {
   "cell_type": "markdown",
   "metadata": {},
   "source": [
    "### Remove Non-Alphabetic Characters (including numbers)"
   ]
  },
  {
   "cell_type": "code",
   "execution_count": 11,
   "metadata": {},
   "outputs": [],
   "source": [
    "import re\n",
    "\n",
    "def convert_to_string(DF):\n",
    "    DF[\"Comments\"]= DF[\"Comments\"].astype(str)\n",
    "    \n",
    "def cleanerFn(b):\n",
    "    # keeps only words with alphabetic characters in comments\n",
    "    for row in range(len(b)):\n",
    "        line = b.loc[row, \"Comments\"]\n",
    "        b.loc[row,\"Comments\"] = re.sub(\"[^a-zA-Z]\", \" \", line)"
   ]
  },
  {
   "cell_type": "code",
   "execution_count": 12,
   "metadata": {},
   "outputs": [],
   "source": [
    "convert_to_string(df)"
   ]
  },
  {
   "cell_type": "code",
   "execution_count": 13,
   "metadata": {},
   "outputs": [
    {
     "data": {
      "text/html": [
       "<div>\n",
       "<style scoped>\n",
       "    .dataframe tbody tr th:only-of-type {\n",
       "        vertical-align: middle;\n",
       "    }\n",
       "\n",
       "    .dataframe tbody tr th {\n",
       "        vertical-align: top;\n",
       "    }\n",
       "\n",
       "    .dataframe thead th {\n",
       "        text-align: right;\n",
       "    }\n",
       "</style>\n",
       "<table border=\"1\" class=\"dataframe\">\n",
       "  <thead>\n",
       "    <tr style=\"text-align: right;\">\n",
       "      <th></th>\n",
       "      <th>Comments</th>\n",
       "      <th>Type</th>\n",
       "    </tr>\n",
       "  </thead>\n",
       "  <tbody>\n",
       "    <tr>\n",
       "      <th>0</th>\n",
       "      <td>there is nothing else like khan academy out th...</td>\n",
       "      <td>1.0</td>\n",
       "    </tr>\n",
       "    <tr>\n",
       "      <th>1</th>\n",
       "      <td>sal is amazing  so is chemistry  i really real...</td>\n",
       "      <td>1.0</td>\n",
       "    </tr>\n",
       "    <tr>\n",
       "      <th>2</th>\n",
       "      <td>thanks khan academy  wish i had this series wh...</td>\n",
       "      <td>1.0</td>\n",
       "    </tr>\n",
       "    <tr>\n",
       "      <th>3</th>\n",
       "      <td>this was a really helpful video in understandi...</td>\n",
       "      <td>1.0</td>\n",
       "    </tr>\n",
       "    <tr>\n",
       "      <th>4</th>\n",
       "      <td>always stuns me how the study of the minute bl...</td>\n",
       "      <td>1.0</td>\n",
       "    </tr>\n",
       "  </tbody>\n",
       "</table>\n",
       "</div>"
      ],
      "text/plain": [
       "                                            Comments  Type\n",
       "0  there is nothing else like khan academy out th...   1.0\n",
       "1  sal is amazing  so is chemistry  i really real...   1.0\n",
       "2  thanks khan academy  wish i had this series wh...   1.0\n",
       "3  this was a really helpful video in understandi...   1.0\n",
       "4  always stuns me how the study of the minute bl...   1.0"
      ]
     },
     "execution_count": 13,
     "metadata": {},
     "output_type": "execute_result"
    }
   ],
   "source": [
    "cleanerFn(df)\n",
    "df.head()"
   ]
  },
  {
   "cell_type": "code",
   "execution_count": null,
   "metadata": {},
   "outputs": [],
   "source": []
  },
  {
   "cell_type": "code",
   "execution_count": 14,
   "metadata": {
    "id": "oaLaaqhNkUPd"
   },
   "outputs": [],
   "source": [
    "\n",
    "sentences = []\n",
    "labels = []\n",
    "\n",
    "for i in range(df.shape[0]):\n",
    "    sentences.append(df['Comments'][i])\n",
    "    labels.append(df['Type'][i])"
   ]
  },
  {
   "cell_type": "code",
   "execution_count": 15,
   "metadata": {
    "id": "S1sD-7v0kYWk"
   },
   "outputs": [],
   "source": [
    "training_size = 3600\n",
    "training_sentences = sentences[0:training_size]\n",
    "testing_sentences = sentences[training_size:]\n",
    "training_labels = labels[0:training_size]\n",
    "testing_labels = labels[training_size:]"
   ]
  },
  {
   "cell_type": "code",
   "execution_count": 17,
   "metadata": {
    "id": "3u8UB0MCkZ5N"
   },
   "outputs": [],
   "source": [
    "vocab_size = 10000                                #the maximum number of words to keep\n",
    "embedding_dim = 16\n",
    "max_length = 200                                  #maximum length of all sequences.\n",
    "trunc_type='post'                                 # remove values from sequences larger than maxlen\n",
    "padding_type='post'                               #pad either before or after each sequence.\n",
    "oov_tok = \"<OOV>\"                                 #used to replace out-of-vocabulary words during text_to_sequence calls\n",
    "\n",
    "\n",
    "\n",
    "tokenizer = Tokenizer(num_words=vocab_size, oov_token=oov_tok)\n",
    "tokenizer.fit_on_texts(training_sentences)\n",
    "\n",
    "word_index = tokenizer.word_index\n",
    "\n",
    "#Transforms each text in texts to a sequence of integers. -> training data\n",
    "training_sequences = tokenizer.texts_to_sequences(training_sentences)           \n",
    "\n",
    "#This function transforms a list  of sequences into a 2D Numpy array of shape -> Training data\n",
    "training_padded = pad_sequences(training_sequences, maxlen=max_length, padding=padding_type, truncating=trunc_type)    \n",
    "\n",
    "\n",
    "#Transforms each text in texts to a sequence of integers. -> testing data\n",
    "testing_sequences = tokenizer.texts_to_sequences(testing_sentences)\n",
    "\n",
    "#This function transforms a list  of sequences into a 2D Numpy array of shape -> testing data\n",
    "testing_padded = pad_sequences(testing_sequences, maxlen=max_length, padding=padding_type, truncating=trunc_type)"
   ]
  },
  {
   "cell_type": "code",
   "execution_count": 18,
   "metadata": {
    "id": "GrAlWBKf99Ya"
   },
   "outputs": [],
   "source": [
    "\n",
    "import numpy as np\n",
    "training_padded = np.array(training_padded)\n",
    "training_labels = np.array(training_labels)\n",
    "testing_padded = np.array(testing_padded)\n",
    "testing_labels = np.array(testing_labels)"
   ]
  },
  {
   "cell_type": "code",
   "execution_count": 19,
   "metadata": {
    "id": "FufaT4vlkiDE"
   },
   "outputs": [],
   "source": [
    "\n",
    "model = tf.keras.Sequential([\n",
    "    \n",
    "    tf.keras.layers.Embedding(vocab_size, embedding_dim, input_length=max_length),\n",
    "    \n",
    "    tf.keras.layers.GlobalAveragePooling1D(),\n",
    "    \n",
    "    tf.keras.layers.Dense(24, activation='relu'),\n",
    "    \n",
    "    tf.keras.layers.Dense(1, activation='sigmoid')\n",
    "])\n",
    "\n",
    "model.compile(loss='binary_crossentropy',optimizer='adam',metrics=['accuracy'])"
   ]
  },
  {
   "cell_type": "code",
   "execution_count": 21,
   "metadata": {
    "colab": {
     "base_uri": "https://localhost:8080/"
    },
    "id": "XfDt1hmYkiys",
    "outputId": "784cbb1c-fc09-43aa-fc67-ccde69817bff"
   },
   "outputs": [
    {
     "name": "stdout",
     "output_type": "stream",
     "text": [
      "Model: \"sequential\"\n",
      "_________________________________________________________________\n",
      " Layer (type)                Output Shape              Param #   \n",
      "=================================================================\n",
      " embedding (Embedding)       (None, 200, 16)           160000    \n",
      "                                                                 \n",
      " global_average_pooling1d (G  (None, 16)               0         \n",
      " lobalAveragePooling1D)                                          \n",
      "                                                                 \n",
      " dense (Dense)               (None, 24)                408       \n",
      "                                                                 \n",
      " dense_1 (Dense)             (None, 1)                 25        \n",
      "                                                                 \n",
      "=================================================================\n",
      "Total params: 160,433\n",
      "Trainable params: 160,433\n",
      "Non-trainable params: 0\n",
      "_________________________________________________________________\n"
     ]
    }
   ],
   "source": [
    "model.summary()"
   ]
  },
  {
   "cell_type": "code",
   "execution_count": 22,
   "metadata": {
    "colab": {
     "base_uri": "https://localhost:8080/"
    },
    "id": "2DTKQFf1kkyc",
    "outputId": "c82019d0-4646-4d08-82d3-e272d1e47ee5"
   },
   "outputs": [
    {
     "name": "stdout",
     "output_type": "stream",
     "text": [
      "Epoch 1/30\n",
      "113/113 - 3s - loss: 0.6710 - accuracy: 0.6286 - val_loss: 0.9541 - val_accuracy: 0.0000e+00 - 3s/epoch - 27ms/step\n",
      "Epoch 2/30\n",
      "113/113 - 0s - loss: 0.6495 - accuracy: 0.6425 - val_loss: 1.0042 - val_accuracy: 0.0000e+00 - 360ms/epoch - 3ms/step\n",
      "Epoch 3/30\n",
      "113/113 - 0s - loss: 0.6420 - accuracy: 0.6425 - val_loss: 0.9787 - val_accuracy: 0.0000e+00 - 337ms/epoch - 3ms/step\n",
      "Epoch 4/30\n",
      "113/113 - 0s - loss: 0.6286 - accuracy: 0.6425 - val_loss: 0.9952 - val_accuracy: 0.0000e+00 - 375ms/epoch - 3ms/step\n",
      "Epoch 5/30\n",
      "113/113 - 0s - loss: 0.5943 - accuracy: 0.6425 - val_loss: 0.9339 - val_accuracy: 0.0000e+00 - 366ms/epoch - 3ms/step\n",
      "Epoch 6/30\n",
      "113/113 - 0s - loss: 0.5131 - accuracy: 0.7300 - val_loss: 0.5964 - val_accuracy: 0.8434 - 346ms/epoch - 3ms/step\n",
      "Epoch 7/30\n",
      "113/113 - 0s - loss: 0.3987 - accuracy: 0.9089 - val_loss: 0.4824 - val_accuracy: 0.8951 - 382ms/epoch - 3ms/step\n",
      "Epoch 8/30\n",
      "113/113 - 0s - loss: 0.3005 - accuracy: 0.9431 - val_loss: 0.3151 - val_accuracy: 0.9622 - 376ms/epoch - 3ms/step\n",
      "Epoch 9/30\n",
      "113/113 - 0s - loss: 0.2337 - accuracy: 0.9467 - val_loss: 0.3299 - val_accuracy: 0.9049 - 414ms/epoch - 4ms/step\n",
      "Epoch 10/30\n",
      "113/113 - 0s - loss: 0.1904 - accuracy: 0.9556 - val_loss: 0.2117 - val_accuracy: 0.9692 - 397ms/epoch - 4ms/step\n",
      "Epoch 11/30\n",
      "113/113 - 0s - loss: 0.1640 - accuracy: 0.9617 - val_loss: 0.2333 - val_accuracy: 0.9469 - 348ms/epoch - 3ms/step\n",
      "Epoch 12/30\n",
      "113/113 - 0s - loss: 0.1440 - accuracy: 0.9678 - val_loss: 0.1672 - val_accuracy: 0.9734 - 353ms/epoch - 3ms/step\n",
      "Epoch 13/30\n",
      "113/113 - 0s - loss: 0.1283 - accuracy: 0.9706 - val_loss: 0.1892 - val_accuracy: 0.9538 - 335ms/epoch - 3ms/step\n",
      "Epoch 14/30\n",
      "113/113 - 0s - loss: 0.1162 - accuracy: 0.9717 - val_loss: 0.2022 - val_accuracy: 0.9371 - 333ms/epoch - 3ms/step\n",
      "Epoch 15/30\n",
      "113/113 - 0s - loss: 0.1080 - accuracy: 0.9731 - val_loss: 0.2616 - val_accuracy: 0.8965 - 337ms/epoch - 3ms/step\n",
      "Epoch 16/30\n",
      "113/113 - 0s - loss: 0.0990 - accuracy: 0.9761 - val_loss: 0.1905 - val_accuracy: 0.9329 - 372ms/epoch - 3ms/step\n",
      "Epoch 17/30\n",
      "113/113 - 0s - loss: 0.0900 - accuracy: 0.9789 - val_loss: 0.1542 - val_accuracy: 0.9538 - 345ms/epoch - 3ms/step\n",
      "Epoch 18/30\n",
      "113/113 - 0s - loss: 0.0832 - accuracy: 0.9819 - val_loss: 0.1401 - val_accuracy: 0.9622 - 360ms/epoch - 3ms/step\n",
      "Epoch 19/30\n",
      "113/113 - 0s - loss: 0.0771 - accuracy: 0.9825 - val_loss: 0.2300 - val_accuracy: 0.9035 - 344ms/epoch - 3ms/step\n",
      "Epoch 20/30\n",
      "113/113 - 0s - loss: 0.0720 - accuracy: 0.9825 - val_loss: 0.1668 - val_accuracy: 0.9371 - 326ms/epoch - 3ms/step\n",
      "Epoch 21/30\n",
      "113/113 - 0s - loss: 0.0666 - accuracy: 0.9844 - val_loss: 0.1590 - val_accuracy: 0.9385 - 333ms/epoch - 3ms/step\n",
      "Epoch 22/30\n",
      "113/113 - 0s - loss: 0.0623 - accuracy: 0.9839 - val_loss: 0.1274 - val_accuracy: 0.9580 - 343ms/epoch - 3ms/step\n",
      "Epoch 23/30\n",
      "113/113 - 0s - loss: 0.0569 - accuracy: 0.9856 - val_loss: 0.2137 - val_accuracy: 0.9091 - 342ms/epoch - 3ms/step\n",
      "Epoch 24/30\n",
      "113/113 - 0s - loss: 0.0529 - accuracy: 0.9878 - val_loss: 0.1272 - val_accuracy: 0.9483 - 335ms/epoch - 3ms/step\n",
      "Epoch 25/30\n",
      "113/113 - 0s - loss: 0.0485 - accuracy: 0.9892 - val_loss: 0.1068 - val_accuracy: 0.9580 - 348ms/epoch - 3ms/step\n",
      "Epoch 26/30\n",
      "113/113 - 0s - loss: 0.0471 - accuracy: 0.9886 - val_loss: 0.1680 - val_accuracy: 0.9259 - 344ms/epoch - 3ms/step\n",
      "Epoch 27/30\n",
      "113/113 - 0s - loss: 0.0420 - accuracy: 0.9906 - val_loss: 0.0868 - val_accuracy: 0.9706 - 344ms/epoch - 3ms/step\n",
      "Epoch 28/30\n",
      "113/113 - 0s - loss: 0.0404 - accuracy: 0.9911 - val_loss: 0.1084 - val_accuracy: 0.9552 - 330ms/epoch - 3ms/step\n",
      "Epoch 29/30\n",
      "113/113 - 0s - loss: 0.0371 - accuracy: 0.9914 - val_loss: 0.0943 - val_accuracy: 0.9678 - 379ms/epoch - 3ms/step\n",
      "Epoch 30/30\n",
      "113/113 - 0s - loss: 0.0354 - accuracy: 0.9919 - val_loss: 0.1317 - val_accuracy: 0.9413 - 332ms/epoch - 3ms/step\n"
     ]
    }
   ],
   "source": [
    "num_epochs = 30\n",
    "history = model.fit(training_padded, training_labels, epochs=num_epochs, validation_data=(testing_padded, testing_labels), verbose=2)"
   ]
  },
  {
   "cell_type": "code",
   "execution_count": null,
   "metadata": {},
   "outputs": [],
   "source": []
  },
  {
   "cell_type": "code",
   "execution_count": 24,
   "metadata": {
    "colab": {
     "base_uri": "https://localhost:8080/",
     "height": 881
    },
    "id": "2HYfBKXjkmU8",
    "outputId": "55792926-cc88-46d7-c5c4-51f342c034c3"
   },
   "outputs": [
    {
     "data": {
      "image/png": "[encoded data removed]",
      "text/plain": [
       "<Figure size 640x480 with 1 Axes>"
      ]
     },
     "metadata": {},
     "output_type": "display_data"
    },
    {
     "data": {
      "image/png": "[encoded data removed]",
      "text/plain": [
       "<Figure size 640x480 with 1 Axes>"
      ]
     },
     "metadata": {},
     "output_type": "display_data"
    }
   ],
   "source": [
    "import matplotlib.pyplot as plt\n",
    "\n",
    "\n",
    "def plot_graphs(history, string):\n",
    "  plt.plot(history.history[string])\n",
    "  plt.plot(history.history['val_'+string])\n",
    "  plt.xlabel(\"Epochs\")\n",
    "  plt.ylabel(string)\n",
    "  plt.legend([string, 'val_'+string])\n",
    "  plt.show()\n",
    "\n",
    "plot_graphs(history, \"accuracy\")\n",
    "plot_graphs(history, \"loss\")"
   ]
  },
  {
   "cell_type": "code",
   "execution_count": 25,
   "metadata": {
    "id": "_uLkUz30wEYK"
   },
   "outputs": [],
   "source": [
    "import keras\n",
    "model.save(\"my_model.keras\")\n",
    "reconstructed_model = keras.models.load_model(\"my_model.keras\")"
   ]
  },
  {
   "cell_type": "code",
   "execution_count": 27,
   "metadata": {
    "colab": {
     "base_uri": "https://localhost:8080/"
    },
    "id": "cG8-ArY-qDcz",
    "outputId": "c5257c00-077f-4938-8c0a-8ac91b2c0294"
   },
   "outputs": [
    {
     "name": "stdout",
     "output_type": "stream",
     "text": [
      "1/1 [==============================] - 0s 16ms/step\n"
     ]
    }
   ],
   "source": [
    "sentence = [\"This is a very helpfull tutorial\", \"Very bad playlist and not hlpfull\",\"good vedio\",\"that was bad\",\" 3456 56345cool 4bro\",\"dude, i was gone\",\"Mindblowing tutorial\"]\n",
    "sequences = tokenizer.texts_to_sequences(sentence)\n",
    "padded = pad_sequences(sequences, maxlen=max_length, padding=padding_type, truncating=trunc_type)\n",
    "\n",
    "result = reconstructed_model.predict(padded)\n",
    "\n"
   ]
  },
  {
   "cell_type": "code",
   "execution_count": 30,
   "metadata": {},
   "outputs": [
    {
     "data": {
      "text/plain": [
       "[[10, 9, 7, 25, 1951, 143],\n",
       " [25, 198, 179, 6, 31, 1],\n",
       " [54, 790],\n",
       " [19, 43, 198],\n",
       " [1, 1, 1],\n",
       " [651, 2, 43, 541],\n",
       " [2544, 143]]"
      ]
     },
     "execution_count": 30,
     "metadata": {},
     "output_type": "execute_result"
    }
   ],
   "source": [
    "sequences"
   ]
  },
  {
   "cell_type": "code",
   "execution_count": 33,
   "metadata": {},
   "outputs": [
    {
     "data": {
      "text/plain": [
       "200"
      ]
     },
     "execution_count": 33,
     "metadata": {},
     "output_type": "execute_result"
    }
   ],
   "source": [
    "len(padded[0])"
   ]
  },
  {
   "cell_type": "code",
   "execution_count": 29,
   "metadata": {},
   "outputs": [
    {
     "data": {
      "text/plain": [
       "array([[0.9955064 ],\n",
       "       [0.26172405],\n",
       "       [0.9510377 ],\n",
       "       [0.04417182],\n",
       "       [0.5601488 ],\n",
       "       [0.22599687],\n",
       "       [0.9577831 ]], dtype=float32)"
      ]
     },
     "execution_count": 29,
     "metadata": {},
     "output_type": "execute_result"
    }
   ],
   "source": [
    "result"
   ]
  }
 ],
 "metadata": {
  "accelerator": "TPU",
  "colab": {
   "include_colab_link": true,
   "provenance": []
  },
  "kernelspec": {
   "display_name": "Python 3 (ipykernel)",
   "language": "python",
   "name": "python3"
  },
  "language_info": {
   "codemirror_mode": {
    "name": "ipython",
    "version": 3
   },
   "file_extension": ".py",
   "mimetype": "text/x-python",
   "name": "python",
   "nbconvert_exporter": "python",
   "pygments_lexer": "ipython3",
   "version": "3.7.16"
  }
 },
 "nbformat": 4,
 "nbformat_minor": 4
}
