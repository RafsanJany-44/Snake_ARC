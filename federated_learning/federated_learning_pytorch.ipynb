{
  "cells": [
    {
      "cell_type": "markdown",
      "metadata": {
        "id": "UdRdQ8P7j4tT",
        "papermill": {
          "duration": 0.014491,
          "end_time": "2023-10-25T11:50:03.725473",
          "exception": false,
          "start_time": "2023-10-25T11:50:03.710982",
          "status": "completed"
        },
        "tags": []
      },
      "source": [
        "### Importing Libraries"
      ]
    },
    {
      "cell_type": "code",
      "execution_count": 3,
      "metadata": {
        "_cell_guid": "79c7e3d0-c299-4dcb-8224-4455121ee9b0",
        "_uuid": "d629ff2d2480ee46fbb7e2d37f6b5fab8052498a",
        "execution": {
          "iopub.execute_input": "2023-10-25T11:50:03.759986Z",
          "iopub.status.busy": "2023-10-25T11:50:03.759213Z",
          "iopub.status.idle": "2023-10-25T11:50:05.341749Z",
          "shell.execute_reply": "2023-10-25T11:50:05.341136Z",
          "shell.execute_reply.started": "2023-10-24T20:04:18.648797Z"
        },
        "id": "-RiWlFfwj4tV",
        "papermill": {
          "duration": 1.602967,
          "end_time": "2023-10-25T11:50:05.341880",
          "exception": false,
          "start_time": "2023-10-25T11:50:03.738913",
          "status": "completed"
        },
        "tags": []
      },
      "outputs": [],
      "source": [
        "import torch\n",
        "from torchvision.datasets import MNIST\n",
        "from torch.utils.data import random_split, DataLoader\n",
        "import torchvision.transforms as transforms\n",
        "import matplotlib.pyplot as plt\n",
        "\n",
        "%matplotlib inline\n",
        "plt.rcParams['figure.figsize'] = [5, 5]"
      ]
    },
    {
      "cell_type": "markdown",
      "metadata": {
        "id": "NBsyy85vj4tV",
        "papermill": {
          "duration": 0.013111,
          "end_time": "2023-10-25T11:50:05.368431",
          "exception": false,
          "start_time": "2023-10-25T11:50:05.355320",
          "status": "completed"
        },
        "tags": []
      },
      "source": [
        "### Load Dataset"
      ]
    },
    {
      "cell_type": "code",
      "execution_count": 4,
      "metadata": {
        "colab": {
          "base_uri": "https://localhost:8080/"
        },
        "execution": {
          "iopub.execute_input": "2023-10-25T11:50:05.401564Z",
          "iopub.status.busy": "2023-10-25T11:50:05.400855Z",
          "iopub.status.idle": "2023-10-25T11:50:06.301785Z",
          "shell.execute_reply": "2023-10-25T11:50:06.302260Z",
          "shell.execute_reply.started": "2023-10-24T20:04:20.048608Z"
        },
        "id": "LSwmwt1bj4tV",
        "outputId": "b6150224-1981-46fa-f8ab-5bd3ba5bc95e",
        "papermill": {
          "duration": 0.920547,
          "end_time": "2023-10-25T11:50:06.302437",
          "exception": false,
          "start_time": "2023-10-25T11:50:05.381890",
          "status": "completed"
        },
        "tags": []
      },
      "outputs": [],
      "source": [
        "train_dataset = MNIST('/kaggle/working', train=True, download=True, transform=transforms.ToTensor())\n",
        "test_dataset = MNIST('/kaggle/working', train=False, download=True, transform=transforms.ToTensor())\n",
        "\n",
        "train_dataset, dev_dataset = random_split(train_dataset, [int(len(train_dataset) * 0.83), int(len(train_dataset) * 0.17)])"
      ]
    },
    {
      "cell_type": "code",
      "execution_count": null,
      "metadata": {},
      "outputs": [],
      "source": []
    },
    {
      "cell_type": "markdown",
      "metadata": {
        "id": "NvnGoPLXj4tW",
        "papermill": {
          "duration": 0.018279,
          "end_time": "2023-10-25T11:50:06.339812",
          "exception": false,
          "start_time": "2023-10-25T11:50:06.321533",
          "status": "completed"
        },
        "tags": []
      },
      "source": [
        "### Define Notebook Constants"
      ]
    },
    {
      "cell_type": "code",
      "execution_count": 5,
      "metadata": {
        "execution": {
          "iopub.execute_input": "2023-10-25T11:50:06.383808Z",
          "iopub.status.busy": "2023-10-25T11:50:06.383079Z",
          "iopub.status.idle": "2023-10-25T11:50:06.386003Z",
          "shell.execute_reply": "2023-10-25T11:50:06.385363Z",
          "shell.execute_reply.started": "2023-10-24T20:04:22.399379Z"
        },
        "id": "pds2S8B9j4tW",
        "papermill": {
          "duration": 0.027959,
          "end_time": "2023-10-25T11:50:06.386104",
          "exception": false,
          "start_time": "2023-10-25T11:50:06.358145",
          "status": "completed"
        },
        "tags": []
      },
      "outputs": [],
      "source": [
        "total_train_size = len(train_dataset)\n",
        "total_test_size = len(test_dataset)\n",
        "total_dev_size = len(dev_dataset)\n",
        "\n",
        "classes = 10\n",
        "input_dim = 784\n",
        "\n",
        "num_clients = 8\n",
        "rounds = 30\n",
        "batch_size = 128\n",
        "epochs_per_client = 3\n",
        "learning_rate = 2e-2"
      ]
    },
    {
      "cell_type": "code",
      "execution_count": 6,
      "metadata": {
        "colab": {
          "base_uri": "https://localhost:8080/"
        },
        "execution": {
          "iopub.execute_input": "2023-10-25T11:50:06.427466Z",
          "iopub.status.busy": "2023-10-25T11:50:06.426758Z",
          "iopub.status.idle": "2023-10-25T11:50:06.430574Z",
          "shell.execute_reply": "2023-10-25T11:50:06.429880Z",
          "shell.execute_reply.started": "2023-10-24T20:04:22.407402Z"
        },
        "id": "fGgYNFe4j4tW",
        "outputId": "93c37e8f-f74d-4197-86ea-0679ce13b0b0",
        "papermill": {
          "duration": 0.026648,
          "end_time": "2023-10-25T11:50:06.430689",
          "exception": false,
          "start_time": "2023-10-25T11:50:06.404041",
          "status": "completed"
        },
        "tags": []
      },
      "outputs": [
        {
          "data": {
            "text/plain": [
              "(49800, 10200, 10000)"
            ]
          },
          "execution_count": 6,
          "metadata": {},
          "output_type": "execute_result"
        }
      ],
      "source": [
        "total_train_size, total_dev_size, total_test_size"
      ]
    },
    {
      "cell_type": "markdown",
      "metadata": {
        "id": "1WZtExK3j4tW",
        "papermill": {
          "duration": 0.018119,
          "end_time": "2023-10-25T11:50:06.470607",
          "exception": false,
          "start_time": "2023-10-25T11:50:06.452488",
          "status": "completed"
        },
        "tags": []
      },
      "source": [
        "### Define utilities for GPU support"
      ]
    },
    {
      "cell_type": "code",
      "execution_count": 7,
      "metadata": {
        "execution": {
          "iopub.execute_input": "2023-10-25T11:50:06.587665Z",
          "iopub.status.busy": "2023-10-25T11:50:06.586977Z",
          "iopub.status.idle": "2023-10-25T11:50:06.592296Z",
          "shell.execute_reply": "2023-10-25T11:50:06.590704Z",
          "shell.execute_reply.started": "2023-10-24T20:04:22.421123Z"
        },
        "id": "j9R9QbBdj4tX",
        "papermill": {
          "duration": 0.103438,
          "end_time": "2023-10-25T11:50:06.592424",
          "exception": false,
          "start_time": "2023-10-25T11:50:06.488986",
          "status": "completed"
        },
        "tags": []
      },
      "outputs": [],
      "source": [
        "def get_device():\n",
        "    return torch.device('cuda') if torch.cuda.is_available() else torch.device('cpu')\n",
        "\n",
        "def to_device(data, device):\n",
        "    if isinstance(data, (list, tuple)):\n",
        "        return [to_device(x, device) for x in data]\n",
        "    return data.to(device, non_blocking=True)\n",
        "\n",
        "class DeviceDataLoader(DataLoader):\n",
        "        def __init__(self, dl, device):\n",
        "            self.dl = dl\n",
        "            self.device = device\n",
        "\n",
        "        def __iter__(self):\n",
        "            for batch in self.dl:\n",
        "                yield to_device(batch, self.device)\n",
        "\n",
        "        def __len__(self):\n",
        "            return len(self.dl)\n",
        "\n",
        "device = get_device()"
      ]
    },
    {
      "cell_type": "code",
      "execution_count": 8,
      "metadata": {},
      "outputs": [
        {
          "data": {
            "text/plain": [
              "device(type='cuda')"
            ]
          },
          "execution_count": 8,
          "metadata": {},
          "output_type": "execute_result"
        }
      ],
      "source": [
        "device"
      ]
    },
    {
      "cell_type": "code",
      "execution_count": 9,
      "metadata": {
        "colab": {
          "base_uri": "https://localhost:8080/"
        },
        "id": "lw_LiXZmpVpj",
        "outputId": "d0644349-72c2-4ea0-ce54-c89a28059aeb"
      },
      "outputs": [
        {
          "data": {
            "text/plain": [
              "True"
            ]
          },
          "execution_count": 9,
          "metadata": {},
          "output_type": "execute_result"
        }
      ],
      "source": [
        "torch.cuda.is_available()"
      ]
    },
    {
      "cell_type": "code",
      "execution_count": 10,
      "metadata": {},
      "outputs": [
        {
          "data": {
            "text/plain": [
              "tensor([0.], device='cuda:0')"
            ]
          },
          "execution_count": 10,
          "metadata": {},
          "output_type": "execute_result"
        }
      ],
      "source": [
        "torch.zeros(1).cuda()"
      ]
    },
    {
      "cell_type": "code",
      "execution_count": 11,
      "metadata": {},
      "outputs": [
        {
          "data": {
            "text/plain": [
              "True"
            ]
          },
          "execution_count": 11,
          "metadata": {},
          "output_type": "execute_result"
        }
      ],
      "source": [
        "torch.backends.cudnn.enabled"
      ]
    },
    {
      "cell_type": "code",
      "execution_count": 12,
      "metadata": {},
      "outputs": [
        {
          "data": {
            "text/plain": [
              "True"
            ]
          },
          "execution_count": 12,
          "metadata": {},
          "output_type": "execute_result"
        }
      ],
      "source": [
        "torch.cuda.is_available()"
      ]
    },
    {
      "cell_type": "code",
      "execution_count": 13,
      "metadata": {},
      "outputs": [
        {
          "name": "stdout",
          "output_type": "stream",
          "text": [
            "Thu Oct 26 12:26:00 2023       \n",
            "+-----------------------------------------------------------------------------+\n",
            "| NVIDIA-SMI 517.00       Driver Version: 517.00       CUDA Version: 11.7     |\n",
            "|-------------------------------+----------------------+----------------------+\n",
            "| GPU  Name            TCC/WDDM | Bus-Id        Disp.A | Volatile Uncorr. ECC |\n",
            "| Fan  Temp  Perf  Pwr:Usage/Cap|         Memory-Usage | GPU-Util  Compute M. |\n",
            "|                               |                      |               MIG M. |\n",
            "|===============================+======================+======================|\n",
            "|   0  NVIDIA GeForce ... WDDM  | 00000000:01:00.0 Off |                  N/A |\n",
            "| N/A   68C    P3    26W /  N/A |    629MiB / 16384MiB |      5%      Default |\n",
            "|                               |                      |                  N/A |\n",
            "+-------------------------------+----------------------+----------------------+\n",
            "                                                                               \n",
            "+-----------------------------------------------------------------------------+\n",
            "| Processes:                                                                  |\n",
            "|  GPU   GI   CI        PID   Type   Process name                  GPU Memory |\n",
            "|        ID   ID                                                   Usage      |\n",
            "|=============================================================================|\n",
            "|    0   N/A  N/A     17608      C   ...envs\\TitanoBoa\\python.exe    N/A      |\n",
            "+-----------------------------------------------------------------------------+\n"
          ]
        }
      ],
      "source": [
        "!nvidia-smi"
      ]
    },
    {
      "cell_type": "code",
      "execution_count": 14,
      "metadata": {},
      "outputs": [
        {
          "name": "stdout",
          "output_type": "stream",
          "text": [
            "nvcc: NVIDIA (R) Cuda compiler driver\n",
            "Copyright (c) 2005-2022 NVIDIA Corporation\n",
            "Built on Tue_May__3_19:00:59_Pacific_Daylight_Time_2022\n",
            "Cuda compilation tools, release 11.7, V11.7.64\n",
            "Build cuda_11.7.r11.7/compiler.31294372_0\n"
          ]
        }
      ],
      "source": [
        "!nvcc --version"
      ]
    },
    {
      "cell_type": "markdown",
      "metadata": {
        "id": "7rfJ1bIvj4tX",
        "papermill": {
          "duration": 0.018511,
          "end_time": "2023-10-25T11:50:06.629776",
          "exception": false,
          "start_time": "2023-10-25T11:50:06.611265",
          "status": "completed"
        },
        "tags": []
      },
      "source": [
        "### Define FederatedNet class"
      ]
    },
    {
      "cell_type": "code",
      "execution_count": 15,
      "metadata": {
        "execution": {
          "iopub.execute_input": "2023-10-25T11:50:06.685361Z",
          "iopub.status.busy": "2023-10-25T11:50:06.675108Z",
          "iopub.status.idle": "2023-10-25T11:50:06.700672Z",
          "shell.execute_reply": "2023-10-25T11:50:06.700040Z",
          "shell.execute_reply.started": "2023-10-24T20:04:22.497500Z"
        },
        "id": "yFtLpqP1j4tX",
        "papermill": {
          "duration": 0.052356,
          "end_time": "2023-10-25T11:50:06.700779",
          "exception": false,
          "start_time": "2023-10-25T11:50:06.648423",
          "status": "completed"
        },
        "tags": []
      },
      "outputs": [],
      "source": [
        "class FederatedNet(torch.nn.Module):\n",
        "    def __init__(self):\n",
        "        super().__init__()\n",
        "        self.conv1 = torch.nn.Conv2d(1, 20, 7)\n",
        "        self.conv2 = torch.nn.Conv2d(20, 40, 7)\n",
        "        self.maxpool = torch.nn.MaxPool2d(2, 2)\n",
        "        self.flatten = torch.nn.Flatten()\n",
        "        self.linear = torch.nn.Linear(2560, 10)\n",
        "        self.non_linearity = torch.nn.functional.relu\n",
        "        self.track_layers = {'conv1': self.conv1, 'conv2': self.conv2, 'linear': self.linear}\n",
        "\n",
        "    def forward(self, x_batch):\n",
        "        out = self.conv1(x_batch)\n",
        "        out = self.non_linearity(out)\n",
        "        out = self.conv2(out)\n",
        "        out = self.non_linearity(out)\n",
        "        out = self.maxpool(out)\n",
        "        out = self.flatten(out)\n",
        "        out = self.linear(out)\n",
        "        return out\n",
        "\n",
        "    def get_track_layers(self):\n",
        "        return self.track_layers\n",
        "\n",
        "    def apply_parameters(self, parameters_dict):\n",
        "        with torch.no_grad():\n",
        "            for layer_name in parameters_dict:\n",
        "                self.track_layers[layer_name].weight.data *= 0\n",
        "                self.track_layers[layer_name].bias.data *= 0\n",
        "                self.track_layers[layer_name].weight.data += parameters_dict[layer_name]['weight']\n",
        "                self.track_layers[layer_name].bias.data += parameters_dict[layer_name]['bias']\n",
        "\n",
        "    def get_parameters(self):\n",
        "        parameters_dict = dict()\n",
        "        for layer_name in self.track_layers:\n",
        "            parameters_dict[layer_name] = {\n",
        "                'weight': self.track_layers[layer_name].weight.data,\n",
        "                'bias': self.track_layers[layer_name].bias.data\n",
        "            }\n",
        "        return parameters_dict\n",
        "\n",
        "    def batch_accuracy(self, outputs, labels):\n",
        "        with torch.no_grad():\n",
        "            _, predictions = torch.max(outputs, dim=1)\n",
        "            return torch.tensor(torch.sum(predictions == labels).item() / len(predictions))\n",
        "\n",
        "    def _process_batch(self, batch):\n",
        "        images, labels = batch\n",
        "        outputs = self(images)\n",
        "        loss = torch.nn.functional.cross_entropy(outputs, labels)\n",
        "        accuracy = self.batch_accuracy(outputs, labels)\n",
        "        return (loss, accuracy)\n",
        "\n",
        "    def fit(self, dataset, epochs, lr, batch_size=128, opt=torch.optim.SGD):\n",
        "        dataloader = DeviceDataLoader(DataLoader(dataset, batch_size, shuffle=True), device)\n",
        "        optimizer = opt(self.parameters(), lr)\n",
        "        history = []\n",
        "        for epoch in range(epochs):\n",
        "            losses = []\n",
        "            accs = []\n",
        "            for batch in dataloader:\n",
        "                loss, acc = self._process_batch(batch)\n",
        "                loss.backward()\n",
        "                optimizer.step()\n",
        "                optimizer.zero_grad()\n",
        "                loss.detach()\n",
        "                losses.append(loss)\n",
        "                accs.append(acc)\n",
        "            avg_loss = torch.stack(losses).mean().item()\n",
        "            avg_acc = torch.stack(accs).mean().item()\n",
        "            history.append((avg_loss, avg_acc))\n",
        "        return history\n",
        "\n",
        "    def evaluate(self, dataset, batch_size=128):\n",
        "        dataloader = DeviceDataLoader(DataLoader(dataset, batch_size), device)\n",
        "        losses = []\n",
        "        accs = []\n",
        "        with torch.no_grad():\n",
        "            for batch in dataloader:\n",
        "                loss, acc = self._process_batch(batch)\n",
        "                losses.append(loss)\n",
        "                accs.append(acc)\n",
        "        avg_loss = torch.stack(losses).mean().item()\n",
        "        avg_acc = torch.stack(accs).mean().item()\n",
        "        return (avg_loss, avg_acc)"
      ]
    },
    {
      "cell_type": "markdown",
      "metadata": {
        "id": "__jm76Pkj4tX",
        "papermill": {
          "duration": 0.018736,
          "end_time": "2023-10-25T11:50:06.738427",
          "exception": false,
          "start_time": "2023-10-25T11:50:06.719691",
          "status": "completed"
        },
        "tags": []
      },
      "source": [
        "### Define Client class"
      ]
    },
    {
      "cell_type": "code",
      "execution_count": 16,
      "metadata": {
        "execution": {
          "iopub.execute_input": "2023-10-25T11:50:06.785076Z",
          "iopub.status.busy": "2023-10-25T11:50:06.784153Z",
          "iopub.status.idle": "2023-10-25T11:50:06.786990Z",
          "shell.execute_reply": "2023-10-25T11:50:06.786500Z",
          "shell.execute_reply.started": "2023-10-24T20:04:22.533689Z"
        },
        "id": "4HBYZWmej4tX",
        "papermill": {
          "duration": 0.030141,
          "end_time": "2023-10-25T11:50:06.787093",
          "exception": false,
          "start_time": "2023-10-25T11:50:06.756952",
          "status": "completed"
        },
        "tags": []
      },
      "outputs": [],
      "source": [
        "class Client:\n",
        "    def __init__(self, client_id, dataset):\n",
        "        self.client_id = client_id\n",
        "        self.dataset = dataset\n",
        "\n",
        "    def get_dataset_size(self):\n",
        "        return len(self.dataset)\n",
        "\n",
        "    def get_client_id(self):\n",
        "        return self.client_id\n",
        "\n",
        "    def train(self, parameters_dict):\n",
        "        net = to_device(FederatedNet(), device)\n",
        "        net.apply_parameters(parameters_dict)\n",
        "        train_history = net.fit(self.dataset, epochs_per_client, learning_rate, batch_size)\n",
        "        print('{}: Loss = {}, Accuracy = {}'.format(self.client_id, round(train_history[-1][0], 4), round(train_history[-1][1], 4)))\n",
        "        return net.get_parameters()"
      ]
    },
    {
      "cell_type": "markdown",
      "metadata": {
        "id": "FAO9LucAj4tX",
        "papermill": {
          "duration": 0.018312,
          "end_time": "2023-10-25T11:50:06.824170",
          "exception": false,
          "start_time": "2023-10-25T11:50:06.805858",
          "status": "completed"
        },
        "tags": []
      },
      "source": [
        "### Setup clients"
      ]
    },
    {
      "cell_type": "code",
      "execution_count": 17,
      "metadata": {
        "execution": {
          "iopub.execute_input": "2023-10-25T11:50:06.867100Z",
          "iopub.status.busy": "2023-10-25T11:50:06.866508Z",
          "iopub.status.idle": "2023-10-25T11:50:06.874398Z",
          "shell.execute_reply": "2023-10-25T11:50:06.873790Z",
          "shell.execute_reply.started": "2023-10-24T20:04:22.548098Z"
        },
        "id": "eDttQ1yij4tY",
        "papermill": {
          "duration": 0.031867,
          "end_time": "2023-10-25T11:50:06.874498",
          "exception": false,
          "start_time": "2023-10-25T11:50:06.842631",
          "status": "completed"
        },
        "tags": []
      },
      "outputs": [],
      "source": [
        "examples_per_client = total_train_size // num_clients\n",
        "client_datasets = random_split(train_dataset, [min(i + examples_per_client,\n",
        "           total_train_size) - i for i in range(0, total_train_size, examples_per_client)])\n",
        "clients = [Client('client_' + str(i), client_datasets[i]) for i in range(num_clients)]"
      ]
    },
    {
      "cell_type": "markdown",
      "metadata": {
        "id": "4dNOd-lmj4tY",
        "papermill": {
          "duration": 0.0186,
          "end_time": "2023-10-25T11:50:06.911941",
          "exception": false,
          "start_time": "2023-10-25T11:50:06.893341",
          "status": "completed"
        },
        "tags": []
      },
      "source": [
        "### Start server"
      ]
    },
    {
      "cell_type": "code",
      "execution_count": 18,
      "metadata": {
        "colab": {
          "base_uri": "https://localhost:8080/"
        },
        "execution": {
          "iopub.execute_input": "2023-10-25T11:50:06.968593Z",
          "iopub.status.busy": "2023-10-25T11:50:06.967819Z",
          "iopub.status.idle": "2023-10-25T11:59:00.617860Z",
          "shell.execute_reply": "2023-10-25T11:59:00.617270Z",
          "shell.execute_reply.started": "2023-10-24T20:04:22.561809Z"
        },
        "id": "TLJMuQE8j4tY",
        "outputId": "eced6a5b-4642-403f-84ac-a366ef147356",
        "papermill": {
          "duration": 533.686976,
          "end_time": "2023-10-25T11:59:00.617984",
          "exception": false,
          "start_time": "2023-10-25T11:50:06.931008",
          "status": "completed"
        },
        "tags": []
      },
      "outputs": [
        {
          "name": "stdout",
          "output_type": "stream",
          "text": [
            "Start Round 1 ...\n",
            "client_0: Loss = 0.4723, Accuracy = 0.8573\n",
            "client_1: Loss = 0.4866, Accuracy = 0.8512\n",
            "client_2: Loss = 0.4791, Accuracy = 0.8532\n",
            "client_3: Loss = 0.4913, Accuracy = 0.8478\n",
            "client_4: Loss = 0.4566, Accuracy = 0.8627\n",
            "client_5: Loss = 0.5153, Accuracy = 0.8427\n",
            "client_6: Loss = 0.4615, Accuracy = 0.8602\n",
            "client_7: Loss = 0.4905, Accuracy = 0.8515\n",
            "After round 1, train_loss = 0.3958, dev_loss = 0.4022, dev_acc = 0.8836\n",
            "\n",
            "Start Round 2 ...\n",
            "client_0: Loss = 0.3058, Accuracy = 0.9096\n",
            "client_1: Loss = 0.3106, Accuracy = 0.9139\n",
            "client_2: Loss = 0.3114, Accuracy = 0.907\n",
            "client_3: Loss = 0.3075, Accuracy = 0.9088\n",
            "client_4: Loss = 0.296, Accuracy = 0.9143\n",
            "client_5: Loss = 0.3138, Accuracy = 0.9074\n",
            "client_6: Loss = 0.2849, Accuracy = 0.9116\n",
            "client_7: Loss = 0.2984, Accuracy = 0.9113\n",
            "After round 2, train_loss = 0.2786, dev_loss = 0.2838, dev_acc = 0.9205\n",
            "\n",
            "Start Round 3 ...\n",
            "client_0: Loss = 0.2299, Accuracy = 0.9341\n",
            "client_1: Loss = 0.2312, Accuracy = 0.932\n",
            "client_2: Loss = 0.2321, Accuracy = 0.9311\n",
            "client_3: Loss = 0.229, Accuracy = 0.9325\n",
            "client_4: Loss = 0.2154, Accuracy = 0.9388\n",
            "client_5: Loss = 0.2326, Accuracy = 0.9327\n",
            "client_6: Loss = 0.2034, Accuracy = 0.94\n",
            "client_7: Loss = 0.221, Accuracy = 0.9348\n",
            "After round 3, train_loss = 0.2118, dev_loss = 0.2159, dev_acc = 0.9396\n",
            "\n",
            "Start Round 4 ...\n",
            "client_0: Loss = 0.1785, Accuracy = 0.9494\n",
            "client_1: Loss = 0.183, Accuracy = 0.9456\n",
            "client_2: Loss = 0.1817, Accuracy = 0.9475\n",
            "client_3: Loss = 0.1795, Accuracy = 0.9461\n",
            "client_4: Loss = 0.1716, Accuracy = 0.9508\n",
            "client_5: Loss = 0.1826, Accuracy = 0.9479\n",
            "client_6: Loss = 0.1576, Accuracy = 0.9522\n",
            "client_7: Loss = 0.17, Accuracy = 0.9511\n",
            "After round 4, train_loss = 0.1679, dev_loss = 0.1735, dev_acc = 0.9521\n",
            "\n",
            "Start Round 5 ...\n",
            "client_0: Loss = 0.1504, Accuracy = 0.9577\n",
            "client_1: Loss = 0.1539, Accuracy = 0.9545\n",
            "client_2: Loss = 0.147, Accuracy = 0.9574\n",
            "client_3: Loss = 0.147, Accuracy = 0.9552\n",
            "client_4: Loss = 0.1407, Accuracy = 0.9608\n",
            "client_5: Loss = 0.1454, Accuracy = 0.96\n",
            "client_6: Loss = 0.1293, Accuracy = 0.9618\n",
            "client_7: Loss = 0.1368, Accuracy = 0.9623\n",
            "After round 5, train_loss = 0.1401, dev_loss = 0.1475, dev_acc = 0.9588\n",
            "\n",
            "Start Round 6 ...\n",
            "client_0: Loss = 0.1306, Accuracy = 0.9641\n",
            "client_1: Loss = 0.1317, Accuracy = 0.9615\n",
            "client_2: Loss = 0.1268, Accuracy = 0.9652\n",
            "client_3: Loss = 0.1245, Accuracy = 0.9634\n",
            "client_4: Loss = 0.1211, Accuracy = 0.9641\n",
            "client_5: Loss = 0.1229, Accuracy = 0.9642\n",
            "client_6: Loss = 0.1068, Accuracy = 0.9706\n",
            "client_7: Loss = 0.1165, Accuracy = 0.9675\n",
            "After round 6, train_loss = 0.1195, dev_loss = 0.127, dev_acc = 0.964\n",
            "\n",
            "Start Round 7 ...\n",
            "client_0: Loss = 0.1149, Accuracy = 0.9684\n",
            "client_1: Loss = 0.1144, Accuracy = 0.9636\n",
            "client_2: Loss = 0.1144, Accuracy = 0.9691\n",
            "client_3: Loss = 0.1105, Accuracy = 0.9665\n",
            "client_4: Loss = 0.1054, Accuracy = 0.9673\n",
            "client_5: Loss = 0.108, Accuracy = 0.9681\n",
            "client_6: Loss = 0.0918, Accuracy = 0.9736\n",
            "client_7: Loss = 0.1025, Accuracy = 0.9701\n",
            "After round 7, train_loss = 0.1055, dev_loss = 0.114, dev_acc = 0.9685\n",
            "\n",
            "Start Round 8 ...\n",
            "client_0: Loss = 0.1027, Accuracy = 0.9716\n",
            "client_1: Loss = 0.1041, Accuracy = 0.9684\n",
            "client_2: Loss = 0.1021, Accuracy = 0.9708\n",
            "client_3: Loss = 0.0999, Accuracy = 0.9713\n",
            "client_4: Loss = 0.094, Accuracy = 0.9727\n",
            "client_5: Loss = 0.0966, Accuracy = 0.9694\n",
            "client_6: Loss = 0.0835, Accuracy = 0.9763\n",
            "client_7: Loss = 0.0925, Accuracy = 0.9735\n",
            "After round 8, train_loss = 0.0957, dev_loss = 0.1049, dev_acc = 0.9711\n",
            "\n",
            "Start Round 9 ...\n",
            "client_0: Loss = 0.0922, Accuracy = 0.9749\n",
            "client_1: Loss = 0.0945, Accuracy = 0.9728\n",
            "client_2: Loss = 0.0931, Accuracy = 0.9741\n",
            "client_3: Loss = 0.0885, Accuracy = 0.9741\n",
            "client_4: Loss = 0.0848, Accuracy = 0.9765\n",
            "client_5: Loss = 0.0877, Accuracy = 0.9746\n",
            "client_6: Loss = 0.0749, Accuracy = 0.9782\n",
            "client_7: Loss = 0.0847, Accuracy = 0.9753\n",
            "After round 9, train_loss = 0.0876, dev_loss = 0.0972, dev_acc = 0.9724\n",
            "\n",
            "Start Round 10 ...\n",
            "client_0: Loss = 0.0871, Accuracy = 0.9775\n",
            "client_1: Loss = 0.0873, Accuracy = 0.9741\n",
            "client_2: Loss = 0.086, Accuracy = 0.9747\n",
            "client_3: Loss = 0.0799, Accuracy = 0.9752\n",
            "client_4: Loss = 0.0784, Accuracy = 0.9781\n",
            "client_5: Loss = 0.0813, Accuracy = 0.9749\n",
            "client_6: Loss = 0.0683, Accuracy = 0.9807\n",
            "client_7: Loss = 0.0792, Accuracy = 0.9778\n",
            "After round 10, train_loss = 0.081, dev_loss = 0.0907, dev_acc = 0.9742\n",
            "\n",
            "Start Round 11 ...\n",
            "client_0: Loss = 0.0791, Accuracy = 0.9799\n",
            "client_1: Loss = 0.0818, Accuracy = 0.9763\n",
            "client_2: Loss = 0.0813, Accuracy = 0.977\n",
            "client_3: Loss = 0.0765, Accuracy = 0.9792\n",
            "client_4: Loss = 0.0723, Accuracy = 0.9798\n",
            "client_5: Loss = 0.0749, Accuracy = 0.9768\n",
            "client_6: Loss = 0.0615, Accuracy = 0.9824\n",
            "client_7: Loss = 0.0723, Accuracy = 0.9782\n",
            "After round 11, train_loss = 0.0759, dev_loss = 0.0858, dev_acc = 0.975\n",
            "\n",
            "Start Round 12 ...\n",
            "client_0: Loss = 0.0758, Accuracy = 0.9782\n",
            "client_1: Loss = 0.0757, Accuracy = 0.9765\n",
            "client_2: Loss = 0.0756, Accuracy = 0.978\n",
            "client_3: Loss = 0.0694, Accuracy = 0.9799\n",
            "client_4: Loss = 0.0681, Accuracy = 0.9813\n",
            "client_5: Loss = 0.0711, Accuracy = 0.9761\n",
            "client_6: Loss = 0.0591, Accuracy = 0.9818\n",
            "client_7: Loss = 0.0679, Accuracy = 0.9787\n",
            "After round 12, train_loss = 0.0712, dev_loss = 0.0814, dev_acc = 0.9769\n",
            "\n",
            "Start Round 13 ...\n",
            "client_0: Loss = 0.0709, Accuracy = 0.9805\n",
            "client_1: Loss = 0.0719, Accuracy = 0.9781\n",
            "client_2: Loss = 0.0729, Accuracy = 0.9805\n",
            "client_3: Loss = 0.0652, Accuracy = 0.982\n",
            "client_4: Loss = 0.0648, Accuracy = 0.9812\n",
            "client_5: Loss = 0.0671, Accuracy = 0.9797\n",
            "client_6: Loss = 0.055, Accuracy = 0.9838\n",
            "client_7: Loss = 0.0659, Accuracy = 0.9801\n",
            "After round 13, train_loss = 0.0676, dev_loss = 0.0778, dev_acc = 0.9774\n",
            "\n",
            "Start Round 14 ...\n",
            "client_0: Loss = 0.068, Accuracy = 0.98\n",
            "client_1: Loss = 0.0682, Accuracy = 0.9793\n",
            "client_2: Loss = 0.0683, Accuracy = 0.9787\n",
            "client_3: Loss = 0.0615, Accuracy = 0.9824\n",
            "client_4: Loss = 0.0612, Accuracy = 0.983\n",
            "client_5: Loss = 0.063, Accuracy = 0.978\n",
            "client_6: Loss = 0.0509, Accuracy = 0.9847\n",
            "client_7: Loss = 0.0608, Accuracy = 0.9818\n",
            "After round 14, train_loss = 0.0644, dev_loss = 0.0754, dev_acc = 0.979\n",
            "\n",
            "Start Round 15 ...\n",
            "client_0: Loss = 0.0626, Accuracy = 0.9825\n",
            "client_1: Loss = 0.0669, Accuracy = 0.9808\n",
            "client_2: Loss = 0.0658, Accuracy = 0.9805\n",
            "client_3: Loss = 0.0605, Accuracy = 0.9836\n",
            "client_4: Loss = 0.0574, Accuracy = 0.9844\n",
            "client_5: Loss = 0.0583, Accuracy = 0.9813\n",
            "client_6: Loss = 0.0476, Accuracy = 0.986\n",
            "client_7: Loss = 0.0593, Accuracy = 0.9806\n",
            "After round 15, train_loss = 0.0618, dev_loss = 0.0721, dev_acc = 0.9794\n",
            "\n",
            "Start Round 16 ...\n",
            "client_0: Loss = 0.0593, Accuracy = 0.9844\n",
            "client_1: Loss = 0.0632, Accuracy = 0.9828\n",
            "client_2: Loss = 0.0628, Accuracy = 0.9804\n",
            "client_3: Loss = 0.0575, Accuracy = 0.9827\n",
            "client_4: Loss = 0.0557, Accuracy = 0.9833\n",
            "client_5: Loss = 0.0567, Accuracy = 0.9816\n",
            "client_6: Loss = 0.0457, Accuracy = 0.9872\n",
            "client_7: Loss = 0.0545, Accuracy = 0.982\n",
            "After round 16, train_loss = 0.059, dev_loss = 0.07, dev_acc = 0.9798\n",
            "\n",
            "Start Round 17 ...\n",
            "client_0: Loss = 0.0575, Accuracy = 0.9851\n",
            "client_1: Loss = 0.0609, Accuracy = 0.9814\n",
            "client_2: Loss = 0.0585, Accuracy = 0.9832\n",
            "client_3: Loss = 0.0532, Accuracy = 0.9839\n",
            "client_4: Loss = 0.0542, Accuracy = 0.984\n",
            "client_5: Loss = 0.0539, Accuracy = 0.9819\n",
            "client_6: Loss = 0.0444, Accuracy = 0.9852\n",
            "client_7: Loss = 0.055, Accuracy = 0.9839\n",
            "After round 17, train_loss = 0.0576, dev_loss = 0.069, dev_acc = 0.9799\n",
            "\n",
            "Start Round 18 ...\n",
            "client_0: Loss = 0.0572, Accuracy = 0.9843\n",
            "client_1: Loss = 0.0597, Accuracy = 0.9843\n",
            "client_2: Loss = 0.0581, Accuracy = 0.9824\n",
            "client_3: Loss = 0.0509, Accuracy = 0.9844\n",
            "client_4: Loss = 0.0521, Accuracy = 0.984\n",
            "client_5: Loss = 0.0519, Accuracy = 0.983\n",
            "client_6: Loss = 0.0428, Accuracy = 0.9873\n",
            "client_7: Loss = 0.0507, Accuracy = 0.9836\n",
            "After round 18, train_loss = 0.0552, dev_loss = 0.0663, dev_acc = 0.9805\n",
            "\n",
            "Start Round 19 ...\n",
            "client_0: Loss = 0.0549, Accuracy = 0.9844\n",
            "client_1: Loss = 0.0553, Accuracy = 0.9848\n",
            "client_2: Loss = 0.0555, Accuracy = 0.983\n",
            "client_3: Loss = 0.0502, Accuracy = 0.9858\n",
            "client_4: Loss = 0.0489, Accuracy = 0.9856\n",
            "client_5: Loss = 0.0482, Accuracy = 0.9841\n",
            "client_6: Loss = 0.0393, Accuracy = 0.99\n",
            "client_7: Loss = 0.0505, Accuracy = 0.9842\n",
            "After round 19, train_loss = 0.053, dev_loss = 0.0643, dev_acc = 0.9818\n",
            "\n",
            "Start Round 20 ...\n",
            "client_0: Loss = 0.0544, Accuracy = 0.9836\n",
            "client_1: Loss = 0.0559, Accuracy = 0.9835\n",
            "client_2: Loss = 0.0534, Accuracy = 0.9843\n",
            "client_3: Loss = 0.0468, Accuracy = 0.9858\n",
            "client_4: Loss = 0.0481, Accuracy = 0.9858\n",
            "client_5: Loss = 0.0473, Accuracy = 0.9846\n",
            "client_6: Loss = 0.0378, Accuracy = 0.9885\n",
            "client_7: Loss = 0.0494, Accuracy = 0.9848\n",
            "After round 20, train_loss = 0.0513, dev_loss = 0.063, dev_acc = 0.9819\n",
            "\n",
            "Start Round 21 ...\n",
            "client_0: Loss = 0.0505, Accuracy = 0.986\n",
            "client_1: Loss = 0.0528, Accuracy = 0.9846\n",
            "client_2: Loss = 0.0517, Accuracy = 0.9845\n",
            "client_3: Loss = 0.047, Accuracy = 0.9848\n",
            "client_4: Loss = 0.0446, Accuracy = 0.9871\n",
            "client_5: Loss = 0.0462, Accuracy = 0.9847\n",
            "client_6: Loss = 0.0365, Accuracy = 0.9884\n",
            "client_7: Loss = 0.0466, Accuracy = 0.9868\n",
            "After round 21, train_loss = 0.05, dev_loss = 0.0614, dev_acc = 0.9831\n",
            "\n",
            "Start Round 22 ...\n",
            "client_0: Loss = 0.0503, Accuracy = 0.9863\n",
            "client_1: Loss = 0.0516, Accuracy = 0.9844\n",
            "client_2: Loss = 0.0488, Accuracy = 0.9859\n",
            "client_3: Loss = 0.0453, Accuracy = 0.9851\n",
            "client_4: Loss = 0.0436, Accuracy = 0.988\n",
            "client_5: Loss = 0.0454, Accuracy = 0.9852\n",
            "client_6: Loss = 0.0356, Accuracy = 0.9896\n",
            "client_7: Loss = 0.0455, Accuracy = 0.9864\n",
            "After round 22, train_loss = 0.0481, dev_loss = 0.0601, dev_acc = 0.9826\n",
            "\n",
            "Start Round 23 ...\n",
            "client_0: Loss = 0.0483, Accuracy = 0.9868\n",
            "client_1: Loss = 0.0495, Accuracy = 0.9866\n",
            "client_2: Loss = 0.0493, Accuracy = 0.9856\n",
            "client_3: Loss = 0.0427, Accuracy = 0.9879\n",
            "client_4: Loss = 0.0422, Accuracy = 0.9864\n",
            "client_5: Loss = 0.0417, Accuracy = 0.9882\n",
            "client_6: Loss = 0.0341, Accuracy = 0.9895\n",
            "client_7: Loss = 0.0443, Accuracy = 0.9859\n",
            "After round 23, train_loss = 0.0474, dev_loss = 0.0601, dev_acc = 0.9825\n",
            "\n",
            "Start Round 24 ...\n",
            "client_0: Loss = 0.0475, Accuracy = 0.9872\n",
            "client_1: Loss = 0.047, Accuracy = 0.9859\n",
            "client_2: Loss = 0.0472, Accuracy = 0.9866\n",
            "client_3: Loss = 0.0405, Accuracy = 0.9874\n",
            "client_4: Loss = 0.0417, Accuracy = 0.986\n",
            "client_5: Loss = 0.0402, Accuracy = 0.988\n",
            "client_6: Loss = 0.0342, Accuracy = 0.9899\n",
            "client_7: Loss = 0.0443, Accuracy = 0.9857\n",
            "After round 24, train_loss = 0.0459, dev_loss = 0.0581, dev_acc = 0.9835\n",
            "\n",
            "Start Round 25 ...\n",
            "client_0: Loss = 0.0459, Accuracy = 0.988\n",
            "client_1: Loss = 0.046, Accuracy = 0.9875\n",
            "client_2: Loss = 0.0448, Accuracy = 0.9877\n",
            "client_3: Loss = 0.039, Accuracy = 0.9879\n",
            "client_4: Loss = 0.0397, Accuracy = 0.9887\n",
            "client_5: Loss = 0.0393, Accuracy = 0.9865\n",
            "client_6: Loss = 0.0323, Accuracy = 0.9899\n",
            "client_7: Loss = 0.0427, Accuracy = 0.9872\n",
            "After round 25, train_loss = 0.0448, dev_loss = 0.0577, dev_acc = 0.9836\n",
            "\n",
            "Start Round 26 ...\n",
            "client_0: Loss = 0.0444, Accuracy = 0.9881\n",
            "client_1: Loss = 0.0449, Accuracy = 0.9867\n",
            "client_2: Loss = 0.0444, Accuracy = 0.9874\n",
            "client_3: Loss = 0.0386, Accuracy = 0.9887\n",
            "client_4: Loss = 0.039, Accuracy = 0.9891\n",
            "client_5: Loss = 0.0376, Accuracy = 0.9879\n",
            "client_6: Loss = 0.0311, Accuracy = 0.99\n",
            "client_7: Loss = 0.0406, Accuracy = 0.9885\n",
            "After round 26, train_loss = 0.0436, dev_loss = 0.0569, dev_acc = 0.9832\n",
            "\n",
            "Start Round 27 ...\n",
            "client_0: Loss = 0.0445, Accuracy = 0.9863\n",
            "client_1: Loss = 0.0436, Accuracy = 0.9869\n",
            "client_2: Loss = 0.0418, Accuracy = 0.9883\n",
            "client_3: Loss = 0.0376, Accuracy = 0.9888\n",
            "client_4: Loss = 0.0368, Accuracy = 0.9885\n",
            "client_5: Loss = 0.0377, Accuracy = 0.9884\n",
            "client_6: Loss = 0.0303, Accuracy = 0.9914\n",
            "client_7: Loss = 0.0397, Accuracy = 0.9879\n",
            "After round 27, train_loss = 0.0422, dev_loss = 0.0558, dev_acc = 0.9834\n",
            "\n",
            "Start Round 28 ...\n",
            "client_0: Loss = 0.0432, Accuracy = 0.9881\n",
            "client_1: Loss = 0.042, Accuracy = 0.9877\n",
            "client_2: Loss = 0.0407, Accuracy = 0.9894\n",
            "client_3: Loss = 0.034, Accuracy = 0.9898\n",
            "client_4: Loss = 0.0367, Accuracy = 0.9882\n",
            "client_5: Loss = 0.0367, Accuracy = 0.9886\n",
            "client_6: Loss = 0.0295, Accuracy = 0.9907\n",
            "client_7: Loss = 0.04, Accuracy = 0.9865\n",
            "After round 28, train_loss = 0.0413, dev_loss = 0.0554, dev_acc = 0.9846\n",
            "\n",
            "Start Round 29 ...\n",
            "client_0: Loss = 0.042, Accuracy = 0.9884\n",
            "client_1: Loss = 0.0421, Accuracy = 0.9882\n",
            "client_2: Loss = 0.0394, Accuracy = 0.9895\n",
            "client_3: Loss = 0.0345, Accuracy = 0.9895\n",
            "client_4: Loss = 0.0353, Accuracy = 0.9892\n",
            "client_5: Loss = 0.0353, Accuracy = 0.9872\n",
            "client_6: Loss = 0.0284, Accuracy = 0.991\n",
            "client_7: Loss = 0.0392, Accuracy = 0.987\n",
            "After round 29, train_loss = 0.0406, dev_loss = 0.0542, dev_acc = 0.9854\n",
            "\n",
            "Start Round 30 ...\n",
            "client_0: Loss = 0.0412, Accuracy = 0.988\n",
            "client_1: Loss = 0.0408, Accuracy = 0.9888\n",
            "client_2: Loss = 0.0396, Accuracy = 0.9892\n",
            "client_3: Loss = 0.0342, Accuracy = 0.9897\n",
            "client_4: Loss = 0.035, Accuracy = 0.9899\n",
            "client_5: Loss = 0.0347, Accuracy = 0.9888\n",
            "client_6: Loss = 0.0286, Accuracy = 0.9907\n",
            "client_7: Loss = 0.0373, Accuracy = 0.9892\n",
            "After round 30, train_loss = 0.04, dev_loss = 0.054, dev_acc = 0.9842\n",
            "\n"
          ]
        }
      ],
      "source": [
        "global_net = to_device(FederatedNet(), device)\n",
        "history = []\n",
        "for i in range(rounds):\n",
        "    print('Start Round {} ...'.format(i + 1))\n",
        "    curr_parameters = global_net.get_parameters()\n",
        "    new_parameters = dict([(layer_name, {'weight': 0, 'bias': 0}) for layer_name in curr_parameters])\n",
        "    for client in clients:\n",
        "        client_parameters = client.train(curr_parameters)\n",
        "        fraction = client.get_dataset_size() / total_train_size\n",
        "        for layer_name in client_parameters:\n",
        "            new_parameters[layer_name]['weight'] += fraction * client_parameters[layer_name]['weight']\n",
        "            new_parameters[layer_name]['bias'] += fraction * client_parameters[layer_name]['bias']\n",
        "    global_net.apply_parameters(new_parameters)\n",
        "\n",
        "    train_loss, train_acc = global_net.evaluate(train_dataset)\n",
        "    dev_loss, dev_acc = global_net.evaluate(dev_dataset)\n",
        "    print('After round {}, train_loss = {}, dev_loss = {}, dev_acc = {}\\n'.format(i + 1, round(train_loss, 4),\n",
        "            round(dev_loss, 4), round(dev_acc, 4)))\n",
        "    history.append((train_loss, dev_loss))"
      ]
    },
    {
      "cell_type": "code",
      "execution_count": 19,
      "metadata": {
        "execution": {
          "iopub.execute_input": "2023-10-25T11:59:00.843366Z",
          "iopub.status.busy": "2023-10-25T11:59:00.842661Z",
          "iopub.status.idle": "2023-10-25T11:59:01.040194Z",
          "shell.execute_reply": "2023-10-25T11:59:01.039650Z",
          "shell.execute_reply.started": "2023-10-24T20:13:25.083170Z"
        },
        "id": "6NoMxHPOj4tY",
        "outputId": "27765d18-6b8b-43ae-bfe6-7bd708e4213a",
        "papermill": {
          "duration": 0.31322,
          "end_time": "2023-10-25T11:59:01.040310",
          "exception": false,
          "start_time": "2023-10-25T11:59:00.727090",
          "status": "completed"
        },
        "tags": []
      },
      "outputs": [
        {
          "ename": "",
          "evalue": "",
          "output_type": "error",
          "traceback": [
            "\u001b[1;31mThe Kernel crashed while executing code in the the current cell or a previous cell. Please review the code in the cell(s) to identify a possible cause of the failure. Click <a href='https://aka.ms/vscodeJupyterKernelCrash'>here</a> for more info. View Jupyter <a href='command:jupyter.viewOutput'>log</a> for further details."
          ]
        }
      ],
      "source": [
        "plt.plot([i + 1 for i in range(len(history))], [history[i][0] for i in range(len(history))], color='r', label='train loss')\n",
        "plt.plot([i + 1 for i in range(len(history))], [history[i][1] for i in range(len(history))], color='b', label='dev loss')\n",
        "plt.legend()\n",
        "plt.title('Training history')\n",
        "plt.show()"
      ]
    },
    {
      "cell_type": "code",
      "execution_count": null,
      "metadata": {
        "id": "MAlYCXYpj4tY",
        "papermill": {
          "duration": 0.109627,
          "end_time": "2023-10-25T11:59:01.259500",
          "exception": false,
          "start_time": "2023-10-25T11:59:01.149873",
          "status": "completed"
        },
        "tags": []
      },
      "outputs": [],
      "source": []
    }
  ],
  "metadata": {
    "accelerator": "GPU",
    "colab": {
      "gpuType": "T4",
      "provenance": []
    },
    "kernelspec": {
      "display_name": "Python 3",
      "name": "python3"
    },
    "language_info": {
      "codemirror_mode": {
        "name": "ipython",
        "version": 3
      },
      "file_extension": ".py",
      "mimetype": "text/x-python",
      "name": "python",
      "nbconvert_exporter": "python",
      "pygments_lexer": "ipython3",
      "version": "3.9.15"
    },
    "papermill": {
      "duration": 541.663406,
      "end_time": "2023-10-25T11:59:01.576958",
      "environment_variables": {},
      "exception": null,
      "input_path": "__notebook__.ipynb",
      "output_path": "__notebook__.ipynb",
      "parameters": {},
      "start_time": "2023-10-25T11:49:59.913552",
      "version": "2.1.0"
    }
  },
  "nbformat": 4,
  "nbformat_minor": 0
}
